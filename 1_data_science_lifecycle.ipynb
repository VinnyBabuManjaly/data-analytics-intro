{
 "cells": [
  {
   "cell_type": "markdown",
   "id": "a21b3538",
   "metadata": {},
   "source": [
    "## Data Science Lifecycle\n",
    "\n",
    "The data science lifecycle provides a clear, structured path for turning raw data into meaningful insights and actionable solutions, exemplified by the CRISP-DM (Cross Industry Standard Process for Data Mining) framework, the industry-proven standard used to manage data science projects across domains."
   ]
  },
  {
   "cell_type": "markdown",
   "id": "93fa570e",
   "metadata": {},
   "source": [
    "The lifecycle is a non-linear but cyclical process that frequently revisits earlier steps to refine understanding or outputs. It begins with defining a question and ends with deployment and ongoing monitoring of solutions. CRISP-DM consists of six cyclical phases:\n",
    "\n",
    "- Business Understanding\n",
    "- Data Understanding\n",
    "- Data Preparation\n",
    "- Modeling\n",
    "- Evaluation\n",
    "- Deployment\n",
    "\n",
    "This structure helps both beginners and professionals ensure their work is systematic and reproducible, maximizing business impact while addressing technical challenges."
   ]
  },
  {
   "cell_type": "markdown",
   "id": "a2090c90",
   "metadata": {},
   "source": [
    "#### Business Understanding\n",
    "\n",
    "Purpose: Understand project objectives, business context, and success criteria.\n",
    "\n",
    "This phase defines what “success” means for the project, e.g., achieving a certain prediction accuracy or supporting investment decisions.\n",
    "\n",
    "Clarify goals through documentation and stakeholder discussions."
   ]
  },
  {
   "cell_type": "markdown",
   "id": "50306e30",
   "metadata": {},
   "source": [
    "#### Data Understanding\n",
    "\n",
    "Purpose: Collect initial data and gain familiarity by examining its structure, missingness, and statistics.\n",
    "\n",
    "Expected to produce visualizations and reports  describing data quantity, quality, and interesting patterns.\n",
    "\n",
    "Visualization for understanding distributions and correlations."
   ]
  },
  {
   "cell_type": "markdown",
   "id": "b1bb3383",
   "metadata": {},
   "source": [
    "#### Data Preparation\n",
    "Goal: Select, clean, format, and engineer the data for modeling.\n",
    "\n",
    "Handling missing values (e.g., dropping rows or imputing), feature selection, transformation and encoding might be needed for categorical data.\n",
    "\n",
    "Documentation of cleaning choices should be maintained for transparency and reproducibility."
   ]
  },
  {
   "cell_type": "markdown",
   "id": "62e158df",
   "metadata": {},
   "source": [
    "#### Modeling\n",
    "Purpose: Choose and train algorithms to extract patterns and make predictions."
   ]
  },
  {
   "cell_type": "markdown",
   "id": "bf53ecf3",
   "metadata": {},
   "source": [
    "#### Evaluation\n",
    "Purpose: Quantify model performance, often using Root Mean Squared Error (RMSE) for regression.\n",
    "\n",
    "Evaluation ensures the model generalizes well and meets business success criteria."
   ]
  },
  {
   "cell_type": "markdown",
   "id": "cd794479",
   "metadata": {},
   "source": [
    "#### Deployment\n",
    "Goal: Put models into production to generate predictions on new data, maintain and update models over time.\n",
    "\n",
    "Deployment may include building APIs or dashboards to expose model results to stakeholders."
   ]
  },
  {
   "cell_type": "markdown",
   "id": "44859694",
   "metadata": {},
   "source": [
    "##### Why CRISP-DM Is Important\n",
    "\n",
    "- Provides a structured, repeatable roadmap ensuring no key step is overlooked and work is auditable.\n",
    "- Fosters communication across teams by standardizing terminology, outputs, and project plans.\n",
    "- Designed to be flexible, allowing feedback loops and iterative refinement, which are common in real projects.\n",
    "- It applies across industries and datasets, making it an invaluable guide for data scientists and analysts at all levels."
   ]
  },
  {
   "cell_type": "markdown",
   "id": "e42e1ac4",
   "metadata": {},
   "source": [
    "| Phase                | Purpose                               | Key Outputs                          | Python & Tooling Highlights                     |\n",
    "|-----------------------|---------------------------------------|---------------------------------------|------------------------------------------------|\n",
    "| Business Understanding | Define objectives & success criteria  | Project goals, risks, constraints     | Documentation, planning                        |\n",
    "| Data Understanding    | Collect and explore data              | Data description, exploration, quality report | pandas, matplotlib, seaborn            |\n",
    "| Data Preparation      | Clean, select, transform data         | Clean dataset, engineered features    | pandas (fillna, dropna), sklearn preprocessing |\n",
    "| Modeling              | Train predictive or descriptive models| Trained model, test design            | sklearn, statsmodels                           |\n",
    "| Evaluation            | Quantify model performance            | RMSE, accuracy reports                | sklearn.metrics                                |\n",
    "| Deployment            | Put model in production, monitor, maintain | Deployment plan, saved model artifacts | joblib, Flask/Django (for APIs)              |\n"
   ]
  },
  {
   "cell_type": "code",
   "execution_count": null,
   "id": "e25b48d1",
   "metadata": {},
   "outputs": [],
   "source": [
    "# Sources:\n",
    "\n",
    "# [1](https://www.sv-europe.com/crisp-dm-methodology/)\n",
    "# [2](https://keithmccormick.com/wp-content/uploads/CRISP-DM%20No%20Brand.pdf)\n",
    "# [3](https://github.com/RudeusG110/CRISP-DM)\n",
    "# [4](http://cs.unibo.it/~danilo.montesi/CBD/Beatriz/10.1.1.198.5133.pdf)\n",
    "# [5](https://www.datascience-pm.com/crisp-dm-2/)\n",
    "# [6](https://www.ibm.com/docs/it/SS3RA7_18.3.0/pdf/ModelerCRISPDM.pdf)\n",
    "# [7](https://en.wikipedia.org/wiki/Cross-industry_standard_process_for_data_mining)\n",
    "# [8](https://www.isaca.org/resources/isaca-journal/issues/2018/volume-1/the-machine-learning-auditcrisp-dm-framework)"
   ]
  },
  {
   "cell_type": "markdown",
   "id": "fc6414d1",
   "metadata": {},
   "source": [
    "EV Sales Volume Forecasting: Applying CRISP-DM\n",
    "Predict monthly, quarterly, and annual sales volumes of electric vehicles globally and by region to support production planning, supply chain management, and inventory optimization.\n",
    "\n",
    "Buisiness understanding:  \n",
    "What can be attained with this idea? Predictions of sales volumes that can be used for planning of production, inventory optimization and supply chain management.\n",
    "What level of categorization in the results would give meaning to the solution? Monthly, quarterly and annual sale predictions, that too globally and region wise.\n",
    "What data is required for the above predictions? \n",
    "Sales data by country and by region, selling prce of EVs, with incentives for regions, fuel and electricity prices, charging facility details etc.\n",
    "\n",
    "Data Understanding and Preparation:\n",
    "Gathering sales data by region, by country for a set time period, along with selling price, incentives and charging facility details.\n",
    "Summarizing data and analyzing visualizations for trends.\n",
    "Checking and fixing  missing values and outliers and clean data.\n",
    "Transforming and formatting data, and checking data quality and repeating the steps, if required.\n",
    "\n",
    "Modelling, Evaluation and deployment:\n",
    "Since its time based data, I believe, a linear regression model can work for forecasting EV sales volume too, as in the house prices example. Training the model with the prepared dataset and evaluating model performance with Root mean squared error (RMSE). Different models can also be used other than linear regression models and trained, evaluated, and compared for better results. Planning of deployment, monitoring and maintenance can be done as per business requirements.\n",
    " \n",
    "I think, this is a perfect usecase for applying CRISP-DM framework.  \n",
    "Strengths: Structured process and the iterative nature of going back and revisiting earlier phases is an adavantage for this specific usecase\n",
    "Weaknesses: Handling of real time data might be required in this process for accuracy, which could be a problem in applying the framework, as its more meaningful batch style handling\n",
    "From my first level research, in the prediction of EV sales, both OSEMN and TDSP can complement or extend CRISP-DM framework in different ways. However, TDSP best addresses enterprise level solutions end to end, whereas CRISP-DM and OSEMN serves as good conceptual start points, being ideal for early exploration."
   ]
  }
 ],
 "metadata": {
  "kernelspec": {
   "display_name": "base",
   "language": "python",
   "name": "python3"
  },
  "language_info": {
   "codemirror_mode": {
    "name": "ipython",
    "version": 3
   },
   "file_extension": ".py",
   "mimetype": "text/x-python",
   "name": "python",
   "nbconvert_exporter": "python",
   "pygments_lexer": "ipython3",
   "version": "3.13.5"
  }
 },
 "nbformat": 4,
 "nbformat_minor": 5
}
