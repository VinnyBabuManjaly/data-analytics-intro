{
 "cells": [
  {
   "cell_type": "code",
   "execution_count": 68,
   "id": "63c66ee2",
   "metadata": {},
   "outputs": [],
   "source": [
    "import pandas as pd\n",
    "import plotly.express as px\n",
    "import matplotlib.pyplot as plt\n",
    "import seaborn as sns"
   ]
  },
  {
   "cell_type": "markdown",
   "id": "2550f714",
   "metadata": {},
   "source": [
    "## Joins \n",
    "\n",
    "When combining two tables, a \"join\" is the operation that merges them together based on common columns, called keys. \n",
    "\n",
    "**Outer Join (Full Outer Join)**: Keeps all rows from both tables. If there's no match for \"Kosovo\" in the second table, its columns will show as missing (NaN) for that row. Similarly, any value from either table without a partner remains, with missing cells filled by NaN.\n",
    "\n",
    "**Left Join**: Keeps all rows from the left (first) table and matches anything from the right (second) that lines up. If the left table lists \"Kosovo\" but the right doesn't, Kosovo appears in the result with missing values for the right-side columns. But if the right table adds a new entity like \"Africa,\" it's ignored unless found in the left.\n",
    "\n",
    "**Right Join**: The opposite—keeps all rows from the right (second) table and fills in with left-table matches where possible. If a row is only in the right table, it will appear in the output; left-only rows are dropped.\n",
    "\n",
    "**Inner Join**: Only rows with a key present in both tables will appear in the result. If \"Kosovo\" and \"Africa\" only exist in one table, they'll be dropped."
   ]
  },
  {
   "cell_type": "code",
   "execution_count": 69,
   "id": "ebc7039e",
   "metadata": {},
   "outputs": [],
   "source": [
    "# Example DataFrames\n",
    "df_gdp = pd.DataFrame({\n",
    "    \"Entity\": [\"Kosovo\", \"USA\", \"China\"],\n",
    "    \"GDP\": [7, 19, 14]\n",
    "})\n",
    "\n",
    "df_pop = pd.DataFrame({\n",
    "    \"Entity\": [\"USA\", \"China\", \"Africa\"],\n",
    "    \"Population\": [300, 1440, 1200]\n",
    "})\n"
   ]
  },
  {
   "cell_type": "code",
   "execution_count": 70,
   "id": "93e28be7",
   "metadata": {},
   "outputs": [
    {
     "data": {
      "text/html": [
       "<div>\n",
       "<style scoped>\n",
       "    .dataframe tbody tr th:only-of-type {\n",
       "        vertical-align: middle;\n",
       "    }\n",
       "\n",
       "    .dataframe tbody tr th {\n",
       "        vertical-align: top;\n",
       "    }\n",
       "\n",
       "    .dataframe thead th {\n",
       "        text-align: right;\n",
       "    }\n",
       "</style>\n",
       "<table border=\"1\" class=\"dataframe\">\n",
       "  <thead>\n",
       "    <tr style=\"text-align: right;\">\n",
       "      <th></th>\n",
       "      <th>Entity</th>\n",
       "      <th>GDP</th>\n",
       "      <th>Population</th>\n",
       "    </tr>\n",
       "  </thead>\n",
       "  <tbody>\n",
       "    <tr>\n",
       "      <th>0</th>\n",
       "      <td>Africa</td>\n",
       "      <td>NaN</td>\n",
       "      <td>1200.0</td>\n",
       "    </tr>\n",
       "    <tr>\n",
       "      <th>1</th>\n",
       "      <td>China</td>\n",
       "      <td>14.0</td>\n",
       "      <td>1440.0</td>\n",
       "    </tr>\n",
       "    <tr>\n",
       "      <th>2</th>\n",
       "      <td>Kosovo</td>\n",
       "      <td>7.0</td>\n",
       "      <td>NaN</td>\n",
       "    </tr>\n",
       "    <tr>\n",
       "      <th>3</th>\n",
       "      <td>USA</td>\n",
       "      <td>19.0</td>\n",
       "      <td>300.0</td>\n",
       "    </tr>\n",
       "  </tbody>\n",
       "</table>\n",
       "</div>"
      ],
      "text/plain": [
       "   Entity   GDP  Population\n",
       "0  Africa   NaN      1200.0\n",
       "1   China  14.0      1440.0\n",
       "2  Kosovo   7.0         NaN\n",
       "3     USA  19.0       300.0"
      ]
     },
     "execution_count": 70,
     "metadata": {},
     "output_type": "execute_result"
    }
   ],
   "source": [
    "# Outer join: keeps all rows\n",
    "# For a complete view, ensuring no data is lost from either source \n",
    "# (good for exploration or integrating two data sets fully).\n",
    "\n",
    "df_outer = pd.merge(left=df_gdp, right=df_pop, on='Entity', how='outer')\n",
    "df_outer"
   ]
  },
  {
   "cell_type": "code",
   "execution_count": 71,
   "id": "65d6a5ff",
   "metadata": {},
   "outputs": [
    {
     "data": {
      "text/html": [
       "<div>\n",
       "<style scoped>\n",
       "    .dataframe tbody tr th:only-of-type {\n",
       "        vertical-align: middle;\n",
       "    }\n",
       "\n",
       "    .dataframe tbody tr th {\n",
       "        vertical-align: top;\n",
       "    }\n",
       "\n",
       "    .dataframe thead th {\n",
       "        text-align: right;\n",
       "    }\n",
       "</style>\n",
       "<table border=\"1\" class=\"dataframe\">\n",
       "  <thead>\n",
       "    <tr style=\"text-align: right;\">\n",
       "      <th></th>\n",
       "      <th>Entity</th>\n",
       "      <th>GDP</th>\n",
       "      <th>Population</th>\n",
       "    </tr>\n",
       "  </thead>\n",
       "  <tbody>\n",
       "    <tr>\n",
       "      <th>0</th>\n",
       "      <td>Kosovo</td>\n",
       "      <td>7</td>\n",
       "      <td>NaN</td>\n",
       "    </tr>\n",
       "    <tr>\n",
       "      <th>1</th>\n",
       "      <td>USA</td>\n",
       "      <td>19</td>\n",
       "      <td>300.0</td>\n",
       "    </tr>\n",
       "    <tr>\n",
       "      <th>2</th>\n",
       "      <td>China</td>\n",
       "      <td>14</td>\n",
       "      <td>1440.0</td>\n",
       "    </tr>\n",
       "  </tbody>\n",
       "</table>\n",
       "</div>"
      ],
      "text/plain": [
       "   Entity  GDP  Population\n",
       "0  Kosovo    7         NaN\n",
       "1     USA   19       300.0\n",
       "2   China   14      1440.0"
      ]
     },
     "execution_count": 71,
     "metadata": {},
     "output_type": "execute_result"
    }
   ],
   "source": [
    "# Left join: keeps values from the left table \n",
    "# and fills values from right table for the existing keys\n",
    "\n",
    "# When one table is primary and the second provides optional, supplementary data.\n",
    "\n",
    "df_left = pd.merge(left=df_gdp, right=df_pop, on='Entity', how='left')\n",
    "df_left"
   ]
  },
  {
   "cell_type": "code",
   "execution_count": 72,
   "id": "ee174ee3",
   "metadata": {},
   "outputs": [
    {
     "data": {
      "text/html": [
       "<div>\n",
       "<style scoped>\n",
       "    .dataframe tbody tr th:only-of-type {\n",
       "        vertical-align: middle;\n",
       "    }\n",
       "\n",
       "    .dataframe tbody tr th {\n",
       "        vertical-align: top;\n",
       "    }\n",
       "\n",
       "    .dataframe thead th {\n",
       "        text-align: right;\n",
       "    }\n",
       "</style>\n",
       "<table border=\"1\" class=\"dataframe\">\n",
       "  <thead>\n",
       "    <tr style=\"text-align: right;\">\n",
       "      <th></th>\n",
       "      <th>Entity</th>\n",
       "      <th>GDP</th>\n",
       "      <th>Population</th>\n",
       "    </tr>\n",
       "  </thead>\n",
       "  <tbody>\n",
       "    <tr>\n",
       "      <th>0</th>\n",
       "      <td>USA</td>\n",
       "      <td>19.0</td>\n",
       "      <td>300</td>\n",
       "    </tr>\n",
       "    <tr>\n",
       "      <th>1</th>\n",
       "      <td>China</td>\n",
       "      <td>14.0</td>\n",
       "      <td>1440</td>\n",
       "    </tr>\n",
       "    <tr>\n",
       "      <th>2</th>\n",
       "      <td>Africa</td>\n",
       "      <td>NaN</td>\n",
       "      <td>1200</td>\n",
       "    </tr>\n",
       "  </tbody>\n",
       "</table>\n",
       "</div>"
      ],
      "text/plain": [
       "   Entity   GDP  Population\n",
       "0     USA  19.0         300\n",
       "1   China  14.0        1440\n",
       "2  Africa   NaN        1200"
      ]
     },
     "execution_count": 72,
     "metadata": {},
     "output_type": "execute_result"
    }
   ],
   "source": [
    "# Right join: keeps values from the right table \n",
    "# and fills values from left table for the existing keys\n",
    "\n",
    "# When one table is primary and the second provides optional, supplementary data.\n",
    "\n",
    "df_right = pd.merge(left=df_gdp, right=df_pop, on='Entity', how='right')\n",
    "df_right"
   ]
  },
  {
   "cell_type": "code",
   "execution_count": 73,
   "id": "f011eec6",
   "metadata": {},
   "outputs": [
    {
     "data": {
      "text/html": [
       "<div>\n",
       "<style scoped>\n",
       "    .dataframe tbody tr th:only-of-type {\n",
       "        vertical-align: middle;\n",
       "    }\n",
       "\n",
       "    .dataframe tbody tr th {\n",
       "        vertical-align: top;\n",
       "    }\n",
       "\n",
       "    .dataframe thead th {\n",
       "        text-align: right;\n",
       "    }\n",
       "</style>\n",
       "<table border=\"1\" class=\"dataframe\">\n",
       "  <thead>\n",
       "    <tr style=\"text-align: right;\">\n",
       "      <th></th>\n",
       "      <th>Entity</th>\n",
       "      <th>GDP</th>\n",
       "      <th>Population</th>\n",
       "    </tr>\n",
       "  </thead>\n",
       "  <tbody>\n",
       "    <tr>\n",
       "      <th>0</th>\n",
       "      <td>USA</td>\n",
       "      <td>19</td>\n",
       "      <td>300</td>\n",
       "    </tr>\n",
       "    <tr>\n",
       "      <th>1</th>\n",
       "      <td>China</td>\n",
       "      <td>14</td>\n",
       "      <td>1440</td>\n",
       "    </tr>\n",
       "  </tbody>\n",
       "</table>\n",
       "</div>"
      ],
      "text/plain": [
       "  Entity  GDP  Population\n",
       "0    USA   19         300\n",
       "1  China   14        1440"
      ]
     },
     "execution_count": 73,
     "metadata": {},
     "output_type": "execute_result"
    }
   ],
   "source": [
    "# Inner join: keeps keys matching in both tables\n",
    "\n",
    "# When only rows with valid data in both tables are needed—for example, \n",
    "# to focus analysis on overlapping information only.\n",
    "\n",
    "df_inner = pd.merge(left=df_gdp, right=df_pop, on='Entity', how='inner')\n",
    "df_inner"
   ]
  },
  {
   "cell_type": "markdown",
   "id": "03e1a4d7",
   "metadata": {},
   "source": [
    "This approach provides a robust, beginner-friendly foundation for understanding table joins, their behavior in typical (and tricky) scenarios, and how to use them in Python pandas, all with a focus on practical data work and troubleshooting."
   ]
  },
  {
   "cell_type": "code",
   "execution_count": 74,
   "id": "b0a29b6a",
   "metadata": {},
   "outputs": [],
   "source": [
    "gapminder = px.data.gapminder()"
   ]
  },
  {
   "cell_type": "code",
   "execution_count": 75,
   "id": "e709c0c2",
   "metadata": {},
   "outputs": [
    {
     "data": {
      "text/html": [
       "<div>\n",
       "<style scoped>\n",
       "    .dataframe tbody tr th:only-of-type {\n",
       "        vertical-align: middle;\n",
       "    }\n",
       "\n",
       "    .dataframe tbody tr th {\n",
       "        vertical-align: top;\n",
       "    }\n",
       "\n",
       "    .dataframe thead th {\n",
       "        text-align: right;\n",
       "    }\n",
       "</style>\n",
       "<table border=\"1\" class=\"dataframe\">\n",
       "  <thead>\n",
       "    <tr style=\"text-align: right;\">\n",
       "      <th></th>\n",
       "      <th>country</th>\n",
       "      <th>continent</th>\n",
       "      <th>year</th>\n",
       "      <th>lifeExp</th>\n",
       "      <th>pop</th>\n",
       "      <th>gdpPercap</th>\n",
       "      <th>iso_alpha</th>\n",
       "      <th>iso_num</th>\n",
       "    </tr>\n",
       "  </thead>\n",
       "  <tbody>\n",
       "    <tr>\n",
       "      <th>0</th>\n",
       "      <td>Afghanistan</td>\n",
       "      <td>Asia</td>\n",
       "      <td>1952</td>\n",
       "      <td>28.801</td>\n",
       "      <td>8425333</td>\n",
       "      <td>779.445314</td>\n",
       "      <td>AFG</td>\n",
       "      <td>4</td>\n",
       "    </tr>\n",
       "    <tr>\n",
       "      <th>1</th>\n",
       "      <td>Afghanistan</td>\n",
       "      <td>Asia</td>\n",
       "      <td>1957</td>\n",
       "      <td>30.332</td>\n",
       "      <td>9240934</td>\n",
       "      <td>820.853030</td>\n",
       "      <td>AFG</td>\n",
       "      <td>4</td>\n",
       "    </tr>\n",
       "    <tr>\n",
       "      <th>2</th>\n",
       "      <td>Afghanistan</td>\n",
       "      <td>Asia</td>\n",
       "      <td>1962</td>\n",
       "      <td>31.997</td>\n",
       "      <td>10267083</td>\n",
       "      <td>853.100710</td>\n",
       "      <td>AFG</td>\n",
       "      <td>4</td>\n",
       "    </tr>\n",
       "    <tr>\n",
       "      <th>3</th>\n",
       "      <td>Afghanistan</td>\n",
       "      <td>Asia</td>\n",
       "      <td>1967</td>\n",
       "      <td>34.020</td>\n",
       "      <td>11537966</td>\n",
       "      <td>836.197138</td>\n",
       "      <td>AFG</td>\n",
       "      <td>4</td>\n",
       "    </tr>\n",
       "    <tr>\n",
       "      <th>4</th>\n",
       "      <td>Afghanistan</td>\n",
       "      <td>Asia</td>\n",
       "      <td>1972</td>\n",
       "      <td>36.088</td>\n",
       "      <td>13079460</td>\n",
       "      <td>739.981106</td>\n",
       "      <td>AFG</td>\n",
       "      <td>4</td>\n",
       "    </tr>\n",
       "  </tbody>\n",
       "</table>\n",
       "</div>"
      ],
      "text/plain": [
       "       country continent  year  lifeExp       pop   gdpPercap iso_alpha  \\\n",
       "0  Afghanistan      Asia  1952   28.801   8425333  779.445314       AFG   \n",
       "1  Afghanistan      Asia  1957   30.332   9240934  820.853030       AFG   \n",
       "2  Afghanistan      Asia  1962   31.997  10267083  853.100710       AFG   \n",
       "3  Afghanistan      Asia  1967   34.020  11537966  836.197138       AFG   \n",
       "4  Afghanistan      Asia  1972   36.088  13079460  739.981106       AFG   \n",
       "\n",
       "   iso_num  \n",
       "0        4  \n",
       "1        4  \n",
       "2        4  \n",
       "3        4  \n",
       "4        4  "
      ]
     },
     "execution_count": 75,
     "metadata": {},
     "output_type": "execute_result"
    }
   ],
   "source": [
    "gapminder.head()"
   ]
  },
  {
   "cell_type": "code",
   "execution_count": 76,
   "id": "9e182500",
   "metadata": {},
   "outputs": [
    {
     "data": {
      "application/vnd.plotly.v1+json": {
       "config": {
        "plotlyServerURL": "https://plot.ly"
       },
       "data": [
        {
         "hovertemplate": "country=Afghanistan<br>year=%{x}<br>pop=%{y}<extra></extra>",
         "legendgroup": "Afghanistan",
         "line": {
          "color": "#636efa",
          "dash": "solid"
         },
         "marker": {
          "symbol": "circle"
         },
         "mode": "lines",
         "name": "Afghanistan",
         "showlegend": true,
         "type": "scattergl",
         "x": [
          1952,
          1957,
          1962,
          1967,
          1972,
          1977,
          1982,
          1987,
          1992,
          1997,
          2002,
          2007
         ],
         "xaxis": "x",
         "y": [
          8425333,
          9240934,
          10267083,
          11537966,
          13079460,
          14880372,
          12881816,
          13867957,
          16317921,
          22227415,
          25268405,
          31889923
         ],
         "yaxis": "y"
        },
        {
         "hovertemplate": "country=Albania<br>year=%{x}<br>pop=%{y}<extra></extra>",
         "legendgroup": "Albania",
         "line": {
          "color": "#EF553B",
          "dash": "solid"
         },
         "marker": {
          "symbol": "circle"
         },
         "mode": "lines",
         "name": "Albania",
         "showlegend": true,
         "type": "scattergl",
         "x": [
          1952,
          1957,
          1962,
          1967,
          1972,
          1977,
          1982,
          1987,
          1992,
          1997,
          2002,
          2007
         ],
         "xaxis": "x",
         "y": [
          1282697,
          1476505,
          1728137,
          1984060,
          2263554,
          2509048,
          2780097,
          3075321,
          3326498,
          3428038,
          3508512,
          3600523
         ],
         "yaxis": "y"
        },
        {
         "hovertemplate": "country=Algeria<br>year=%{x}<br>pop=%{y}<extra></extra>",
         "legendgroup": "Algeria",
         "line": {
          "color": "#00cc96",
          "dash": "solid"
         },
         "marker": {
          "symbol": "circle"
         },
         "mode": "lines",
         "name": "Algeria",
         "showlegend": true,
         "type": "scattergl",
         "x": [
          1952,
          1957,
          1962,
          1967,
          1972,
          1977,
          1982,
          1987,
          1992,
          1997,
          2002,
          2007
         ],
         "xaxis": "x",
         "y": [
          9279525,
          10270856,
          11000948,
          12760499,
          14760787,
          17152804,
          20033753,
          23254956,
          26298373,
          29072015,
          31287142,
          33333216
         ],
         "yaxis": "y"
        },
        {
         "hovertemplate": "country=Angola<br>year=%{x}<br>pop=%{y}<extra></extra>",
         "legendgroup": "Angola",
         "line": {
          "color": "#ab63fa",
          "dash": "solid"
         },
         "marker": {
          "symbol": "circle"
         },
         "mode": "lines",
         "name": "Angola",
         "showlegend": true,
         "type": "scattergl",
         "x": [
          1952,
          1957,
          1962,
          1967,
          1972,
          1977,
          1982,
          1987,
          1992,
          1997,
          2002,
          2007
         ],
         "xaxis": "x",
         "y": [
          4232095,
          4561361,
          4826015,
          5247469,
          5894858,
          6162675,
          7016384,
          7874230,
          8735988,
          9875024,
          10866106,
          12420476
         ],
         "yaxis": "y"
        },
        {
         "hovertemplate": "country=Argentina<br>year=%{x}<br>pop=%{y}<extra></extra>",
         "legendgroup": "Argentina",
         "line": {
          "color": "#FFA15A",
          "dash": "solid"
         },
         "marker": {
          "symbol": "circle"
         },
         "mode": "lines",
         "name": "Argentina",
         "showlegend": true,
         "type": "scattergl",
         "x": [
          1952,
          1957,
          1962,
          1967,
          1972,
          1977,
          1982,
          1987,
          1992,
          1997,
          2002,
          2007
         ],
         "xaxis": "x",
         "y": [
          17876956,
          19610538,
          21283783,
          22934225,
          24779799,
          26983828,
          29341374,
          31620918,
          33958947,
          36203463,
          38331121,
          40301927
         ],
         "yaxis": "y"
        },
        {
         "hovertemplate": "country=Australia<br>year=%{x}<br>pop=%{y}<extra></extra>",
         "legendgroup": "Australia",
         "line": {
          "color": "#19d3f3",
          "dash": "solid"
         },
         "marker": {
          "symbol": "circle"
         },
         "mode": "lines",
         "name": "Australia",
         "showlegend": true,
         "type": "scattergl",
         "x": [
          1952,
          1957,
          1962,
          1967,
          1972,
          1977,
          1982,
          1987,
          1992,
          1997,
          2002,
          2007
         ],
         "xaxis": "x",
         "y": [
          8691212,
          9712569,
          10794968,
          11872264,
          13177000,
          14074100,
          15184200,
          16257249,
          17481977,
          18565243,
          19546792,
          20434176
         ],
         "yaxis": "y"
        },
        {
         "hovertemplate": "country=Austria<br>year=%{x}<br>pop=%{y}<extra></extra>",
         "legendgroup": "Austria",
         "line": {
          "color": "#FF6692",
          "dash": "solid"
         },
         "marker": {
          "symbol": "circle"
         },
         "mode": "lines",
         "name": "Austria",
         "showlegend": true,
         "type": "scattergl",
         "x": [
          1952,
          1957,
          1962,
          1967,
          1972,
          1977,
          1982,
          1987,
          1992,
          1997,
          2002,
          2007
         ],
         "xaxis": "x",
         "y": [
          6927772,
          6965860,
          7129864,
          7376998,
          7544201,
          7568430,
          7574613,
          7578903,
          7914969,
          8069876,
          8148312,
          8199783
         ],
         "yaxis": "y"
        },
        {
         "hovertemplate": "country=Bahrain<br>year=%{x}<br>pop=%{y}<extra></extra>",
         "legendgroup": "Bahrain",
         "line": {
          "color": "#B6E880",
          "dash": "solid"
         },
         "marker": {
          "symbol": "circle"
         },
         "mode": "lines",
         "name": "Bahrain",
         "showlegend": true,
         "type": "scattergl",
         "x": [
          1952,
          1957,
          1962,
          1967,
          1972,
          1977,
          1982,
          1987,
          1992,
          1997,
          2002,
          2007
         ],
         "xaxis": "x",
         "y": [
          120447,
          138655,
          171863,
          202182,
          230800,
          297410,
          377967,
          454612,
          529491,
          598561,
          656397,
          708573
         ],
         "yaxis": "y"
        },
        {
         "hovertemplate": "country=Bangladesh<br>year=%{x}<br>pop=%{y}<extra></extra>",
         "legendgroup": "Bangladesh",
         "line": {
          "color": "#FF97FF",
          "dash": "solid"
         },
         "marker": {
          "symbol": "circle"
         },
         "mode": "lines",
         "name": "Bangladesh",
         "showlegend": true,
         "type": "scattergl",
         "x": [
          1952,
          1957,
          1962,
          1967,
          1972,
          1977,
          1982,
          1987,
          1992,
          1997,
          2002,
          2007
         ],
         "xaxis": "x",
         "y": [
          46886859,
          51365468,
          56839289,
          62821884,
          70759295,
          80428306,
          93074406,
          103764241,
          113704579,
          123315288,
          135656790,
          150448339
         ],
         "yaxis": "y"
        },
        {
         "hovertemplate": "country=Belgium<br>year=%{x}<br>pop=%{y}<extra></extra>",
         "legendgroup": "Belgium",
         "line": {
          "color": "#FECB52",
          "dash": "solid"
         },
         "marker": {
          "symbol": "circle"
         },
         "mode": "lines",
         "name": "Belgium",
         "showlegend": true,
         "type": "scattergl",
         "x": [
          1952,
          1957,
          1962,
          1967,
          1972,
          1977,
          1982,
          1987,
          1992,
          1997,
          2002,
          2007
         ],
         "xaxis": "x",
         "y": [
          8730405,
          8989111,
          9218400,
          9556500,
          9709100,
          9821800,
          9856303,
          9870200,
          10045622,
          10199787,
          10311970,
          10392226
         ],
         "yaxis": "y"
        },
        {
         "hovertemplate": "country=Benin<br>year=%{x}<br>pop=%{y}<extra></extra>",
         "legendgroup": "Benin",
         "line": {
          "color": "#636efa",
          "dash": "solid"
         },
         "marker": {
          "symbol": "circle"
         },
         "mode": "lines",
         "name": "Benin",
         "showlegend": true,
         "type": "scattergl",
         "x": [
          1952,
          1957,
          1962,
          1967,
          1972,
          1977,
          1982,
          1987,
          1992,
          1997,
          2002,
          2007
         ],
         "xaxis": "x",
         "y": [
          1738315,
          1925173,
          2151895,
          2427334,
          2761407,
          3168267,
          3641603,
          4243788,
          4981671,
          6066080,
          7026113,
          8078314
         ],
         "yaxis": "y"
        },
        {
         "hovertemplate": "country=Bolivia<br>year=%{x}<br>pop=%{y}<extra></extra>",
         "legendgroup": "Bolivia",
         "line": {
          "color": "#EF553B",
          "dash": "solid"
         },
         "marker": {
          "symbol": "circle"
         },
         "mode": "lines",
         "name": "Bolivia",
         "showlegend": true,
         "type": "scattergl",
         "x": [
          1952,
          1957,
          1962,
          1967,
          1972,
          1977,
          1982,
          1987,
          1992,
          1997,
          2002,
          2007
         ],
         "xaxis": "x",
         "y": [
          2883315,
          3211738,
          3593918,
          4040665,
          4565872,
          5079716,
          5642224,
          6156369,
          6893451,
          7693188,
          8445134,
          9119152
         ],
         "yaxis": "y"
        },
        {
         "hovertemplate": "country=Bosnia and Herzegovina<br>year=%{x}<br>pop=%{y}<extra></extra>",
         "legendgroup": "Bosnia and Herzegovina",
         "line": {
          "color": "#00cc96",
          "dash": "solid"
         },
         "marker": {
          "symbol": "circle"
         },
         "mode": "lines",
         "name": "Bosnia and Herzegovina",
         "showlegend": true,
         "type": "scattergl",
         "x": [
          1952,
          1957,
          1962,
          1967,
          1972,
          1977,
          1982,
          1987,
          1992,
          1997,
          2002,
          2007
         ],
         "xaxis": "x",
         "y": [
          2791000,
          3076000,
          3349000,
          3585000,
          3819000,
          4086000,
          4172693,
          4338977,
          4256013,
          3607000,
          4165416,
          4552198
         ],
         "yaxis": "y"
        },
        {
         "hovertemplate": "country=Botswana<br>year=%{x}<br>pop=%{y}<extra></extra>",
         "legendgroup": "Botswana",
         "line": {
          "color": "#ab63fa",
          "dash": "solid"
         },
         "marker": {
          "symbol": "circle"
         },
         "mode": "lines",
         "name": "Botswana",
         "showlegend": true,
         "type": "scattergl",
         "x": [
          1952,
          1957,
          1962,
          1967,
          1972,
          1977,
          1982,
          1987,
          1992,
          1997,
          2002,
          2007
         ],
         "xaxis": "x",
         "y": [
          442308,
          474639,
          512764,
          553541,
          619351,
          781472,
          970347,
          1151184,
          1342614,
          1536536,
          1630347,
          1639131
         ],
         "yaxis": "y"
        },
        {
         "hovertemplate": "country=Brazil<br>year=%{x}<br>pop=%{y}<extra></extra>",
         "legendgroup": "Brazil",
         "line": {
          "color": "#FFA15A",
          "dash": "solid"
         },
         "marker": {
          "symbol": "circle"
         },
         "mode": "lines",
         "name": "Brazil",
         "showlegend": true,
         "type": "scattergl",
         "x": [
          1952,
          1957,
          1962,
          1967,
          1972,
          1977,
          1982,
          1987,
          1992,
          1997,
          2002,
          2007
         ],
         "xaxis": "x",
         "y": [
          56602560,
          65551171,
          76039390,
          88049823,
          100840058,
          114313951,
          128962939,
          142938076,
          155975974,
          168546719,
          179914212,
          190010647
         ],
         "yaxis": "y"
        },
        {
         "hovertemplate": "country=Bulgaria<br>year=%{x}<br>pop=%{y}<extra></extra>",
         "legendgroup": "Bulgaria",
         "line": {
          "color": "#19d3f3",
          "dash": "solid"
         },
         "marker": {
          "symbol": "circle"
         },
         "mode": "lines",
         "name": "Bulgaria",
         "showlegend": true,
         "type": "scattergl",
         "x": [
          1952,
          1957,
          1962,
          1967,
          1972,
          1977,
          1982,
          1987,
          1992,
          1997,
          2002,
          2007
         ],
         "xaxis": "x",
         "y": [
          7274900,
          7651254,
          8012946,
          8310226,
          8576200,
          8797022,
          8892098,
          8971958,
          8658506,
          8066057,
          7661799,
          7322858
         ],
         "yaxis": "y"
        },
        {
         "hovertemplate": "country=Burkina Faso<br>year=%{x}<br>pop=%{y}<extra></extra>",
         "legendgroup": "Burkina Faso",
         "line": {
          "color": "#FF6692",
          "dash": "solid"
         },
         "marker": {
          "symbol": "circle"
         },
         "mode": "lines",
         "name": "Burkina Faso",
         "showlegend": true,
         "type": "scattergl",
         "x": [
          1952,
          1957,
          1962,
          1967,
          1972,
          1977,
          1982,
          1987,
          1992,
          1997,
          2002,
          2007
         ],
         "xaxis": "x",
         "y": [
          4469979,
          4713416,
          4919632,
          5127935,
          5433886,
          5889574,
          6634596,
          7586551,
          8878303,
          10352843,
          12251209,
          14326203
         ],
         "yaxis": "y"
        },
        {
         "hovertemplate": "country=Burundi<br>year=%{x}<br>pop=%{y}<extra></extra>",
         "legendgroup": "Burundi",
         "line": {
          "color": "#B6E880",
          "dash": "solid"
         },
         "marker": {
          "symbol": "circle"
         },
         "mode": "lines",
         "name": "Burundi",
         "showlegend": true,
         "type": "scattergl",
         "x": [
          1952,
          1957,
          1962,
          1967,
          1972,
          1977,
          1982,
          1987,
          1992,
          1997,
          2002,
          2007
         ],
         "xaxis": "x",
         "y": [
          2445618,
          2667518,
          2961915,
          3330989,
          3529983,
          3834415,
          4580410,
          5126023,
          5809236,
          6121610,
          7021078,
          8390505
         ],
         "yaxis": "y"
        },
        {
         "hovertemplate": "country=Cambodia<br>year=%{x}<br>pop=%{y}<extra></extra>",
         "legendgroup": "Cambodia",
         "line": {
          "color": "#FF97FF",
          "dash": "solid"
         },
         "marker": {
          "symbol": "circle"
         },
         "mode": "lines",
         "name": "Cambodia",
         "showlegend": true,
         "type": "scattergl",
         "x": [
          1952,
          1957,
          1962,
          1967,
          1972,
          1977,
          1982,
          1987,
          1992,
          1997,
          2002,
          2007
         ],
         "xaxis": "x",
         "y": [
          4693836,
          5322536,
          6083619,
          6960067,
          7450606,
          6978607,
          7272485,
          8371791,
          10150094,
          11782962,
          12926707,
          14131858
         ],
         "yaxis": "y"
        },
        {
         "hovertemplate": "country=Cameroon<br>year=%{x}<br>pop=%{y}<extra></extra>",
         "legendgroup": "Cameroon",
         "line": {
          "color": "#FECB52",
          "dash": "solid"
         },
         "marker": {
          "symbol": "circle"
         },
         "mode": "lines",
         "name": "Cameroon",
         "showlegend": true,
         "type": "scattergl",
         "x": [
          1952,
          1957,
          1962,
          1967,
          1972,
          1977,
          1982,
          1987,
          1992,
          1997,
          2002,
          2007
         ],
         "xaxis": "x",
         "y": [
          5009067,
          5359923,
          5793633,
          6335506,
          7021028,
          7959865,
          9250831,
          10780667,
          12467171,
          14195809,
          15929988,
          17696293
         ],
         "yaxis": "y"
        },
        {
         "hovertemplate": "country=Canada<br>year=%{x}<br>pop=%{y}<extra></extra>",
         "legendgroup": "Canada",
         "line": {
          "color": "#636efa",
          "dash": "solid"
         },
         "marker": {
          "symbol": "circle"
         },
         "mode": "lines",
         "name": "Canada",
         "showlegend": true,
         "type": "scattergl",
         "x": [
          1952,
          1957,
          1962,
          1967,
          1972,
          1977,
          1982,
          1987,
          1992,
          1997,
          2002,
          2007
         ],
         "xaxis": "x",
         "y": [
          14785584,
          17010154,
          18985849,
          20819767,
          22284500,
          23796400,
          25201900,
          26549700,
          28523502,
          30305843,
          31902268,
          33390141
         ],
         "yaxis": "y"
        },
        {
         "hovertemplate": "country=Central African Republic<br>year=%{x}<br>pop=%{y}<extra></extra>",
         "legendgroup": "Central African Republic",
         "line": {
          "color": "#EF553B",
          "dash": "solid"
         },
         "marker": {
          "symbol": "circle"
         },
         "mode": "lines",
         "name": "Central African Republic",
         "showlegend": true,
         "type": "scattergl",
         "x": [
          1952,
          1957,
          1962,
          1967,
          1972,
          1977,
          1982,
          1987,
          1992,
          1997,
          2002,
          2007
         ],
         "xaxis": "x",
         "y": [
          1291695,
          1392284,
          1523478,
          1733638,
          1927260,
          2167533,
          2476971,
          2840009,
          3265124,
          3696513,
          4048013,
          4369038
         ],
         "yaxis": "y"
        },
        {
         "hovertemplate": "country=Chad<br>year=%{x}<br>pop=%{y}<extra></extra>",
         "legendgroup": "Chad",
         "line": {
          "color": "#00cc96",
          "dash": "solid"
         },
         "marker": {
          "symbol": "circle"
         },
         "mode": "lines",
         "name": "Chad",
         "showlegend": true,
         "type": "scattergl",
         "x": [
          1952,
          1957,
          1962,
          1967,
          1972,
          1977,
          1982,
          1987,
          1992,
          1997,
          2002,
          2007
         ],
         "xaxis": "x",
         "y": [
          2682462,
          2894855,
          3150417,
          3495967,
          3899068,
          4388260,
          4875118,
          5498955,
          6429417,
          7562011,
          8835739,
          10238807
         ],
         "yaxis": "y"
        },
        {
         "hovertemplate": "country=Chile<br>year=%{x}<br>pop=%{y}<extra></extra>",
         "legendgroup": "Chile",
         "line": {
          "color": "#ab63fa",
          "dash": "solid"
         },
         "marker": {
          "symbol": "circle"
         },
         "mode": "lines",
         "name": "Chile",
         "showlegend": true,
         "type": "scattergl",
         "x": [
          1952,
          1957,
          1962,
          1967,
          1972,
          1977,
          1982,
          1987,
          1992,
          1997,
          2002,
          2007
         ],
         "xaxis": "x",
         "y": [
          6377619,
          7048426,
          7961258,
          8858908,
          9717524,
          10599793,
          11487112,
          12463354,
          13572994,
          14599929,
          15497046,
          16284741
         ],
         "yaxis": "y"
        },
        {
         "hovertemplate": "country=China<br>year=%{x}<br>pop=%{y}<extra></extra>",
         "legendgroup": "China",
         "line": {
          "color": "#FFA15A",
          "dash": "solid"
         },
         "marker": {
          "symbol": "circle"
         },
         "mode": "lines",
         "name": "China",
         "showlegend": true,
         "type": "scattergl",
         "x": [
          1952,
          1957,
          1962,
          1967,
          1972,
          1977,
          1982,
          1987,
          1992,
          1997,
          2002,
          2007
         ],
         "xaxis": "x",
         "y": [
          556263527,
          637408000,
          665770000,
          754550000,
          862030000,
          943455000,
          1000281000,
          1084035000,
          1164970000,
          1230075000,
          1280400000,
          1318683096
         ],
         "yaxis": "y"
        },
        {
         "hovertemplate": "country=Colombia<br>year=%{x}<br>pop=%{y}<extra></extra>",
         "legendgroup": "Colombia",
         "line": {
          "color": "#19d3f3",
          "dash": "solid"
         },
         "marker": {
          "symbol": "circle"
         },
         "mode": "lines",
         "name": "Colombia",
         "showlegend": true,
         "type": "scattergl",
         "x": [
          1952,
          1957,
          1962,
          1967,
          1972,
          1977,
          1982,
          1987,
          1992,
          1997,
          2002,
          2007
         ],
         "xaxis": "x",
         "y": [
          12350771,
          14485993,
          17009885,
          19764027,
          22542890,
          25094412,
          27764644,
          30964245,
          34202721,
          37657830,
          41008227,
          44227550
         ],
         "yaxis": "y"
        },
        {
         "hovertemplate": "country=Comoros<br>year=%{x}<br>pop=%{y}<extra></extra>",
         "legendgroup": "Comoros",
         "line": {
          "color": "#FF6692",
          "dash": "solid"
         },
         "marker": {
          "symbol": "circle"
         },
         "mode": "lines",
         "name": "Comoros",
         "showlegend": true,
         "type": "scattergl",
         "x": [
          1952,
          1957,
          1962,
          1967,
          1972,
          1977,
          1982,
          1987,
          1992,
          1997,
          2002,
          2007
         ],
         "xaxis": "x",
         "y": [
          153936,
          170928,
          191689,
          217378,
          250027,
          304739,
          348643,
          395114,
          454429,
          527982,
          614382,
          710960
         ],
         "yaxis": "y"
        },
        {
         "hovertemplate": "country=Congo, Dem. Rep.<br>year=%{x}<br>pop=%{y}<extra></extra>",
         "legendgroup": "Congo, Dem. Rep.",
         "line": {
          "color": "#B6E880",
          "dash": "solid"
         },
         "marker": {
          "symbol": "circle"
         },
         "mode": "lines",
         "name": "Congo, Dem. Rep.",
         "showlegend": true,
         "type": "scattergl",
         "x": [
          1952,
          1957,
          1962,
          1967,
          1972,
          1977,
          1982,
          1987,
          1992,
          1997,
          2002,
          2007
         ],
         "xaxis": "x",
         "y": [
          14100005,
          15577932,
          17486434,
          19941073,
          23007669,
          26480870,
          30646495,
          35481645,
          41672143,
          47798986,
          55379852,
          64606759
         ],
         "yaxis": "y"
        },
        {
         "hovertemplate": "country=Congo, Rep.<br>year=%{x}<br>pop=%{y}<extra></extra>",
         "legendgroup": "Congo, Rep.",
         "line": {
          "color": "#FF97FF",
          "dash": "solid"
         },
         "marker": {
          "symbol": "circle"
         },
         "mode": "lines",
         "name": "Congo, Rep.",
         "showlegend": true,
         "type": "scattergl",
         "x": [
          1952,
          1957,
          1962,
          1967,
          1972,
          1977,
          1982,
          1987,
          1992,
          1997,
          2002,
          2007
         ],
         "xaxis": "x",
         "y": [
          854885,
          940458,
          1047924,
          1179760,
          1340458,
          1536769,
          1774735,
          2064095,
          2409073,
          2800947,
          3328795,
          3800610
         ],
         "yaxis": "y"
        },
        {
         "hovertemplate": "country=Costa Rica<br>year=%{x}<br>pop=%{y}<extra></extra>",
         "legendgroup": "Costa Rica",
         "line": {
          "color": "#FECB52",
          "dash": "solid"
         },
         "marker": {
          "symbol": "circle"
         },
         "mode": "lines",
         "name": "Costa Rica",
         "showlegend": true,
         "type": "scattergl",
         "x": [
          1952,
          1957,
          1962,
          1967,
          1972,
          1977,
          1982,
          1987,
          1992,
          1997,
          2002,
          2007
         ],
         "xaxis": "x",
         "y": [
          926317,
          1112300,
          1345187,
          1588717,
          1834796,
          2108457,
          2424367,
          2799811,
          3173216,
          3518107,
          3834934,
          4133884
         ],
         "yaxis": "y"
        },
        {
         "hovertemplate": "country=Cote d'Ivoire<br>year=%{x}<br>pop=%{y}<extra></extra>",
         "legendgroup": "Cote d'Ivoire",
         "line": {
          "color": "#636efa",
          "dash": "solid"
         },
         "marker": {
          "symbol": "circle"
         },
         "mode": "lines",
         "name": "Cote d'Ivoire",
         "showlegend": true,
         "type": "scattergl",
         "x": [
          1952,
          1957,
          1962,
          1967,
          1972,
          1977,
          1982,
          1987,
          1992,
          1997,
          2002,
          2007
         ],
         "xaxis": "x",
         "y": [
          2977019,
          3300000,
          3832408,
          4744870,
          6071696,
          7459574,
          9025951,
          10761098,
          12772596,
          14625967,
          16252726,
          18013409
         ],
         "yaxis": "y"
        },
        {
         "hovertemplate": "country=Croatia<br>year=%{x}<br>pop=%{y}<extra></extra>",
         "legendgroup": "Croatia",
         "line": {
          "color": "#EF553B",
          "dash": "solid"
         },
         "marker": {
          "symbol": "circle"
         },
         "mode": "lines",
         "name": "Croatia",
         "showlegend": true,
         "type": "scattergl",
         "x": [
          1952,
          1957,
          1962,
          1967,
          1972,
          1977,
          1982,
          1987,
          1992,
          1997,
          2002,
          2007
         ],
         "xaxis": "x",
         "y": [
          3882229,
          3991242,
          4076557,
          4174366,
          4225310,
          4318673,
          4413368,
          4484310,
          4494013,
          4444595,
          4481020,
          4493312
         ],
         "yaxis": "y"
        },
        {
         "hovertemplate": "country=Cuba<br>year=%{x}<br>pop=%{y}<extra></extra>",
         "legendgroup": "Cuba",
         "line": {
          "color": "#00cc96",
          "dash": "solid"
         },
         "marker": {
          "symbol": "circle"
         },
         "mode": "lines",
         "name": "Cuba",
         "showlegend": true,
         "type": "scattergl",
         "x": [
          1952,
          1957,
          1962,
          1967,
          1972,
          1977,
          1982,
          1987,
          1992,
          1997,
          2002,
          2007
         ],
         "xaxis": "x",
         "y": [
          6007797,
          6640752,
          7254373,
          8139332,
          8831348,
          9537988,
          9789224,
          10239839,
          10723260,
          10983007,
          11226999,
          11416987
         ],
         "yaxis": "y"
        },
        {
         "hovertemplate": "country=Czech Republic<br>year=%{x}<br>pop=%{y}<extra></extra>",
         "legendgroup": "Czech Republic",
         "line": {
          "color": "#ab63fa",
          "dash": "solid"
         },
         "marker": {
          "symbol": "circle"
         },
         "mode": "lines",
         "name": "Czech Republic",
         "showlegend": true,
         "type": "scattergl",
         "x": [
          1952,
          1957,
          1962,
          1967,
          1972,
          1977,
          1982,
          1987,
          1992,
          1997,
          2002,
          2007
         ],
         "xaxis": "x",
         "y": [
          9125183,
          9513758,
          9620282,
          9835109,
          9862158,
          10161915,
          10303704,
          10311597,
          10315702,
          10300707,
          10256295,
          10228744
         ],
         "yaxis": "y"
        },
        {
         "hovertemplate": "country=Denmark<br>year=%{x}<br>pop=%{y}<extra></extra>",
         "legendgroup": "Denmark",
         "line": {
          "color": "#FFA15A",
          "dash": "solid"
         },
         "marker": {
          "symbol": "circle"
         },
         "mode": "lines",
         "name": "Denmark",
         "showlegend": true,
         "type": "scattergl",
         "x": [
          1952,
          1957,
          1962,
          1967,
          1972,
          1977,
          1982,
          1987,
          1992,
          1997,
          2002,
          2007
         ],
         "xaxis": "x",
         "y": [
          4334000,
          4487831,
          4646899,
          4838800,
          4991596,
          5088419,
          5117810,
          5127024,
          5171393,
          5283663,
          5374693,
          5468120
         ],
         "yaxis": "y"
        },
        {
         "hovertemplate": "country=Djibouti<br>year=%{x}<br>pop=%{y}<extra></extra>",
         "legendgroup": "Djibouti",
         "line": {
          "color": "#19d3f3",
          "dash": "solid"
         },
         "marker": {
          "symbol": "circle"
         },
         "mode": "lines",
         "name": "Djibouti",
         "showlegend": true,
         "type": "scattergl",
         "x": [
          1952,
          1957,
          1962,
          1967,
          1972,
          1977,
          1982,
          1987,
          1992,
          1997,
          2002,
          2007
         ],
         "xaxis": "x",
         "y": [
          63149,
          71851,
          89898,
          127617,
          178848,
          228694,
          305991,
          311025,
          384156,
          417908,
          447416,
          496374
         ],
         "yaxis": "y"
        },
        {
         "hovertemplate": "country=Dominican Republic<br>year=%{x}<br>pop=%{y}<extra></extra>",
         "legendgroup": "Dominican Republic",
         "line": {
          "color": "#FF6692",
          "dash": "solid"
         },
         "marker": {
          "symbol": "circle"
         },
         "mode": "lines",
         "name": "Dominican Republic",
         "showlegend": true,
         "type": "scattergl",
         "x": [
          1952,
          1957,
          1962,
          1967,
          1972,
          1977,
          1982,
          1987,
          1992,
          1997,
          2002,
          2007
         ],
         "xaxis": "x",
         "y": [
          2491346,
          2923186,
          3453434,
          4049146,
          4671329,
          5302800,
          5968349,
          6655297,
          7351181,
          7992357,
          8650322,
          9319622
         ],
         "yaxis": "y"
        },
        {
         "hovertemplate": "country=Ecuador<br>year=%{x}<br>pop=%{y}<extra></extra>",
         "legendgroup": "Ecuador",
         "line": {
          "color": "#B6E880",
          "dash": "solid"
         },
         "marker": {
          "symbol": "circle"
         },
         "mode": "lines",
         "name": "Ecuador",
         "showlegend": true,
         "type": "scattergl",
         "x": [
          1952,
          1957,
          1962,
          1967,
          1972,
          1977,
          1982,
          1987,
          1992,
          1997,
          2002,
          2007
         ],
         "xaxis": "x",
         "y": [
          3548753,
          4058385,
          4681707,
          5432424,
          6298651,
          7278866,
          8365850,
          9545158,
          10748394,
          11911819,
          12921234,
          13755680
         ],
         "yaxis": "y"
        },
        {
         "hovertemplate": "country=Egypt<br>year=%{x}<br>pop=%{y}<extra></extra>",
         "legendgroup": "Egypt",
         "line": {
          "color": "#FF97FF",
          "dash": "solid"
         },
         "marker": {
          "symbol": "circle"
         },
         "mode": "lines",
         "name": "Egypt",
         "showlegend": true,
         "type": "scattergl",
         "x": [
          1952,
          1957,
          1962,
          1967,
          1972,
          1977,
          1982,
          1987,
          1992,
          1997,
          2002,
          2007
         ],
         "xaxis": "x",
         "y": [
          22223309,
          25009741,
          28173309,
          31681188,
          34807417,
          38783863,
          45681811,
          52799062,
          59402198,
          66134291,
          73312559,
          80264543
         ],
         "yaxis": "y"
        },
        {
         "hovertemplate": "country=El Salvador<br>year=%{x}<br>pop=%{y}<extra></extra>",
         "legendgroup": "El Salvador",
         "line": {
          "color": "#FECB52",
          "dash": "solid"
         },
         "marker": {
          "symbol": "circle"
         },
         "mode": "lines",
         "name": "El Salvador",
         "showlegend": true,
         "type": "scattergl",
         "x": [
          1952,
          1957,
          1962,
          1967,
          1972,
          1977,
          1982,
          1987,
          1992,
          1997,
          2002,
          2007
         ],
         "xaxis": "x",
         "y": [
          2042865,
          2355805,
          2747687,
          3232927,
          3790903,
          4282586,
          4474873,
          4842194,
          5274649,
          5783439,
          6353681,
          6939688
         ],
         "yaxis": "y"
        },
        {
         "hovertemplate": "country=Equatorial Guinea<br>year=%{x}<br>pop=%{y}<extra></extra>",
         "legendgroup": "Equatorial Guinea",
         "line": {
          "color": "#636efa",
          "dash": "solid"
         },
         "marker": {
          "symbol": "circle"
         },
         "mode": "lines",
         "name": "Equatorial Guinea",
         "showlegend": true,
         "type": "scattergl",
         "x": [
          1952,
          1957,
          1962,
          1967,
          1972,
          1977,
          1982,
          1987,
          1992,
          1997,
          2002,
          2007
         ],
         "xaxis": "x",
         "y": [
          216964,
          232922,
          249220,
          259864,
          277603,
          192675,
          285483,
          341244,
          387838,
          439971,
          495627,
          551201
         ],
         "yaxis": "y"
        },
        {
         "hovertemplate": "country=Eritrea<br>year=%{x}<br>pop=%{y}<extra></extra>",
         "legendgroup": "Eritrea",
         "line": {
          "color": "#EF553B",
          "dash": "solid"
         },
         "marker": {
          "symbol": "circle"
         },
         "mode": "lines",
         "name": "Eritrea",
         "showlegend": true,
         "type": "scattergl",
         "x": [
          1952,
          1957,
          1962,
          1967,
          1972,
          1977,
          1982,
          1987,
          1992,
          1997,
          2002,
          2007
         ],
         "xaxis": "x",
         "y": [
          1438760,
          1542611,
          1666618,
          1820319,
          2260187,
          2512642,
          2637297,
          2915959,
          3668440,
          4058319,
          4414865,
          4906585
         ],
         "yaxis": "y"
        },
        {
         "hovertemplate": "country=Ethiopia<br>year=%{x}<br>pop=%{y}<extra></extra>",
         "legendgroup": "Ethiopia",
         "line": {
          "color": "#00cc96",
          "dash": "solid"
         },
         "marker": {
          "symbol": "circle"
         },
         "mode": "lines",
         "name": "Ethiopia",
         "showlegend": true,
         "type": "scattergl",
         "x": [
          1952,
          1957,
          1962,
          1967,
          1972,
          1977,
          1982,
          1987,
          1992,
          1997,
          2002,
          2007
         ],
         "xaxis": "x",
         "y": [
          20860941,
          22815614,
          25145372,
          27860297,
          30770372,
          34617799,
          38111756,
          42999530,
          52088559,
          59861301,
          67946797,
          76511887
         ],
         "yaxis": "y"
        },
        {
         "hovertemplate": "country=Finland<br>year=%{x}<br>pop=%{y}<extra></extra>",
         "legendgroup": "Finland",
         "line": {
          "color": "#ab63fa",
          "dash": "solid"
         },
         "marker": {
          "symbol": "circle"
         },
         "mode": "lines",
         "name": "Finland",
         "showlegend": true,
         "type": "scattergl",
         "x": [
          1952,
          1957,
          1962,
          1967,
          1972,
          1977,
          1982,
          1987,
          1992,
          1997,
          2002,
          2007
         ],
         "xaxis": "x",
         "y": [
          4090500,
          4324000,
          4491443,
          4605744,
          4639657,
          4738902,
          4826933,
          4931729,
          5041039,
          5134406,
          5193039,
          5238460
         ],
         "yaxis": "y"
        },
        {
         "hovertemplate": "country=France<br>year=%{x}<br>pop=%{y}<extra></extra>",
         "legendgroup": "France",
         "line": {
          "color": "#FFA15A",
          "dash": "solid"
         },
         "marker": {
          "symbol": "circle"
         },
         "mode": "lines",
         "name": "France",
         "showlegend": true,
         "type": "scattergl",
         "x": [
          1952,
          1957,
          1962,
          1967,
          1972,
          1977,
          1982,
          1987,
          1992,
          1997,
          2002,
          2007
         ],
         "xaxis": "x",
         "y": [
          42459667,
          44310863,
          47124000,
          49569000,
          51732000,
          53165019,
          54433565,
          55630100,
          57374179,
          58623428,
          59925035,
          61083916
         ],
         "yaxis": "y"
        },
        {
         "hovertemplate": "country=Gabon<br>year=%{x}<br>pop=%{y}<extra></extra>",
         "legendgroup": "Gabon",
         "line": {
          "color": "#19d3f3",
          "dash": "solid"
         },
         "marker": {
          "symbol": "circle"
         },
         "mode": "lines",
         "name": "Gabon",
         "showlegend": true,
         "type": "scattergl",
         "x": [
          1952,
          1957,
          1962,
          1967,
          1972,
          1977,
          1982,
          1987,
          1992,
          1997,
          2002,
          2007
         ],
         "xaxis": "x",
         "y": [
          420702,
          434904,
          455661,
          489004,
          537977,
          706367,
          753874,
          880397,
          985739,
          1126189,
          1299304,
          1454867
         ],
         "yaxis": "y"
        },
        {
         "hovertemplate": "country=Gambia<br>year=%{x}<br>pop=%{y}<extra></extra>",
         "legendgroup": "Gambia",
         "line": {
          "color": "#FF6692",
          "dash": "solid"
         },
         "marker": {
          "symbol": "circle"
         },
         "mode": "lines",
         "name": "Gambia",
         "showlegend": true,
         "type": "scattergl",
         "x": [
          1952,
          1957,
          1962,
          1967,
          1972,
          1977,
          1982,
          1987,
          1992,
          1997,
          2002,
          2007
         ],
         "xaxis": "x",
         "y": [
          284320,
          323150,
          374020,
          439593,
          517101,
          608274,
          715523,
          848406,
          1025384,
          1235767,
          1457766,
          1688359
         ],
         "yaxis": "y"
        },
        {
         "hovertemplate": "country=Germany<br>year=%{x}<br>pop=%{y}<extra></extra>",
         "legendgroup": "Germany",
         "line": {
          "color": "#B6E880",
          "dash": "solid"
         },
         "marker": {
          "symbol": "circle"
         },
         "mode": "lines",
         "name": "Germany",
         "showlegend": true,
         "type": "scattergl",
         "x": [
          1952,
          1957,
          1962,
          1967,
          1972,
          1977,
          1982,
          1987,
          1992,
          1997,
          2002,
          2007
         ],
         "xaxis": "x",
         "y": [
          69145952,
          71019069,
          73739117,
          76368453,
          78717088,
          78160773,
          78335266,
          77718298,
          80597764,
          82011073,
          82350671,
          82400996
         ],
         "yaxis": "y"
        },
        {
         "hovertemplate": "country=Ghana<br>year=%{x}<br>pop=%{y}<extra></extra>",
         "legendgroup": "Ghana",
         "line": {
          "color": "#FF97FF",
          "dash": "solid"
         },
         "marker": {
          "symbol": "circle"
         },
         "mode": "lines",
         "name": "Ghana",
         "showlegend": true,
         "type": "scattergl",
         "x": [
          1952,
          1957,
          1962,
          1967,
          1972,
          1977,
          1982,
          1987,
          1992,
          1997,
          2002,
          2007
         ],
         "xaxis": "x",
         "y": [
          5581001,
          6391288,
          7355248,
          8490213,
          9354120,
          10538093,
          11400338,
          14168101,
          16278738,
          18418288,
          20550751,
          22873338
         ],
         "yaxis": "y"
        },
        {
         "hovertemplate": "country=Greece<br>year=%{x}<br>pop=%{y}<extra></extra>",
         "legendgroup": "Greece",
         "line": {
          "color": "#FECB52",
          "dash": "solid"
         },
         "marker": {
          "symbol": "circle"
         },
         "mode": "lines",
         "name": "Greece",
         "showlegend": true,
         "type": "scattergl",
         "x": [
          1952,
          1957,
          1962,
          1967,
          1972,
          1977,
          1982,
          1987,
          1992,
          1997,
          2002,
          2007
         ],
         "xaxis": "x",
         "y": [
          7733250,
          8096218,
          8448233,
          8716441,
          8888628,
          9308479,
          9786480,
          9974490,
          10325429,
          10502372,
          10603863,
          10706290
         ],
         "yaxis": "y"
        },
        {
         "hovertemplate": "country=Guatemala<br>year=%{x}<br>pop=%{y}<extra></extra>",
         "legendgroup": "Guatemala",
         "line": {
          "color": "#636efa",
          "dash": "solid"
         },
         "marker": {
          "symbol": "circle"
         },
         "mode": "lines",
         "name": "Guatemala",
         "showlegend": true,
         "type": "scattergl",
         "x": [
          1952,
          1957,
          1962,
          1967,
          1972,
          1977,
          1982,
          1987,
          1992,
          1997,
          2002,
          2007
         ],
         "xaxis": "x",
         "y": [
          3146381,
          3640876,
          4208858,
          4690773,
          5149581,
          5703430,
          6395630,
          7326406,
          8486949,
          9803875,
          11178650,
          12572928
         ],
         "yaxis": "y"
        },
        {
         "hovertemplate": "country=Guinea<br>year=%{x}<br>pop=%{y}<extra></extra>",
         "legendgroup": "Guinea",
         "line": {
          "color": "#EF553B",
          "dash": "solid"
         },
         "marker": {
          "symbol": "circle"
         },
         "mode": "lines",
         "name": "Guinea",
         "showlegend": true,
         "type": "scattergl",
         "x": [
          1952,
          1957,
          1962,
          1967,
          1972,
          1977,
          1982,
          1987,
          1992,
          1997,
          2002,
          2007
         ],
         "xaxis": "x",
         "y": [
          2664249,
          2876726,
          3140003,
          3451418,
          3811387,
          4227026,
          4710497,
          5650262,
          6990574,
          8048834,
          8807818,
          9947814
         ],
         "yaxis": "y"
        },
        {
         "hovertemplate": "country=Guinea-Bissau<br>year=%{x}<br>pop=%{y}<extra></extra>",
         "legendgroup": "Guinea-Bissau",
         "line": {
          "color": "#00cc96",
          "dash": "solid"
         },
         "marker": {
          "symbol": "circle"
         },
         "mode": "lines",
         "name": "Guinea-Bissau",
         "showlegend": true,
         "type": "scattergl",
         "x": [
          1952,
          1957,
          1962,
          1967,
          1972,
          1977,
          1982,
          1987,
          1992,
          1997,
          2002,
          2007
         ],
         "xaxis": "x",
         "y": [
          580653,
          601095,
          627820,
          601287,
          625361,
          745228,
          825987,
          927524,
          1050938,
          1193708,
          1332459,
          1472041
         ],
         "yaxis": "y"
        },
        {
         "hovertemplate": "country=Haiti<br>year=%{x}<br>pop=%{y}<extra></extra>",
         "legendgroup": "Haiti",
         "line": {
          "color": "#ab63fa",
          "dash": "solid"
         },
         "marker": {
          "symbol": "circle"
         },
         "mode": "lines",
         "name": "Haiti",
         "showlegend": true,
         "type": "scattergl",
         "x": [
          1952,
          1957,
          1962,
          1967,
          1972,
          1977,
          1982,
          1987,
          1992,
          1997,
          2002,
          2007
         ],
         "xaxis": "x",
         "y": [
          3201488,
          3507701,
          3880130,
          4318137,
          4698301,
          4908554,
          5198399,
          5756203,
          6326682,
          6913545,
          7607651,
          8502814
         ],
         "yaxis": "y"
        },
        {
         "hovertemplate": "country=Honduras<br>year=%{x}<br>pop=%{y}<extra></extra>",
         "legendgroup": "Honduras",
         "line": {
          "color": "#FFA15A",
          "dash": "solid"
         },
         "marker": {
          "symbol": "circle"
         },
         "mode": "lines",
         "name": "Honduras",
         "showlegend": true,
         "type": "scattergl",
         "x": [
          1952,
          1957,
          1962,
          1967,
          1972,
          1977,
          1982,
          1987,
          1992,
          1997,
          2002,
          2007
         ],
         "xaxis": "x",
         "y": [
          1517453,
          1770390,
          2090162,
          2500689,
          2965146,
          3055235,
          3669448,
          4372203,
          5077347,
          5867957,
          6677328,
          7483763
         ],
         "yaxis": "y"
        },
        {
         "hovertemplate": "country=Hong Kong, China<br>year=%{x}<br>pop=%{y}<extra></extra>",
         "legendgroup": "Hong Kong, China",
         "line": {
          "color": "#19d3f3",
          "dash": "solid"
         },
         "marker": {
          "symbol": "circle"
         },
         "mode": "lines",
         "name": "Hong Kong, China",
         "showlegend": true,
         "type": "scattergl",
         "x": [
          1952,
          1957,
          1962,
          1967,
          1972,
          1977,
          1982,
          1987,
          1992,
          1997,
          2002,
          2007
         ],
         "xaxis": "x",
         "y": [
          2125900,
          2736300,
          3305200,
          3722800,
          4115700,
          4583700,
          5264500,
          5584510,
          5829696,
          6495918,
          6762476,
          6980412
         ],
         "yaxis": "y"
        },
        {
         "hovertemplate": "country=Hungary<br>year=%{x}<br>pop=%{y}<extra></extra>",
         "legendgroup": "Hungary",
         "line": {
          "color": "#FF6692",
          "dash": "solid"
         },
         "marker": {
          "symbol": "circle"
         },
         "mode": "lines",
         "name": "Hungary",
         "showlegend": true,
         "type": "scattergl",
         "x": [
          1952,
          1957,
          1962,
          1967,
          1972,
          1977,
          1982,
          1987,
          1992,
          1997,
          2002,
          2007
         ],
         "xaxis": "x",
         "y": [
          9504000,
          9839000,
          10063000,
          10223422,
          10394091,
          10637171,
          10705535,
          10612740,
          10348684,
          10244684,
          10083313,
          9956108
         ],
         "yaxis": "y"
        },
        {
         "hovertemplate": "country=Iceland<br>year=%{x}<br>pop=%{y}<extra></extra>",
         "legendgroup": "Iceland",
         "line": {
          "color": "#B6E880",
          "dash": "solid"
         },
         "marker": {
          "symbol": "circle"
         },
         "mode": "lines",
         "name": "Iceland",
         "showlegend": true,
         "type": "scattergl",
         "x": [
          1952,
          1957,
          1962,
          1967,
          1972,
          1977,
          1982,
          1987,
          1992,
          1997,
          2002,
          2007
         ],
         "xaxis": "x",
         "y": [
          147962,
          165110,
          182053,
          198676,
          209275,
          221823,
          233997,
          244676,
          259012,
          271192,
          288030,
          301931
         ],
         "yaxis": "y"
        },
        {
         "hovertemplate": "country=India<br>year=%{x}<br>pop=%{y}<extra></extra>",
         "legendgroup": "India",
         "line": {
          "color": "#FF97FF",
          "dash": "solid"
         },
         "marker": {
          "symbol": "circle"
         },
         "mode": "lines",
         "name": "India",
         "showlegend": true,
         "type": "scattergl",
         "x": [
          1952,
          1957,
          1962,
          1967,
          1972,
          1977,
          1982,
          1987,
          1992,
          1997,
          2002,
          2007
         ],
         "xaxis": "x",
         "y": [
          372000000,
          409000000,
          454000000,
          506000000,
          567000000,
          634000000,
          708000000,
          788000000,
          872000000,
          959000000,
          1034172547,
          1110396331
         ],
         "yaxis": "y"
        },
        {
         "hovertemplate": "country=Indonesia<br>year=%{x}<br>pop=%{y}<extra></extra>",
         "legendgroup": "Indonesia",
         "line": {
          "color": "#FECB52",
          "dash": "solid"
         },
         "marker": {
          "symbol": "circle"
         },
         "mode": "lines",
         "name": "Indonesia",
         "showlegend": true,
         "type": "scattergl",
         "x": [
          1952,
          1957,
          1962,
          1967,
          1972,
          1977,
          1982,
          1987,
          1992,
          1997,
          2002,
          2007
         ],
         "xaxis": "x",
         "y": [
          82052000,
          90124000,
          99028000,
          109343000,
          121282000,
          136725000,
          153343000,
          169276000,
          184816000,
          199278000,
          211060000,
          223547000
         ],
         "yaxis": "y"
        },
        {
         "hovertemplate": "country=Iran<br>year=%{x}<br>pop=%{y}<extra></extra>",
         "legendgroup": "Iran",
         "line": {
          "color": "#636efa",
          "dash": "solid"
         },
         "marker": {
          "symbol": "circle"
         },
         "mode": "lines",
         "name": "Iran",
         "showlegend": true,
         "type": "scattergl",
         "x": [
          1952,
          1957,
          1962,
          1967,
          1972,
          1977,
          1982,
          1987,
          1992,
          1997,
          2002,
          2007
         ],
         "xaxis": "x",
         "y": [
          17272000,
          19792000,
          22874000,
          26538000,
          30614000,
          35480679,
          43072751,
          51889696,
          60397973,
          63327987,
          66907826,
          69453570
         ],
         "yaxis": "y"
        },
        {
         "hovertemplate": "country=Iraq<br>year=%{x}<br>pop=%{y}<extra></extra>",
         "legendgroup": "Iraq",
         "line": {
          "color": "#EF553B",
          "dash": "solid"
         },
         "marker": {
          "symbol": "circle"
         },
         "mode": "lines",
         "name": "Iraq",
         "showlegend": true,
         "type": "scattergl",
         "x": [
          1952,
          1957,
          1962,
          1967,
          1972,
          1977,
          1982,
          1987,
          1992,
          1997,
          2002,
          2007
         ],
         "xaxis": "x",
         "y": [
          5441766,
          6248643,
          7240260,
          8519282,
          10061506,
          11882916,
          14173318,
          16543189,
          17861905,
          20775703,
          24001816,
          27499638
         ],
         "yaxis": "y"
        },
        {
         "hovertemplate": "country=Ireland<br>year=%{x}<br>pop=%{y}<extra></extra>",
         "legendgroup": "Ireland",
         "line": {
          "color": "#00cc96",
          "dash": "solid"
         },
         "marker": {
          "symbol": "circle"
         },
         "mode": "lines",
         "name": "Ireland",
         "showlegend": true,
         "type": "scattergl",
         "x": [
          1952,
          1957,
          1962,
          1967,
          1972,
          1977,
          1982,
          1987,
          1992,
          1997,
          2002,
          2007
         ],
         "xaxis": "x",
         "y": [
          2952156,
          2878220,
          2830000,
          2900100,
          3024400,
          3271900,
          3480000,
          3539900,
          3557761,
          3667233,
          3879155,
          4109086
         ],
         "yaxis": "y"
        },
        {
         "hovertemplate": "country=Israel<br>year=%{x}<br>pop=%{y}<extra></extra>",
         "legendgroup": "Israel",
         "line": {
          "color": "#ab63fa",
          "dash": "solid"
         },
         "marker": {
          "symbol": "circle"
         },
         "mode": "lines",
         "name": "Israel",
         "showlegend": true,
         "type": "scattergl",
         "x": [
          1952,
          1957,
          1962,
          1967,
          1972,
          1977,
          1982,
          1987,
          1992,
          1997,
          2002,
          2007
         ],
         "xaxis": "x",
         "y": [
          1620914,
          1944401,
          2310904,
          2693585,
          3095893,
          3495918,
          3858421,
          4203148,
          4936550,
          5531387,
          6029529,
          6426679
         ],
         "yaxis": "y"
        },
        {
         "hovertemplate": "country=Italy<br>year=%{x}<br>pop=%{y}<extra></extra>",
         "legendgroup": "Italy",
         "line": {
          "color": "#FFA15A",
          "dash": "solid"
         },
         "marker": {
          "symbol": "circle"
         },
         "mode": "lines",
         "name": "Italy",
         "showlegend": true,
         "type": "scattergl",
         "x": [
          1952,
          1957,
          1962,
          1967,
          1972,
          1977,
          1982,
          1987,
          1992,
          1997,
          2002,
          2007
         ],
         "xaxis": "x",
         "y": [
          47666000,
          49182000,
          50843200,
          52667100,
          54365564,
          56059245,
          56535636,
          56729703,
          56840847,
          57479469,
          57926999,
          58147733
         ],
         "yaxis": "y"
        },
        {
         "hovertemplate": "country=Jamaica<br>year=%{x}<br>pop=%{y}<extra></extra>",
         "legendgroup": "Jamaica",
         "line": {
          "color": "#19d3f3",
          "dash": "solid"
         },
         "marker": {
          "symbol": "circle"
         },
         "mode": "lines",
         "name": "Jamaica",
         "showlegend": true,
         "type": "scattergl",
         "x": [
          1952,
          1957,
          1962,
          1967,
          1972,
          1977,
          1982,
          1987,
          1992,
          1997,
          2002,
          2007
         ],
         "xaxis": "x",
         "y": [
          1426095,
          1535090,
          1665128,
          1861096,
          1997616,
          2156814,
          2298309,
          2326606,
          2378618,
          2531311,
          2664659,
          2780132
         ],
         "yaxis": "y"
        },
        {
         "hovertemplate": "country=Japan<br>year=%{x}<br>pop=%{y}<extra></extra>",
         "legendgroup": "Japan",
         "line": {
          "color": "#FF6692",
          "dash": "solid"
         },
         "marker": {
          "symbol": "circle"
         },
         "mode": "lines",
         "name": "Japan",
         "showlegend": true,
         "type": "scattergl",
         "x": [
          1952,
          1957,
          1962,
          1967,
          1972,
          1977,
          1982,
          1987,
          1992,
          1997,
          2002,
          2007
         ],
         "xaxis": "x",
         "y": [
          86459025,
          91563009,
          95831757,
          100825279,
          107188273,
          113872473,
          118454974,
          122091325,
          124329269,
          125956499,
          127065841,
          127467972
         ],
         "yaxis": "y"
        },
        {
         "hovertemplate": "country=Jordan<br>year=%{x}<br>pop=%{y}<extra></extra>",
         "legendgroup": "Jordan",
         "line": {
          "color": "#B6E880",
          "dash": "solid"
         },
         "marker": {
          "symbol": "circle"
         },
         "mode": "lines",
         "name": "Jordan",
         "showlegend": true,
         "type": "scattergl",
         "x": [
          1952,
          1957,
          1962,
          1967,
          1972,
          1977,
          1982,
          1987,
          1992,
          1997,
          2002,
          2007
         ],
         "xaxis": "x",
         "y": [
          607914,
          746559,
          933559,
          1255058,
          1613551,
          1937652,
          2347031,
          2820042,
          3867409,
          4526235,
          5307470,
          6053193
         ],
         "yaxis": "y"
        },
        {
         "hovertemplate": "country=Kenya<br>year=%{x}<br>pop=%{y}<extra></extra>",
         "legendgroup": "Kenya",
         "line": {
          "color": "#FF97FF",
          "dash": "solid"
         },
         "marker": {
          "symbol": "circle"
         },
         "mode": "lines",
         "name": "Kenya",
         "showlegend": true,
         "type": "scattergl",
         "x": [
          1952,
          1957,
          1962,
          1967,
          1972,
          1977,
          1982,
          1987,
          1992,
          1997,
          2002,
          2007
         ],
         "xaxis": "x",
         "y": [
          6464046,
          7454779,
          8678557,
          10191512,
          12044785,
          14500404,
          17661452,
          21198082,
          25020539,
          28263827,
          31386842,
          35610177
         ],
         "yaxis": "y"
        },
        {
         "hovertemplate": "country=Korea, Dem. Rep.<br>year=%{x}<br>pop=%{y}<extra></extra>",
         "legendgroup": "Korea, Dem. Rep.",
         "line": {
          "color": "#FECB52",
          "dash": "solid"
         },
         "marker": {
          "symbol": "circle"
         },
         "mode": "lines",
         "name": "Korea, Dem. Rep.",
         "showlegend": true,
         "type": "scattergl",
         "x": [
          1952,
          1957,
          1962,
          1967,
          1972,
          1977,
          1982,
          1987,
          1992,
          1997,
          2002,
          2007
         ],
         "xaxis": "x",
         "y": [
          8865488,
          9411381,
          10917494,
          12617009,
          14781241,
          16325320,
          17647518,
          19067554,
          20711375,
          21585105,
          22215365,
          23301725
         ],
         "yaxis": "y"
        },
        {
         "hovertemplate": "country=Korea, Rep.<br>year=%{x}<br>pop=%{y}<extra></extra>",
         "legendgroup": "Korea, Rep.",
         "line": {
          "color": "#636efa",
          "dash": "solid"
         },
         "marker": {
          "symbol": "circle"
         },
         "mode": "lines",
         "name": "Korea, Rep.",
         "showlegend": true,
         "type": "scattergl",
         "x": [
          1952,
          1957,
          1962,
          1967,
          1972,
          1977,
          1982,
          1987,
          1992,
          1997,
          2002,
          2007
         ],
         "xaxis": "x",
         "y": [
          20947571,
          22611552,
          26420307,
          30131000,
          33505000,
          36436000,
          39326000,
          41622000,
          43805450,
          46173816,
          47969150,
          49044790
         ],
         "yaxis": "y"
        },
        {
         "hovertemplate": "country=Kuwait<br>year=%{x}<br>pop=%{y}<extra></extra>",
         "legendgroup": "Kuwait",
         "line": {
          "color": "#EF553B",
          "dash": "solid"
         },
         "marker": {
          "symbol": "circle"
         },
         "mode": "lines",
         "name": "Kuwait",
         "showlegend": true,
         "type": "scattergl",
         "x": [
          1952,
          1957,
          1962,
          1967,
          1972,
          1977,
          1982,
          1987,
          1992,
          1997,
          2002,
          2007
         ],
         "xaxis": "x",
         "y": [
          160000,
          212846,
          358266,
          575003,
          841934,
          1140357,
          1497494,
          1891487,
          1418095,
          1765345,
          2111561,
          2505559
         ],
         "yaxis": "y"
        },
        {
         "hovertemplate": "country=Lebanon<br>year=%{x}<br>pop=%{y}<extra></extra>",
         "legendgroup": "Lebanon",
         "line": {
          "color": "#00cc96",
          "dash": "solid"
         },
         "marker": {
          "symbol": "circle"
         },
         "mode": "lines",
         "name": "Lebanon",
         "showlegend": true,
         "type": "scattergl",
         "x": [
          1952,
          1957,
          1962,
          1967,
          1972,
          1977,
          1982,
          1987,
          1992,
          1997,
          2002,
          2007
         ],
         "xaxis": "x",
         "y": [
          1439529,
          1647412,
          1886848,
          2186894,
          2680018,
          3115787,
          3086876,
          3089353,
          3219994,
          3430388,
          3677780,
          3921278
         ],
         "yaxis": "y"
        },
        {
         "hovertemplate": "country=Lesotho<br>year=%{x}<br>pop=%{y}<extra></extra>",
         "legendgroup": "Lesotho",
         "line": {
          "color": "#ab63fa",
          "dash": "solid"
         },
         "marker": {
          "symbol": "circle"
         },
         "mode": "lines",
         "name": "Lesotho",
         "showlegend": true,
         "type": "scattergl",
         "x": [
          1952,
          1957,
          1962,
          1967,
          1972,
          1977,
          1982,
          1987,
          1992,
          1997,
          2002,
          2007
         ],
         "xaxis": "x",
         "y": [
          748747,
          813338,
          893143,
          996380,
          1116779,
          1251524,
          1411807,
          1599200,
          1803195,
          1982823,
          2046772,
          2012649
         ],
         "yaxis": "y"
        },
        {
         "hovertemplate": "country=Liberia<br>year=%{x}<br>pop=%{y}<extra></extra>",
         "legendgroup": "Liberia",
         "line": {
          "color": "#FFA15A",
          "dash": "solid"
         },
         "marker": {
          "symbol": "circle"
         },
         "mode": "lines",
         "name": "Liberia",
         "showlegend": true,
         "type": "scattergl",
         "x": [
          1952,
          1957,
          1962,
          1967,
          1972,
          1977,
          1982,
          1987,
          1992,
          1997,
          2002,
          2007
         ],
         "xaxis": "x",
         "y": [
          863308,
          975950,
          1112796,
          1279406,
          1482628,
          1703617,
          1956875,
          2269414,
          1912974,
          2200725,
          2814651,
          3193942
         ],
         "yaxis": "y"
        },
        {
         "hovertemplate": "country=Libya<br>year=%{x}<br>pop=%{y}<extra></extra>",
         "legendgroup": "Libya",
         "line": {
          "color": "#19d3f3",
          "dash": "solid"
         },
         "marker": {
          "symbol": "circle"
         },
         "mode": "lines",
         "name": "Libya",
         "showlegend": true,
         "type": "scattergl",
         "x": [
          1952,
          1957,
          1962,
          1967,
          1972,
          1977,
          1982,
          1987,
          1992,
          1997,
          2002,
          2007
         ],
         "xaxis": "x",
         "y": [
          1019729,
          1201578,
          1441863,
          1759224,
          2183877,
          2721783,
          3344074,
          3799845,
          4364501,
          4759670,
          5368585,
          6036914
         ],
         "yaxis": "y"
        },
        {
         "hovertemplate": "country=Madagascar<br>year=%{x}<br>pop=%{y}<extra></extra>",
         "legendgroup": "Madagascar",
         "line": {
          "color": "#FF6692",
          "dash": "solid"
         },
         "marker": {
          "symbol": "circle"
         },
         "mode": "lines",
         "name": "Madagascar",
         "showlegend": true,
         "type": "scattergl",
         "x": [
          1952,
          1957,
          1962,
          1967,
          1972,
          1977,
          1982,
          1987,
          1992,
          1997,
          2002,
          2007
         ],
         "xaxis": "x",
         "y": [
          4762912,
          5181679,
          5703324,
          6334556,
          7082430,
          8007166,
          9171477,
          10568642,
          12210395,
          14165114,
          16473477,
          19167654
         ],
         "yaxis": "y"
        },
        {
         "hovertemplate": "country=Malawi<br>year=%{x}<br>pop=%{y}<extra></extra>",
         "legendgroup": "Malawi",
         "line": {
          "color": "#B6E880",
          "dash": "solid"
         },
         "marker": {
          "symbol": "circle"
         },
         "mode": "lines",
         "name": "Malawi",
         "showlegend": true,
         "type": "scattergl",
         "x": [
          1952,
          1957,
          1962,
          1967,
          1972,
          1977,
          1982,
          1987,
          1992,
          1997,
          2002,
          2007
         ],
         "xaxis": "x",
         "y": [
          2917802,
          3221238,
          3628608,
          4147252,
          4730997,
          5637246,
          6502825,
          7824747,
          10014249,
          10419991,
          11824495,
          13327079
         ],
         "yaxis": "y"
        },
        {
         "hovertemplate": "country=Malaysia<br>year=%{x}<br>pop=%{y}<extra></extra>",
         "legendgroup": "Malaysia",
         "line": {
          "color": "#FF97FF",
          "dash": "solid"
         },
         "marker": {
          "symbol": "circle"
         },
         "mode": "lines",
         "name": "Malaysia",
         "showlegend": true,
         "type": "scattergl",
         "x": [
          1952,
          1957,
          1962,
          1967,
          1972,
          1977,
          1982,
          1987,
          1992,
          1997,
          2002,
          2007
         ],
         "xaxis": "x",
         "y": [
          6748378,
          7739235,
          8906385,
          10154878,
          11441462,
          12845381,
          14441916,
          16331785,
          18319502,
          20476091,
          22662365,
          24821286
         ],
         "yaxis": "y"
        },
        {
         "hovertemplate": "country=Mali<br>year=%{x}<br>pop=%{y}<extra></extra>",
         "legendgroup": "Mali",
         "line": {
          "color": "#FECB52",
          "dash": "solid"
         },
         "marker": {
          "symbol": "circle"
         },
         "mode": "lines",
         "name": "Mali",
         "showlegend": true,
         "type": "scattergl",
         "x": [
          1952,
          1957,
          1962,
          1967,
          1972,
          1977,
          1982,
          1987,
          1992,
          1997,
          2002,
          2007
         ],
         "xaxis": "x",
         "y": [
          3838168,
          4241884,
          4690372,
          5212416,
          5828158,
          6491649,
          6998256,
          7634008,
          8416215,
          9384984,
          10580176,
          12031795
         ],
         "yaxis": "y"
        },
        {
         "hovertemplate": "country=Mauritania<br>year=%{x}<br>pop=%{y}<extra></extra>",
         "legendgroup": "Mauritania",
         "line": {
          "color": "#636efa",
          "dash": "solid"
         },
         "marker": {
          "symbol": "circle"
         },
         "mode": "lines",
         "name": "Mauritania",
         "showlegend": true,
         "type": "scattergl",
         "x": [
          1952,
          1957,
          1962,
          1967,
          1972,
          1977,
          1982,
          1987,
          1992,
          1997,
          2002,
          2007
         ],
         "xaxis": "x",
         "y": [
          1022556,
          1076852,
          1146757,
          1230542,
          1332786,
          1456688,
          1622136,
          1841240,
          2119465,
          2444741,
          2828858,
          3270065
         ],
         "yaxis": "y"
        },
        {
         "hovertemplate": "country=Mauritius<br>year=%{x}<br>pop=%{y}<extra></extra>",
         "legendgroup": "Mauritius",
         "line": {
          "color": "#EF553B",
          "dash": "solid"
         },
         "marker": {
          "symbol": "circle"
         },
         "mode": "lines",
         "name": "Mauritius",
         "showlegend": true,
         "type": "scattergl",
         "x": [
          1952,
          1957,
          1962,
          1967,
          1972,
          1977,
          1982,
          1987,
          1992,
          1997,
          2002,
          2007
         ],
         "xaxis": "x",
         "y": [
          516556,
          609816,
          701016,
          789309,
          851334,
          913025,
          992040,
          1042663,
          1096202,
          1149818,
          1200206,
          1250882
         ],
         "yaxis": "y"
        },
        {
         "hovertemplate": "country=Mexico<br>year=%{x}<br>pop=%{y}<extra></extra>",
         "legendgroup": "Mexico",
         "line": {
          "color": "#00cc96",
          "dash": "solid"
         },
         "marker": {
          "symbol": "circle"
         },
         "mode": "lines",
         "name": "Mexico",
         "showlegend": true,
         "type": "scattergl",
         "x": [
          1952,
          1957,
          1962,
          1967,
          1972,
          1977,
          1982,
          1987,
          1992,
          1997,
          2002,
          2007
         ],
         "xaxis": "x",
         "y": [
          30144317,
          35015548,
          41121485,
          47995559,
          55984294,
          63759976,
          71640904,
          80122492,
          88111030,
          95895146,
          102479927,
          108700891
         ],
         "yaxis": "y"
        },
        {
         "hovertemplate": "country=Mongolia<br>year=%{x}<br>pop=%{y}<extra></extra>",
         "legendgroup": "Mongolia",
         "line": {
          "color": "#ab63fa",
          "dash": "solid"
         },
         "marker": {
          "symbol": "circle"
         },
         "mode": "lines",
         "name": "Mongolia",
         "showlegend": true,
         "type": "scattergl",
         "x": [
          1952,
          1957,
          1962,
          1967,
          1972,
          1977,
          1982,
          1987,
          1992,
          1997,
          2002,
          2007
         ],
         "xaxis": "x",
         "y": [
          800663,
          882134,
          1010280,
          1149500,
          1320500,
          1528000,
          1756032,
          2015133,
          2312802,
          2494803,
          2674234,
          2874127
         ],
         "yaxis": "y"
        },
        {
         "hovertemplate": "country=Montenegro<br>year=%{x}<br>pop=%{y}<extra></extra>",
         "legendgroup": "Montenegro",
         "line": {
          "color": "#FFA15A",
          "dash": "solid"
         },
         "marker": {
          "symbol": "circle"
         },
         "mode": "lines",
         "name": "Montenegro",
         "showlegend": true,
         "type": "scattergl",
         "x": [
          1952,
          1957,
          1962,
          1967,
          1972,
          1977,
          1982,
          1987,
          1992,
          1997,
          2002,
          2007
         ],
         "xaxis": "x",
         "y": [
          413834,
          442829,
          474528,
          501035,
          527678,
          560073,
          562548,
          569473,
          621621,
          692651,
          720230,
          684736
         ],
         "yaxis": "y"
        },
        {
         "hovertemplate": "country=Morocco<br>year=%{x}<br>pop=%{y}<extra></extra>",
         "legendgroup": "Morocco",
         "line": {
          "color": "#19d3f3",
          "dash": "solid"
         },
         "marker": {
          "symbol": "circle"
         },
         "mode": "lines",
         "name": "Morocco",
         "showlegend": true,
         "type": "scattergl",
         "x": [
          1952,
          1957,
          1962,
          1967,
          1972,
          1977,
          1982,
          1987,
          1992,
          1997,
          2002,
          2007
         ],
         "xaxis": "x",
         "y": [
          9939217,
          11406350,
          13056604,
          14770296,
          16660670,
          18396941,
          20198730,
          22987397,
          25798239,
          28529501,
          31167783,
          33757175
         ],
         "yaxis": "y"
        },
        {
         "hovertemplate": "country=Mozambique<br>year=%{x}<br>pop=%{y}<extra></extra>",
         "legendgroup": "Mozambique",
         "line": {
          "color": "#FF6692",
          "dash": "solid"
         },
         "marker": {
          "symbol": "circle"
         },
         "mode": "lines",
         "name": "Mozambique",
         "showlegend": true,
         "type": "scattergl",
         "x": [
          1952,
          1957,
          1962,
          1967,
          1972,
          1977,
          1982,
          1987,
          1992,
          1997,
          2002,
          2007
         ],
         "xaxis": "x",
         "y": [
          6446316,
          7038035,
          7788944,
          8680909,
          9809596,
          11127868,
          12587223,
          12891952,
          13160731,
          16603334,
          18473780,
          19951656
         ],
         "yaxis": "y"
        },
        {
         "hovertemplate": "country=Myanmar<br>year=%{x}<br>pop=%{y}<extra></extra>",
         "legendgroup": "Myanmar",
         "line": {
          "color": "#B6E880",
          "dash": "solid"
         },
         "marker": {
          "symbol": "circle"
         },
         "mode": "lines",
         "name": "Myanmar",
         "showlegend": true,
         "type": "scattergl",
         "x": [
          1952,
          1957,
          1962,
          1967,
          1972,
          1977,
          1982,
          1987,
          1992,
          1997,
          2002,
          2007
         ],
         "xaxis": "x",
         "y": [
          20092996,
          21731844,
          23634436,
          25870271,
          28466390,
          31528087,
          34680442,
          38028578,
          40546538,
          43247867,
          45598081,
          47761980
         ],
         "yaxis": "y"
        },
        {
         "hovertemplate": "country=Namibia<br>year=%{x}<br>pop=%{y}<extra></extra>",
         "legendgroup": "Namibia",
         "line": {
          "color": "#FF97FF",
          "dash": "solid"
         },
         "marker": {
          "symbol": "circle"
         },
         "mode": "lines",
         "name": "Namibia",
         "showlegend": true,
         "type": "scattergl",
         "x": [
          1952,
          1957,
          1962,
          1967,
          1972,
          1977,
          1982,
          1987,
          1992,
          1997,
          2002,
          2007
         ],
         "xaxis": "x",
         "y": [
          485831,
          548080,
          621392,
          706640,
          821782,
          977026,
          1099010,
          1278184,
          1554253,
          1774766,
          1972153,
          2055080
         ],
         "yaxis": "y"
        },
        {
         "hovertemplate": "country=Nepal<br>year=%{x}<br>pop=%{y}<extra></extra>",
         "legendgroup": "Nepal",
         "line": {
          "color": "#FECB52",
          "dash": "solid"
         },
         "marker": {
          "symbol": "circle"
         },
         "mode": "lines",
         "name": "Nepal",
         "showlegend": true,
         "type": "scattergl",
         "x": [
          1952,
          1957,
          1962,
          1967,
          1972,
          1977,
          1982,
          1987,
          1992,
          1997,
          2002,
          2007
         ],
         "xaxis": "x",
         "y": [
          9182536,
          9682338,
          10332057,
          11261690,
          12412593,
          13933198,
          15796314,
          17917180,
          20326209,
          23001113,
          25873917,
          28901790
         ],
         "yaxis": "y"
        },
        {
         "hovertemplate": "country=Netherlands<br>year=%{x}<br>pop=%{y}<extra></extra>",
         "legendgroup": "Netherlands",
         "line": {
          "color": "#636efa",
          "dash": "solid"
         },
         "marker": {
          "symbol": "circle"
         },
         "mode": "lines",
         "name": "Netherlands",
         "showlegend": true,
         "type": "scattergl",
         "x": [
          1952,
          1957,
          1962,
          1967,
          1972,
          1977,
          1982,
          1987,
          1992,
          1997,
          2002,
          2007
         ],
         "xaxis": "x",
         "y": [
          10381988,
          11026383,
          11805689,
          12596822,
          13329874,
          13852989,
          14310401,
          14665278,
          15174244,
          15604464,
          16122830,
          16570613
         ],
         "yaxis": "y"
        },
        {
         "hovertemplate": "country=New Zealand<br>year=%{x}<br>pop=%{y}<extra></extra>",
         "legendgroup": "New Zealand",
         "line": {
          "color": "#EF553B",
          "dash": "solid"
         },
         "marker": {
          "symbol": "circle"
         },
         "mode": "lines",
         "name": "New Zealand",
         "showlegend": true,
         "type": "scattergl",
         "x": [
          1952,
          1957,
          1962,
          1967,
          1972,
          1977,
          1982,
          1987,
          1992,
          1997,
          2002,
          2007
         ],
         "xaxis": "x",
         "y": [
          1994794,
          2229407,
          2488550,
          2728150,
          2929100,
          3164900,
          3210650,
          3317166,
          3437674,
          3676187,
          3908037,
          4115771
         ],
         "yaxis": "y"
        },
        {
         "hovertemplate": "country=Nicaragua<br>year=%{x}<br>pop=%{y}<extra></extra>",
         "legendgroup": "Nicaragua",
         "line": {
          "color": "#00cc96",
          "dash": "solid"
         },
         "marker": {
          "symbol": "circle"
         },
         "mode": "lines",
         "name": "Nicaragua",
         "showlegend": true,
         "type": "scattergl",
         "x": [
          1952,
          1957,
          1962,
          1967,
          1972,
          1977,
          1982,
          1987,
          1992,
          1997,
          2002,
          2007
         ],
         "xaxis": "x",
         "y": [
          1165790,
          1358828,
          1590597,
          1865490,
          2182908,
          2554598,
          2979423,
          3344353,
          4017939,
          4609572,
          5146848,
          5675356
         ],
         "yaxis": "y"
        },
        {
         "hovertemplate": "country=Niger<br>year=%{x}<br>pop=%{y}<extra></extra>",
         "legendgroup": "Niger",
         "line": {
          "color": "#ab63fa",
          "dash": "solid"
         },
         "marker": {
          "symbol": "circle"
         },
         "mode": "lines",
         "name": "Niger",
         "showlegend": true,
         "type": "scattergl",
         "x": [
          1952,
          1957,
          1962,
          1967,
          1972,
          1977,
          1982,
          1987,
          1992,
          1997,
          2002,
          2007
         ],
         "xaxis": "x",
         "y": [
          3379468,
          3692184,
          4076008,
          4534062,
          5060262,
          5682086,
          6437188,
          7332638,
          8392818,
          9666252,
          11140655,
          12894865
         ],
         "yaxis": "y"
        },
        {
         "hovertemplate": "country=Nigeria<br>year=%{x}<br>pop=%{y}<extra></extra>",
         "legendgroup": "Nigeria",
         "line": {
          "color": "#FFA15A",
          "dash": "solid"
         },
         "marker": {
          "symbol": "circle"
         },
         "mode": "lines",
         "name": "Nigeria",
         "showlegend": true,
         "type": "scattergl",
         "x": [
          1952,
          1957,
          1962,
          1967,
          1972,
          1977,
          1982,
          1987,
          1992,
          1997,
          2002,
          2007
         ],
         "xaxis": "x",
         "y": [
          33119096,
          37173340,
          41871351,
          47287752,
          53740085,
          62209173,
          73039376,
          81551520,
          93364244,
          106207839,
          119901274,
          135031164
         ],
         "yaxis": "y"
        },
        {
         "hovertemplate": "country=Norway<br>year=%{x}<br>pop=%{y}<extra></extra>",
         "legendgroup": "Norway",
         "line": {
          "color": "#19d3f3",
          "dash": "solid"
         },
         "marker": {
          "symbol": "circle"
         },
         "mode": "lines",
         "name": "Norway",
         "showlegend": true,
         "type": "scattergl",
         "x": [
          1952,
          1957,
          1962,
          1967,
          1972,
          1977,
          1982,
          1987,
          1992,
          1997,
          2002,
          2007
         ],
         "xaxis": "x",
         "y": [
          3327728,
          3491938,
          3638919,
          3786019,
          3933004,
          4043205,
          4114787,
          4186147,
          4286357,
          4405672,
          4535591,
          4627926
         ],
         "yaxis": "y"
        },
        {
         "hovertemplate": "country=Oman<br>year=%{x}<br>pop=%{y}<extra></extra>",
         "legendgroup": "Oman",
         "line": {
          "color": "#FF6692",
          "dash": "solid"
         },
         "marker": {
          "symbol": "circle"
         },
         "mode": "lines",
         "name": "Oman",
         "showlegend": true,
         "type": "scattergl",
         "x": [
          1952,
          1957,
          1962,
          1967,
          1972,
          1977,
          1982,
          1987,
          1992,
          1997,
          2002,
          2007
         ],
         "xaxis": "x",
         "y": [
          507833,
          561977,
          628164,
          714775,
          829050,
          1004533,
          1301048,
          1593882,
          1915208,
          2283635,
          2713462,
          3204897
         ],
         "yaxis": "y"
        },
        {
         "hovertemplate": "country=Pakistan<br>year=%{x}<br>pop=%{y}<extra></extra>",
         "legendgroup": "Pakistan",
         "line": {
          "color": "#B6E880",
          "dash": "solid"
         },
         "marker": {
          "symbol": "circle"
         },
         "mode": "lines",
         "name": "Pakistan",
         "showlegend": true,
         "type": "scattergl",
         "x": [
          1952,
          1957,
          1962,
          1967,
          1972,
          1977,
          1982,
          1987,
          1992,
          1997,
          2002,
          2007
         ],
         "xaxis": "x",
         "y": [
          41346560,
          46679944,
          53100671,
          60641899,
          69325921,
          78152686,
          91462088,
          105186881,
          120065004,
          135564834,
          153403524,
          169270617
         ],
         "yaxis": "y"
        },
        {
         "hovertemplate": "country=Panama<br>year=%{x}<br>pop=%{y}<extra></extra>",
         "legendgroup": "Panama",
         "line": {
          "color": "#FF97FF",
          "dash": "solid"
         },
         "marker": {
          "symbol": "circle"
         },
         "mode": "lines",
         "name": "Panama",
         "showlegend": true,
         "type": "scattergl",
         "x": [
          1952,
          1957,
          1962,
          1967,
          1972,
          1977,
          1982,
          1987,
          1992,
          1997,
          2002,
          2007
         ],
         "xaxis": "x",
         "y": [
          940080,
          1063506,
          1215725,
          1405486,
          1616384,
          1839782,
          2036305,
          2253639,
          2484997,
          2734531,
          2990875,
          3242173
         ],
         "yaxis": "y"
        },
        {
         "hovertemplate": "country=Paraguay<br>year=%{x}<br>pop=%{y}<extra></extra>",
         "legendgroup": "Paraguay",
         "line": {
          "color": "#FECB52",
          "dash": "solid"
         },
         "marker": {
          "symbol": "circle"
         },
         "mode": "lines",
         "name": "Paraguay",
         "showlegend": true,
         "type": "scattergl",
         "x": [
          1952,
          1957,
          1962,
          1967,
          1972,
          1977,
          1982,
          1987,
          1992,
          1997,
          2002,
          2007
         ],
         "xaxis": "x",
         "y": [
          1555876,
          1770902,
          2009813,
          2287985,
          2614104,
          2984494,
          3366439,
          3886512,
          4483945,
          5154123,
          5884491,
          6667147
         ],
         "yaxis": "y"
        },
        {
         "hovertemplate": "country=Peru<br>year=%{x}<br>pop=%{y}<extra></extra>",
         "legendgroup": "Peru",
         "line": {
          "color": "#636efa",
          "dash": "solid"
         },
         "marker": {
          "symbol": "circle"
         },
         "mode": "lines",
         "name": "Peru",
         "showlegend": true,
         "type": "scattergl",
         "x": [
          1952,
          1957,
          1962,
          1967,
          1972,
          1977,
          1982,
          1987,
          1992,
          1997,
          2002,
          2007
         ],
         "xaxis": "x",
         "y": [
          8025700,
          9146100,
          10516500,
          12132200,
          13954700,
          15990099,
          18125129,
          20195924,
          22430449,
          24748122,
          26769436,
          28674757
         ],
         "yaxis": "y"
        },
        {
         "hovertemplate": "country=Philippines<br>year=%{x}<br>pop=%{y}<extra></extra>",
         "legendgroup": "Philippines",
         "line": {
          "color": "#EF553B",
          "dash": "solid"
         },
         "marker": {
          "symbol": "circle"
         },
         "mode": "lines",
         "name": "Philippines",
         "showlegend": true,
         "type": "scattergl",
         "x": [
          1952,
          1957,
          1962,
          1967,
          1972,
          1977,
          1982,
          1987,
          1992,
          1997,
          2002,
          2007
         ],
         "xaxis": "x",
         "y": [
          22438691,
          26072194,
          30325264,
          35356600,
          40850141,
          46850962,
          53456774,
          60017788,
          67185766,
          75012988,
          82995088,
          91077287
         ],
         "yaxis": "y"
        },
        {
         "hovertemplate": "country=Poland<br>year=%{x}<br>pop=%{y}<extra></extra>",
         "legendgroup": "Poland",
         "line": {
          "color": "#00cc96",
          "dash": "solid"
         },
         "marker": {
          "symbol": "circle"
         },
         "mode": "lines",
         "name": "Poland",
         "showlegend": true,
         "type": "scattergl",
         "x": [
          1952,
          1957,
          1962,
          1967,
          1972,
          1977,
          1982,
          1987,
          1992,
          1997,
          2002,
          2007
         ],
         "xaxis": "x",
         "y": [
          25730551,
          28235346,
          30329617,
          31785378,
          33039545,
          34621254,
          36227381,
          37740710,
          38370697,
          38654957,
          38625976,
          38518241
         ],
         "yaxis": "y"
        },
        {
         "hovertemplate": "country=Portugal<br>year=%{x}<br>pop=%{y}<extra></extra>",
         "legendgroup": "Portugal",
         "line": {
          "color": "#ab63fa",
          "dash": "solid"
         },
         "marker": {
          "symbol": "circle"
         },
         "mode": "lines",
         "name": "Portugal",
         "showlegend": true,
         "type": "scattergl",
         "x": [
          1952,
          1957,
          1962,
          1967,
          1972,
          1977,
          1982,
          1987,
          1992,
          1997,
          2002,
          2007
         ],
         "xaxis": "x",
         "y": [
          8526050,
          8817650,
          9019800,
          9103000,
          8970450,
          9662600,
          9859650,
          9915289,
          9927680,
          10156415,
          10433867,
          10642836
         ],
         "yaxis": "y"
        },
        {
         "hovertemplate": "country=Puerto Rico<br>year=%{x}<br>pop=%{y}<extra></extra>",
         "legendgroup": "Puerto Rico",
         "line": {
          "color": "#FFA15A",
          "dash": "solid"
         },
         "marker": {
          "symbol": "circle"
         },
         "mode": "lines",
         "name": "Puerto Rico",
         "showlegend": true,
         "type": "scattergl",
         "x": [
          1952,
          1957,
          1962,
          1967,
          1972,
          1977,
          1982,
          1987,
          1992,
          1997,
          2002,
          2007
         ],
         "xaxis": "x",
         "y": [
          2227000,
          2260000,
          2448046,
          2648961,
          2847132,
          3080828,
          3279001,
          3444468,
          3585176,
          3759430,
          3859606,
          3942491
         ],
         "yaxis": "y"
        },
        {
         "hovertemplate": "country=Reunion<br>year=%{x}<br>pop=%{y}<extra></extra>",
         "legendgroup": "Reunion",
         "line": {
          "color": "#19d3f3",
          "dash": "solid"
         },
         "marker": {
          "symbol": "circle"
         },
         "mode": "lines",
         "name": "Reunion",
         "showlegend": true,
         "type": "scattergl",
         "x": [
          1952,
          1957,
          1962,
          1967,
          1972,
          1977,
          1982,
          1987,
          1992,
          1997,
          2002,
          2007
         ],
         "xaxis": "x",
         "y": [
          257700,
          308700,
          358900,
          414024,
          461633,
          492095,
          517810,
          562035,
          622191,
          684810,
          743981,
          798094
         ],
         "yaxis": "y"
        },
        {
         "hovertemplate": "country=Romania<br>year=%{x}<br>pop=%{y}<extra></extra>",
         "legendgroup": "Romania",
         "line": {
          "color": "#FF6692",
          "dash": "solid"
         },
         "marker": {
          "symbol": "circle"
         },
         "mode": "lines",
         "name": "Romania",
         "showlegend": true,
         "type": "scattergl",
         "x": [
          1952,
          1957,
          1962,
          1967,
          1972,
          1977,
          1982,
          1987,
          1992,
          1997,
          2002,
          2007
         ],
         "xaxis": "x",
         "y": [
          16630000,
          17829327,
          18680721,
          19284814,
          20662648,
          21658597,
          22356726,
          22686371,
          22797027,
          22562458,
          22404337,
          22276056
         ],
         "yaxis": "y"
        },
        {
         "hovertemplate": "country=Rwanda<br>year=%{x}<br>pop=%{y}<extra></extra>",
         "legendgroup": "Rwanda",
         "line": {
          "color": "#B6E880",
          "dash": "solid"
         },
         "marker": {
          "symbol": "circle"
         },
         "mode": "lines",
         "name": "Rwanda",
         "showlegend": true,
         "type": "scattergl",
         "x": [
          1952,
          1957,
          1962,
          1967,
          1972,
          1977,
          1982,
          1987,
          1992,
          1997,
          2002,
          2007
         ],
         "xaxis": "x",
         "y": [
          2534927,
          2822082,
          3051242,
          3451079,
          3992121,
          4657072,
          5507565,
          6349365,
          7290203,
          7212583,
          7852401,
          8860588
         ],
         "yaxis": "y"
        },
        {
         "hovertemplate": "country=Sao Tome and Principe<br>year=%{x}<br>pop=%{y}<extra></extra>",
         "legendgroup": "Sao Tome and Principe",
         "line": {
          "color": "#FF97FF",
          "dash": "solid"
         },
         "marker": {
          "symbol": "circle"
         },
         "mode": "lines",
         "name": "Sao Tome and Principe",
         "showlegend": true,
         "type": "scattergl",
         "x": [
          1952,
          1957,
          1962,
          1967,
          1972,
          1977,
          1982,
          1987,
          1992,
          1997,
          2002,
          2007
         ],
         "xaxis": "x",
         "y": [
          60011,
          61325,
          65345,
          70787,
          76595,
          86796,
          98593,
          110812,
          125911,
          145608,
          170372,
          199579
         ],
         "yaxis": "y"
        },
        {
         "hovertemplate": "country=Saudi Arabia<br>year=%{x}<br>pop=%{y}<extra></extra>",
         "legendgroup": "Saudi Arabia",
         "line": {
          "color": "#FECB52",
          "dash": "solid"
         },
         "marker": {
          "symbol": "circle"
         },
         "mode": "lines",
         "name": "Saudi Arabia",
         "showlegend": true,
         "type": "scattergl",
         "x": [
          1952,
          1957,
          1962,
          1967,
          1972,
          1977,
          1982,
          1987,
          1992,
          1997,
          2002,
          2007
         ],
         "xaxis": "x",
         "y": [
          4005677,
          4419650,
          4943029,
          5618198,
          6472756,
          8128505,
          11254672,
          14619745,
          16945857,
          21229759,
          24501530,
          27601038
         ],
         "yaxis": "y"
        },
        {
         "hovertemplate": "country=Senegal<br>year=%{x}<br>pop=%{y}<extra></extra>",
         "legendgroup": "Senegal",
         "line": {
          "color": "#636efa",
          "dash": "solid"
         },
         "marker": {
          "symbol": "circle"
         },
         "mode": "lines",
         "name": "Senegal",
         "showlegend": true,
         "type": "scattergl",
         "x": [
          1952,
          1957,
          1962,
          1967,
          1972,
          1977,
          1982,
          1987,
          1992,
          1997,
          2002,
          2007
         ],
         "xaxis": "x",
         "y": [
          2755589,
          3054547,
          3430243,
          3965841,
          4588696,
          5260855,
          6147783,
          7171347,
          8307920,
          9535314,
          10870037,
          12267493
         ],
         "yaxis": "y"
        },
        {
         "hovertemplate": "country=Serbia<br>year=%{x}<br>pop=%{y}<extra></extra>",
         "legendgroup": "Serbia",
         "line": {
          "color": "#EF553B",
          "dash": "solid"
         },
         "marker": {
          "symbol": "circle"
         },
         "mode": "lines",
         "name": "Serbia",
         "showlegend": true,
         "type": "scattergl",
         "x": [
          1952,
          1957,
          1962,
          1967,
          1972,
          1977,
          1982,
          1987,
          1992,
          1997,
          2002,
          2007
         ],
         "xaxis": "x",
         "y": [
          6860147,
          7271135,
          7616060,
          7971222,
          8313288,
          8686367,
          9032824,
          9230783,
          9826397,
          10336594,
          10111559,
          10150265
         ],
         "yaxis": "y"
        },
        {
         "hovertemplate": "country=Sierra Leone<br>year=%{x}<br>pop=%{y}<extra></extra>",
         "legendgroup": "Sierra Leone",
         "line": {
          "color": "#00cc96",
          "dash": "solid"
         },
         "marker": {
          "symbol": "circle"
         },
         "mode": "lines",
         "name": "Sierra Leone",
         "showlegend": true,
         "type": "scattergl",
         "x": [
          1952,
          1957,
          1962,
          1967,
          1972,
          1977,
          1982,
          1987,
          1992,
          1997,
          2002,
          2007
         ],
         "xaxis": "x",
         "y": [
          2143249,
          2295678,
          2467895,
          2662190,
          2879013,
          3140897,
          3464522,
          3868905,
          4260884,
          4578212,
          5359092,
          6144562
         ],
         "yaxis": "y"
        },
        {
         "hovertemplate": "country=Singapore<br>year=%{x}<br>pop=%{y}<extra></extra>",
         "legendgroup": "Singapore",
         "line": {
          "color": "#ab63fa",
          "dash": "solid"
         },
         "marker": {
          "symbol": "circle"
         },
         "mode": "lines",
         "name": "Singapore",
         "showlegend": true,
         "type": "scattergl",
         "x": [
          1952,
          1957,
          1962,
          1967,
          1972,
          1977,
          1982,
          1987,
          1992,
          1997,
          2002,
          2007
         ],
         "xaxis": "x",
         "y": [
          1127000,
          1445929,
          1750200,
          1977600,
          2152400,
          2325300,
          2651869,
          2794552,
          3235865,
          3802309,
          4197776,
          4553009
         ],
         "yaxis": "y"
        },
        {
         "hovertemplate": "country=Slovak Republic<br>year=%{x}<br>pop=%{y}<extra></extra>",
         "legendgroup": "Slovak Republic",
         "line": {
          "color": "#FFA15A",
          "dash": "solid"
         },
         "marker": {
          "symbol": "circle"
         },
         "mode": "lines",
         "name": "Slovak Republic",
         "showlegend": true,
         "type": "scattergl",
         "x": [
          1952,
          1957,
          1962,
          1967,
          1972,
          1977,
          1982,
          1987,
          1992,
          1997,
          2002,
          2007
         ],
         "xaxis": "x",
         "y": [
          3558137,
          3844277,
          4237384,
          4442238,
          4593433,
          4827803,
          5048043,
          5199318,
          5302888,
          5383010,
          5410052,
          5447502
         ],
         "yaxis": "y"
        },
        {
         "hovertemplate": "country=Slovenia<br>year=%{x}<br>pop=%{y}<extra></extra>",
         "legendgroup": "Slovenia",
         "line": {
          "color": "#19d3f3",
          "dash": "solid"
         },
         "marker": {
          "symbol": "circle"
         },
         "mode": "lines",
         "name": "Slovenia",
         "showlegend": true,
         "type": "scattergl",
         "x": [
          1952,
          1957,
          1962,
          1967,
          1972,
          1977,
          1982,
          1987,
          1992,
          1997,
          2002,
          2007
         ],
         "xaxis": "x",
         "y": [
          1489518,
          1533070,
          1582962,
          1646912,
          1694510,
          1746919,
          1861252,
          1945870,
          1999210,
          2011612,
          2011497,
          2009245
         ],
         "yaxis": "y"
        },
        {
         "hovertemplate": "country=Somalia<br>year=%{x}<br>pop=%{y}<extra></extra>",
         "legendgroup": "Somalia",
         "line": {
          "color": "#FF6692",
          "dash": "solid"
         },
         "marker": {
          "symbol": "circle"
         },
         "mode": "lines",
         "name": "Somalia",
         "showlegend": true,
         "type": "scattergl",
         "x": [
          1952,
          1957,
          1962,
          1967,
          1972,
          1977,
          1982,
          1987,
          1992,
          1997,
          2002,
          2007
         ],
         "xaxis": "x",
         "y": [
          2526994,
          2780415,
          3080153,
          3428839,
          3840161,
          4353666,
          5828892,
          6921858,
          6099799,
          6633514,
          7753310,
          9118773
         ],
         "yaxis": "y"
        },
        {
         "hovertemplate": "country=South Africa<br>year=%{x}<br>pop=%{y}<extra></extra>",
         "legendgroup": "South Africa",
         "line": {
          "color": "#B6E880",
          "dash": "solid"
         },
         "marker": {
          "symbol": "circle"
         },
         "mode": "lines",
         "name": "South Africa",
         "showlegend": true,
         "type": "scattergl",
         "x": [
          1952,
          1957,
          1962,
          1967,
          1972,
          1977,
          1982,
          1987,
          1992,
          1997,
          2002,
          2007
         ],
         "xaxis": "x",
         "y": [
          14264935,
          16151549,
          18356657,
          20997321,
          23935810,
          27129932,
          31140029,
          35933379,
          39964159,
          42835005,
          44433622,
          43997828
         ],
         "yaxis": "y"
        },
        {
         "hovertemplate": "country=Spain<br>year=%{x}<br>pop=%{y}<extra></extra>",
         "legendgroup": "Spain",
         "line": {
          "color": "#FF97FF",
          "dash": "solid"
         },
         "marker": {
          "symbol": "circle"
         },
         "mode": "lines",
         "name": "Spain",
         "showlegend": true,
         "type": "scattergl",
         "x": [
          1952,
          1957,
          1962,
          1967,
          1972,
          1977,
          1982,
          1987,
          1992,
          1997,
          2002,
          2007
         ],
         "xaxis": "x",
         "y": [
          28549870,
          29841614,
          31158061,
          32850275,
          34513161,
          36439000,
          37983310,
          38880702,
          39549438,
          39855442,
          40152517,
          40448191
         ],
         "yaxis": "y"
        },
        {
         "hovertemplate": "country=Sri Lanka<br>year=%{x}<br>pop=%{y}<extra></extra>",
         "legendgroup": "Sri Lanka",
         "line": {
          "color": "#FECB52",
          "dash": "solid"
         },
         "marker": {
          "symbol": "circle"
         },
         "mode": "lines",
         "name": "Sri Lanka",
         "showlegend": true,
         "type": "scattergl",
         "x": [
          1952,
          1957,
          1962,
          1967,
          1972,
          1977,
          1982,
          1987,
          1992,
          1997,
          2002,
          2007
         ],
         "xaxis": "x",
         "y": [
          7982342,
          9128546,
          10421936,
          11737396,
          13016733,
          14116836,
          15410151,
          16495304,
          17587060,
          18698655,
          19576783,
          20378239
         ],
         "yaxis": "y"
        },
        {
         "hovertemplate": "country=Sudan<br>year=%{x}<br>pop=%{y}<extra></extra>",
         "legendgroup": "Sudan",
         "line": {
          "color": "#636efa",
          "dash": "solid"
         },
         "marker": {
          "symbol": "circle"
         },
         "mode": "lines",
         "name": "Sudan",
         "showlegend": true,
         "type": "scattergl",
         "x": [
          1952,
          1957,
          1962,
          1967,
          1972,
          1977,
          1982,
          1987,
          1992,
          1997,
          2002,
          2007
         ],
         "xaxis": "x",
         "y": [
          8504667,
          9753392,
          11183227,
          12716129,
          14597019,
          17104986,
          20367053,
          24725960,
          28227588,
          32160729,
          37090298,
          42292929
         ],
         "yaxis": "y"
        },
        {
         "hovertemplate": "country=Swaziland<br>year=%{x}<br>pop=%{y}<extra></extra>",
         "legendgroup": "Swaziland",
         "line": {
          "color": "#EF553B",
          "dash": "solid"
         },
         "marker": {
          "symbol": "circle"
         },
         "mode": "lines",
         "name": "Swaziland",
         "showlegend": true,
         "type": "scattergl",
         "x": [
          1952,
          1957,
          1962,
          1967,
          1972,
          1977,
          1982,
          1987,
          1992,
          1997,
          2002,
          2007
         ],
         "xaxis": "x",
         "y": [
          290243,
          326741,
          370006,
          420690,
          480105,
          551425,
          649901,
          779348,
          962344,
          1054486,
          1130269,
          1133066
         ],
         "yaxis": "y"
        },
        {
         "hovertemplate": "country=Sweden<br>year=%{x}<br>pop=%{y}<extra></extra>",
         "legendgroup": "Sweden",
         "line": {
          "color": "#00cc96",
          "dash": "solid"
         },
         "marker": {
          "symbol": "circle"
         },
         "mode": "lines",
         "name": "Sweden",
         "showlegend": true,
         "type": "scattergl",
         "x": [
          1952,
          1957,
          1962,
          1967,
          1972,
          1977,
          1982,
          1987,
          1992,
          1997,
          2002,
          2007
         ],
         "xaxis": "x",
         "y": [
          7124673,
          7363802,
          7561588,
          7867931,
          8122293,
          8251648,
          8325260,
          8421403,
          8718867,
          8897619,
          8954175,
          9031088
         ],
         "yaxis": "y"
        },
        {
         "hovertemplate": "country=Switzerland<br>year=%{x}<br>pop=%{y}<extra></extra>",
         "legendgroup": "Switzerland",
         "line": {
          "color": "#ab63fa",
          "dash": "solid"
         },
         "marker": {
          "symbol": "circle"
         },
         "mode": "lines",
         "name": "Switzerland",
         "showlegend": true,
         "type": "scattergl",
         "x": [
          1952,
          1957,
          1962,
          1967,
          1972,
          1977,
          1982,
          1987,
          1992,
          1997,
          2002,
          2007
         ],
         "xaxis": "x",
         "y": [
          4815000,
          5126000,
          5666000,
          6063000,
          6401400,
          6316424,
          6468126,
          6649942,
          6995447,
          7193761,
          7361757,
          7554661
         ],
         "yaxis": "y"
        },
        {
         "hovertemplate": "country=Syria<br>year=%{x}<br>pop=%{y}<extra></extra>",
         "legendgroup": "Syria",
         "line": {
          "color": "#FFA15A",
          "dash": "solid"
         },
         "marker": {
          "symbol": "circle"
         },
         "mode": "lines",
         "name": "Syria",
         "showlegend": true,
         "type": "scattergl",
         "x": [
          1952,
          1957,
          1962,
          1967,
          1972,
          1977,
          1982,
          1987,
          1992,
          1997,
          2002,
          2007
         ],
         "xaxis": "x",
         "y": [
          3661549,
          4149908,
          4834621,
          5680812,
          6701172,
          7932503,
          9410494,
          11242847,
          13219062,
          15081016,
          17155814,
          19314747
         ],
         "yaxis": "y"
        },
        {
         "hovertemplate": "country=Taiwan<br>year=%{x}<br>pop=%{y}<extra></extra>",
         "legendgroup": "Taiwan",
         "line": {
          "color": "#19d3f3",
          "dash": "solid"
         },
         "marker": {
          "symbol": "circle"
         },
         "mode": "lines",
         "name": "Taiwan",
         "showlegend": true,
         "type": "scattergl",
         "x": [
          1952,
          1957,
          1962,
          1967,
          1972,
          1977,
          1982,
          1987,
          1992,
          1997,
          2002,
          2007
         ],
         "xaxis": "x",
         "y": [
          8550362,
          10164215,
          11918938,
          13648692,
          15226039,
          16785196,
          18501390,
          19757799,
          20686918,
          21628605,
          22454239,
          23174294
         ],
         "yaxis": "y"
        },
        {
         "hovertemplate": "country=Tanzania<br>year=%{x}<br>pop=%{y}<extra></extra>",
         "legendgroup": "Tanzania",
         "line": {
          "color": "#FF6692",
          "dash": "solid"
         },
         "marker": {
          "symbol": "circle"
         },
         "mode": "lines",
         "name": "Tanzania",
         "showlegend": true,
         "type": "scattergl",
         "x": [
          1952,
          1957,
          1962,
          1967,
          1972,
          1977,
          1982,
          1987,
          1992,
          1997,
          2002,
          2007
         ],
         "xaxis": "x",
         "y": [
          8322925,
          9452826,
          10863958,
          12607312,
          14706593,
          17129565,
          19844382,
          23040630,
          26605473,
          30686889,
          34593779,
          38139640
         ],
         "yaxis": "y"
        },
        {
         "hovertemplate": "country=Thailand<br>year=%{x}<br>pop=%{y}<extra></extra>",
         "legendgroup": "Thailand",
         "line": {
          "color": "#B6E880",
          "dash": "solid"
         },
         "marker": {
          "symbol": "circle"
         },
         "mode": "lines",
         "name": "Thailand",
         "showlegend": true,
         "type": "scattergl",
         "x": [
          1952,
          1957,
          1962,
          1967,
          1972,
          1977,
          1982,
          1987,
          1992,
          1997,
          2002,
          2007
         ],
         "xaxis": "x",
         "y": [
          21289402,
          25041917,
          29263397,
          34024249,
          39276153,
          44148285,
          48827160,
          52910342,
          56667095,
          60216677,
          62806748,
          65068149
         ],
         "yaxis": "y"
        },
        {
         "hovertemplate": "country=Togo<br>year=%{x}<br>pop=%{y}<extra></extra>",
         "legendgroup": "Togo",
         "line": {
          "color": "#FF97FF",
          "dash": "solid"
         },
         "marker": {
          "symbol": "circle"
         },
         "mode": "lines",
         "name": "Togo",
         "showlegend": true,
         "type": "scattergl",
         "x": [
          1952,
          1957,
          1962,
          1967,
          1972,
          1977,
          1982,
          1987,
          1992,
          1997,
          2002,
          2007
         ],
         "xaxis": "x",
         "y": [
          1219113,
          1357445,
          1528098,
          1735550,
          2056351,
          2308582,
          2644765,
          3154264,
          3747553,
          4320890,
          4977378,
          5701579
         ],
         "yaxis": "y"
        },
        {
         "hovertemplate": "country=Trinidad and Tobago<br>year=%{x}<br>pop=%{y}<extra></extra>",
         "legendgroup": "Trinidad and Tobago",
         "line": {
          "color": "#FECB52",
          "dash": "solid"
         },
         "marker": {
          "symbol": "circle"
         },
         "mode": "lines",
         "name": "Trinidad and Tobago",
         "showlegend": true,
         "type": "scattergl",
         "x": [
          1952,
          1957,
          1962,
          1967,
          1972,
          1977,
          1982,
          1987,
          1992,
          1997,
          2002,
          2007
         ],
         "xaxis": "x",
         "y": [
          662850,
          764900,
          887498,
          960155,
          975199,
          1039009,
          1116479,
          1191336,
          1183669,
          1138101,
          1101832,
          1056608
         ],
         "yaxis": "y"
        },
        {
         "hovertemplate": "country=Tunisia<br>year=%{x}<br>pop=%{y}<extra></extra>",
         "legendgroup": "Tunisia",
         "line": {
          "color": "#636efa",
          "dash": "solid"
         },
         "marker": {
          "symbol": "circle"
         },
         "mode": "lines",
         "name": "Tunisia",
         "showlegend": true,
         "type": "scattergl",
         "x": [
          1952,
          1957,
          1962,
          1967,
          1972,
          1977,
          1982,
          1987,
          1992,
          1997,
          2002,
          2007
         ],
         "xaxis": "x",
         "y": [
          3647735,
          3950849,
          4286552,
          4786986,
          5303507,
          6005061,
          6734098,
          7724976,
          8523077,
          9231669,
          9770575,
          10276158
         ],
         "yaxis": "y"
        },
        {
         "hovertemplate": "country=Turkey<br>year=%{x}<br>pop=%{y}<extra></extra>",
         "legendgroup": "Turkey",
         "line": {
          "color": "#EF553B",
          "dash": "solid"
         },
         "marker": {
          "symbol": "circle"
         },
         "mode": "lines",
         "name": "Turkey",
         "showlegend": true,
         "type": "scattergl",
         "x": [
          1952,
          1957,
          1962,
          1967,
          1972,
          1977,
          1982,
          1987,
          1992,
          1997,
          2002,
          2007
         ],
         "xaxis": "x",
         "y": [
          22235677,
          25670939,
          29788695,
          33411317,
          37492953,
          42404033,
          47328791,
          52881328,
          58179144,
          63047647,
          67308928,
          71158647
         ],
         "yaxis": "y"
        },
        {
         "hovertemplate": "country=Uganda<br>year=%{x}<br>pop=%{y}<extra></extra>",
         "legendgroup": "Uganda",
         "line": {
          "color": "#00cc96",
          "dash": "solid"
         },
         "marker": {
          "symbol": "circle"
         },
         "mode": "lines",
         "name": "Uganda",
         "showlegend": true,
         "type": "scattergl",
         "x": [
          1952,
          1957,
          1962,
          1967,
          1972,
          1977,
          1982,
          1987,
          1992,
          1997,
          2002,
          2007
         ],
         "xaxis": "x",
         "y": [
          5824797,
          6675501,
          7688797,
          8900294,
          10190285,
          11457758,
          12939400,
          15283050,
          18252190,
          21210254,
          24739869,
          29170398
         ],
         "yaxis": "y"
        },
        {
         "hovertemplate": "country=United Kingdom<br>year=%{x}<br>pop=%{y}<extra></extra>",
         "legendgroup": "United Kingdom",
         "line": {
          "color": "#ab63fa",
          "dash": "solid"
         },
         "marker": {
          "symbol": "circle"
         },
         "mode": "lines",
         "name": "United Kingdom",
         "showlegend": true,
         "type": "scattergl",
         "x": [
          1952,
          1957,
          1962,
          1967,
          1972,
          1977,
          1982,
          1987,
          1992,
          1997,
          2002,
          2007
         ],
         "xaxis": "x",
         "y": [
          50430000,
          51430000,
          53292000,
          54959000,
          56079000,
          56179000,
          56339704,
          56981620,
          57866349,
          58808266,
          59912431,
          60776238
         ],
         "yaxis": "y"
        },
        {
         "hovertemplate": "country=United States<br>year=%{x}<br>pop=%{y}<extra></extra>",
         "legendgroup": "United States",
         "line": {
          "color": "#FFA15A",
          "dash": "solid"
         },
         "marker": {
          "symbol": "circle"
         },
         "mode": "lines",
         "name": "United States",
         "showlegend": true,
         "type": "scattergl",
         "x": [
          1952,
          1957,
          1962,
          1967,
          1972,
          1977,
          1982,
          1987,
          1992,
          1997,
          2002,
          2007
         ],
         "xaxis": "x",
         "y": [
          157553000,
          171984000,
          186538000,
          198712000,
          209896000,
          220239000,
          232187835,
          242803533,
          256894189,
          272911760,
          287675526,
          301139947
         ],
         "yaxis": "y"
        },
        {
         "hovertemplate": "country=Uruguay<br>year=%{x}<br>pop=%{y}<extra></extra>",
         "legendgroup": "Uruguay",
         "line": {
          "color": "#19d3f3",
          "dash": "solid"
         },
         "marker": {
          "symbol": "circle"
         },
         "mode": "lines",
         "name": "Uruguay",
         "showlegend": true,
         "type": "scattergl",
         "x": [
          1952,
          1957,
          1962,
          1967,
          1972,
          1977,
          1982,
          1987,
          1992,
          1997,
          2002,
          2007
         ],
         "xaxis": "x",
         "y": [
          2252965,
          2424959,
          2598466,
          2748579,
          2829526,
          2873520,
          2953997,
          3045153,
          3149262,
          3262838,
          3363085,
          3447496
         ],
         "yaxis": "y"
        },
        {
         "hovertemplate": "country=Venezuela<br>year=%{x}<br>pop=%{y}<extra></extra>",
         "legendgroup": "Venezuela",
         "line": {
          "color": "#FF6692",
          "dash": "solid"
         },
         "marker": {
          "symbol": "circle"
         },
         "mode": "lines",
         "name": "Venezuela",
         "showlegend": true,
         "type": "scattergl",
         "x": [
          1952,
          1957,
          1962,
          1967,
          1972,
          1977,
          1982,
          1987,
          1992,
          1997,
          2002,
          2007
         ],
         "xaxis": "x",
         "y": [
          5439568,
          6702668,
          8143375,
          9709552,
          11515649,
          13503563,
          15620766,
          17910182,
          20265563,
          22374398,
          24287670,
          26084662
         ],
         "yaxis": "y"
        },
        {
         "hovertemplate": "country=Vietnam<br>year=%{x}<br>pop=%{y}<extra></extra>",
         "legendgroup": "Vietnam",
         "line": {
          "color": "#B6E880",
          "dash": "solid"
         },
         "marker": {
          "symbol": "circle"
         },
         "mode": "lines",
         "name": "Vietnam",
         "showlegend": true,
         "type": "scattergl",
         "x": [
          1952,
          1957,
          1962,
          1967,
          1972,
          1977,
          1982,
          1987,
          1992,
          1997,
          2002,
          2007
         ],
         "xaxis": "x",
         "y": [
          26246839,
          28998543,
          33796140,
          39463910,
          44655014,
          50533506,
          56142181,
          62826491,
          69940728,
          76048996,
          80908147,
          85262356
         ],
         "yaxis": "y"
        },
        {
         "hovertemplate": "country=West Bank and Gaza<br>year=%{x}<br>pop=%{y}<extra></extra>",
         "legendgroup": "West Bank and Gaza",
         "line": {
          "color": "#FF97FF",
          "dash": "solid"
         },
         "marker": {
          "symbol": "circle"
         },
         "mode": "lines",
         "name": "West Bank and Gaza",
         "showlegend": true,
         "type": "scattergl",
         "x": [
          1952,
          1957,
          1962,
          1967,
          1972,
          1977,
          1982,
          1987,
          1992,
          1997,
          2002,
          2007
         ],
         "xaxis": "x",
         "y": [
          1030585,
          1070439,
          1133134,
          1142636,
          1089572,
          1261091,
          1425876,
          1691210,
          2104779,
          2826046,
          3389578,
          4018332
         ],
         "yaxis": "y"
        },
        {
         "hovertemplate": "country=Yemen, Rep.<br>year=%{x}<br>pop=%{y}<extra></extra>",
         "legendgroup": "Yemen, Rep.",
         "line": {
          "color": "#FECB52",
          "dash": "solid"
         },
         "marker": {
          "symbol": "circle"
         },
         "mode": "lines",
         "name": "Yemen, Rep.",
         "showlegend": true,
         "type": "scattergl",
         "x": [
          1952,
          1957,
          1962,
          1967,
          1972,
          1977,
          1982,
          1987,
          1992,
          1997,
          2002,
          2007
         ],
         "xaxis": "x",
         "y": [
          4963829,
          5498090,
          6120081,
          6740785,
          7407075,
          8403990,
          9657618,
          11219340,
          13367997,
          15826497,
          18701257,
          22211743
         ],
         "yaxis": "y"
        },
        {
         "hovertemplate": "country=Zambia<br>year=%{x}<br>pop=%{y}<extra></extra>",
         "legendgroup": "Zambia",
         "line": {
          "color": "#636efa",
          "dash": "solid"
         },
         "marker": {
          "symbol": "circle"
         },
         "mode": "lines",
         "name": "Zambia",
         "showlegend": true,
         "type": "scattergl",
         "x": [
          1952,
          1957,
          1962,
          1967,
          1972,
          1977,
          1982,
          1987,
          1992,
          1997,
          2002,
          2007
         ],
         "xaxis": "x",
         "y": [
          2672000,
          3016000,
          3421000,
          3900000,
          4506497,
          5216550,
          6100407,
          7272406,
          8381163,
          9417789,
          10595811,
          11746035
         ],
         "yaxis": "y"
        },
        {
         "hovertemplate": "country=Zimbabwe<br>year=%{x}<br>pop=%{y}<extra></extra>",
         "legendgroup": "Zimbabwe",
         "line": {
          "color": "#EF553B",
          "dash": "solid"
         },
         "marker": {
          "symbol": "circle"
         },
         "mode": "lines",
         "name": "Zimbabwe",
         "showlegend": true,
         "type": "scattergl",
         "x": [
          1952,
          1957,
          1962,
          1967,
          1972,
          1977,
          1982,
          1987,
          1992,
          1997,
          2002,
          2007
         ],
         "xaxis": "x",
         "y": [
          3080907,
          3646340,
          4277736,
          4995432,
          5861135,
          6642107,
          7636524,
          9216418,
          10704340,
          11404948,
          11926563,
          12311143
         ],
         "yaxis": "y"
        }
       ],
       "layout": {
        "legend": {
         "title": {
          "text": "country"
         },
         "tracegroupgap": 0
        },
        "margin": {
         "t": 60
        },
        "template": {
         "data": {
          "bar": [
           {
            "error_x": {
             "color": "#2a3f5f"
            },
            "error_y": {
             "color": "#2a3f5f"
            },
            "marker": {
             "line": {
              "color": "#E5ECF6",
              "width": 0.5
             },
             "pattern": {
              "fillmode": "overlay",
              "size": 10,
              "solidity": 0.2
             }
            },
            "type": "bar"
           }
          ],
          "barpolar": [
           {
            "marker": {
             "line": {
              "color": "#E5ECF6",
              "width": 0.5
             },
             "pattern": {
              "fillmode": "overlay",
              "size": 10,
              "solidity": 0.2
             }
            },
            "type": "barpolar"
           }
          ],
          "carpet": [
           {
            "aaxis": {
             "endlinecolor": "#2a3f5f",
             "gridcolor": "white",
             "linecolor": "white",
             "minorgridcolor": "white",
             "startlinecolor": "#2a3f5f"
            },
            "baxis": {
             "endlinecolor": "#2a3f5f",
             "gridcolor": "white",
             "linecolor": "white",
             "minorgridcolor": "white",
             "startlinecolor": "#2a3f5f"
            },
            "type": "carpet"
           }
          ],
          "choropleth": [
           {
            "colorbar": {
             "outlinewidth": 0,
             "ticks": ""
            },
            "type": "choropleth"
           }
          ],
          "contour": [
           {
            "colorbar": {
             "outlinewidth": 0,
             "ticks": ""
            },
            "colorscale": [
             [
              0,
              "#0d0887"
             ],
             [
              0.1111111111111111,
              "#46039f"
             ],
             [
              0.2222222222222222,
              "#7201a8"
             ],
             [
              0.3333333333333333,
              "#9c179e"
             ],
             [
              0.4444444444444444,
              "#bd3786"
             ],
             [
              0.5555555555555556,
              "#d8576b"
             ],
             [
              0.6666666666666666,
              "#ed7953"
             ],
             [
              0.7777777777777778,
              "#fb9f3a"
             ],
             [
              0.8888888888888888,
              "#fdca26"
             ],
             [
              1,
              "#f0f921"
             ]
            ],
            "type": "contour"
           }
          ],
          "contourcarpet": [
           {
            "colorbar": {
             "outlinewidth": 0,
             "ticks": ""
            },
            "type": "contourcarpet"
           }
          ],
          "heatmap": [
           {
            "colorbar": {
             "outlinewidth": 0,
             "ticks": ""
            },
            "colorscale": [
             [
              0,
              "#0d0887"
             ],
             [
              0.1111111111111111,
              "#46039f"
             ],
             [
              0.2222222222222222,
              "#7201a8"
             ],
             [
              0.3333333333333333,
              "#9c179e"
             ],
             [
              0.4444444444444444,
              "#bd3786"
             ],
             [
              0.5555555555555556,
              "#d8576b"
             ],
             [
              0.6666666666666666,
              "#ed7953"
             ],
             [
              0.7777777777777778,
              "#fb9f3a"
             ],
             [
              0.8888888888888888,
              "#fdca26"
             ],
             [
              1,
              "#f0f921"
             ]
            ],
            "type": "heatmap"
           }
          ],
          "heatmapgl": [
           {
            "colorbar": {
             "outlinewidth": 0,
             "ticks": ""
            },
            "colorscale": [
             [
              0,
              "#0d0887"
             ],
             [
              0.1111111111111111,
              "#46039f"
             ],
             [
              0.2222222222222222,
              "#7201a8"
             ],
             [
              0.3333333333333333,
              "#9c179e"
             ],
             [
              0.4444444444444444,
              "#bd3786"
             ],
             [
              0.5555555555555556,
              "#d8576b"
             ],
             [
              0.6666666666666666,
              "#ed7953"
             ],
             [
              0.7777777777777778,
              "#fb9f3a"
             ],
             [
              0.8888888888888888,
              "#fdca26"
             ],
             [
              1,
              "#f0f921"
             ]
            ],
            "type": "heatmapgl"
           }
          ],
          "histogram": [
           {
            "marker": {
             "pattern": {
              "fillmode": "overlay",
              "size": 10,
              "solidity": 0.2
             }
            },
            "type": "histogram"
           }
          ],
          "histogram2d": [
           {
            "colorbar": {
             "outlinewidth": 0,
             "ticks": ""
            },
            "colorscale": [
             [
              0,
              "#0d0887"
             ],
             [
              0.1111111111111111,
              "#46039f"
             ],
             [
              0.2222222222222222,
              "#7201a8"
             ],
             [
              0.3333333333333333,
              "#9c179e"
             ],
             [
              0.4444444444444444,
              "#bd3786"
             ],
             [
              0.5555555555555556,
              "#d8576b"
             ],
             [
              0.6666666666666666,
              "#ed7953"
             ],
             [
              0.7777777777777778,
              "#fb9f3a"
             ],
             [
              0.8888888888888888,
              "#fdca26"
             ],
             [
              1,
              "#f0f921"
             ]
            ],
            "type": "histogram2d"
           }
          ],
          "histogram2dcontour": [
           {
            "colorbar": {
             "outlinewidth": 0,
             "ticks": ""
            },
            "colorscale": [
             [
              0,
              "#0d0887"
             ],
             [
              0.1111111111111111,
              "#46039f"
             ],
             [
              0.2222222222222222,
              "#7201a8"
             ],
             [
              0.3333333333333333,
              "#9c179e"
             ],
             [
              0.4444444444444444,
              "#bd3786"
             ],
             [
              0.5555555555555556,
              "#d8576b"
             ],
             [
              0.6666666666666666,
              "#ed7953"
             ],
             [
              0.7777777777777778,
              "#fb9f3a"
             ],
             [
              0.8888888888888888,
              "#fdca26"
             ],
             [
              1,
              "#f0f921"
             ]
            ],
            "type": "histogram2dcontour"
           }
          ],
          "mesh3d": [
           {
            "colorbar": {
             "outlinewidth": 0,
             "ticks": ""
            },
            "type": "mesh3d"
           }
          ],
          "parcoords": [
           {
            "line": {
             "colorbar": {
              "outlinewidth": 0,
              "ticks": ""
             }
            },
            "type": "parcoords"
           }
          ],
          "pie": [
           {
            "automargin": true,
            "type": "pie"
           }
          ],
          "scatter": [
           {
            "fillpattern": {
             "fillmode": "overlay",
             "size": 10,
             "solidity": 0.2
            },
            "type": "scatter"
           }
          ],
          "scatter3d": [
           {
            "line": {
             "colorbar": {
              "outlinewidth": 0,
              "ticks": ""
             }
            },
            "marker": {
             "colorbar": {
              "outlinewidth": 0,
              "ticks": ""
             }
            },
            "type": "scatter3d"
           }
          ],
          "scattercarpet": [
           {
            "marker": {
             "colorbar": {
              "outlinewidth": 0,
              "ticks": ""
             }
            },
            "type": "scattercarpet"
           }
          ],
          "scattergeo": [
           {
            "marker": {
             "colorbar": {
              "outlinewidth": 0,
              "ticks": ""
             }
            },
            "type": "scattergeo"
           }
          ],
          "scattergl": [
           {
            "marker": {
             "colorbar": {
              "outlinewidth": 0,
              "ticks": ""
             }
            },
            "type": "scattergl"
           }
          ],
          "scattermapbox": [
           {
            "marker": {
             "colorbar": {
              "outlinewidth": 0,
              "ticks": ""
             }
            },
            "type": "scattermapbox"
           }
          ],
          "scatterpolar": [
           {
            "marker": {
             "colorbar": {
              "outlinewidth": 0,
              "ticks": ""
             }
            },
            "type": "scatterpolar"
           }
          ],
          "scatterpolargl": [
           {
            "marker": {
             "colorbar": {
              "outlinewidth": 0,
              "ticks": ""
             }
            },
            "type": "scatterpolargl"
           }
          ],
          "scatterternary": [
           {
            "marker": {
             "colorbar": {
              "outlinewidth": 0,
              "ticks": ""
             }
            },
            "type": "scatterternary"
           }
          ],
          "surface": [
           {
            "colorbar": {
             "outlinewidth": 0,
             "ticks": ""
            },
            "colorscale": [
             [
              0,
              "#0d0887"
             ],
             [
              0.1111111111111111,
              "#46039f"
             ],
             [
              0.2222222222222222,
              "#7201a8"
             ],
             [
              0.3333333333333333,
              "#9c179e"
             ],
             [
              0.4444444444444444,
              "#bd3786"
             ],
             [
              0.5555555555555556,
              "#d8576b"
             ],
             [
              0.6666666666666666,
              "#ed7953"
             ],
             [
              0.7777777777777778,
              "#fb9f3a"
             ],
             [
              0.8888888888888888,
              "#fdca26"
             ],
             [
              1,
              "#f0f921"
             ]
            ],
            "type": "surface"
           }
          ],
          "table": [
           {
            "cells": {
             "fill": {
              "color": "#EBF0F8"
             },
             "line": {
              "color": "white"
             }
            },
            "header": {
             "fill": {
              "color": "#C8D4E3"
             },
             "line": {
              "color": "white"
             }
            },
            "type": "table"
           }
          ]
         },
         "layout": {
          "annotationdefaults": {
           "arrowcolor": "#2a3f5f",
           "arrowhead": 0,
           "arrowwidth": 1
          },
          "autotypenumbers": "strict",
          "coloraxis": {
           "colorbar": {
            "outlinewidth": 0,
            "ticks": ""
           }
          },
          "colorscale": {
           "diverging": [
            [
             0,
             "#8e0152"
            ],
            [
             0.1,
             "#c51b7d"
            ],
            [
             0.2,
             "#de77ae"
            ],
            [
             0.3,
             "#f1b6da"
            ],
            [
             0.4,
             "#fde0ef"
            ],
            [
             0.5,
             "#f7f7f7"
            ],
            [
             0.6,
             "#e6f5d0"
            ],
            [
             0.7,
             "#b8e186"
            ],
            [
             0.8,
             "#7fbc41"
            ],
            [
             0.9,
             "#4d9221"
            ],
            [
             1,
             "#276419"
            ]
           ],
           "sequential": [
            [
             0,
             "#0d0887"
            ],
            [
             0.1111111111111111,
             "#46039f"
            ],
            [
             0.2222222222222222,
             "#7201a8"
            ],
            [
             0.3333333333333333,
             "#9c179e"
            ],
            [
             0.4444444444444444,
             "#bd3786"
            ],
            [
             0.5555555555555556,
             "#d8576b"
            ],
            [
             0.6666666666666666,
             "#ed7953"
            ],
            [
             0.7777777777777778,
             "#fb9f3a"
            ],
            [
             0.8888888888888888,
             "#fdca26"
            ],
            [
             1,
             "#f0f921"
            ]
           ],
           "sequentialminus": [
            [
             0,
             "#0d0887"
            ],
            [
             0.1111111111111111,
             "#46039f"
            ],
            [
             0.2222222222222222,
             "#7201a8"
            ],
            [
             0.3333333333333333,
             "#9c179e"
            ],
            [
             0.4444444444444444,
             "#bd3786"
            ],
            [
             0.5555555555555556,
             "#d8576b"
            ],
            [
             0.6666666666666666,
             "#ed7953"
            ],
            [
             0.7777777777777778,
             "#fb9f3a"
            ],
            [
             0.8888888888888888,
             "#fdca26"
            ],
            [
             1,
             "#f0f921"
            ]
           ]
          },
          "colorway": [
           "#636efa",
           "#EF553B",
           "#00cc96",
           "#ab63fa",
           "#FFA15A",
           "#19d3f3",
           "#FF6692",
           "#B6E880",
           "#FF97FF",
           "#FECB52"
          ],
          "font": {
           "color": "#2a3f5f"
          },
          "geo": {
           "bgcolor": "white",
           "lakecolor": "white",
           "landcolor": "#E5ECF6",
           "showlakes": true,
           "showland": true,
           "subunitcolor": "white"
          },
          "hoverlabel": {
           "align": "left"
          },
          "hovermode": "closest",
          "mapbox": {
           "style": "light"
          },
          "paper_bgcolor": "white",
          "plot_bgcolor": "#E5ECF6",
          "polar": {
           "angularaxis": {
            "gridcolor": "white",
            "linecolor": "white",
            "ticks": ""
           },
           "bgcolor": "#E5ECF6",
           "radialaxis": {
            "gridcolor": "white",
            "linecolor": "white",
            "ticks": ""
           }
          },
          "scene": {
           "xaxis": {
            "backgroundcolor": "#E5ECF6",
            "gridcolor": "white",
            "gridwidth": 2,
            "linecolor": "white",
            "showbackground": true,
            "ticks": "",
            "zerolinecolor": "white"
           },
           "yaxis": {
            "backgroundcolor": "#E5ECF6",
            "gridcolor": "white",
            "gridwidth": 2,
            "linecolor": "white",
            "showbackground": true,
            "ticks": "",
            "zerolinecolor": "white"
           },
           "zaxis": {
            "backgroundcolor": "#E5ECF6",
            "gridcolor": "white",
            "gridwidth": 2,
            "linecolor": "white",
            "showbackground": true,
            "ticks": "",
            "zerolinecolor": "white"
           }
          },
          "shapedefaults": {
           "line": {
            "color": "#2a3f5f"
           }
          },
          "ternary": {
           "aaxis": {
            "gridcolor": "white",
            "linecolor": "white",
            "ticks": ""
           },
           "baxis": {
            "gridcolor": "white",
            "linecolor": "white",
            "ticks": ""
           },
           "bgcolor": "#E5ECF6",
           "caxis": {
            "gridcolor": "white",
            "linecolor": "white",
            "ticks": ""
           }
          },
          "title": {
           "x": 0.05
          },
          "xaxis": {
           "automargin": true,
           "gridcolor": "white",
           "linecolor": "white",
           "ticks": "",
           "title": {
            "standoff": 15
           },
           "zerolinecolor": "white",
           "zerolinewidth": 2
          },
          "yaxis": {
           "automargin": true,
           "gridcolor": "white",
           "linecolor": "white",
           "ticks": "",
           "title": {
            "standoff": 15
           },
           "zerolinecolor": "white",
           "zerolinewidth": 2
          }
         }
        },
        "xaxis": {
         "anchor": "y",
         "domain": [
          0,
          1
         ],
         "title": {
          "text": "year"
         }
        },
        "yaxis": {
         "anchor": "x",
         "domain": [
          0,
          1
         ],
         "title": {
          "text": "pop"
         }
        }
       }
      }
     },
     "metadata": {},
     "output_type": "display_data"
    }
   ],
   "source": [
    "px.line(gapminder, x='year', y='pop', color='country')"
   ]
  },
  {
   "cell_type": "code",
   "execution_count": 77,
   "id": "3078486e",
   "metadata": {},
   "outputs": [
    {
     "data": {
      "text/html": [
       "<div>\n",
       "<style scoped>\n",
       "    .dataframe tbody tr th:only-of-type {\n",
       "        vertical-align: middle;\n",
       "    }\n",
       "\n",
       "    .dataframe tbody tr th {\n",
       "        vertical-align: top;\n",
       "    }\n",
       "\n",
       "    .dataframe thead th {\n",
       "        text-align: right;\n",
       "    }\n",
       "</style>\n",
       "<table border=\"1\" class=\"dataframe\">\n",
       "  <thead>\n",
       "    <tr style=\"text-align: right;\">\n",
       "      <th></th>\n",
       "      <th>country</th>\n",
       "      <th>continent</th>\n",
       "      <th>year</th>\n",
       "      <th>lifeExp</th>\n",
       "      <th>population</th>\n",
       "      <th>gdpPercap</th>\n",
       "      <th>iso_alpha</th>\n",
       "      <th>iso_num</th>\n",
       "    </tr>\n",
       "  </thead>\n",
       "  <tbody>\n",
       "    <tr>\n",
       "      <th>0</th>\n",
       "      <td>Afghanistan</td>\n",
       "      <td>Asia</td>\n",
       "      <td>1952</td>\n",
       "      <td>28.801</td>\n",
       "      <td>8425333</td>\n",
       "      <td>779.445314</td>\n",
       "      <td>AFG</td>\n",
       "      <td>4</td>\n",
       "    </tr>\n",
       "    <tr>\n",
       "      <th>1</th>\n",
       "      <td>Afghanistan</td>\n",
       "      <td>Asia</td>\n",
       "      <td>1957</td>\n",
       "      <td>30.332</td>\n",
       "      <td>9240934</td>\n",
       "      <td>820.853030</td>\n",
       "      <td>AFG</td>\n",
       "      <td>4</td>\n",
       "    </tr>\n",
       "    <tr>\n",
       "      <th>2</th>\n",
       "      <td>Afghanistan</td>\n",
       "      <td>Asia</td>\n",
       "      <td>1962</td>\n",
       "      <td>31.997</td>\n",
       "      <td>10267083</td>\n",
       "      <td>853.100710</td>\n",
       "      <td>AFG</td>\n",
       "      <td>4</td>\n",
       "    </tr>\n",
       "    <tr>\n",
       "      <th>3</th>\n",
       "      <td>Afghanistan</td>\n",
       "      <td>Asia</td>\n",
       "      <td>1967</td>\n",
       "      <td>34.020</td>\n",
       "      <td>11537966</td>\n",
       "      <td>836.197138</td>\n",
       "      <td>AFG</td>\n",
       "      <td>4</td>\n",
       "    </tr>\n",
       "    <tr>\n",
       "      <th>4</th>\n",
       "      <td>Afghanistan</td>\n",
       "      <td>Asia</td>\n",
       "      <td>1972</td>\n",
       "      <td>36.088</td>\n",
       "      <td>13079460</td>\n",
       "      <td>739.981106</td>\n",
       "      <td>AFG</td>\n",
       "      <td>4</td>\n",
       "    </tr>\n",
       "    <tr>\n",
       "      <th>...</th>\n",
       "      <td>...</td>\n",
       "      <td>...</td>\n",
       "      <td>...</td>\n",
       "      <td>...</td>\n",
       "      <td>...</td>\n",
       "      <td>...</td>\n",
       "      <td>...</td>\n",
       "      <td>...</td>\n",
       "    </tr>\n",
       "    <tr>\n",
       "      <th>1699</th>\n",
       "      <td>Zimbabwe</td>\n",
       "      <td>Africa</td>\n",
       "      <td>1987</td>\n",
       "      <td>62.351</td>\n",
       "      <td>9216418</td>\n",
       "      <td>706.157306</td>\n",
       "      <td>ZWE</td>\n",
       "      <td>716</td>\n",
       "    </tr>\n",
       "    <tr>\n",
       "      <th>1700</th>\n",
       "      <td>Zimbabwe</td>\n",
       "      <td>Africa</td>\n",
       "      <td>1992</td>\n",
       "      <td>60.377</td>\n",
       "      <td>10704340</td>\n",
       "      <td>693.420786</td>\n",
       "      <td>ZWE</td>\n",
       "      <td>716</td>\n",
       "    </tr>\n",
       "    <tr>\n",
       "      <th>1701</th>\n",
       "      <td>Zimbabwe</td>\n",
       "      <td>Africa</td>\n",
       "      <td>1997</td>\n",
       "      <td>46.809</td>\n",
       "      <td>11404948</td>\n",
       "      <td>792.449960</td>\n",
       "      <td>ZWE</td>\n",
       "      <td>716</td>\n",
       "    </tr>\n",
       "    <tr>\n",
       "      <th>1702</th>\n",
       "      <td>Zimbabwe</td>\n",
       "      <td>Africa</td>\n",
       "      <td>2002</td>\n",
       "      <td>39.989</td>\n",
       "      <td>11926563</td>\n",
       "      <td>672.038623</td>\n",
       "      <td>ZWE</td>\n",
       "      <td>716</td>\n",
       "    </tr>\n",
       "    <tr>\n",
       "      <th>1703</th>\n",
       "      <td>Zimbabwe</td>\n",
       "      <td>Africa</td>\n",
       "      <td>2007</td>\n",
       "      <td>43.487</td>\n",
       "      <td>12311143</td>\n",
       "      <td>469.709298</td>\n",
       "      <td>ZWE</td>\n",
       "      <td>716</td>\n",
       "    </tr>\n",
       "  </tbody>\n",
       "</table>\n",
       "<p>1704 rows × 8 columns</p>\n",
       "</div>"
      ],
      "text/plain": [
       "          country continent  year  lifeExp  population   gdpPercap iso_alpha  \\\n",
       "0     Afghanistan      Asia  1952   28.801     8425333  779.445314       AFG   \n",
       "1     Afghanistan      Asia  1957   30.332     9240934  820.853030       AFG   \n",
       "2     Afghanistan      Asia  1962   31.997    10267083  853.100710       AFG   \n",
       "3     Afghanistan      Asia  1967   34.020    11537966  836.197138       AFG   \n",
       "4     Afghanistan      Asia  1972   36.088    13079460  739.981106       AFG   \n",
       "...           ...       ...   ...      ...         ...         ...       ...   \n",
       "1699     Zimbabwe    Africa  1987   62.351     9216418  706.157306       ZWE   \n",
       "1700     Zimbabwe    Africa  1992   60.377    10704340  693.420786       ZWE   \n",
       "1701     Zimbabwe    Africa  1997   46.809    11404948  792.449960       ZWE   \n",
       "1702     Zimbabwe    Africa  2002   39.989    11926563  672.038623       ZWE   \n",
       "1703     Zimbabwe    Africa  2007   43.487    12311143  469.709298       ZWE   \n",
       "\n",
       "      iso_num  \n",
       "0           4  \n",
       "1           4  \n",
       "2           4  \n",
       "3           4  \n",
       "4           4  \n",
       "...       ...  \n",
       "1699      716  \n",
       "1700      716  \n",
       "1701      716  \n",
       "1702      716  \n",
       "1703      716  \n",
       "\n",
       "[1704 rows x 8 columns]"
      ]
     },
     "execution_count": 77,
     "metadata": {},
     "output_type": "execute_result"
    }
   ],
   "source": [
    "gapminder = gapminder.rename(columns={\"pop\": \"population\"})\n",
    "gapminder"
   ]
  },
  {
   "cell_type": "code",
   "execution_count": 78,
   "id": "c3e2b721",
   "metadata": {},
   "outputs": [
    {
     "data": {
      "text/html": [
       "<div>\n",
       "<style scoped>\n",
       "    .dataframe tbody tr th:only-of-type {\n",
       "        vertical-align: middle;\n",
       "    }\n",
       "\n",
       "    .dataframe tbody tr th {\n",
       "        vertical-align: top;\n",
       "    }\n",
       "\n",
       "    .dataframe thead th {\n",
       "        text-align: right;\n",
       "    }\n",
       "</style>\n",
       "<table border=\"1\" class=\"dataframe\">\n",
       "  <thead>\n",
       "    <tr style=\"text-align: right;\">\n",
       "      <th></th>\n",
       "      <th>country</th>\n",
       "      <th>year</th>\n",
       "      <th>gdpPercap</th>\n",
       "    </tr>\n",
       "  </thead>\n",
       "  <tbody>\n",
       "    <tr>\n",
       "      <th>10</th>\n",
       "      <td>Afghanistan</td>\n",
       "      <td>2002</td>\n",
       "      <td>726.734055</td>\n",
       "    </tr>\n",
       "    <tr>\n",
       "      <th>22</th>\n",
       "      <td>Albania</td>\n",
       "      <td>2002</td>\n",
       "      <td>4604.211737</td>\n",
       "    </tr>\n",
       "    <tr>\n",
       "      <th>34</th>\n",
       "      <td>Algeria</td>\n",
       "      <td>2002</td>\n",
       "      <td>5288.040382</td>\n",
       "    </tr>\n",
       "    <tr>\n",
       "      <th>46</th>\n",
       "      <td>Angola</td>\n",
       "      <td>2002</td>\n",
       "      <td>2773.287312</td>\n",
       "    </tr>\n",
       "    <tr>\n",
       "      <th>58</th>\n",
       "      <td>Argentina</td>\n",
       "      <td>2002</td>\n",
       "      <td>8797.640716</td>\n",
       "    </tr>\n",
       "    <tr>\n",
       "      <th>...</th>\n",
       "      <td>...</td>\n",
       "      <td>...</td>\n",
       "      <td>...</td>\n",
       "    </tr>\n",
       "    <tr>\n",
       "      <th>1654</th>\n",
       "      <td>Vietnam</td>\n",
       "      <td>2002</td>\n",
       "      <td>1764.456677</td>\n",
       "    </tr>\n",
       "    <tr>\n",
       "      <th>1666</th>\n",
       "      <td>West Bank and Gaza</td>\n",
       "      <td>2002</td>\n",
       "      <td>4515.487575</td>\n",
       "    </tr>\n",
       "    <tr>\n",
       "      <th>1678</th>\n",
       "      <td>Yemen, Rep.</td>\n",
       "      <td>2002</td>\n",
       "      <td>2234.820827</td>\n",
       "    </tr>\n",
       "    <tr>\n",
       "      <th>1690</th>\n",
       "      <td>Zambia</td>\n",
       "      <td>2002</td>\n",
       "      <td>1071.613938</td>\n",
       "    </tr>\n",
       "    <tr>\n",
       "      <th>1702</th>\n",
       "      <td>Zimbabwe</td>\n",
       "      <td>2002</td>\n",
       "      <td>672.038623</td>\n",
       "    </tr>\n",
       "  </tbody>\n",
       "</table>\n",
       "<p>142 rows × 3 columns</p>\n",
       "</div>"
      ],
      "text/plain": [
       "                 country  year    gdpPercap\n",
       "10           Afghanistan  2002   726.734055\n",
       "22               Albania  2002  4604.211737\n",
       "34               Algeria  2002  5288.040382\n",
       "46                Angola  2002  2773.287312\n",
       "58             Argentina  2002  8797.640716\n",
       "...                  ...   ...          ...\n",
       "1654             Vietnam  2002  1764.456677\n",
       "1666  West Bank and Gaza  2002  4515.487575\n",
       "1678         Yemen, Rep.  2002  2234.820827\n",
       "1690              Zambia  2002  1071.613938\n",
       "1702            Zimbabwe  2002   672.038623\n",
       "\n",
       "[142 rows x 3 columns]"
      ]
     },
     "execution_count": 78,
     "metadata": {},
     "output_type": "execute_result"
    }
   ],
   "source": [
    "gdp2002 = gapminder[[\"country\", \"year\", \"gdpPercap\"]].query('year == 2002')\n",
    "gdp2002"
   ]
  },
  {
   "cell_type": "code",
   "execution_count": 79,
   "id": "ed6b7374",
   "metadata": {},
   "outputs": [
    {
     "data": {
      "text/html": [
       "<div>\n",
       "<style scoped>\n",
       "    .dataframe tbody tr th:only-of-type {\n",
       "        vertical-align: middle;\n",
       "    }\n",
       "\n",
       "    .dataframe tbody tr th {\n",
       "        vertical-align: top;\n",
       "    }\n",
       "\n",
       "    .dataframe thead th {\n",
       "        text-align: right;\n",
       "    }\n",
       "</style>\n",
       "<table border=\"1\" class=\"dataframe\">\n",
       "  <thead>\n",
       "    <tr style=\"text-align: right;\">\n",
       "      <th></th>\n",
       "      <th>country</th>\n",
       "      <th>year</th>\n",
       "      <th>population</th>\n",
       "    </tr>\n",
       "  </thead>\n",
       "  <tbody>\n",
       "    <tr>\n",
       "      <th>10</th>\n",
       "      <td>Afghanistan</td>\n",
       "      <td>2002</td>\n",
       "      <td>25268405</td>\n",
       "    </tr>\n",
       "    <tr>\n",
       "      <th>22</th>\n",
       "      <td>Albania</td>\n",
       "      <td>2002</td>\n",
       "      <td>3508512</td>\n",
       "    </tr>\n",
       "    <tr>\n",
       "      <th>34</th>\n",
       "      <td>Algeria</td>\n",
       "      <td>2002</td>\n",
       "      <td>31287142</td>\n",
       "    </tr>\n",
       "    <tr>\n",
       "      <th>46</th>\n",
       "      <td>Angola</td>\n",
       "      <td>2002</td>\n",
       "      <td>10866106</td>\n",
       "    </tr>\n",
       "    <tr>\n",
       "      <th>58</th>\n",
       "      <td>Argentina</td>\n",
       "      <td>2002</td>\n",
       "      <td>38331121</td>\n",
       "    </tr>\n",
       "    <tr>\n",
       "      <th>...</th>\n",
       "      <td>...</td>\n",
       "      <td>...</td>\n",
       "      <td>...</td>\n",
       "    </tr>\n",
       "    <tr>\n",
       "      <th>1654</th>\n",
       "      <td>Vietnam</td>\n",
       "      <td>2002</td>\n",
       "      <td>80908147</td>\n",
       "    </tr>\n",
       "    <tr>\n",
       "      <th>1666</th>\n",
       "      <td>West Bank and Gaza</td>\n",
       "      <td>2002</td>\n",
       "      <td>3389578</td>\n",
       "    </tr>\n",
       "    <tr>\n",
       "      <th>1678</th>\n",
       "      <td>Yemen, Rep.</td>\n",
       "      <td>2002</td>\n",
       "      <td>18701257</td>\n",
       "    </tr>\n",
       "    <tr>\n",
       "      <th>1690</th>\n",
       "      <td>Zambia</td>\n",
       "      <td>2002</td>\n",
       "      <td>10595811</td>\n",
       "    </tr>\n",
       "    <tr>\n",
       "      <th>1702</th>\n",
       "      <td>Zimbabwe</td>\n",
       "      <td>2002</td>\n",
       "      <td>11926563</td>\n",
       "    </tr>\n",
       "  </tbody>\n",
       "</table>\n",
       "<p>142 rows × 3 columns</p>\n",
       "</div>"
      ],
      "text/plain": [
       "                 country  year  population\n",
       "10           Afghanistan  2002    25268405\n",
       "22               Albania  2002     3508512\n",
       "34               Algeria  2002    31287142\n",
       "46                Angola  2002    10866106\n",
       "58             Argentina  2002    38331121\n",
       "...                  ...   ...         ...\n",
       "1654             Vietnam  2002    80908147\n",
       "1666  West Bank and Gaza  2002     3389578\n",
       "1678         Yemen, Rep.  2002    18701257\n",
       "1690              Zambia  2002    10595811\n",
       "1702            Zimbabwe  2002    11926563\n",
       "\n",
       "[142 rows x 3 columns]"
      ]
     },
     "execution_count": 79,
     "metadata": {},
     "output_type": "execute_result"
    }
   ],
   "source": [
    "pop2002 = gapminder[[\"country\", \"year\", \"population\"]].query('year == 2002')\n",
    "pop2002"
   ]
  },
  {
   "cell_type": "code",
   "execution_count": 80,
   "id": "dbafe403",
   "metadata": {},
   "outputs": [
    {
     "data": {
      "text/html": [
       "<div>\n",
       "<style scoped>\n",
       "    .dataframe tbody tr th:only-of-type {\n",
       "        vertical-align: middle;\n",
       "    }\n",
       "\n",
       "    .dataframe tbody tr th {\n",
       "        vertical-align: top;\n",
       "    }\n",
       "\n",
       "    .dataframe thead th {\n",
       "        text-align: right;\n",
       "    }\n",
       "</style>\n",
       "<table border=\"1\" class=\"dataframe\">\n",
       "  <thead>\n",
       "    <tr style=\"text-align: right;\">\n",
       "      <th></th>\n",
       "      <th>country</th>\n",
       "      <th>year_x</th>\n",
       "      <th>gdpPercap</th>\n",
       "      <th>year_y</th>\n",
       "      <th>population</th>\n",
       "    </tr>\n",
       "  </thead>\n",
       "  <tbody>\n",
       "    <tr>\n",
       "      <th>0</th>\n",
       "      <td>Afghanistan</td>\n",
       "      <td>2002</td>\n",
       "      <td>726.734055</td>\n",
       "      <td>2002</td>\n",
       "      <td>25268405</td>\n",
       "    </tr>\n",
       "    <tr>\n",
       "      <th>1</th>\n",
       "      <td>Albania</td>\n",
       "      <td>2002</td>\n",
       "      <td>4604.211737</td>\n",
       "      <td>2002</td>\n",
       "      <td>3508512</td>\n",
       "    </tr>\n",
       "    <tr>\n",
       "      <th>2</th>\n",
       "      <td>Algeria</td>\n",
       "      <td>2002</td>\n",
       "      <td>5288.040382</td>\n",
       "      <td>2002</td>\n",
       "      <td>31287142</td>\n",
       "    </tr>\n",
       "    <tr>\n",
       "      <th>3</th>\n",
       "      <td>Angola</td>\n",
       "      <td>2002</td>\n",
       "      <td>2773.287312</td>\n",
       "      <td>2002</td>\n",
       "      <td>10866106</td>\n",
       "    </tr>\n",
       "    <tr>\n",
       "      <th>4</th>\n",
       "      <td>Argentina</td>\n",
       "      <td>2002</td>\n",
       "      <td>8797.640716</td>\n",
       "      <td>2002</td>\n",
       "      <td>38331121</td>\n",
       "    </tr>\n",
       "    <tr>\n",
       "      <th>...</th>\n",
       "      <td>...</td>\n",
       "      <td>...</td>\n",
       "      <td>...</td>\n",
       "      <td>...</td>\n",
       "      <td>...</td>\n",
       "    </tr>\n",
       "    <tr>\n",
       "      <th>137</th>\n",
       "      <td>Vietnam</td>\n",
       "      <td>2002</td>\n",
       "      <td>1764.456677</td>\n",
       "      <td>2002</td>\n",
       "      <td>80908147</td>\n",
       "    </tr>\n",
       "    <tr>\n",
       "      <th>138</th>\n",
       "      <td>West Bank and Gaza</td>\n",
       "      <td>2002</td>\n",
       "      <td>4515.487575</td>\n",
       "      <td>2002</td>\n",
       "      <td>3389578</td>\n",
       "    </tr>\n",
       "    <tr>\n",
       "      <th>139</th>\n",
       "      <td>Yemen, Rep.</td>\n",
       "      <td>2002</td>\n",
       "      <td>2234.820827</td>\n",
       "      <td>2002</td>\n",
       "      <td>18701257</td>\n",
       "    </tr>\n",
       "    <tr>\n",
       "      <th>140</th>\n",
       "      <td>Zambia</td>\n",
       "      <td>2002</td>\n",
       "      <td>1071.613938</td>\n",
       "      <td>2002</td>\n",
       "      <td>10595811</td>\n",
       "    </tr>\n",
       "    <tr>\n",
       "      <th>141</th>\n",
       "      <td>Zimbabwe</td>\n",
       "      <td>2002</td>\n",
       "      <td>672.038623</td>\n",
       "      <td>2002</td>\n",
       "      <td>11926563</td>\n",
       "    </tr>\n",
       "  </tbody>\n",
       "</table>\n",
       "<p>142 rows × 5 columns</p>\n",
       "</div>"
      ],
      "text/plain": [
       "                country  year_x    gdpPercap  year_y  population\n",
       "0           Afghanistan    2002   726.734055    2002    25268405\n",
       "1               Albania    2002  4604.211737    2002     3508512\n",
       "2               Algeria    2002  5288.040382    2002    31287142\n",
       "3                Angola    2002  2773.287312    2002    10866106\n",
       "4             Argentina    2002  8797.640716    2002    38331121\n",
       "..                  ...     ...          ...     ...         ...\n",
       "137             Vietnam    2002  1764.456677    2002    80908147\n",
       "138  West Bank and Gaza    2002  4515.487575    2002     3389578\n",
       "139         Yemen, Rep.    2002  2234.820827    2002    18701257\n",
       "140              Zambia    2002  1071.613938    2002    10595811\n",
       "141            Zimbabwe    2002   672.038623    2002    11926563\n",
       "\n",
       "[142 rows x 5 columns]"
      ]
     },
     "execution_count": 80,
     "metadata": {},
     "output_type": "execute_result"
    }
   ],
   "source": [
    "gdp_and_pop_2002 = pd.merge(left=gdp2002, right=pop2002, left_on=\"country\", right_on=\"country\", how=\"outer\")\n",
    "gdp_and_pop_2002"
   ]
  },
  {
   "cell_type": "code",
   "execution_count": 81,
   "id": "204ab99d",
   "metadata": {},
   "outputs": [
    {
     "data": {
      "text/html": [
       "<div>\n",
       "<style scoped>\n",
       "    .dataframe tbody tr th:only-of-type {\n",
       "        vertical-align: middle;\n",
       "    }\n",
       "\n",
       "    .dataframe tbody tr th {\n",
       "        vertical-align: top;\n",
       "    }\n",
       "\n",
       "    .dataframe thead th {\n",
       "        text-align: right;\n",
       "    }\n",
       "</style>\n",
       "<table border=\"1\" class=\"dataframe\">\n",
       "  <thead>\n",
       "    <tr style=\"text-align: right;\">\n",
       "      <th></th>\n",
       "      <th>country</th>\n",
       "      <th>year_x</th>\n",
       "      <th>gdpPercap</th>\n",
       "      <th>year_y</th>\n",
       "      <th>population</th>\n",
       "      <th>gdp</th>\n",
       "    </tr>\n",
       "  </thead>\n",
       "  <tbody>\n",
       "    <tr>\n",
       "      <th>0</th>\n",
       "      <td>Afghanistan</td>\n",
       "      <td>2002</td>\n",
       "      <td>726.734055</td>\n",
       "      <td>2002</td>\n",
       "      <td>25268405</td>\n",
       "      <td>1.836341e+10</td>\n",
       "    </tr>\n",
       "    <tr>\n",
       "      <th>1</th>\n",
       "      <td>Albania</td>\n",
       "      <td>2002</td>\n",
       "      <td>4604.211737</td>\n",
       "      <td>2002</td>\n",
       "      <td>3508512</td>\n",
       "      <td>1.615393e+10</td>\n",
       "    </tr>\n",
       "    <tr>\n",
       "      <th>2</th>\n",
       "      <td>Algeria</td>\n",
       "      <td>2002</td>\n",
       "      <td>5288.040382</td>\n",
       "      <td>2002</td>\n",
       "      <td>31287142</td>\n",
       "      <td>1.654477e+11</td>\n",
       "    </tr>\n",
       "    <tr>\n",
       "      <th>3</th>\n",
       "      <td>Angola</td>\n",
       "      <td>2002</td>\n",
       "      <td>2773.287312</td>\n",
       "      <td>2002</td>\n",
       "      <td>10866106</td>\n",
       "      <td>3.013483e+10</td>\n",
       "    </tr>\n",
       "    <tr>\n",
       "      <th>4</th>\n",
       "      <td>Argentina</td>\n",
       "      <td>2002</td>\n",
       "      <td>8797.640716</td>\n",
       "      <td>2002</td>\n",
       "      <td>38331121</td>\n",
       "      <td>3.372234e+11</td>\n",
       "    </tr>\n",
       "    <tr>\n",
       "      <th>...</th>\n",
       "      <td>...</td>\n",
       "      <td>...</td>\n",
       "      <td>...</td>\n",
       "      <td>...</td>\n",
       "      <td>...</td>\n",
       "      <td>...</td>\n",
       "    </tr>\n",
       "    <tr>\n",
       "      <th>137</th>\n",
       "      <td>Vietnam</td>\n",
       "      <td>2002</td>\n",
       "      <td>1764.456677</td>\n",
       "      <td>2002</td>\n",
       "      <td>80908147</td>\n",
       "      <td>1.427589e+11</td>\n",
       "    </tr>\n",
       "    <tr>\n",
       "      <th>138</th>\n",
       "      <td>West Bank and Gaza</td>\n",
       "      <td>2002</td>\n",
       "      <td>4515.487575</td>\n",
       "      <td>2002</td>\n",
       "      <td>3389578</td>\n",
       "      <td>1.530560e+10</td>\n",
       "    </tr>\n",
       "    <tr>\n",
       "      <th>139</th>\n",
       "      <td>Yemen, Rep.</td>\n",
       "      <td>2002</td>\n",
       "      <td>2234.820827</td>\n",
       "      <td>2002</td>\n",
       "      <td>18701257</td>\n",
       "      <td>4.179396e+10</td>\n",
       "    </tr>\n",
       "    <tr>\n",
       "      <th>140</th>\n",
       "      <td>Zambia</td>\n",
       "      <td>2002</td>\n",
       "      <td>1071.613938</td>\n",
       "      <td>2002</td>\n",
       "      <td>10595811</td>\n",
       "      <td>1.135462e+10</td>\n",
       "    </tr>\n",
       "    <tr>\n",
       "      <th>141</th>\n",
       "      <td>Zimbabwe</td>\n",
       "      <td>2002</td>\n",
       "      <td>672.038623</td>\n",
       "      <td>2002</td>\n",
       "      <td>11926563</td>\n",
       "      <td>8.015111e+09</td>\n",
       "    </tr>\n",
       "  </tbody>\n",
       "</table>\n",
       "<p>142 rows × 6 columns</p>\n",
       "</div>"
      ],
      "text/plain": [
       "                country  year_x    gdpPercap  year_y  population           gdp\n",
       "0           Afghanistan    2002   726.734055    2002    25268405  1.836341e+10\n",
       "1               Albania    2002  4604.211737    2002     3508512  1.615393e+10\n",
       "2               Algeria    2002  5288.040382    2002    31287142  1.654477e+11\n",
       "3                Angola    2002  2773.287312    2002    10866106  3.013483e+10\n",
       "4             Argentina    2002  8797.640716    2002    38331121  3.372234e+11\n",
       "..                  ...     ...          ...     ...         ...           ...\n",
       "137             Vietnam    2002  1764.456677    2002    80908147  1.427589e+11\n",
       "138  West Bank and Gaza    2002  4515.487575    2002     3389578  1.530560e+10\n",
       "139         Yemen, Rep.    2002  2234.820827    2002    18701257  4.179396e+10\n",
       "140              Zambia    2002  1071.613938    2002    10595811  1.135462e+10\n",
       "141            Zimbabwe    2002   672.038623    2002    11926563  8.015111e+09\n",
       "\n",
       "[142 rows x 6 columns]"
      ]
     },
     "execution_count": 81,
     "metadata": {},
     "output_type": "execute_result"
    }
   ],
   "source": [
    "gdp_and_pop_2002[\"gdp\"] = gdp_and_pop_2002[\"gdpPercap\"] * gdp_and_pop_2002[\"population\"]\n",
    "gdp_and_pop_2002"
   ]
  },
  {
   "cell_type": "code",
   "execution_count": 84,
   "id": "096b371b",
   "metadata": {},
   "outputs": [
    {
     "data": {
      "application/vnd.plotly.v1+json": {
       "config": {
        "plotlyServerURL": "https://plot.ly"
       },
       "data": [
        {
         "alignmentgroup": "True",
         "hovertemplate": "country=%{x}<br>gdpPercap=%{y}<extra></extra>",
         "legendgroup": "",
         "marker": {
          "color": "#636efa",
          "pattern": {
           "shape": ""
          }
         },
         "name": "",
         "offsetgroup": "",
         "orientation": "v",
         "showlegend": false,
         "textposition": "auto",
         "type": "bar",
         "x": [
          "Congo, Dem. Rep.",
          "Burundi",
          "Ethiopia",
          "Liberia",
          "Guinea-Bissau",
          "Niger",
          "Myanmar",
          "Mozambique",
          "Gambia",
          "Malawi",
          "Zimbabwe",
          "Sierra Leone",
          "Afghanistan",
          "Central African Republic",
          "Eritrea",
          "Rwanda",
          "Somalia",
          "Togo",
          "Madagascar",
          "Cambodia",
          "Tanzania",
          "Uganda",
          "Guinea",
          "Mali",
          "Burkina Faso",
          "Nepal",
          "Zambia",
          "Comoros",
          "Ghana",
          "Bangladesh",
          "Chad",
          "Haiti",
          "Lesotho",
          "Kenya",
          "Sao Tome and Principe",
          "Benin",
          "Senegal",
          "Mauritania",
          "Nigeria",
          "Korea, Dem. Rep.",
          "Cote d'Ivoire",
          "India",
          "Vietnam",
          "Djibouti",
          "Cameroon",
          "Sudan",
          "Pakistan",
          "Mongolia",
          "Yemen, Rep.",
          "Nicaragua",
          "Philippines",
          "Angola",
          "Indonesia",
          "Sri Lanka",
          "Honduras",
          "China",
          "Morocco",
          "Bolivia",
          "Congo, Rep.",
          "Paraguay",
          "Jordan",
          "Namibia",
          "Syria",
          "Swaziland",
          "Iraq",
          "West Bank and Gaza",
          "Dominican Republic",
          "Albania",
          "Egypt",
          "Guatemala",
          "Algeria",
          "El Salvador",
          "Tunisia",
          "Colombia",
          "Ecuador",
          "Peru",
          "Thailand",
          "Bosnia and Herzegovina",
          "Reunion",
          "Cuba",
          "Turkey",
          "Montenegro",
          "Jamaica",
          "Serbia",
          "Panama",
          "Bulgaria",
          "Equatorial Guinea",
          "South Africa",
          "Costa Rica",
          "Uruguay",
          "Romania",
          "Brazil",
          "Venezuela",
          "Argentina",
          "Mauritius",
          "Iran",
          "Lebanon",
          "Libya",
          "Malaysia",
          "Mexico",
          "Chile",
          "Botswana",
          "Trinidad and Tobago",
          "Croatia",
          "Poland",
          "Gabon",
          "Slovak Republic",
          "Hungary",
          "Czech Republic",
          "Puerto Rico",
          "Saudi Arabia",
          "Korea, Rep.",
          "Oman",
          "Portugal",
          "Slovenia",
          "Israel",
          "Greece",
          "New Zealand",
          "Taiwan",
          "Bahrain",
          "Spain",
          "Italy",
          "Finland",
          "Japan",
          "France",
          "Sweden",
          "United Kingdom",
          "Germany",
          "Hong Kong, China",
          "Belgium",
          "Australia",
          "Iceland",
          "Denmark",
          "Austria",
          "Canada",
          "Netherlands",
          "Ireland",
          "Switzerland",
          "Kuwait",
          "Singapore",
          "United States",
          "Norway"
         ],
         "xaxis": "x",
         "y": [
          241.1658765,
          446.4035126,
          530.0535319,
          531.4823679,
          575.7047176,
          601.0745012,
          611,
          633.6179466,
          660.5855997,
          665.4231186000002,
          672.0386227000001,
          699.4897129999998,
          726.7340548,
          738.6906068,
          765.3500015,
          785.6537647999999,
          882.0818218000002,
          886.2205765000001,
          894.6370822,
          896.2260152999999,
          899.0742111,
          927.7210018,
          945.5835837,
          951.4097518,
          1037.645221,
          1057.206311,
          1071.6139380000004,
          1075.811558,
          1111.9845779999996,
          1136.3904300000004,
          1156.18186,
          1270.364932,
          1275.184575,
          1287.514732,
          1353.09239,
          1372.877931,
          1519.635262,
          1579.019543,
          1615.286395,
          1646.758151,
          1648.800823,
          1746.769454,
          1764.456677,
          1908.260867,
          1934.011449,
          1993.398314,
          2092.712441,
          2140.739323,
          2234.820827,
          2474.548819,
          2650.921068,
          2773.287312,
          2873.91287,
          3015.378833,
          3099.72866,
          3119.280896,
          3258.495584,
          3413.26269,
          3484.06197,
          3783.674243,
          3844.917194,
          4072.324751,
          4090.925331,
          4128.116943,
          4390.717312,
          4515.487575,
          4563.808154,
          4604.211737,
          4754.604414,
          4858.347495,
          5288.040382,
          5351.568665999999,
          5722.895654999998,
          5755.259962,
          5773.044512,
          5909.020073,
          5913.187529,
          6018.975239,
          6316.1652,
          6340.646683,
          6508.085718,
          6557.194282,
          6994.774861,
          7236.075251,
          7356.0319340000015,
          7696.777725,
          7703.4959,
          7710.946444,
          7723.447195000002,
          7727.002004000001,
          7885.360081,
          8131.212843000001,
          8605.047831,
          8797.640716,
          9021.815894,
          9240.761975,
          9313.93883,
          9534.677467,
          10206.97794,
          10742.44053,
          10778.78385,
          11003.60508,
          11460.60023,
          11628.38895,
          12002.23908,
          12521.71392,
          13638.778369999998,
          14843.93556,
          17596.210219999994,
          18855.60618,
          19014.54118,
          19233.98818,
          19774.83687,
          19970.90787,
          20660.01936,
          21905.59514,
          22514.2548,
          23189.80135,
          23235.42329,
          23403.55927,
          24835.47166,
          27968.09817,
          28204.59057,
          28604.5919,
          28926.03234,
          29341.630930000007,
          29478.99919,
          30035.80198,
          30209.015160000006,
          30485.88375,
          30687.75473,
          31163.20196,
          32166.50006,
          32417.60769,
          33328.96507,
          33724.75778,
          34077.04939,
          34480.95771,
          35110.10566,
          36023.1054,
          39097.09955,
          44683.97525
         ],
         "yaxis": "y"
        }
       ],
       "layout": {
        "barmode": "relative",
        "legend": {
         "tracegroupgap": 0
        },
        "margin": {
         "t": 60
        },
        "template": {
         "data": {
          "bar": [
           {
            "error_x": {
             "color": "#2a3f5f"
            },
            "error_y": {
             "color": "#2a3f5f"
            },
            "marker": {
             "line": {
              "color": "#E5ECF6",
              "width": 0.5
             },
             "pattern": {
              "fillmode": "overlay",
              "size": 10,
              "solidity": 0.2
             }
            },
            "type": "bar"
           }
          ],
          "barpolar": [
           {
            "marker": {
             "line": {
              "color": "#E5ECF6",
              "width": 0.5
             },
             "pattern": {
              "fillmode": "overlay",
              "size": 10,
              "solidity": 0.2
             }
            },
            "type": "barpolar"
           }
          ],
          "carpet": [
           {
            "aaxis": {
             "endlinecolor": "#2a3f5f",
             "gridcolor": "white",
             "linecolor": "white",
             "minorgridcolor": "white",
             "startlinecolor": "#2a3f5f"
            },
            "baxis": {
             "endlinecolor": "#2a3f5f",
             "gridcolor": "white",
             "linecolor": "white",
             "minorgridcolor": "white",
             "startlinecolor": "#2a3f5f"
            },
            "type": "carpet"
           }
          ],
          "choropleth": [
           {
            "colorbar": {
             "outlinewidth": 0,
             "ticks": ""
            },
            "type": "choropleth"
           }
          ],
          "contour": [
           {
            "colorbar": {
             "outlinewidth": 0,
             "ticks": ""
            },
            "colorscale": [
             [
              0,
              "#0d0887"
             ],
             [
              0.1111111111111111,
              "#46039f"
             ],
             [
              0.2222222222222222,
              "#7201a8"
             ],
             [
              0.3333333333333333,
              "#9c179e"
             ],
             [
              0.4444444444444444,
              "#bd3786"
             ],
             [
              0.5555555555555556,
              "#d8576b"
             ],
             [
              0.6666666666666666,
              "#ed7953"
             ],
             [
              0.7777777777777778,
              "#fb9f3a"
             ],
             [
              0.8888888888888888,
              "#fdca26"
             ],
             [
              1,
              "#f0f921"
             ]
            ],
            "type": "contour"
           }
          ],
          "contourcarpet": [
           {
            "colorbar": {
             "outlinewidth": 0,
             "ticks": ""
            },
            "type": "contourcarpet"
           }
          ],
          "heatmap": [
           {
            "colorbar": {
             "outlinewidth": 0,
             "ticks": ""
            },
            "colorscale": [
             [
              0,
              "#0d0887"
             ],
             [
              0.1111111111111111,
              "#46039f"
             ],
             [
              0.2222222222222222,
              "#7201a8"
             ],
             [
              0.3333333333333333,
              "#9c179e"
             ],
             [
              0.4444444444444444,
              "#bd3786"
             ],
             [
              0.5555555555555556,
              "#d8576b"
             ],
             [
              0.6666666666666666,
              "#ed7953"
             ],
             [
              0.7777777777777778,
              "#fb9f3a"
             ],
             [
              0.8888888888888888,
              "#fdca26"
             ],
             [
              1,
              "#f0f921"
             ]
            ],
            "type": "heatmap"
           }
          ],
          "heatmapgl": [
           {
            "colorbar": {
             "outlinewidth": 0,
             "ticks": ""
            },
            "colorscale": [
             [
              0,
              "#0d0887"
             ],
             [
              0.1111111111111111,
              "#46039f"
             ],
             [
              0.2222222222222222,
              "#7201a8"
             ],
             [
              0.3333333333333333,
              "#9c179e"
             ],
             [
              0.4444444444444444,
              "#bd3786"
             ],
             [
              0.5555555555555556,
              "#d8576b"
             ],
             [
              0.6666666666666666,
              "#ed7953"
             ],
             [
              0.7777777777777778,
              "#fb9f3a"
             ],
             [
              0.8888888888888888,
              "#fdca26"
             ],
             [
              1,
              "#f0f921"
             ]
            ],
            "type": "heatmapgl"
           }
          ],
          "histogram": [
           {
            "marker": {
             "pattern": {
              "fillmode": "overlay",
              "size": 10,
              "solidity": 0.2
             }
            },
            "type": "histogram"
           }
          ],
          "histogram2d": [
           {
            "colorbar": {
             "outlinewidth": 0,
             "ticks": ""
            },
            "colorscale": [
             [
              0,
              "#0d0887"
             ],
             [
              0.1111111111111111,
              "#46039f"
             ],
             [
              0.2222222222222222,
              "#7201a8"
             ],
             [
              0.3333333333333333,
              "#9c179e"
             ],
             [
              0.4444444444444444,
              "#bd3786"
             ],
             [
              0.5555555555555556,
              "#d8576b"
             ],
             [
              0.6666666666666666,
              "#ed7953"
             ],
             [
              0.7777777777777778,
              "#fb9f3a"
             ],
             [
              0.8888888888888888,
              "#fdca26"
             ],
             [
              1,
              "#f0f921"
             ]
            ],
            "type": "histogram2d"
           }
          ],
          "histogram2dcontour": [
           {
            "colorbar": {
             "outlinewidth": 0,
             "ticks": ""
            },
            "colorscale": [
             [
              0,
              "#0d0887"
             ],
             [
              0.1111111111111111,
              "#46039f"
             ],
             [
              0.2222222222222222,
              "#7201a8"
             ],
             [
              0.3333333333333333,
              "#9c179e"
             ],
             [
              0.4444444444444444,
              "#bd3786"
             ],
             [
              0.5555555555555556,
              "#d8576b"
             ],
             [
              0.6666666666666666,
              "#ed7953"
             ],
             [
              0.7777777777777778,
              "#fb9f3a"
             ],
             [
              0.8888888888888888,
              "#fdca26"
             ],
             [
              1,
              "#f0f921"
             ]
            ],
            "type": "histogram2dcontour"
           }
          ],
          "mesh3d": [
           {
            "colorbar": {
             "outlinewidth": 0,
             "ticks": ""
            },
            "type": "mesh3d"
           }
          ],
          "parcoords": [
           {
            "line": {
             "colorbar": {
              "outlinewidth": 0,
              "ticks": ""
             }
            },
            "type": "parcoords"
           }
          ],
          "pie": [
           {
            "automargin": true,
            "type": "pie"
           }
          ],
          "scatter": [
           {
            "fillpattern": {
             "fillmode": "overlay",
             "size": 10,
             "solidity": 0.2
            },
            "type": "scatter"
           }
          ],
          "scatter3d": [
           {
            "line": {
             "colorbar": {
              "outlinewidth": 0,
              "ticks": ""
             }
            },
            "marker": {
             "colorbar": {
              "outlinewidth": 0,
              "ticks": ""
             }
            },
            "type": "scatter3d"
           }
          ],
          "scattercarpet": [
           {
            "marker": {
             "colorbar": {
              "outlinewidth": 0,
              "ticks": ""
             }
            },
            "type": "scattercarpet"
           }
          ],
          "scattergeo": [
           {
            "marker": {
             "colorbar": {
              "outlinewidth": 0,
              "ticks": ""
             }
            },
            "type": "scattergeo"
           }
          ],
          "scattergl": [
           {
            "marker": {
             "colorbar": {
              "outlinewidth": 0,
              "ticks": ""
             }
            },
            "type": "scattergl"
           }
          ],
          "scattermapbox": [
           {
            "marker": {
             "colorbar": {
              "outlinewidth": 0,
              "ticks": ""
             }
            },
            "type": "scattermapbox"
           }
          ],
          "scatterpolar": [
           {
            "marker": {
             "colorbar": {
              "outlinewidth": 0,
              "ticks": ""
             }
            },
            "type": "scatterpolar"
           }
          ],
          "scatterpolargl": [
           {
            "marker": {
             "colorbar": {
              "outlinewidth": 0,
              "ticks": ""
             }
            },
            "type": "scatterpolargl"
           }
          ],
          "scatterternary": [
           {
            "marker": {
             "colorbar": {
              "outlinewidth": 0,
              "ticks": ""
             }
            },
            "type": "scatterternary"
           }
          ],
          "surface": [
           {
            "colorbar": {
             "outlinewidth": 0,
             "ticks": ""
            },
            "colorscale": [
             [
              0,
              "#0d0887"
             ],
             [
              0.1111111111111111,
              "#46039f"
             ],
             [
              0.2222222222222222,
              "#7201a8"
             ],
             [
              0.3333333333333333,
              "#9c179e"
             ],
             [
              0.4444444444444444,
              "#bd3786"
             ],
             [
              0.5555555555555556,
              "#d8576b"
             ],
             [
              0.6666666666666666,
              "#ed7953"
             ],
             [
              0.7777777777777778,
              "#fb9f3a"
             ],
             [
              0.8888888888888888,
              "#fdca26"
             ],
             [
              1,
              "#f0f921"
             ]
            ],
            "type": "surface"
           }
          ],
          "table": [
           {
            "cells": {
             "fill": {
              "color": "#EBF0F8"
             },
             "line": {
              "color": "white"
             }
            },
            "header": {
             "fill": {
              "color": "#C8D4E3"
             },
             "line": {
              "color": "white"
             }
            },
            "type": "table"
           }
          ]
         },
         "layout": {
          "annotationdefaults": {
           "arrowcolor": "#2a3f5f",
           "arrowhead": 0,
           "arrowwidth": 1
          },
          "autotypenumbers": "strict",
          "coloraxis": {
           "colorbar": {
            "outlinewidth": 0,
            "ticks": ""
           }
          },
          "colorscale": {
           "diverging": [
            [
             0,
             "#8e0152"
            ],
            [
             0.1,
             "#c51b7d"
            ],
            [
             0.2,
             "#de77ae"
            ],
            [
             0.3,
             "#f1b6da"
            ],
            [
             0.4,
             "#fde0ef"
            ],
            [
             0.5,
             "#f7f7f7"
            ],
            [
             0.6,
             "#e6f5d0"
            ],
            [
             0.7,
             "#b8e186"
            ],
            [
             0.8,
             "#7fbc41"
            ],
            [
             0.9,
             "#4d9221"
            ],
            [
             1,
             "#276419"
            ]
           ],
           "sequential": [
            [
             0,
             "#0d0887"
            ],
            [
             0.1111111111111111,
             "#46039f"
            ],
            [
             0.2222222222222222,
             "#7201a8"
            ],
            [
             0.3333333333333333,
             "#9c179e"
            ],
            [
             0.4444444444444444,
             "#bd3786"
            ],
            [
             0.5555555555555556,
             "#d8576b"
            ],
            [
             0.6666666666666666,
             "#ed7953"
            ],
            [
             0.7777777777777778,
             "#fb9f3a"
            ],
            [
             0.8888888888888888,
             "#fdca26"
            ],
            [
             1,
             "#f0f921"
            ]
           ],
           "sequentialminus": [
            [
             0,
             "#0d0887"
            ],
            [
             0.1111111111111111,
             "#46039f"
            ],
            [
             0.2222222222222222,
             "#7201a8"
            ],
            [
             0.3333333333333333,
             "#9c179e"
            ],
            [
             0.4444444444444444,
             "#bd3786"
            ],
            [
             0.5555555555555556,
             "#d8576b"
            ],
            [
             0.6666666666666666,
             "#ed7953"
            ],
            [
             0.7777777777777778,
             "#fb9f3a"
            ],
            [
             0.8888888888888888,
             "#fdca26"
            ],
            [
             1,
             "#f0f921"
            ]
           ]
          },
          "colorway": [
           "#636efa",
           "#EF553B",
           "#00cc96",
           "#ab63fa",
           "#FFA15A",
           "#19d3f3",
           "#FF6692",
           "#B6E880",
           "#FF97FF",
           "#FECB52"
          ],
          "font": {
           "color": "#2a3f5f"
          },
          "geo": {
           "bgcolor": "white",
           "lakecolor": "white",
           "landcolor": "#E5ECF6",
           "showlakes": true,
           "showland": true,
           "subunitcolor": "white"
          },
          "hoverlabel": {
           "align": "left"
          },
          "hovermode": "closest",
          "mapbox": {
           "style": "light"
          },
          "paper_bgcolor": "white",
          "plot_bgcolor": "#E5ECF6",
          "polar": {
           "angularaxis": {
            "gridcolor": "white",
            "linecolor": "white",
            "ticks": ""
           },
           "bgcolor": "#E5ECF6",
           "radialaxis": {
            "gridcolor": "white",
            "linecolor": "white",
            "ticks": ""
           }
          },
          "scene": {
           "xaxis": {
            "backgroundcolor": "#E5ECF6",
            "gridcolor": "white",
            "gridwidth": 2,
            "linecolor": "white",
            "showbackground": true,
            "ticks": "",
            "zerolinecolor": "white"
           },
           "yaxis": {
            "backgroundcolor": "#E5ECF6",
            "gridcolor": "white",
            "gridwidth": 2,
            "linecolor": "white",
            "showbackground": true,
            "ticks": "",
            "zerolinecolor": "white"
           },
           "zaxis": {
            "backgroundcolor": "#E5ECF6",
            "gridcolor": "white",
            "gridwidth": 2,
            "linecolor": "white",
            "showbackground": true,
            "ticks": "",
            "zerolinecolor": "white"
           }
          },
          "shapedefaults": {
           "line": {
            "color": "#2a3f5f"
           }
          },
          "ternary": {
           "aaxis": {
            "gridcolor": "white",
            "linecolor": "white",
            "ticks": ""
           },
           "baxis": {
            "gridcolor": "white",
            "linecolor": "white",
            "ticks": ""
           },
           "bgcolor": "#E5ECF6",
           "caxis": {
            "gridcolor": "white",
            "linecolor": "white",
            "ticks": ""
           }
          },
          "title": {
           "x": 0.05
          },
          "xaxis": {
           "automargin": true,
           "gridcolor": "white",
           "linecolor": "white",
           "ticks": "",
           "title": {
            "standoff": 15
           },
           "zerolinecolor": "white",
           "zerolinewidth": 2
          },
          "yaxis": {
           "automargin": true,
           "gridcolor": "white",
           "linecolor": "white",
           "ticks": "",
           "title": {
            "standoff": 15
           },
           "zerolinecolor": "white",
           "zerolinewidth": 2
          }
         }
        },
        "xaxis": {
         "anchor": "y",
         "domain": [
          0,
          1
         ],
         "title": {
          "text": "country"
         }
        },
        "yaxis": {
         "anchor": "x",
         "domain": [
          0,
          1
         ],
         "title": {
          "text": "gdpPercap"
         }
        }
       }
      }
     },
     "metadata": {},
     "output_type": "display_data"
    }
   ],
   "source": [
    "px.bar(gdp_and_pop_2002.sort_values(\"gdpPercap\"), x=\"country\", y=\"gdpPercap\")"
   ]
  },
  {
   "cell_type": "code",
   "execution_count": 90,
   "id": "b2b0e1c6",
   "metadata": {},
   "outputs": [
    {
     "data": {
      "application/vnd.plotly.v1+json": {
       "config": {
        "plotlyServerURL": "https://plot.ly"
       },
       "data": [
        {
         "hovertemplate": "year=%{x}<br>gdpPercap=%{y}<extra></extra>",
         "legendgroup": "",
         "line": {
          "color": "#636efa",
          "dash": "solid"
         },
         "marker": {
          "symbol": "circle"
         },
         "mode": "lines",
         "name": "",
         "orientation": "v",
         "showlegend": false,
         "type": "scatter",
         "x": [
          1952,
          1957,
          1962,
          1967,
          1972,
          1977,
          1982,
          1987,
          1992,
          1997,
          2002,
          2007
         ],
         "xaxis": "x",
         "y": [
          546.5657493,
          590.061996,
          658.3471509,
          700.7706107000001,
          724.032527,
          813.3373230000002,
          855.7235377000002,
          976.5126756,
          1164.406809,
          1458.817442,
          1746.769454,
          2452.210407
         ],
         "yaxis": "y"
        }
       ],
       "layout": {
        "legend": {
         "tracegroupgap": 0
        },
        "margin": {
         "t": 60
        },
        "template": {
         "data": {
          "bar": [
           {
            "error_x": {
             "color": "#2a3f5f"
            },
            "error_y": {
             "color": "#2a3f5f"
            },
            "marker": {
             "line": {
              "color": "#E5ECF6",
              "width": 0.5
             },
             "pattern": {
              "fillmode": "overlay",
              "size": 10,
              "solidity": 0.2
             }
            },
            "type": "bar"
           }
          ],
          "barpolar": [
           {
            "marker": {
             "line": {
              "color": "#E5ECF6",
              "width": 0.5
             },
             "pattern": {
              "fillmode": "overlay",
              "size": 10,
              "solidity": 0.2
             }
            },
            "type": "barpolar"
           }
          ],
          "carpet": [
           {
            "aaxis": {
             "endlinecolor": "#2a3f5f",
             "gridcolor": "white",
             "linecolor": "white",
             "minorgridcolor": "white",
             "startlinecolor": "#2a3f5f"
            },
            "baxis": {
             "endlinecolor": "#2a3f5f",
             "gridcolor": "white",
             "linecolor": "white",
             "minorgridcolor": "white",
             "startlinecolor": "#2a3f5f"
            },
            "type": "carpet"
           }
          ],
          "choropleth": [
           {
            "colorbar": {
             "outlinewidth": 0,
             "ticks": ""
            },
            "type": "choropleth"
           }
          ],
          "contour": [
           {
            "colorbar": {
             "outlinewidth": 0,
             "ticks": ""
            },
            "colorscale": [
             [
              0,
              "#0d0887"
             ],
             [
              0.1111111111111111,
              "#46039f"
             ],
             [
              0.2222222222222222,
              "#7201a8"
             ],
             [
              0.3333333333333333,
              "#9c179e"
             ],
             [
              0.4444444444444444,
              "#bd3786"
             ],
             [
              0.5555555555555556,
              "#d8576b"
             ],
             [
              0.6666666666666666,
              "#ed7953"
             ],
             [
              0.7777777777777778,
              "#fb9f3a"
             ],
             [
              0.8888888888888888,
              "#fdca26"
             ],
             [
              1,
              "#f0f921"
             ]
            ],
            "type": "contour"
           }
          ],
          "contourcarpet": [
           {
            "colorbar": {
             "outlinewidth": 0,
             "ticks": ""
            },
            "type": "contourcarpet"
           }
          ],
          "heatmap": [
           {
            "colorbar": {
             "outlinewidth": 0,
             "ticks": ""
            },
            "colorscale": [
             [
              0,
              "#0d0887"
             ],
             [
              0.1111111111111111,
              "#46039f"
             ],
             [
              0.2222222222222222,
              "#7201a8"
             ],
             [
              0.3333333333333333,
              "#9c179e"
             ],
             [
              0.4444444444444444,
              "#bd3786"
             ],
             [
              0.5555555555555556,
              "#d8576b"
             ],
             [
              0.6666666666666666,
              "#ed7953"
             ],
             [
              0.7777777777777778,
              "#fb9f3a"
             ],
             [
              0.8888888888888888,
              "#fdca26"
             ],
             [
              1,
              "#f0f921"
             ]
            ],
            "type": "heatmap"
           }
          ],
          "heatmapgl": [
           {
            "colorbar": {
             "outlinewidth": 0,
             "ticks": ""
            },
            "colorscale": [
             [
              0,
              "#0d0887"
             ],
             [
              0.1111111111111111,
              "#46039f"
             ],
             [
              0.2222222222222222,
              "#7201a8"
             ],
             [
              0.3333333333333333,
              "#9c179e"
             ],
             [
              0.4444444444444444,
              "#bd3786"
             ],
             [
              0.5555555555555556,
              "#d8576b"
             ],
             [
              0.6666666666666666,
              "#ed7953"
             ],
             [
              0.7777777777777778,
              "#fb9f3a"
             ],
             [
              0.8888888888888888,
              "#fdca26"
             ],
             [
              1,
              "#f0f921"
             ]
            ],
            "type": "heatmapgl"
           }
          ],
          "histogram": [
           {
            "marker": {
             "pattern": {
              "fillmode": "overlay",
              "size": 10,
              "solidity": 0.2
             }
            },
            "type": "histogram"
           }
          ],
          "histogram2d": [
           {
            "colorbar": {
             "outlinewidth": 0,
             "ticks": ""
            },
            "colorscale": [
             [
              0,
              "#0d0887"
             ],
             [
              0.1111111111111111,
              "#46039f"
             ],
             [
              0.2222222222222222,
              "#7201a8"
             ],
             [
              0.3333333333333333,
              "#9c179e"
             ],
             [
              0.4444444444444444,
              "#bd3786"
             ],
             [
              0.5555555555555556,
              "#d8576b"
             ],
             [
              0.6666666666666666,
              "#ed7953"
             ],
             [
              0.7777777777777778,
              "#fb9f3a"
             ],
             [
              0.8888888888888888,
              "#fdca26"
             ],
             [
              1,
              "#f0f921"
             ]
            ],
            "type": "histogram2d"
           }
          ],
          "histogram2dcontour": [
           {
            "colorbar": {
             "outlinewidth": 0,
             "ticks": ""
            },
            "colorscale": [
             [
              0,
              "#0d0887"
             ],
             [
              0.1111111111111111,
              "#46039f"
             ],
             [
              0.2222222222222222,
              "#7201a8"
             ],
             [
              0.3333333333333333,
              "#9c179e"
             ],
             [
              0.4444444444444444,
              "#bd3786"
             ],
             [
              0.5555555555555556,
              "#d8576b"
             ],
             [
              0.6666666666666666,
              "#ed7953"
             ],
             [
              0.7777777777777778,
              "#fb9f3a"
             ],
             [
              0.8888888888888888,
              "#fdca26"
             ],
             [
              1,
              "#f0f921"
             ]
            ],
            "type": "histogram2dcontour"
           }
          ],
          "mesh3d": [
           {
            "colorbar": {
             "outlinewidth": 0,
             "ticks": ""
            },
            "type": "mesh3d"
           }
          ],
          "parcoords": [
           {
            "line": {
             "colorbar": {
              "outlinewidth": 0,
              "ticks": ""
             }
            },
            "type": "parcoords"
           }
          ],
          "pie": [
           {
            "automargin": true,
            "type": "pie"
           }
          ],
          "scatter": [
           {
            "fillpattern": {
             "fillmode": "overlay",
             "size": 10,
             "solidity": 0.2
            },
            "type": "scatter"
           }
          ],
          "scatter3d": [
           {
            "line": {
             "colorbar": {
              "outlinewidth": 0,
              "ticks": ""
             }
            },
            "marker": {
             "colorbar": {
              "outlinewidth": 0,
              "ticks": ""
             }
            },
            "type": "scatter3d"
           }
          ],
          "scattercarpet": [
           {
            "marker": {
             "colorbar": {
              "outlinewidth": 0,
              "ticks": ""
             }
            },
            "type": "scattercarpet"
           }
          ],
          "scattergeo": [
           {
            "marker": {
             "colorbar": {
              "outlinewidth": 0,
              "ticks": ""
             }
            },
            "type": "scattergeo"
           }
          ],
          "scattergl": [
           {
            "marker": {
             "colorbar": {
              "outlinewidth": 0,
              "ticks": ""
             }
            },
            "type": "scattergl"
           }
          ],
          "scattermapbox": [
           {
            "marker": {
             "colorbar": {
              "outlinewidth": 0,
              "ticks": ""
             }
            },
            "type": "scattermapbox"
           }
          ],
          "scatterpolar": [
           {
            "marker": {
             "colorbar": {
              "outlinewidth": 0,
              "ticks": ""
             }
            },
            "type": "scatterpolar"
           }
          ],
          "scatterpolargl": [
           {
            "marker": {
             "colorbar": {
              "outlinewidth": 0,
              "ticks": ""
             }
            },
            "type": "scatterpolargl"
           }
          ],
          "scatterternary": [
           {
            "marker": {
             "colorbar": {
              "outlinewidth": 0,
              "ticks": ""
             }
            },
            "type": "scatterternary"
           }
          ],
          "surface": [
           {
            "colorbar": {
             "outlinewidth": 0,
             "ticks": ""
            },
            "colorscale": [
             [
              0,
              "#0d0887"
             ],
             [
              0.1111111111111111,
              "#46039f"
             ],
             [
              0.2222222222222222,
              "#7201a8"
             ],
             [
              0.3333333333333333,
              "#9c179e"
             ],
             [
              0.4444444444444444,
              "#bd3786"
             ],
             [
              0.5555555555555556,
              "#d8576b"
             ],
             [
              0.6666666666666666,
              "#ed7953"
             ],
             [
              0.7777777777777778,
              "#fb9f3a"
             ],
             [
              0.8888888888888888,
              "#fdca26"
             ],
             [
              1,
              "#f0f921"
             ]
            ],
            "type": "surface"
           }
          ],
          "table": [
           {
            "cells": {
             "fill": {
              "color": "#EBF0F8"
             },
             "line": {
              "color": "white"
             }
            },
            "header": {
             "fill": {
              "color": "#C8D4E3"
             },
             "line": {
              "color": "white"
             }
            },
            "type": "table"
           }
          ]
         },
         "layout": {
          "annotationdefaults": {
           "arrowcolor": "#2a3f5f",
           "arrowhead": 0,
           "arrowwidth": 1
          },
          "autotypenumbers": "strict",
          "coloraxis": {
           "colorbar": {
            "outlinewidth": 0,
            "ticks": ""
           }
          },
          "colorscale": {
           "diverging": [
            [
             0,
             "#8e0152"
            ],
            [
             0.1,
             "#c51b7d"
            ],
            [
             0.2,
             "#de77ae"
            ],
            [
             0.3,
             "#f1b6da"
            ],
            [
             0.4,
             "#fde0ef"
            ],
            [
             0.5,
             "#f7f7f7"
            ],
            [
             0.6,
             "#e6f5d0"
            ],
            [
             0.7,
             "#b8e186"
            ],
            [
             0.8,
             "#7fbc41"
            ],
            [
             0.9,
             "#4d9221"
            ],
            [
             1,
             "#276419"
            ]
           ],
           "sequential": [
            [
             0,
             "#0d0887"
            ],
            [
             0.1111111111111111,
             "#46039f"
            ],
            [
             0.2222222222222222,
             "#7201a8"
            ],
            [
             0.3333333333333333,
             "#9c179e"
            ],
            [
             0.4444444444444444,
             "#bd3786"
            ],
            [
             0.5555555555555556,
             "#d8576b"
            ],
            [
             0.6666666666666666,
             "#ed7953"
            ],
            [
             0.7777777777777778,
             "#fb9f3a"
            ],
            [
             0.8888888888888888,
             "#fdca26"
            ],
            [
             1,
             "#f0f921"
            ]
           ],
           "sequentialminus": [
            [
             0,
             "#0d0887"
            ],
            [
             0.1111111111111111,
             "#46039f"
            ],
            [
             0.2222222222222222,
             "#7201a8"
            ],
            [
             0.3333333333333333,
             "#9c179e"
            ],
            [
             0.4444444444444444,
             "#bd3786"
            ],
            [
             0.5555555555555556,
             "#d8576b"
            ],
            [
             0.6666666666666666,
             "#ed7953"
            ],
            [
             0.7777777777777778,
             "#fb9f3a"
            ],
            [
             0.8888888888888888,
             "#fdca26"
            ],
            [
             1,
             "#f0f921"
            ]
           ]
          },
          "colorway": [
           "#636efa",
           "#EF553B",
           "#00cc96",
           "#ab63fa",
           "#FFA15A",
           "#19d3f3",
           "#FF6692",
           "#B6E880",
           "#FF97FF",
           "#FECB52"
          ],
          "font": {
           "color": "#2a3f5f"
          },
          "geo": {
           "bgcolor": "white",
           "lakecolor": "white",
           "landcolor": "#E5ECF6",
           "showlakes": true,
           "showland": true,
           "subunitcolor": "white"
          },
          "hoverlabel": {
           "align": "left"
          },
          "hovermode": "closest",
          "mapbox": {
           "style": "light"
          },
          "paper_bgcolor": "white",
          "plot_bgcolor": "#E5ECF6",
          "polar": {
           "angularaxis": {
            "gridcolor": "white",
            "linecolor": "white",
            "ticks": ""
           },
           "bgcolor": "#E5ECF6",
           "radialaxis": {
            "gridcolor": "white",
            "linecolor": "white",
            "ticks": ""
           }
          },
          "scene": {
           "xaxis": {
            "backgroundcolor": "#E5ECF6",
            "gridcolor": "white",
            "gridwidth": 2,
            "linecolor": "white",
            "showbackground": true,
            "ticks": "",
            "zerolinecolor": "white"
           },
           "yaxis": {
            "backgroundcolor": "#E5ECF6",
            "gridcolor": "white",
            "gridwidth": 2,
            "linecolor": "white",
            "showbackground": true,
            "ticks": "",
            "zerolinecolor": "white"
           },
           "zaxis": {
            "backgroundcolor": "#E5ECF6",
            "gridcolor": "white",
            "gridwidth": 2,
            "linecolor": "white",
            "showbackground": true,
            "ticks": "",
            "zerolinecolor": "white"
           }
          },
          "shapedefaults": {
           "line": {
            "color": "#2a3f5f"
           }
          },
          "ternary": {
           "aaxis": {
            "gridcolor": "white",
            "linecolor": "white",
            "ticks": ""
           },
           "baxis": {
            "gridcolor": "white",
            "linecolor": "white",
            "ticks": ""
           },
           "bgcolor": "#E5ECF6",
           "caxis": {
            "gridcolor": "white",
            "linecolor": "white",
            "ticks": ""
           }
          },
          "title": {
           "x": 0.05
          },
          "xaxis": {
           "automargin": true,
           "gridcolor": "white",
           "linecolor": "white",
           "ticks": "",
           "title": {
            "standoff": 15
           },
           "zerolinecolor": "white",
           "zerolinewidth": 2
          },
          "yaxis": {
           "automargin": true,
           "gridcolor": "white",
           "linecolor": "white",
           "ticks": "",
           "title": {
            "standoff": 15
           },
           "zerolinecolor": "white",
           "zerolinewidth": 2
          }
         }
        },
        "xaxis": {
         "anchor": "y",
         "domain": [
          0,
          1
         ],
         "title": {
          "text": "year"
         }
        },
        "yaxis": {
         "anchor": "x",
         "domain": [
          0,
          1
         ],
         "title": {
          "text": "gdpPercap"
         }
        }
       }
      }
     },
     "metadata": {},
     "output_type": "display_data"
    }
   ],
   "source": [
    "px.line(gapminder.query('country == \"India\"'), x=\"year\", y=\"gdpPercap\")"
   ]
  },
  {
   "cell_type": "code",
   "execution_count": 91,
   "id": "a7cefd0c",
   "metadata": {},
   "outputs": [
    {
     "data": {
      "application/vnd.plotly.v1+json": {
       "config": {
        "plotlyServerURL": "https://plot.ly"
       },
       "data": [
        {
         "hovertemplate": "country=Afghanistan<br>year=%{x}<br>gdpPercap=%{y}<extra></extra>",
         "legendgroup": "Afghanistan",
         "line": {
          "color": "#636efa",
          "dash": "solid"
         },
         "marker": {
          "symbol": "circle"
         },
         "mode": "lines",
         "name": "Afghanistan",
         "showlegend": true,
         "type": "scattergl",
         "x": [
          1952,
          1957,
          1962,
          1967,
          1972,
          1977,
          1982,
          1987,
          1992,
          1997,
          2002,
          2007
         ],
         "xaxis": "x",
         "y": [
          779.4453145,
          820.8530296,
          853.1007099999998,
          836.1971382,
          739.9811057999998,
          786.11336,
          978.0114388,
          852.3959447999998,
          649.3413952000002,
          635.341351,
          726.7340548,
          974.5803384
         ],
         "yaxis": "y"
        },
        {
         "hovertemplate": "country=Albania<br>year=%{x}<br>gdpPercap=%{y}<extra></extra>",
         "legendgroup": "Albania",
         "line": {
          "color": "#EF553B",
          "dash": "solid"
         },
         "marker": {
          "symbol": "circle"
         },
         "mode": "lines",
         "name": "Albania",
         "showlegend": true,
         "type": "scattergl",
         "x": [
          1952,
          1957,
          1962,
          1967,
          1972,
          1977,
          1982,
          1987,
          1992,
          1997,
          2002,
          2007
         ],
         "xaxis": "x",
         "y": [
          1601.056136,
          1942.284244,
          2312.888958,
          2760.196931,
          3313.422188,
          3533.003910000001,
          3630.880722,
          3738.932735,
          2497.437901,
          3193.054604,
          4604.211737,
          5937.029525999998
         ],
         "yaxis": "y"
        },
        {
         "hovertemplate": "country=Algeria<br>year=%{x}<br>gdpPercap=%{y}<extra></extra>",
         "legendgroup": "Algeria",
         "line": {
          "color": "#00cc96",
          "dash": "solid"
         },
         "marker": {
          "symbol": "circle"
         },
         "mode": "lines",
         "name": "Algeria",
         "showlegend": true,
         "type": "scattergl",
         "x": [
          1952,
          1957,
          1962,
          1967,
          1972,
          1977,
          1982,
          1987,
          1992,
          1997,
          2002,
          2007
         ],
         "xaxis": "x",
         "y": [
          2449.008185,
          3013.976023,
          2550.81688,
          3246.991771,
          4182.663766,
          4910.416756000001,
          5745.160213,
          5681.358539,
          5023.216647,
          4797.295051,
          5288.040382,
          6223.367465
         ],
         "yaxis": "y"
        },
        {
         "hovertemplate": "country=Angola<br>year=%{x}<br>gdpPercap=%{y}<extra></extra>",
         "legendgroup": "Angola",
         "line": {
          "color": "#ab63fa",
          "dash": "solid"
         },
         "marker": {
          "symbol": "circle"
         },
         "mode": "lines",
         "name": "Angola",
         "showlegend": true,
         "type": "scattergl",
         "x": [
          1952,
          1957,
          1962,
          1967,
          1972,
          1977,
          1982,
          1987,
          1992,
          1997,
          2002,
          2007
         ],
         "xaxis": "x",
         "y": [
          3520.610273,
          3827.940465,
          4269.276742,
          5522.776375,
          5473.288004999999,
          3008.647355,
          2756.953672,
          2430.208311,
          2627.845685,
          2277.140884,
          2773.287312,
          4797.231267
         ],
         "yaxis": "y"
        },
        {
         "hovertemplate": "country=Argentina<br>year=%{x}<br>gdpPercap=%{y}<extra></extra>",
         "legendgroup": "Argentina",
         "line": {
          "color": "#FFA15A",
          "dash": "solid"
         },
         "marker": {
          "symbol": "circle"
         },
         "mode": "lines",
         "name": "Argentina",
         "showlegend": true,
         "type": "scattergl",
         "x": [
          1952,
          1957,
          1962,
          1967,
          1972,
          1977,
          1982,
          1987,
          1992,
          1997,
          2002,
          2007
         ],
         "xaxis": "x",
         "y": [
          5911.315053,
          6856.8562120000015,
          7133.166023000002,
          8052.953020999998,
          9443.038526,
          10079.02674,
          8997.897412,
          9139.671389,
          9308.41871,
          10967.28195,
          8797.640716,
          12779.37964
         ],
         "yaxis": "y"
        },
        {
         "hovertemplate": "country=Australia<br>year=%{x}<br>gdpPercap=%{y}<extra></extra>",
         "legendgroup": "Australia",
         "line": {
          "color": "#19d3f3",
          "dash": "solid"
         },
         "marker": {
          "symbol": "circle"
         },
         "mode": "lines",
         "name": "Australia",
         "showlegend": true,
         "type": "scattergl",
         "x": [
          1952,
          1957,
          1962,
          1967,
          1972,
          1977,
          1982,
          1987,
          1992,
          1997,
          2002,
          2007
         ],
         "xaxis": "x",
         "y": [
          10039.59564,
          10949.64959,
          12217.22686,
          14526.12465,
          16788.62948,
          18334.19751,
          19477.00928,
          21888.88903,
          23424.76683,
          26997.93657,
          30687.75473,
          34435.367439999995
         ],
         "yaxis": "y"
        },
        {
         "hovertemplate": "country=Austria<br>year=%{x}<br>gdpPercap=%{y}<extra></extra>",
         "legendgroup": "Austria",
         "line": {
          "color": "#FF6692",
          "dash": "solid"
         },
         "marker": {
          "symbol": "circle"
         },
         "mode": "lines",
         "name": "Austria",
         "showlegend": true,
         "type": "scattergl",
         "x": [
          1952,
          1957,
          1962,
          1967,
          1972,
          1977,
          1982,
          1987,
          1992,
          1997,
          2002,
          2007
         ],
         "xaxis": "x",
         "y": [
          6137.076492,
          8842.59803,
          10750.72111,
          12834.6024,
          16661.6256,
          19749.4223,
          21597.08362,
          23687.82607,
          27042.01868,
          29095.920660000003,
          32417.60769,
          36126.4927
         ],
         "yaxis": "y"
        },
        {
         "hovertemplate": "country=Bahrain<br>year=%{x}<br>gdpPercap=%{y}<extra></extra>",
         "legendgroup": "Bahrain",
         "line": {
          "color": "#B6E880",
          "dash": "solid"
         },
         "marker": {
          "symbol": "circle"
         },
         "mode": "lines",
         "name": "Bahrain",
         "showlegend": true,
         "type": "scattergl",
         "x": [
          1952,
          1957,
          1962,
          1967,
          1972,
          1977,
          1982,
          1987,
          1992,
          1997,
          2002,
          2007
         ],
         "xaxis": "x",
         "y": [
          9867.084765,
          11635.79945,
          12753.27514,
          14804.6727,
          18268.65839,
          19340.10196,
          19211.14731,
          18524.02406,
          19035.57917,
          20292.01679,
          23403.55927,
          29796.04834
         ],
         "yaxis": "y"
        },
        {
         "hovertemplate": "country=Bangladesh<br>year=%{x}<br>gdpPercap=%{y}<extra></extra>",
         "legendgroup": "Bangladesh",
         "line": {
          "color": "#FF97FF",
          "dash": "solid"
         },
         "marker": {
          "symbol": "circle"
         },
         "mode": "lines",
         "name": "Bangladesh",
         "showlegend": true,
         "type": "scattergl",
         "x": [
          1952,
          1957,
          1962,
          1967,
          1972,
          1977,
          1982,
          1987,
          1992,
          1997,
          2002,
          2007
         ],
         "xaxis": "x",
         "y": [
          684.2441716,
          661.6374577,
          686.3415537999998,
          721.1860862000002,
          630.2336265,
          659.8772322000002,
          676.9818656,
          751.9794035,
          837.8101642999999,
          972.7700352,
          1136.3904300000004,
          1391.253792
         ],
         "yaxis": "y"
        },
        {
         "hovertemplate": "country=Belgium<br>year=%{x}<br>gdpPercap=%{y}<extra></extra>",
         "legendgroup": "Belgium",
         "line": {
          "color": "#FECB52",
          "dash": "solid"
         },
         "marker": {
          "symbol": "circle"
         },
         "mode": "lines",
         "name": "Belgium",
         "showlegend": true,
         "type": "scattergl",
         "x": [
          1952,
          1957,
          1962,
          1967,
          1972,
          1977,
          1982,
          1987,
          1992,
          1997,
          2002,
          2007
         ],
         "xaxis": "x",
         "y": [
          8343.105126999999,
          9714.960623,
          10991.20676,
          13149.04119,
          16672.14356,
          19117.97448,
          20979.84589,
          22525.56308,
          25575.57069,
          27561.19663,
          30485.88375,
          33692.60508
         ],
         "yaxis": "y"
        },
        {
         "hovertemplate": "country=Benin<br>year=%{x}<br>gdpPercap=%{y}<extra></extra>",
         "legendgroup": "Benin",
         "line": {
          "color": "#636efa",
          "dash": "solid"
         },
         "marker": {
          "symbol": "circle"
         },
         "mode": "lines",
         "name": "Benin",
         "showlegend": true,
         "type": "scattergl",
         "x": [
          1952,
          1957,
          1962,
          1967,
          1972,
          1977,
          1982,
          1987,
          1992,
          1997,
          2002,
          2007
         ],
         "xaxis": "x",
         "y": [
          1062.7522,
          959.6010805,
          949.4990641,
          1035.831411,
          1085.796879,
          1029.161251,
          1277.897616,
          1225.85601,
          1191.207681,
          1232.975292,
          1372.877931,
          1441.284873
         ],
         "yaxis": "y"
        },
        {
         "hovertemplate": "country=Bolivia<br>year=%{x}<br>gdpPercap=%{y}<extra></extra>",
         "legendgroup": "Bolivia",
         "line": {
          "color": "#EF553B",
          "dash": "solid"
         },
         "marker": {
          "symbol": "circle"
         },
         "mode": "lines",
         "name": "Bolivia",
         "showlegend": true,
         "type": "scattergl",
         "x": [
          1952,
          1957,
          1962,
          1967,
          1972,
          1977,
          1982,
          1987,
          1992,
          1997,
          2002,
          2007
         ],
         "xaxis": "x",
         "y": [
          2677.326347,
          2127.686326,
          2180.972546,
          2586.886053,
          2980.331339,
          3548.097832,
          3156.510452,
          2753.69149,
          2961.699694,
          3326.143191,
          3413.26269,
          3822.137084
         ],
         "yaxis": "y"
        },
        {
         "hovertemplate": "country=Bosnia and Herzegovina<br>year=%{x}<br>gdpPercap=%{y}<extra></extra>",
         "legendgroup": "Bosnia and Herzegovina",
         "line": {
          "color": "#00cc96",
          "dash": "solid"
         },
         "marker": {
          "symbol": "circle"
         },
         "mode": "lines",
         "name": "Bosnia and Herzegovina",
         "showlegend": true,
         "type": "scattergl",
         "x": [
          1952,
          1957,
          1962,
          1967,
          1972,
          1977,
          1982,
          1987,
          1992,
          1997,
          2002,
          2007
         ],
         "xaxis": "x",
         "y": [
          973.5331948,
          1353.989176,
          1709.683679,
          2172.3524230000007,
          2860.16975,
          3528.481305,
          4126.613157,
          4314.114757,
          2546.781445,
          4766.355904,
          6018.975239,
          7446.298803
         ],
         "yaxis": "y"
        },
        {
         "hovertemplate": "country=Botswana<br>year=%{x}<br>gdpPercap=%{y}<extra></extra>",
         "legendgroup": "Botswana",
         "line": {
          "color": "#ab63fa",
          "dash": "solid"
         },
         "marker": {
          "symbol": "circle"
         },
         "mode": "lines",
         "name": "Botswana",
         "showlegend": true,
         "type": "scattergl",
         "x": [
          1952,
          1957,
          1962,
          1967,
          1972,
          1977,
          1982,
          1987,
          1992,
          1997,
          2002,
          2007
         ],
         "xaxis": "x",
         "y": [
          851.2411407,
          918.2325349,
          983.6539764,
          1214.709294,
          2263.6111140000007,
          3214.857818,
          4551.14215,
          6205.88385,
          7954.111645,
          8647.142313,
          11003.60508,
          12569.85177
         ],
         "yaxis": "y"
        },
        {
         "hovertemplate": "country=Brazil<br>year=%{x}<br>gdpPercap=%{y}<extra></extra>",
         "legendgroup": "Brazil",
         "line": {
          "color": "#FFA15A",
          "dash": "solid"
         },
         "marker": {
          "symbol": "circle"
         },
         "mode": "lines",
         "name": "Brazil",
         "showlegend": true,
         "type": "scattergl",
         "x": [
          1952,
          1957,
          1962,
          1967,
          1972,
          1977,
          1982,
          1987,
          1992,
          1997,
          2002,
          2007
         ],
         "xaxis": "x",
         "y": [
          2108.944355,
          2487.365989,
          3336.585802,
          3429.864357,
          4985.711467,
          6660.118654,
          7030.835878,
          7807.095818000002,
          6950.283020999998,
          7957.980823999998,
          8131.212843000001,
          9065.800825
         ],
         "yaxis": "y"
        },
        {
         "hovertemplate": "country=Bulgaria<br>year=%{x}<br>gdpPercap=%{y}<extra></extra>",
         "legendgroup": "Bulgaria",
         "line": {
          "color": "#19d3f3",
          "dash": "solid"
         },
         "marker": {
          "symbol": "circle"
         },
         "mode": "lines",
         "name": "Bulgaria",
         "showlegend": true,
         "type": "scattergl",
         "x": [
          1952,
          1957,
          1962,
          1967,
          1972,
          1977,
          1982,
          1987,
          1992,
          1997,
          2002,
          2007
         ],
         "xaxis": "x",
         "y": [
          2444.286648,
          3008.670727,
          4254.337839,
          5577.0028,
          6597.494398,
          7612.240438,
          8224.191647,
          8239.854824,
          6302.623438000001,
          5970.38876,
          7696.777725,
          10680.79282
         ],
         "yaxis": "y"
        },
        {
         "hovertemplate": "country=Burkina Faso<br>year=%{x}<br>gdpPercap=%{y}<extra></extra>",
         "legendgroup": "Burkina Faso",
         "line": {
          "color": "#FF6692",
          "dash": "solid"
         },
         "marker": {
          "symbol": "circle"
         },
         "mode": "lines",
         "name": "Burkina Faso",
         "showlegend": true,
         "type": "scattergl",
         "x": [
          1952,
          1957,
          1962,
          1967,
          1972,
          1977,
          1982,
          1987,
          1992,
          1997,
          2002,
          2007
         ],
         "xaxis": "x",
         "y": [
          543.2552413,
          617.1834647999998,
          722.5120206,
          794.8265597,
          854.7359763000002,
          743.3870368,
          807.1985855,
          912.0631417,
          931.7527731,
          946.2949618,
          1037.645221,
          1217.032994
         ],
         "yaxis": "y"
        },
        {
         "hovertemplate": "country=Burundi<br>year=%{x}<br>gdpPercap=%{y}<extra></extra>",
         "legendgroup": "Burundi",
         "line": {
          "color": "#B6E880",
          "dash": "solid"
         },
         "marker": {
          "symbol": "circle"
         },
         "mode": "lines",
         "name": "Burundi",
         "showlegend": true,
         "type": "scattergl",
         "x": [
          1952,
          1957,
          1962,
          1967,
          1972,
          1977,
          1982,
          1987,
          1992,
          1997,
          2002,
          2007
         ],
         "xaxis": "x",
         "y": [
          339.2964587,
          379.5646281000001,
          355.2032273,
          412.97751360000007,
          464.0995039,
          556.1032651,
          559.6032309999998,
          621.8188188999999,
          631.6998778,
          463.1151478,
          446.4035126,
          430.0706916
         ],
         "yaxis": "y"
        },
        {
         "hovertemplate": "country=Cambodia<br>year=%{x}<br>gdpPercap=%{y}<extra></extra>",
         "legendgroup": "Cambodia",
         "line": {
          "color": "#FF97FF",
          "dash": "solid"
         },
         "marker": {
          "symbol": "circle"
         },
         "mode": "lines",
         "name": "Cambodia",
         "showlegend": true,
         "type": "scattergl",
         "x": [
          1952,
          1957,
          1962,
          1967,
          1972,
          1977,
          1982,
          1987,
          1992,
          1997,
          2002,
          2007
         ],
         "xaxis": "x",
         "y": [
          368.4692856,
          434.0383364,
          496.9136476,
          523.4323142,
          421.6240257,
          524.9721831999999,
          624.4754784,
          683.8955732000002,
          682.3031755,
          734.28517,
          896.2260152999999,
          1713.778686
         ],
         "yaxis": "y"
        },
        {
         "hovertemplate": "country=Cameroon<br>year=%{x}<br>gdpPercap=%{y}<extra></extra>",
         "legendgroup": "Cameroon",
         "line": {
          "color": "#FECB52",
          "dash": "solid"
         },
         "marker": {
          "symbol": "circle"
         },
         "mode": "lines",
         "name": "Cameroon",
         "showlegend": true,
         "type": "scattergl",
         "x": [
          1952,
          1957,
          1962,
          1967,
          1972,
          1977,
          1982,
          1987,
          1992,
          1997,
          2002,
          2007
         ],
         "xaxis": "x",
         "y": [
          1172.667655,
          1313.048099,
          1399.607441,
          1508.453148,
          1684.1465280000002,
          1783.432873,
          2367.983282,
          2602.664206,
          1793.1632780000002,
          1694.337469,
          1934.011449,
          2042.09524
         ],
         "yaxis": "y"
        },
        {
         "hovertemplate": "country=Canada<br>year=%{x}<br>gdpPercap=%{y}<extra></extra>",
         "legendgroup": "Canada",
         "line": {
          "color": "#636efa",
          "dash": "solid"
         },
         "marker": {
          "symbol": "circle"
         },
         "mode": "lines",
         "name": "Canada",
         "showlegend": true,
         "type": "scattergl",
         "x": [
          1952,
          1957,
          1962,
          1967,
          1972,
          1977,
          1982,
          1987,
          1992,
          1997,
          2002,
          2007
         ],
         "xaxis": "x",
         "y": [
          11367.16112,
          12489.95006,
          13462.48555,
          16076.58803,
          18970.57086,
          22090.88306,
          22898.79214,
          26626.51503,
          26342.88426,
          28954.92589,
          33328.96507,
          36319.23501
         ],
         "yaxis": "y"
        },
        {
         "hovertemplate": "country=Central African Republic<br>year=%{x}<br>gdpPercap=%{y}<extra></extra>",
         "legendgroup": "Central African Republic",
         "line": {
          "color": "#EF553B",
          "dash": "solid"
         },
         "marker": {
          "symbol": "circle"
         },
         "mode": "lines",
         "name": "Central African Republic",
         "showlegend": true,
         "type": "scattergl",
         "x": [
          1952,
          1957,
          1962,
          1967,
          1972,
          1977,
          1982,
          1987,
          1992,
          1997,
          2002,
          2007
         ],
         "xaxis": "x",
         "y": [
          1071.310713,
          1190.844328,
          1193.068753,
          1136.056615,
          1070.013275,
          1109.374338,
          956.7529907,
          844.8763504000002,
          747.9055252,
          740.5063317,
          738.6906068,
          706.016537
         ],
         "yaxis": "y"
        },
        {
         "hovertemplate": "country=Chad<br>year=%{x}<br>gdpPercap=%{y}<extra></extra>",
         "legendgroup": "Chad",
         "line": {
          "color": "#00cc96",
          "dash": "solid"
         },
         "marker": {
          "symbol": "circle"
         },
         "mode": "lines",
         "name": "Chad",
         "showlegend": true,
         "type": "scattergl",
         "x": [
          1952,
          1957,
          1962,
          1967,
          1972,
          1977,
          1982,
          1987,
          1992,
          1997,
          2002,
          2007
         ],
         "xaxis": "x",
         "y": [
          1178.665927,
          1308.495577,
          1389.817618,
          1196.810565,
          1104.103987,
          1133.98495,
          797.9081006,
          952.386129,
          1058.0643,
          1004.961353,
          1156.18186,
          1704.063724
         ],
         "yaxis": "y"
        },
        {
         "hovertemplate": "country=Chile<br>year=%{x}<br>gdpPercap=%{y}<extra></extra>",
         "legendgroup": "Chile",
         "line": {
          "color": "#ab63fa",
          "dash": "solid"
         },
         "marker": {
          "symbol": "circle"
         },
         "mode": "lines",
         "name": "Chile",
         "showlegend": true,
         "type": "scattergl",
         "x": [
          1952,
          1957,
          1962,
          1967,
          1972,
          1977,
          1982,
          1987,
          1992,
          1997,
          2002,
          2007
         ],
         "xaxis": "x",
         "y": [
          3939.978789,
          4315.622723,
          4519.094331,
          5106.654313,
          5494.024437,
          4756.763836,
          5095.6657380000015,
          5547.063754,
          7596.125964,
          10118.05318,
          10778.78385,
          13171.63885
         ],
         "yaxis": "y"
        },
        {
         "hovertemplate": "country=China<br>year=%{x}<br>gdpPercap=%{y}<extra></extra>",
         "legendgroup": "China",
         "line": {
          "color": "#FFA15A",
          "dash": "solid"
         },
         "marker": {
          "symbol": "circle"
         },
         "mode": "lines",
         "name": "China",
         "showlegend": true,
         "type": "scattergl",
         "x": [
          1952,
          1957,
          1962,
          1967,
          1972,
          1977,
          1982,
          1987,
          1992,
          1997,
          2002,
          2007
         ],
         "xaxis": "x",
         "y": [
          400.448611,
          575.9870009,
          487.6740183,
          612.7056934,
          676.9000921,
          741.2374699,
          962.4213805,
          1378.904018,
          1655.784158,
          2289.234136,
          3119.280896,
          4959.114854
         ],
         "yaxis": "y"
        },
        {
         "hovertemplate": "country=Colombia<br>year=%{x}<br>gdpPercap=%{y}<extra></extra>",
         "legendgroup": "Colombia",
         "line": {
          "color": "#19d3f3",
          "dash": "solid"
         },
         "marker": {
          "symbol": "circle"
         },
         "mode": "lines",
         "name": "Colombia",
         "showlegend": true,
         "type": "scattergl",
         "x": [
          1952,
          1957,
          1962,
          1967,
          1972,
          1977,
          1982,
          1987,
          1992,
          1997,
          2002,
          2007
         ],
         "xaxis": "x",
         "y": [
          2144.115096,
          2323.805581,
          2492.351109,
          2678.729839,
          3264.660041,
          3815.80787,
          4397.575659,
          4903.2191,
          5444.648617,
          6117.361746000001,
          5755.259962,
          7006.580419
         ],
         "yaxis": "y"
        },
        {
         "hovertemplate": "country=Comoros<br>year=%{x}<br>gdpPercap=%{y}<extra></extra>",
         "legendgroup": "Comoros",
         "line": {
          "color": "#FF6692",
          "dash": "solid"
         },
         "marker": {
          "symbol": "circle"
         },
         "mode": "lines",
         "name": "Comoros",
         "showlegend": true,
         "type": "scattergl",
         "x": [
          1952,
          1957,
          1962,
          1967,
          1972,
          1977,
          1982,
          1987,
          1992,
          1997,
          2002,
          2007
         ],
         "xaxis": "x",
         "y": [
          1102.990936,
          1211.148548,
          1406.648278,
          1876.029643,
          1937.577675,
          1172.603047,
          1267.100083,
          1315.980812,
          1246.90737,
          1173.618235,
          1075.811558,
          986.1478792
         ],
         "yaxis": "y"
        },
        {
         "hovertemplate": "country=Congo, Dem. Rep.<br>year=%{x}<br>gdpPercap=%{y}<extra></extra>",
         "legendgroup": "Congo, Dem. Rep.",
         "line": {
          "color": "#B6E880",
          "dash": "solid"
         },
         "marker": {
          "symbol": "circle"
         },
         "mode": "lines",
         "name": "Congo, Dem. Rep.",
         "showlegend": true,
         "type": "scattergl",
         "x": [
          1952,
          1957,
          1962,
          1967,
          1972,
          1977,
          1982,
          1987,
          1992,
          1997,
          2002,
          2007
         ],
         "xaxis": "x",
         "y": [
          780.5423257,
          905.8602303,
          896.3146335000001,
          861.5932424,
          904.8960685,
          795.757282,
          673.7478181,
          672.774812,
          457.7191807,
          312.188423,
          241.1658765,
          277.5518587
         ],
         "yaxis": "y"
        },
        {
         "hovertemplate": "country=Congo, Rep.<br>year=%{x}<br>gdpPercap=%{y}<extra></extra>",
         "legendgroup": "Congo, Rep.",
         "line": {
          "color": "#FF97FF",
          "dash": "solid"
         },
         "marker": {
          "symbol": "circle"
         },
         "mode": "lines",
         "name": "Congo, Rep.",
         "showlegend": true,
         "type": "scattergl",
         "x": [
          1952,
          1957,
          1962,
          1967,
          1972,
          1977,
          1982,
          1987,
          1992,
          1997,
          2002,
          2007
         ],
         "xaxis": "x",
         "y": [
          2125.621418,
          2315.056572,
          2464.783157,
          2677.9396420000007,
          3213.152683,
          3259.178978,
          4879.507522,
          4201.194936999998,
          4016.239529,
          3484.164376,
          3484.06197,
          3632.557798
         ],
         "yaxis": "y"
        },
        {
         "hovertemplate": "country=Costa Rica<br>year=%{x}<br>gdpPercap=%{y}<extra></extra>",
         "legendgroup": "Costa Rica",
         "line": {
          "color": "#FECB52",
          "dash": "solid"
         },
         "marker": {
          "symbol": "circle"
         },
         "mode": "lines",
         "name": "Costa Rica",
         "showlegend": true,
         "type": "scattergl",
         "x": [
          1952,
          1957,
          1962,
          1967,
          1972,
          1977,
          1982,
          1987,
          1992,
          1997,
          2002,
          2007
         ],
         "xaxis": "x",
         "y": [
          2627.0094710000008,
          2990.010802,
          3460.937025,
          4161.727834,
          5118.146939,
          5926.876967,
          5262.734751,
          5629.915318,
          6160.416317,
          6677.045314,
          7723.447195000002,
          9645.06142
         ],
         "yaxis": "y"
        },
        {
         "hovertemplate": "country=Cote d'Ivoire<br>year=%{x}<br>gdpPercap=%{y}<extra></extra>",
         "legendgroup": "Cote d'Ivoire",
         "line": {
          "color": "#636efa",
          "dash": "solid"
         },
         "marker": {
          "symbol": "circle"
         },
         "mode": "lines",
         "name": "Cote d'Ivoire",
         "showlegend": true,
         "type": "scattergl",
         "x": [
          1952,
          1957,
          1962,
          1967,
          1972,
          1977,
          1982,
          1987,
          1992,
          1997,
          2002,
          2007
         ],
         "xaxis": "x",
         "y": [
          1388.594732,
          1500.895925,
          1728.8694280000002,
          2052.050473,
          2378.201111,
          2517.736547,
          2602.710169,
          2156.9560690000008,
          1648.073791,
          1786.265407,
          1648.800823,
          1544.750112
         ],
         "yaxis": "y"
        },
        {
         "hovertemplate": "country=Croatia<br>year=%{x}<br>gdpPercap=%{y}<extra></extra>",
         "legendgroup": "Croatia",
         "line": {
          "color": "#EF553B",
          "dash": "solid"
         },
         "marker": {
          "symbol": "circle"
         },
         "mode": "lines",
         "name": "Croatia",
         "showlegend": true,
         "type": "scattergl",
         "x": [
          1952,
          1957,
          1962,
          1967,
          1972,
          1977,
          1982,
          1987,
          1992,
          1997,
          2002,
          2007
         ],
         "xaxis": "x",
         "y": [
          3119.23652,
          4338.231617,
          5477.890018,
          6960.297861,
          9164.090127,
          11305.38517,
          13221.82184,
          13822.58394,
          8447.794873,
          9875.604515,
          11628.38895,
          14619.222719999998
         ],
         "yaxis": "y"
        },
        {
         "hovertemplate": "country=Cuba<br>year=%{x}<br>gdpPercap=%{y}<extra></extra>",
         "legendgroup": "Cuba",
         "line": {
          "color": "#00cc96",
          "dash": "solid"
         },
         "marker": {
          "symbol": "circle"
         },
         "mode": "lines",
         "name": "Cuba",
         "showlegend": true,
         "type": "scattergl",
         "x": [
          1952,
          1957,
          1962,
          1967,
          1972,
          1977,
          1982,
          1987,
          1992,
          1997,
          2002,
          2007
         ],
         "xaxis": "x",
         "y": [
          5586.53878,
          6092.1743590000015,
          5180.75591,
          5690.268015,
          5305.445256,
          6380.494965999998,
          7316.918106999998,
          7532.924762999999,
          5592.843963,
          5431.990415,
          6340.646683,
          8948.102923
         ],
         "yaxis": "y"
        },
        {
         "hovertemplate": "country=Czech Republic<br>year=%{x}<br>gdpPercap=%{y}<extra></extra>",
         "legendgroup": "Czech Republic",
         "line": {
          "color": "#ab63fa",
          "dash": "solid"
         },
         "marker": {
          "symbol": "circle"
         },
         "mode": "lines",
         "name": "Czech Republic",
         "showlegend": true,
         "type": "scattergl",
         "x": [
          1952,
          1957,
          1962,
          1967,
          1972,
          1977,
          1982,
          1987,
          1992,
          1997,
          2002,
          2007
         ],
         "xaxis": "x",
         "y": [
          6876.14025,
          8256.343918,
          10136.86713,
          11399.44489,
          13108.4536,
          14800.16062,
          15377.22855,
          16310.4434,
          14297.02122,
          16048.51424,
          17596.210219999994,
          22833.30851
         ],
         "yaxis": "y"
        },
        {
         "hovertemplate": "country=Denmark<br>year=%{x}<br>gdpPercap=%{y}<extra></extra>",
         "legendgroup": "Denmark",
         "line": {
          "color": "#FFA15A",
          "dash": "solid"
         },
         "marker": {
          "symbol": "circle"
         },
         "mode": "lines",
         "name": "Denmark",
         "showlegend": true,
         "type": "scattergl",
         "x": [
          1952,
          1957,
          1962,
          1967,
          1972,
          1977,
          1982,
          1987,
          1992,
          1997,
          2002,
          2007
         ],
         "xaxis": "x",
         "y": [
          9692.385245,
          11099.65935,
          13583.31351,
          15937.21123,
          18866.20721,
          20422.9015,
          21688.04048,
          25116.17581,
          26406.73985,
          29804.34567,
          32166.50006,
          35278.41874
         ],
         "yaxis": "y"
        },
        {
         "hovertemplate": "country=Djibouti<br>year=%{x}<br>gdpPercap=%{y}<extra></extra>",
         "legendgroup": "Djibouti",
         "line": {
          "color": "#19d3f3",
          "dash": "solid"
         },
         "marker": {
          "symbol": "circle"
         },
         "mode": "lines",
         "name": "Djibouti",
         "showlegend": true,
         "type": "scattergl",
         "x": [
          1952,
          1957,
          1962,
          1967,
          1972,
          1977,
          1982,
          1987,
          1992,
          1997,
          2002,
          2007
         ],
         "xaxis": "x",
         "y": [
          2669.529475,
          2864.9690760000008,
          3020.989263,
          3020.050513,
          3694.2123520000014,
          3081.761022,
          2879.468067,
          2880.102568,
          2377.156192000001,
          1895.016984,
          1908.260867,
          2082.4815670000007
         ],
         "yaxis": "y"
        },
        {
         "hovertemplate": "country=Dominican Republic<br>year=%{x}<br>gdpPercap=%{y}<extra></extra>",
         "legendgroup": "Dominican Republic",
         "line": {
          "color": "#FF6692",
          "dash": "solid"
         },
         "marker": {
          "symbol": "circle"
         },
         "mode": "lines",
         "name": "Dominican Republic",
         "showlegend": true,
         "type": "scattergl",
         "x": [
          1952,
          1957,
          1962,
          1967,
          1972,
          1977,
          1982,
          1987,
          1992,
          1997,
          2002,
          2007
         ],
         "xaxis": "x",
         "y": [
          1397.717137,
          1544.402995,
          1662.137359,
          1653.7230029999996,
          2189.874499,
          2681.9889,
          2861.092386,
          2899.842175,
          3044.214214,
          3614.101285,
          4563.808154,
          6025.3747520000015
         ],
         "yaxis": "y"
        },
        {
         "hovertemplate": "country=Ecuador<br>year=%{x}<br>gdpPercap=%{y}<extra></extra>",
         "legendgroup": "Ecuador",
         "line": {
          "color": "#B6E880",
          "dash": "solid"
         },
         "marker": {
          "symbol": "circle"
         },
         "mode": "lines",
         "name": "Ecuador",
         "showlegend": true,
         "type": "scattergl",
         "x": [
          1952,
          1957,
          1962,
          1967,
          1972,
          1977,
          1982,
          1987,
          1992,
          1997,
          2002,
          2007
         ],
         "xaxis": "x",
         "y": [
          3522.110717,
          3780.546651,
          4086.114078,
          4579.074215,
          5280.99471,
          6679.62326,
          7213.791267,
          6481.776993,
          7103.702595000002,
          7429.4558769999985,
          5773.044512,
          6873.262326000001
         ],
         "yaxis": "y"
        },
        {
         "hovertemplate": "country=Egypt<br>year=%{x}<br>gdpPercap=%{y}<extra></extra>",
         "legendgroup": "Egypt",
         "line": {
          "color": "#FF97FF",
          "dash": "solid"
         },
         "marker": {
          "symbol": "circle"
         },
         "mode": "lines",
         "name": "Egypt",
         "showlegend": true,
         "type": "scattergl",
         "x": [
          1952,
          1957,
          1962,
          1967,
          1972,
          1977,
          1982,
          1987,
          1992,
          1997,
          2002,
          2007
         ],
         "xaxis": "x",
         "y": [
          1418.822445,
          1458.915272,
          1693.335853,
          1814.880728,
          2024.008147,
          2785.493582,
          3503.729636,
          3885.46071,
          3794.755195,
          4173.181797,
          4754.604414,
          5581.180998
         ],
         "yaxis": "y"
        },
        {
         "hovertemplate": "country=El Salvador<br>year=%{x}<br>gdpPercap=%{y}<extra></extra>",
         "legendgroup": "El Salvador",
         "line": {
          "color": "#FECB52",
          "dash": "solid"
         },
         "marker": {
          "symbol": "circle"
         },
         "mode": "lines",
         "name": "El Salvador",
         "showlegend": true,
         "type": "scattergl",
         "x": [
          1952,
          1957,
          1962,
          1967,
          1972,
          1977,
          1982,
          1987,
          1992,
          1997,
          2002,
          2007
         ],
         "xaxis": "x",
         "y": [
          3048.3029,
          3421.523218,
          3776.803627,
          4358.595393,
          4520.246008,
          5138.922374,
          4098.344175,
          4140.442097,
          4444.2317,
          5154.825496,
          5351.568665999999,
          5728.353514
         ],
         "yaxis": "y"
        },
        {
         "hovertemplate": "country=Equatorial Guinea<br>year=%{x}<br>gdpPercap=%{y}<extra></extra>",
         "legendgroup": "Equatorial Guinea",
         "line": {
          "color": "#636efa",
          "dash": "solid"
         },
         "marker": {
          "symbol": "circle"
         },
         "mode": "lines",
         "name": "Equatorial Guinea",
         "showlegend": true,
         "type": "scattergl",
         "x": [
          1952,
          1957,
          1962,
          1967,
          1972,
          1977,
          1982,
          1987,
          1992,
          1997,
          2002,
          2007
         ],
         "xaxis": "x",
         "y": [
          375.6431231,
          426.0964081,
          582.8419713999998,
          915.5960025,
          672.4122571,
          958.5668124,
          927.8253427,
          966.8968149,
          1132.055034,
          2814.480755,
          7703.4959,
          12154.08975
         ],
         "yaxis": "y"
        },
        {
         "hovertemplate": "country=Eritrea<br>year=%{x}<br>gdpPercap=%{y}<extra></extra>",
         "legendgroup": "Eritrea",
         "line": {
          "color": "#EF553B",
          "dash": "solid"
         },
         "marker": {
          "symbol": "circle"
         },
         "mode": "lines",
         "name": "Eritrea",
         "showlegend": true,
         "type": "scattergl",
         "x": [
          1952,
          1957,
          1962,
          1967,
          1972,
          1977,
          1982,
          1987,
          1992,
          1997,
          2002,
          2007
         ],
         "xaxis": "x",
         "y": [
          328.9405571000001,
          344.1618859,
          380.9958433000001,
          468.7949699,
          514.3242081999998,
          505.7538077,
          524.8758493,
          521.1341333,
          582.8585102000002,
          913.47079,
          765.3500015,
          641.3695236000002
         ],
         "yaxis": "y"
        },
        {
         "hovertemplate": "country=Ethiopia<br>year=%{x}<br>gdpPercap=%{y}<extra></extra>",
         "legendgroup": "Ethiopia",
         "line": {
          "color": "#00cc96",
          "dash": "solid"
         },
         "marker": {
          "symbol": "circle"
         },
         "mode": "lines",
         "name": "Ethiopia",
         "showlegend": true,
         "type": "scattergl",
         "x": [
          1952,
          1957,
          1962,
          1967,
          1972,
          1977,
          1982,
          1987,
          1992,
          1997,
          2002,
          2007
         ],
         "xaxis": "x",
         "y": [
          362.1462796,
          378.9041632,
          419.4564161,
          516.1186438,
          566.2439442000001,
          556.8083834,
          577.8607471,
          573.7413142000001,
          421.3534653,
          515.8894013,
          530.0535319,
          690.8055759
         ],
         "yaxis": "y"
        },
        {
         "hovertemplate": "country=Finland<br>year=%{x}<br>gdpPercap=%{y}<extra></extra>",
         "legendgroup": "Finland",
         "line": {
          "color": "#ab63fa",
          "dash": "solid"
         },
         "marker": {
          "symbol": "circle"
         },
         "mode": "lines",
         "name": "Finland",
         "showlegend": true,
         "type": "scattergl",
         "x": [
          1952,
          1957,
          1962,
          1967,
          1972,
          1977,
          1982,
          1987,
          1992,
          1997,
          2002,
          2007
         ],
         "xaxis": "x",
         "y": [
          6424.519071,
          7545.415386,
          9371.842561,
          10921.63626,
          14358.8759,
          15605.42283,
          18533.15761,
          21141.01223,
          20647.16499,
          23723.9502,
          28204.59057,
          33207.0844
         ],
         "yaxis": "y"
        },
        {
         "hovertemplate": "country=France<br>year=%{x}<br>gdpPercap=%{y}<extra></extra>",
         "legendgroup": "France",
         "line": {
          "color": "#FFA15A",
          "dash": "solid"
         },
         "marker": {
          "symbol": "circle"
         },
         "mode": "lines",
         "name": "France",
         "showlegend": true,
         "type": "scattergl",
         "x": [
          1952,
          1957,
          1962,
          1967,
          1972,
          1977,
          1982,
          1987,
          1992,
          1997,
          2002,
          2007
         ],
         "xaxis": "x",
         "y": [
          7029.809327,
          8662.834898000001,
          10560.48553,
          12999.91766,
          16107.19171,
          18292.63514,
          20293.89746,
          22066.44214,
          24703.79615,
          25889.78487,
          28926.03234,
          30470.0167
         ],
         "yaxis": "y"
        },
        {
         "hovertemplate": "country=Gabon<br>year=%{x}<br>gdpPercap=%{y}<extra></extra>",
         "legendgroup": "Gabon",
         "line": {
          "color": "#19d3f3",
          "dash": "solid"
         },
         "marker": {
          "symbol": "circle"
         },
         "mode": "lines",
         "name": "Gabon",
         "showlegend": true,
         "type": "scattergl",
         "x": [
          1952,
          1957,
          1962,
          1967,
          1972,
          1977,
          1982,
          1987,
          1992,
          1997,
          2002,
          2007
         ],
         "xaxis": "x",
         "y": [
          4293.476475,
          4976.198099,
          6631.459222,
          8358.761987,
          11401.94841,
          21745.57328,
          15113.36194,
          11864.40844,
          13522.15752,
          14722.841880000002,
          12521.71392,
          13206.48452
         ],
         "yaxis": "y"
        },
        {
         "hovertemplate": "country=Gambia<br>year=%{x}<br>gdpPercap=%{y}<extra></extra>",
         "legendgroup": "Gambia",
         "line": {
          "color": "#FF6692",
          "dash": "solid"
         },
         "marker": {
          "symbol": "circle"
         },
         "mode": "lines",
         "name": "Gambia",
         "showlegend": true,
         "type": "scattergl",
         "x": [
          1952,
          1957,
          1962,
          1967,
          1972,
          1977,
          1982,
          1987,
          1992,
          1997,
          2002,
          2007
         ],
         "xaxis": "x",
         "y": [
          485.2306591,
          520.9267111,
          599.650276,
          734.7829124,
          756.0868363,
          884.7552507000001,
          835.8096107999999,
          611.6588611000002,
          665.6244126,
          653.7301704,
          660.5855997,
          752.7497265
         ],
         "yaxis": "y"
        },
        {
         "hovertemplate": "country=Germany<br>year=%{x}<br>gdpPercap=%{y}<extra></extra>",
         "legendgroup": "Germany",
         "line": {
          "color": "#B6E880",
          "dash": "solid"
         },
         "marker": {
          "symbol": "circle"
         },
         "mode": "lines",
         "name": "Germany",
         "showlegend": true,
         "type": "scattergl",
         "x": [
          1952,
          1957,
          1962,
          1967,
          1972,
          1977,
          1982,
          1987,
          1992,
          1997,
          2002,
          2007
         ],
         "xaxis": "x",
         "y": [
          7144.114393000002,
          10187.82665,
          12902.46291,
          14745.62561,
          18016.18027,
          20512.92123,
          22031.53274,
          24639.18566,
          26505.30317,
          27788.88416,
          30035.80198,
          32170.37442
         ],
         "yaxis": "y"
        },
        {
         "hovertemplate": "country=Ghana<br>year=%{x}<br>gdpPercap=%{y}<extra></extra>",
         "legendgroup": "Ghana",
         "line": {
          "color": "#FF97FF",
          "dash": "solid"
         },
         "marker": {
          "symbol": "circle"
         },
         "mode": "lines",
         "name": "Ghana",
         "showlegend": true,
         "type": "scattergl",
         "x": [
          1952,
          1957,
          1962,
          1967,
          1972,
          1977,
          1982,
          1987,
          1992,
          1997,
          2002,
          2007
         ],
         "xaxis": "x",
         "y": [
          911.2989371,
          1043.5615369999996,
          1190.041118,
          1125.69716,
          1178.223708,
          993.2239571,
          876.032569,
          847.0061135,
          925.060154,
          1005.245812,
          1111.9845779999996,
          1327.60891
         ],
         "yaxis": "y"
        },
        {
         "hovertemplate": "country=Greece<br>year=%{x}<br>gdpPercap=%{y}<extra></extra>",
         "legendgroup": "Greece",
         "line": {
          "color": "#FECB52",
          "dash": "solid"
         },
         "marker": {
          "symbol": "circle"
         },
         "mode": "lines",
         "name": "Greece",
         "showlegend": true,
         "type": "scattergl",
         "x": [
          1952,
          1957,
          1962,
          1967,
          1972,
          1977,
          1982,
          1987,
          1992,
          1997,
          2002,
          2007
         ],
         "xaxis": "x",
         "y": [
          3530.690067,
          4916.299889,
          6017.190732999999,
          8513.097016,
          12724.82957,
          14195.52428,
          15268.42089,
          16120.52839,
          17541.49634,
          18747.69814,
          22514.2548,
          27538.41188
         ],
         "yaxis": "y"
        },
        {
         "hovertemplate": "country=Guatemala<br>year=%{x}<br>gdpPercap=%{y}<extra></extra>",
         "legendgroup": "Guatemala",
         "line": {
          "color": "#636efa",
          "dash": "solid"
         },
         "marker": {
          "symbol": "circle"
         },
         "mode": "lines",
         "name": "Guatemala",
         "showlegend": true,
         "type": "scattergl",
         "x": [
          1952,
          1957,
          1962,
          1967,
          1972,
          1977,
          1982,
          1987,
          1992,
          1997,
          2002,
          2007
         ],
         "xaxis": "x",
         "y": [
          2428.2377690000008,
          2617.155967,
          2750.364446,
          3242.531147,
          4031.408271,
          4879.992748,
          4820.49479,
          4246.485974,
          4439.45084,
          4684.313807,
          4858.347495,
          5186.050003
         ],
         "yaxis": "y"
        },
        {
         "hovertemplate": "country=Guinea<br>year=%{x}<br>gdpPercap=%{y}<extra></extra>",
         "legendgroup": "Guinea",
         "line": {
          "color": "#EF553B",
          "dash": "solid"
         },
         "marker": {
          "symbol": "circle"
         },
         "mode": "lines",
         "name": "Guinea",
         "showlegend": true,
         "type": "scattergl",
         "x": [
          1952,
          1957,
          1962,
          1967,
          1972,
          1977,
          1982,
          1987,
          1992,
          1997,
          2002,
          2007
         ],
         "xaxis": "x",
         "y": [
          510.1964923000001,
          576.2670245,
          686.3736739,
          708.7595409,
          741.6662307,
          874.6858642999998,
          857.2503577,
          805.5724717999999,
          794.3484384,
          869.4497667999998,
          945.5835837,
          942.6542111
         ],
         "yaxis": "y"
        },
        {
         "hovertemplate": "country=Guinea-Bissau<br>year=%{x}<br>gdpPercap=%{y}<extra></extra>",
         "legendgroup": "Guinea-Bissau",
         "line": {
          "color": "#00cc96",
          "dash": "solid"
         },
         "marker": {
          "symbol": "circle"
         },
         "mode": "lines",
         "name": "Guinea-Bissau",
         "showlegend": true,
         "type": "scattergl",
         "x": [
          1952,
          1957,
          1962,
          1967,
          1972,
          1977,
          1982,
          1987,
          1992,
          1997,
          2002,
          2007
         ],
         "xaxis": "x",
         "y": [
          299.850319,
          431.79045660000014,
          522.0343725,
          715.5806402000002,
          820.2245876000002,
          764.7259627999998,
          838.1239671,
          736.4153921,
          745.5398706,
          796.6644681,
          575.7047176,
          579.2317429999998
         ],
         "yaxis": "y"
        },
        {
         "hovertemplate": "country=Haiti<br>year=%{x}<br>gdpPercap=%{y}<extra></extra>",
         "legendgroup": "Haiti",
         "line": {
          "color": "#ab63fa",
          "dash": "solid"
         },
         "marker": {
          "symbol": "circle"
         },
         "mode": "lines",
         "name": "Haiti",
         "showlegend": true,
         "type": "scattergl",
         "x": [
          1952,
          1957,
          1962,
          1967,
          1972,
          1977,
          1982,
          1987,
          1992,
          1997,
          2002,
          2007
         ],
         "xaxis": "x",
         "y": [
          1840.366939,
          1726.887882,
          1796.589032,
          1452.057666,
          1654.456946,
          1874.298931,
          2011.159549,
          1823.015995,
          1456.309517,
          1341.726931,
          1270.364932,
          1201.637154
         ],
         "yaxis": "y"
        },
        {
         "hovertemplate": "country=Honduras<br>year=%{x}<br>gdpPercap=%{y}<extra></extra>",
         "legendgroup": "Honduras",
         "line": {
          "color": "#FFA15A",
          "dash": "solid"
         },
         "marker": {
          "symbol": "circle"
         },
         "mode": "lines",
         "name": "Honduras",
         "showlegend": true,
         "type": "scattergl",
         "x": [
          1952,
          1957,
          1962,
          1967,
          1972,
          1977,
          1982,
          1987,
          1992,
          1997,
          2002,
          2007
         ],
         "xaxis": "x",
         "y": [
          2194.926204,
          2220.487682,
          2291.156835,
          2538.269358,
          2529.842345,
          3203.208066,
          3121.7607940000007,
          3023.096699,
          3081.694603,
          3160.454906,
          3099.72866,
          3548.3308460000007
         ],
         "yaxis": "y"
        },
        {
         "hovertemplate": "country=Hong Kong, China<br>year=%{x}<br>gdpPercap=%{y}<extra></extra>",
         "legendgroup": "Hong Kong, China",
         "line": {
          "color": "#19d3f3",
          "dash": "solid"
         },
         "marker": {
          "symbol": "circle"
         },
         "mode": "lines",
         "name": "Hong Kong, China",
         "showlegend": true,
         "type": "scattergl",
         "x": [
          1952,
          1957,
          1962,
          1967,
          1972,
          1977,
          1982,
          1987,
          1992,
          1997,
          2002,
          2007
         ],
         "xaxis": "x",
         "y": [
          3054.421209,
          3629.076457,
          4692.648271999999,
          6197.962814,
          8315.928145,
          11186.14125,
          14560.53051,
          20038.47269,
          24757.60301,
          28377.63219,
          30209.015160000006,
          39724.97867
         ],
         "yaxis": "y"
        },
        {
         "hovertemplate": "country=Hungary<br>year=%{x}<br>gdpPercap=%{y}<extra></extra>",
         "legendgroup": "Hungary",
         "line": {
          "color": "#FF6692",
          "dash": "solid"
         },
         "marker": {
          "symbol": "circle"
         },
         "mode": "lines",
         "name": "Hungary",
         "showlegend": true,
         "type": "scattergl",
         "x": [
          1952,
          1957,
          1962,
          1967,
          1972,
          1977,
          1982,
          1987,
          1992,
          1997,
          2002,
          2007
         ],
         "xaxis": "x",
         "y": [
          5263.673816,
          6040.180011,
          7550.359877,
          9326.64467,
          10168.65611,
          11674.83737,
          12545.99066,
          12986.47998,
          10535.62855,
          11712.7768,
          14843.93556,
          18008.94444
         ],
         "yaxis": "y"
        },
        {
         "hovertemplate": "country=Iceland<br>year=%{x}<br>gdpPercap=%{y}<extra></extra>",
         "legendgroup": "Iceland",
         "line": {
          "color": "#B6E880",
          "dash": "solid"
         },
         "marker": {
          "symbol": "circle"
         },
         "mode": "lines",
         "name": "Iceland",
         "showlegend": true,
         "type": "scattergl",
         "x": [
          1952,
          1957,
          1962,
          1967,
          1972,
          1977,
          1982,
          1987,
          1992,
          1997,
          2002,
          2007
         ],
         "xaxis": "x",
         "y": [
          7267.688428,
          9244.001412,
          10350.15906,
          13319.89568,
          15798.06362,
          19654.96247,
          23269.6075,
          26923.20628,
          25144.39201,
          28061.099660000003,
          31163.20196,
          36180.78919
         ],
         "yaxis": "y"
        },
        {
         "hovertemplate": "country=India<br>year=%{x}<br>gdpPercap=%{y}<extra></extra>",
         "legendgroup": "India",
         "line": {
          "color": "#FF97FF",
          "dash": "solid"
         },
         "marker": {
          "symbol": "circle"
         },
         "mode": "lines",
         "name": "India",
         "showlegend": true,
         "type": "scattergl",
         "x": [
          1952,
          1957,
          1962,
          1967,
          1972,
          1977,
          1982,
          1987,
          1992,
          1997,
          2002,
          2007
         ],
         "xaxis": "x",
         "y": [
          546.5657493,
          590.061996,
          658.3471509,
          700.7706107000001,
          724.032527,
          813.3373230000002,
          855.7235377000002,
          976.5126756,
          1164.406809,
          1458.817442,
          1746.769454,
          2452.210407
         ],
         "yaxis": "y"
        },
        {
         "hovertemplate": "country=Indonesia<br>year=%{x}<br>gdpPercap=%{y}<extra></extra>",
         "legendgroup": "Indonesia",
         "line": {
          "color": "#FECB52",
          "dash": "solid"
         },
         "marker": {
          "symbol": "circle"
         },
         "mode": "lines",
         "name": "Indonesia",
         "showlegend": true,
         "type": "scattergl",
         "x": [
          1952,
          1957,
          1962,
          1967,
          1972,
          1977,
          1982,
          1987,
          1992,
          1997,
          2002,
          2007
         ],
         "xaxis": "x",
         "y": [
          749.6816546,
          858.9002707000002,
          849.2897700999998,
          762.4317721,
          1111.107907,
          1382.702056,
          1516.872988,
          1748.356961,
          2383.140898,
          3119.335603,
          2873.91287,
          3540.651564
         ],
         "yaxis": "y"
        },
        {
         "hovertemplate": "country=Iran<br>year=%{x}<br>gdpPercap=%{y}<extra></extra>",
         "legendgroup": "Iran",
         "line": {
          "color": "#636efa",
          "dash": "solid"
         },
         "marker": {
          "symbol": "circle"
         },
         "mode": "lines",
         "name": "Iran",
         "showlegend": true,
         "type": "scattergl",
         "x": [
          1952,
          1957,
          1962,
          1967,
          1972,
          1977,
          1982,
          1987,
          1992,
          1997,
          2002,
          2007
         ],
         "xaxis": "x",
         "y": [
          3035.326002,
          3290.257643,
          4187.329802,
          5906.731804999999,
          9613.818607,
          11888.59508,
          7608.334602,
          6642.881371,
          7235.653187999998,
          8263.590301,
          9240.761975,
          11605.71449
         ],
         "yaxis": "y"
        },
        {
         "hovertemplate": "country=Iraq<br>year=%{x}<br>gdpPercap=%{y}<extra></extra>",
         "legendgroup": "Iraq",
         "line": {
          "color": "#EF553B",
          "dash": "solid"
         },
         "marker": {
          "symbol": "circle"
         },
         "mode": "lines",
         "name": "Iraq",
         "showlegend": true,
         "type": "scattergl",
         "x": [
          1952,
          1957,
          1962,
          1967,
          1972,
          1977,
          1982,
          1987,
          1992,
          1997,
          2002,
          2007
         ],
         "xaxis": "x",
         "y": [
          4129.766056,
          6229.333562,
          8341.737815,
          8931.459811,
          9576.037596,
          14688.23507,
          14517.90711,
          11643.57268,
          3745.640687,
          3076.239795,
          4390.717312,
          4471.061906
         ],
         "yaxis": "y"
        },
        {
         "hovertemplate": "country=Ireland<br>year=%{x}<br>gdpPercap=%{y}<extra></extra>",
         "legendgroup": "Ireland",
         "line": {
          "color": "#00cc96",
          "dash": "solid"
         },
         "marker": {
          "symbol": "circle"
         },
         "mode": "lines",
         "name": "Ireland",
         "showlegend": true,
         "type": "scattergl",
         "x": [
          1952,
          1957,
          1962,
          1967,
          1972,
          1977,
          1982,
          1987,
          1992,
          1997,
          2002,
          2007
         ],
         "xaxis": "x",
         "y": [
          5210.280328,
          5599.077872,
          6631.597314,
          7655.568963,
          9530.772896,
          11150.98113,
          12618.32141,
          13872.86652,
          17558.81555,
          24521.94713,
          34077.04939,
          40675.99635
         ],
         "yaxis": "y"
        },
        {
         "hovertemplate": "country=Israel<br>year=%{x}<br>gdpPercap=%{y}<extra></extra>",
         "legendgroup": "Israel",
         "line": {
          "color": "#ab63fa",
          "dash": "solid"
         },
         "marker": {
          "symbol": "circle"
         },
         "mode": "lines",
         "name": "Israel",
         "showlegend": true,
         "type": "scattergl",
         "x": [
          1952,
          1957,
          1962,
          1967,
          1972,
          1977,
          1982,
          1987,
          1992,
          1997,
          2002,
          2007
         ],
         "xaxis": "x",
         "y": [
          4086.522128,
          5385.278451,
          7105.630706,
          8393.741404,
          12786.93223,
          13306.61921,
          15367.0292,
          17122.47986,
          18051.52254,
          20896.60924,
          21905.59514,
          25523.2771
         ],
         "yaxis": "y"
        },
        {
         "hovertemplate": "country=Italy<br>year=%{x}<br>gdpPercap=%{y}<extra></extra>",
         "legendgroup": "Italy",
         "line": {
          "color": "#FFA15A",
          "dash": "solid"
         },
         "marker": {
          "symbol": "circle"
         },
         "mode": "lines",
         "name": "Italy",
         "showlegend": true,
         "type": "scattergl",
         "x": [
          1952,
          1957,
          1962,
          1967,
          1972,
          1977,
          1982,
          1987,
          1992,
          1997,
          2002,
          2007
         ],
         "xaxis": "x",
         "y": [
          4931.404154999998,
          6248.656232,
          8243.58234,
          10022.40131,
          12269.27378,
          14255.98475,
          16537.4835,
          19207.23482,
          22013.64486,
          24675.02446,
          27968.09817,
          28569.7197
         ],
         "yaxis": "y"
        },
        {
         "hovertemplate": "country=Jamaica<br>year=%{x}<br>gdpPercap=%{y}<extra></extra>",
         "legendgroup": "Jamaica",
         "line": {
          "color": "#19d3f3",
          "dash": "solid"
         },
         "marker": {
          "symbol": "circle"
         },
         "mode": "lines",
         "name": "Jamaica",
         "showlegend": true,
         "type": "scattergl",
         "x": [
          1952,
          1957,
          1962,
          1967,
          1972,
          1977,
          1982,
          1987,
          1992,
          1997,
          2002,
          2007
         ],
         "xaxis": "x",
         "y": [
          2898.530881,
          4756.525781,
          5246.107524,
          6124.703450999999,
          7433.889293000001,
          6650.195573,
          6068.05135,
          6351.237495,
          7404.923685,
          7121.924704000001,
          6994.774861,
          7320.8802620000015
         ],
         "yaxis": "y"
        },
        {
         "hovertemplate": "country=Japan<br>year=%{x}<br>gdpPercap=%{y}<extra></extra>",
         "legendgroup": "Japan",
         "line": {
          "color": "#FF6692",
          "dash": "solid"
         },
         "marker": {
          "symbol": "circle"
         },
         "mode": "lines",
         "name": "Japan",
         "showlegend": true,
         "type": "scattergl",
         "x": [
          1952,
          1957,
          1962,
          1967,
          1972,
          1977,
          1982,
          1987,
          1992,
          1997,
          2002,
          2007
         ],
         "xaxis": "x",
         "y": [
          3216.956347,
          4317.694365,
          6576.649461,
          9847.788607,
          14778.78636,
          16610.37701,
          19384.10571,
          22375.94189,
          26824.89511,
          28816.58499,
          28604.5919,
          31656.06806
         ],
         "yaxis": "y"
        },
        {
         "hovertemplate": "country=Jordan<br>year=%{x}<br>gdpPercap=%{y}<extra></extra>",
         "legendgroup": "Jordan",
         "line": {
          "color": "#B6E880",
          "dash": "solid"
         },
         "marker": {
          "symbol": "circle"
         },
         "mode": "lines",
         "name": "Jordan",
         "showlegend": true,
         "type": "scattergl",
         "x": [
          1952,
          1957,
          1962,
          1967,
          1972,
          1977,
          1982,
          1987,
          1992,
          1997,
          2002,
          2007
         ],
         "xaxis": "x",
         "y": [
          1546.907807,
          1886.080591,
          2348.009158,
          2741.796252,
          2110.856309,
          2852.351568,
          4161.415959,
          4448.679912,
          3431.593647,
          3645.379572,
          3844.917194,
          4519.461171
         ],
         "yaxis": "y"
        },
        {
         "hovertemplate": "country=Kenya<br>year=%{x}<br>gdpPercap=%{y}<extra></extra>",
         "legendgroup": "Kenya",
         "line": {
          "color": "#FF97FF",
          "dash": "solid"
         },
         "marker": {
          "symbol": "circle"
         },
         "mode": "lines",
         "name": "Kenya",
         "showlegend": true,
         "type": "scattergl",
         "x": [
          1952,
          1957,
          1962,
          1967,
          1972,
          1977,
          1982,
          1987,
          1992,
          1997,
          2002,
          2007
         ],
         "xaxis": "x",
         "y": [
          853.5409189999998,
          944.4383152,
          896.9663732,
          1056.736457,
          1222.359968,
          1267.613204,
          1348.225791,
          1361.936856,
          1341.9217210000004,
          1360.4850210000004,
          1287.514732,
          1463.249282
         ],
         "yaxis": "y"
        },
        {
         "hovertemplate": "country=Korea, Dem. Rep.<br>year=%{x}<br>gdpPercap=%{y}<extra></extra>",
         "legendgroup": "Korea, Dem. Rep.",
         "line": {
          "color": "#FECB52",
          "dash": "solid"
         },
         "marker": {
          "symbol": "circle"
         },
         "mode": "lines",
         "name": "Korea, Dem. Rep.",
         "showlegend": true,
         "type": "scattergl",
         "x": [
          1952,
          1957,
          1962,
          1967,
          1972,
          1977,
          1982,
          1987,
          1992,
          1997,
          2002,
          2007
         ],
         "xaxis": "x",
         "y": [
          1088.277758,
          1571.134655,
          1621.693598,
          2143.540609,
          3701.621503,
          4106.301249,
          4106.525293,
          4106.492315,
          3726.063507,
          1690.756814,
          1646.758151,
          1593.06548
         ],
         "yaxis": "y"
        },
        {
         "hovertemplate": "country=Korea, Rep.<br>year=%{x}<br>gdpPercap=%{y}<extra></extra>",
         "legendgroup": "Korea, Rep.",
         "line": {
          "color": "#636efa",
          "dash": "solid"
         },
         "marker": {
          "symbol": "circle"
         },
         "mode": "lines",
         "name": "Korea, Rep.",
         "showlegend": true,
         "type": "scattergl",
         "x": [
          1952,
          1957,
          1962,
          1967,
          1972,
          1977,
          1982,
          1987,
          1992,
          1997,
          2002,
          2007
         ],
         "xaxis": "x",
         "y": [
          1030.592226,
          1487.593537,
          1536.344387,
          2029.228142,
          3030.87665,
          4657.22102,
          5622.942464,
          8533.088805,
          12104.27872,
          15993.52796,
          19233.98818,
          23348.139730000006
         ],
         "yaxis": "y"
        },
        {
         "hovertemplate": "country=Kuwait<br>year=%{x}<br>gdpPercap=%{y}<extra></extra>",
         "legendgroup": "Kuwait",
         "line": {
          "color": "#EF553B",
          "dash": "solid"
         },
         "marker": {
          "symbol": "circle"
         },
         "mode": "lines",
         "name": "Kuwait",
         "showlegend": true,
         "type": "scattergl",
         "x": [
          1952,
          1957,
          1962,
          1967,
          1972,
          1977,
          1982,
          1987,
          1992,
          1997,
          2002,
          2007
         ],
         "xaxis": "x",
         "y": [
          108382.3529,
          113523.1329,
          95458.11176,
          80894.88326,
          109347.867,
          59265.47714,
          31354.03573,
          28118.42998,
          34932.91959,
          40300.61996,
          35110.10566,
          47306.98978
         ],
         "yaxis": "y"
        },
        {
         "hovertemplate": "country=Lebanon<br>year=%{x}<br>gdpPercap=%{y}<extra></extra>",
         "legendgroup": "Lebanon",
         "line": {
          "color": "#00cc96",
          "dash": "solid"
         },
         "marker": {
          "symbol": "circle"
         },
         "mode": "lines",
         "name": "Lebanon",
         "showlegend": true,
         "type": "scattergl",
         "x": [
          1952,
          1957,
          1962,
          1967,
          1972,
          1977,
          1982,
          1987,
          1992,
          1997,
          2002,
          2007
         ],
         "xaxis": "x",
         "y": [
          4834.804067,
          6089.786934000002,
          5714.560611,
          6006.983042,
          7486.384341,
          8659.696836,
          7640.519520999998,
          5377.091329,
          6890.806854,
          8754.96385,
          9313.93883,
          10461.05868
         ],
         "yaxis": "y"
        },
        {
         "hovertemplate": "country=Lesotho<br>year=%{x}<br>gdpPercap=%{y}<extra></extra>",
         "legendgroup": "Lesotho",
         "line": {
          "color": "#ab63fa",
          "dash": "solid"
         },
         "marker": {
          "symbol": "circle"
         },
         "mode": "lines",
         "name": "Lesotho",
         "showlegend": true,
         "type": "scattergl",
         "x": [
          1952,
          1957,
          1962,
          1967,
          1972,
          1977,
          1982,
          1987,
          1992,
          1997,
          2002,
          2007
         ],
         "xaxis": "x",
         "y": [
          298.8462121,
          335.9971151000001,
          411.8006266,
          498.6390265,
          496.5815922000001,
          745.3695408,
          797.2631074,
          773.9932140999998,
          977.4862725,
          1186.147994,
          1275.184575,
          1569.331442
         ],
         "yaxis": "y"
        },
        {
         "hovertemplate": "country=Liberia<br>year=%{x}<br>gdpPercap=%{y}<extra></extra>",
         "legendgroup": "Liberia",
         "line": {
          "color": "#FFA15A",
          "dash": "solid"
         },
         "marker": {
          "symbol": "circle"
         },
         "mode": "lines",
         "name": "Liberia",
         "showlegend": true,
         "type": "scattergl",
         "x": [
          1952,
          1957,
          1962,
          1967,
          1972,
          1977,
          1982,
          1987,
          1992,
          1997,
          2002,
          2007
         ],
         "xaxis": "x",
         "y": [
          575.5729961000002,
          620.9699901,
          634.1951625,
          713.6036482999998,
          803.0054535,
          640.3224382999998,
          572.1995694,
          506.1138573,
          636.6229191000001,
          609.1739508,
          531.4823679,
          414.5073415
         ],
         "yaxis": "y"
        },
        {
         "hovertemplate": "country=Libya<br>year=%{x}<br>gdpPercap=%{y}<extra></extra>",
         "legendgroup": "Libya",
         "line": {
          "color": "#19d3f3",
          "dash": "solid"
         },
         "marker": {
          "symbol": "circle"
         },
         "mode": "lines",
         "name": "Libya",
         "showlegend": true,
         "type": "scattergl",
         "x": [
          1952,
          1957,
          1962,
          1967,
          1972,
          1977,
          1982,
          1987,
          1992,
          1997,
          2002,
          2007
         ],
         "xaxis": "x",
         "y": [
          2387.54806,
          3448.284395,
          6757.030816,
          18772.75169,
          21011.49721,
          21951.21176,
          17364.275380000006,
          11770.5898,
          9640.138501,
          9467.446056,
          9534.677467,
          12057.49928
         ],
         "yaxis": "y"
        },
        {
         "hovertemplate": "country=Madagascar<br>year=%{x}<br>gdpPercap=%{y}<extra></extra>",
         "legendgroup": "Madagascar",
         "line": {
          "color": "#FF6692",
          "dash": "solid"
         },
         "marker": {
          "symbol": "circle"
         },
         "mode": "lines",
         "name": "Madagascar",
         "showlegend": true,
         "type": "scattergl",
         "x": [
          1952,
          1957,
          1962,
          1967,
          1972,
          1977,
          1982,
          1987,
          1992,
          1997,
          2002,
          2007
         ],
         "xaxis": "x",
         "y": [
          1443.011715,
          1589.20275,
          1643.38711,
          1634.047282,
          1748.562982,
          1544.228586,
          1302.878658,
          1155.441948,
          1040.67619,
          986.2958956,
          894.6370822,
          1044.770126
         ],
         "yaxis": "y"
        },
        {
         "hovertemplate": "country=Malawi<br>year=%{x}<br>gdpPercap=%{y}<extra></extra>",
         "legendgroup": "Malawi",
         "line": {
          "color": "#B6E880",
          "dash": "solid"
         },
         "marker": {
          "symbol": "circle"
         },
         "mode": "lines",
         "name": "Malawi",
         "showlegend": true,
         "type": "scattergl",
         "x": [
          1952,
          1957,
          1962,
          1967,
          1972,
          1977,
          1982,
          1987,
          1992,
          1997,
          2002,
          2007
         ],
         "xaxis": "x",
         "y": [
          369.1650802,
          416.3698064,
          427.9010856,
          495.5147806,
          584.6219709,
          663.2236766,
          632.8039209,
          635.5173633999998,
          563.2000145,
          692.2758102999999,
          665.4231186000002,
          759.3499101
         ],
         "yaxis": "y"
        },
        {
         "hovertemplate": "country=Malaysia<br>year=%{x}<br>gdpPercap=%{y}<extra></extra>",
         "legendgroup": "Malaysia",
         "line": {
          "color": "#FF97FF",
          "dash": "solid"
         },
         "marker": {
          "symbol": "circle"
         },
         "mode": "lines",
         "name": "Malaysia",
         "showlegend": true,
         "type": "scattergl",
         "x": [
          1952,
          1957,
          1962,
          1967,
          1972,
          1977,
          1982,
          1987,
          1992,
          1997,
          2002,
          2007
         ],
         "xaxis": "x",
         "y": [
          1831.132894,
          1810.0669920000007,
          2036.884944,
          2277.742396,
          2849.09478,
          3827.921571,
          4920.355951,
          5249.802653,
          7277.912802,
          10132.90964,
          10206.97794,
          12451.6558
         ],
         "yaxis": "y"
        },
        {
         "hovertemplate": "country=Mali<br>year=%{x}<br>gdpPercap=%{y}<extra></extra>",
         "legendgroup": "Mali",
         "line": {
          "color": "#FECB52",
          "dash": "solid"
         },
         "marker": {
          "symbol": "circle"
         },
         "mode": "lines",
         "name": "Mali",
         "showlegend": true,
         "type": "scattergl",
         "x": [
          1952,
          1957,
          1962,
          1967,
          1972,
          1977,
          1982,
          1987,
          1992,
          1997,
          2002,
          2007
         ],
         "xaxis": "x",
         "y": [
          452.3369807,
          490.3821867,
          496.1743428,
          545.0098873,
          581.3688761,
          686.3952693,
          618.0140640999998,
          684.1715576,
          739.014375,
          790.2579846,
          951.4097518,
          1042.581557
         ],
         "yaxis": "y"
        },
        {
         "hovertemplate": "country=Mauritania<br>year=%{x}<br>gdpPercap=%{y}<extra></extra>",
         "legendgroup": "Mauritania",
         "line": {
          "color": "#636efa",
          "dash": "solid"
         },
         "marker": {
          "symbol": "circle"
         },
         "mode": "lines",
         "name": "Mauritania",
         "showlegend": true,
         "type": "scattergl",
         "x": [
          1952,
          1957,
          1962,
          1967,
          1972,
          1977,
          1982,
          1987,
          1992,
          1997,
          2002,
          2007
         ],
         "xaxis": "x",
         "y": [
          743.1159097,
          846.1202613,
          1055.896036,
          1421.145193,
          1586.851781,
          1497.492223,
          1481.150189,
          1421.603576,
          1361.369784,
          1483.136136,
          1579.019543,
          1803.151496
         ],
         "yaxis": "y"
        },
        {
         "hovertemplate": "country=Mauritius<br>year=%{x}<br>gdpPercap=%{y}<extra></extra>",
         "legendgroup": "Mauritius",
         "line": {
          "color": "#EF553B",
          "dash": "solid"
         },
         "marker": {
          "symbol": "circle"
         },
         "mode": "lines",
         "name": "Mauritius",
         "showlegend": true,
         "type": "scattergl",
         "x": [
          1952,
          1957,
          1962,
          1967,
          1972,
          1977,
          1982,
          1987,
          1992,
          1997,
          2002,
          2007
         ],
         "xaxis": "x",
         "y": [
          1967.955707,
          2034.037981,
          2529.0674870000007,
          2475.387562,
          2575.484158,
          3710.982963,
          3688.037739,
          4783.586903,
          6058.253846000001,
          7425.705295000002,
          9021.815894,
          10956.99112
         ],
         "yaxis": "y"
        },
        {
         "hovertemplate": "country=Mexico<br>year=%{x}<br>gdpPercap=%{y}<extra></extra>",
         "legendgroup": "Mexico",
         "line": {
          "color": "#00cc96",
          "dash": "solid"
         },
         "marker": {
          "symbol": "circle"
         },
         "mode": "lines",
         "name": "Mexico",
         "showlegend": true,
         "type": "scattergl",
         "x": [
          1952,
          1957,
          1962,
          1967,
          1972,
          1977,
          1982,
          1987,
          1992,
          1997,
          2002,
          2007
         ],
         "xaxis": "x",
         "y": [
          3478.125529,
          4131.546641,
          4581.609385,
          5754.733883,
          6809.406690000002,
          7674.929108,
          9611.147541,
          8688.156003,
          9472.384295,
          9767.29753,
          10742.44053,
          11977.57496
         ],
         "yaxis": "y"
        },
        {
         "hovertemplate": "country=Mongolia<br>year=%{x}<br>gdpPercap=%{y}<extra></extra>",
         "legendgroup": "Mongolia",
         "line": {
          "color": "#ab63fa",
          "dash": "solid"
         },
         "marker": {
          "symbol": "circle"
         },
         "mode": "lines",
         "name": "Mongolia",
         "showlegend": true,
         "type": "scattergl",
         "x": [
          1952,
          1957,
          1962,
          1967,
          1972,
          1977,
          1982,
          1987,
          1992,
          1997,
          2002,
          2007
         ],
         "xaxis": "x",
         "y": [
          786.5668575,
          912.6626085,
          1056.353958,
          1226.04113,
          1421.741975,
          1647.511665,
          2000.603139,
          2338.008304,
          1785.402016,
          1902.2521,
          2140.739323,
          3095.7722710000007
         ],
         "yaxis": "y"
        },
        {
         "hovertemplate": "country=Montenegro<br>year=%{x}<br>gdpPercap=%{y}<extra></extra>",
         "legendgroup": "Montenegro",
         "line": {
          "color": "#FFA15A",
          "dash": "solid"
         },
         "marker": {
          "symbol": "circle"
         },
         "mode": "lines",
         "name": "Montenegro",
         "showlegend": true,
         "type": "scattergl",
         "x": [
          1952,
          1957,
          1962,
          1967,
          1972,
          1977,
          1982,
          1987,
          1992,
          1997,
          2002,
          2007
         ],
         "xaxis": "x",
         "y": [
          2647.585601,
          3682.259903,
          4649.593785,
          5907.850937,
          7778.414017,
          9595.929905,
          11222.58762,
          11732.51017,
          7003.339037000002,
          6465.613349,
          6557.194282,
          9253.896111
         ],
         "yaxis": "y"
        },
        {
         "hovertemplate": "country=Morocco<br>year=%{x}<br>gdpPercap=%{y}<extra></extra>",
         "legendgroup": "Morocco",
         "line": {
          "color": "#19d3f3",
          "dash": "solid"
         },
         "marker": {
          "symbol": "circle"
         },
         "mode": "lines",
         "name": "Morocco",
         "showlegend": true,
         "type": "scattergl",
         "x": [
          1952,
          1957,
          1962,
          1967,
          1972,
          1977,
          1982,
          1987,
          1992,
          1997,
          2002,
          2007
         ],
         "xaxis": "x",
         "y": [
          1688.20357,
          1642.002314,
          1566.353493,
          1711.04477,
          1930.194975,
          2370.619976,
          2702.620356,
          2755.046991,
          2948.047252,
          2982.101858,
          3258.495584,
          3820.17523
         ],
         "yaxis": "y"
        },
        {
         "hovertemplate": "country=Mozambique<br>year=%{x}<br>gdpPercap=%{y}<extra></extra>",
         "legendgroup": "Mozambique",
         "line": {
          "color": "#FF6692",
          "dash": "solid"
         },
         "marker": {
          "symbol": "circle"
         },
         "mode": "lines",
         "name": "Mozambique",
         "showlegend": true,
         "type": "scattergl",
         "x": [
          1952,
          1957,
          1962,
          1967,
          1972,
          1977,
          1982,
          1987,
          1992,
          1997,
          2002,
          2007
         ],
         "xaxis": "x",
         "y": [
          468.5260381,
          495.58683330000014,
          556.6863539,
          566.6691539,
          724.9178037,
          502.3197334,
          462.2114149,
          389.8761846,
          410.8968239,
          472.34607710000006,
          633.6179466,
          823.6856205
         ],
         "yaxis": "y"
        },
        {
         "hovertemplate": "country=Myanmar<br>year=%{x}<br>gdpPercap=%{y}<extra></extra>",
         "legendgroup": "Myanmar",
         "line": {
          "color": "#B6E880",
          "dash": "solid"
         },
         "marker": {
          "symbol": "circle"
         },
         "mode": "lines",
         "name": "Myanmar",
         "showlegend": true,
         "type": "scattergl",
         "x": [
          1952,
          1957,
          1962,
          1967,
          1972,
          1977,
          1982,
          1987,
          1992,
          1997,
          2002,
          2007
         ],
         "xaxis": "x",
         "y": [
          331,
          350,
          388,
          349,
          357,
          371,
          424,
          385,
          347,
          415,
          611,
          944
         ],
         "yaxis": "y"
        },
        {
         "hovertemplate": "country=Namibia<br>year=%{x}<br>gdpPercap=%{y}<extra></extra>",
         "legendgroup": "Namibia",
         "line": {
          "color": "#FF97FF",
          "dash": "solid"
         },
         "marker": {
          "symbol": "circle"
         },
         "mode": "lines",
         "name": "Namibia",
         "showlegend": true,
         "type": "scattergl",
         "x": [
          1952,
          1957,
          1962,
          1967,
          1972,
          1977,
          1982,
          1987,
          1992,
          1997,
          2002,
          2007
         ],
         "xaxis": "x",
         "y": [
          2423.780443,
          2621.448058,
          3173.215595,
          3793.694753,
          3746.080948,
          3876.485958,
          4191.100511,
          3693.731337,
          3804.537999,
          3899.52426,
          4072.324751,
          4811.060429
         ],
         "yaxis": "y"
        },
        {
         "hovertemplate": "country=Nepal<br>year=%{x}<br>gdpPercap=%{y}<extra></extra>",
         "legendgroup": "Nepal",
         "line": {
          "color": "#FECB52",
          "dash": "solid"
         },
         "marker": {
          "symbol": "circle"
         },
         "mode": "lines",
         "name": "Nepal",
         "showlegend": true,
         "type": "scattergl",
         "x": [
          1952,
          1957,
          1962,
          1967,
          1972,
          1977,
          1982,
          1987,
          1992,
          1997,
          2002,
          2007
         ],
         "xaxis": "x",
         "y": [
          545.8657228999998,
          597.9363557999999,
          652.3968593,
          676.4422254,
          674.7881296,
          694.1124398,
          718.3730947,
          775.6324501,
          897.7403604,
          1010.892138,
          1057.206311,
          1091.359778
         ],
         "yaxis": "y"
        },
        {
         "hovertemplate": "country=Netherlands<br>year=%{x}<br>gdpPercap=%{y}<extra></extra>",
         "legendgroup": "Netherlands",
         "line": {
          "color": "#636efa",
          "dash": "solid"
         },
         "marker": {
          "symbol": "circle"
         },
         "mode": "lines",
         "name": "Netherlands",
         "showlegend": true,
         "type": "scattergl",
         "x": [
          1952,
          1957,
          1962,
          1967,
          1972,
          1977,
          1982,
          1987,
          1992,
          1997,
          2002,
          2007
         ],
         "xaxis": "x",
         "y": [
          8941.571858,
          11276.19344,
          12790.84956,
          15363.25136,
          18794.74567,
          21209.0592,
          21399.46046,
          23651.32361,
          26790.94961,
          30246.13063,
          33724.75778,
          36797.93332
         ],
         "yaxis": "y"
        },
        {
         "hovertemplate": "country=New Zealand<br>year=%{x}<br>gdpPercap=%{y}<extra></extra>",
         "legendgroup": "New Zealand",
         "line": {
          "color": "#EF553B",
          "dash": "solid"
         },
         "marker": {
          "symbol": "circle"
         },
         "mode": "lines",
         "name": "New Zealand",
         "showlegend": true,
         "type": "scattergl",
         "x": [
          1952,
          1957,
          1962,
          1967,
          1972,
          1977,
          1982,
          1987,
          1992,
          1997,
          2002,
          2007
         ],
         "xaxis": "x",
         "y": [
          10556.57566,
          12247.39532,
          13175.678,
          14463.918930000002,
          16046.03728,
          16233.7177,
          17632.4104,
          19007.19129,
          18363.32494,
          21050.41377,
          23189.80135,
          25185.00911
         ],
         "yaxis": "y"
        },
        {
         "hovertemplate": "country=Nicaragua<br>year=%{x}<br>gdpPercap=%{y}<extra></extra>",
         "legendgroup": "Nicaragua",
         "line": {
          "color": "#00cc96",
          "dash": "solid"
         },
         "marker": {
          "symbol": "circle"
         },
         "mode": "lines",
         "name": "Nicaragua",
         "showlegend": true,
         "type": "scattergl",
         "x": [
          1952,
          1957,
          1962,
          1967,
          1972,
          1977,
          1982,
          1987,
          1992,
          1997,
          2002,
          2007
         ],
         "xaxis": "x",
         "y": [
          3112.363948,
          3457.415947,
          3634.364406,
          4643.393534000002,
          4688.593267,
          5486.371089,
          3470.3381560000007,
          2955.984375,
          2170.151724,
          2253.023004,
          2474.548819,
          2749.320965
         ],
         "yaxis": "y"
        },
        {
         "hovertemplate": "country=Niger<br>year=%{x}<br>gdpPercap=%{y}<extra></extra>",
         "legendgroup": "Niger",
         "line": {
          "color": "#ab63fa",
          "dash": "solid"
         },
         "marker": {
          "symbol": "circle"
         },
         "mode": "lines",
         "name": "Niger",
         "showlegend": true,
         "type": "scattergl",
         "x": [
          1952,
          1957,
          1962,
          1967,
          1972,
          1977,
          1982,
          1987,
          1992,
          1997,
          2002,
          2007
         ],
         "xaxis": "x",
         "y": [
          761.879376,
          835.5234025000002,
          997.7661127,
          1054.384891,
          954.2092363,
          808.8970727999998,
          909.7221354,
          668.3000228,
          581.182725,
          580.3052092,
          601.0745012,
          619.6768923999998
         ],
         "yaxis": "y"
        },
        {
         "hovertemplate": "country=Nigeria<br>year=%{x}<br>gdpPercap=%{y}<extra></extra>",
         "legendgroup": "Nigeria",
         "line": {
          "color": "#FFA15A",
          "dash": "solid"
         },
         "marker": {
          "symbol": "circle"
         },
         "mode": "lines",
         "name": "Nigeria",
         "showlegend": true,
         "type": "scattergl",
         "x": [
          1952,
          1957,
          1962,
          1967,
          1972,
          1977,
          1982,
          1987,
          1992,
          1997,
          2002,
          2007
         ],
         "xaxis": "x",
         "y": [
          1077.281856,
          1100.5925630000004,
          1150.9274779999996,
          1014.514104,
          1698.388838,
          1981.951806,
          1576.97375,
          1385.029563,
          1619.848217,
          1624.941275,
          1615.286395,
          2013.977305
         ],
         "yaxis": "y"
        },
        {
         "hovertemplate": "country=Norway<br>year=%{x}<br>gdpPercap=%{y}<extra></extra>",
         "legendgroup": "Norway",
         "line": {
          "color": "#19d3f3",
          "dash": "solid"
         },
         "marker": {
          "symbol": "circle"
         },
         "mode": "lines",
         "name": "Norway",
         "showlegend": true,
         "type": "scattergl",
         "x": [
          1952,
          1957,
          1962,
          1967,
          1972,
          1977,
          1982,
          1987,
          1992,
          1997,
          2002,
          2007
         ],
         "xaxis": "x",
         "y": [
          10095.42172,
          11653.97304,
          13450.40151,
          16361.87647,
          18965.05551,
          23311.34939,
          26298.63531,
          31540.9748,
          33965.66115,
          41283.16433,
          44683.97525,
          49357.19017
         ],
         "yaxis": "y"
        },
        {
         "hovertemplate": "country=Oman<br>year=%{x}<br>gdpPercap=%{y}<extra></extra>",
         "legendgroup": "Oman",
         "line": {
          "color": "#FF6692",
          "dash": "solid"
         },
         "marker": {
          "symbol": "circle"
         },
         "mode": "lines",
         "name": "Oman",
         "showlegend": true,
         "type": "scattergl",
         "x": [
          1952,
          1957,
          1962,
          1967,
          1972,
          1977,
          1982,
          1987,
          1992,
          1997,
          2002,
          2007
         ],
         "xaxis": "x",
         "y": [
          1828.230307,
          2242.746551,
          2924.638113,
          4720.942687,
          10618.03855,
          11848.34392,
          12954.79101,
          18115.22313,
          18616.70691,
          19702.05581,
          19774.83687,
          22316.19287
         ],
         "yaxis": "y"
        },
        {
         "hovertemplate": "country=Pakistan<br>year=%{x}<br>gdpPercap=%{y}<extra></extra>",
         "legendgroup": "Pakistan",
         "line": {
          "color": "#B6E880",
          "dash": "solid"
         },
         "marker": {
          "symbol": "circle"
         },
         "mode": "lines",
         "name": "Pakistan",
         "showlegend": true,
         "type": "scattergl",
         "x": [
          1952,
          1957,
          1962,
          1967,
          1972,
          1977,
          1982,
          1987,
          1992,
          1997,
          2002,
          2007
         ],
         "xaxis": "x",
         "y": [
          684.5971437999998,
          747.0835292,
          803.3427418,
          942.4082588,
          1049.938981,
          1175.921193,
          1443.429832,
          1704.686583,
          1971.829464,
          2049.3505210000008,
          2092.712441,
          2605.94758
         ],
         "yaxis": "y"
        },
        {
         "hovertemplate": "country=Panama<br>year=%{x}<br>gdpPercap=%{y}<extra></extra>",
         "legendgroup": "Panama",
         "line": {
          "color": "#FF97FF",
          "dash": "solid"
         },
         "marker": {
          "symbol": "circle"
         },
         "mode": "lines",
         "name": "Panama",
         "showlegend": true,
         "type": "scattergl",
         "x": [
          1952,
          1957,
          1962,
          1967,
          1972,
          1977,
          1982,
          1987,
          1992,
          1997,
          2002,
          2007
         ],
         "xaxis": "x",
         "y": [
          2480.380334,
          2961.800905,
          3536.540301,
          4421.009084,
          5364.249663000001,
          5351.912144,
          7009.601598,
          7034.779161,
          6618.74305,
          7113.692252,
          7356.0319340000015,
          9809.185636
         ],
         "yaxis": "y"
        },
        {
         "hovertemplate": "country=Paraguay<br>year=%{x}<br>gdpPercap=%{y}<extra></extra>",
         "legendgroup": "Paraguay",
         "line": {
          "color": "#FECB52",
          "dash": "solid"
         },
         "marker": {
          "symbol": "circle"
         },
         "mode": "lines",
         "name": "Paraguay",
         "showlegend": true,
         "type": "scattergl",
         "x": [
          1952,
          1957,
          1962,
          1967,
          1972,
          1977,
          1982,
          1987,
          1992,
          1997,
          2002,
          2007
         ],
         "xaxis": "x",
         "y": [
          1952.308701,
          2046.154706,
          2148.027146,
          2299.376311,
          2523.337977,
          3248.373311,
          4258.503604,
          3998.875695,
          4196.411078,
          4247.400261,
          3783.674243,
          4172.838464
         ],
         "yaxis": "y"
        },
        {
         "hovertemplate": "country=Peru<br>year=%{x}<br>gdpPercap=%{y}<extra></extra>",
         "legendgroup": "Peru",
         "line": {
          "color": "#636efa",
          "dash": "solid"
         },
         "marker": {
          "symbol": "circle"
         },
         "mode": "lines",
         "name": "Peru",
         "showlegend": true,
         "type": "scattergl",
         "x": [
          1952,
          1957,
          1962,
          1967,
          1972,
          1977,
          1982,
          1987,
          1992,
          1997,
          2002,
          2007
         ],
         "xaxis": "x",
         "y": [
          3758.523437,
          4245.256697999999,
          4957.037982,
          5788.09333,
          5937.827283,
          6281.290854999998,
          6434.501797,
          6360.943444,
          4446.380924,
          5838.347657,
          5909.020073,
          7408.905561
         ],
         "yaxis": "y"
        },
        {
         "hovertemplate": "country=Philippines<br>year=%{x}<br>gdpPercap=%{y}<extra></extra>",
         "legendgroup": "Philippines",
         "line": {
          "color": "#EF553B",
          "dash": "solid"
         },
         "marker": {
          "symbol": "circle"
         },
         "mode": "lines",
         "name": "Philippines",
         "showlegend": true,
         "type": "scattergl",
         "x": [
          1952,
          1957,
          1962,
          1967,
          1972,
          1977,
          1982,
          1987,
          1992,
          1997,
          2002,
          2007
         ],
         "xaxis": "x",
         "y": [
          1272.880995,
          1547.944844,
          1649.552153,
          1814.12743,
          1989.37407,
          2373.204287,
          2603.273765,
          2189.634995,
          2279.324017000001,
          2536.534925,
          2650.921068,
          3190.481016
         ],
         "yaxis": "y"
        },
        {
         "hovertemplate": "country=Poland<br>year=%{x}<br>gdpPercap=%{y}<extra></extra>",
         "legendgroup": "Poland",
         "line": {
          "color": "#00cc96",
          "dash": "solid"
         },
         "marker": {
          "symbol": "circle"
         },
         "mode": "lines",
         "name": "Poland",
         "showlegend": true,
         "type": "scattergl",
         "x": [
          1952,
          1957,
          1962,
          1967,
          1972,
          1977,
          1982,
          1987,
          1992,
          1997,
          2002,
          2007
         ],
         "xaxis": "x",
         "y": [
          4029.329699,
          4734.253019,
          5338.752143,
          6557.152776,
          8006.506993000001,
          9508.141454,
          8451.531004,
          9082.351172,
          7738.881247,
          10159.58368,
          12002.23908,
          15389.924680000002
         ],
         "yaxis": "y"
        },
        {
         "hovertemplate": "country=Portugal<br>year=%{x}<br>gdpPercap=%{y}<extra></extra>",
         "legendgroup": "Portugal",
         "line": {
          "color": "#ab63fa",
          "dash": "solid"
         },
         "marker": {
          "symbol": "circle"
         },
         "mode": "lines",
         "name": "Portugal",
         "showlegend": true,
         "type": "scattergl",
         "x": [
          1952,
          1957,
          1962,
          1967,
          1972,
          1977,
          1982,
          1987,
          1992,
          1997,
          2002,
          2007
         ],
         "xaxis": "x",
         "y": [
          3068.319867,
          3774.571743,
          4727.954889,
          6361.517993,
          9022.247417,
          10172.48572,
          11753.84291,
          13039.30876,
          16207.266630000002,
          17641.03156,
          19970.90787,
          20509.64777
         ],
         "yaxis": "y"
        },
        {
         "hovertemplate": "country=Puerto Rico<br>year=%{x}<br>gdpPercap=%{y}<extra></extra>",
         "legendgroup": "Puerto Rico",
         "line": {
          "color": "#FFA15A",
          "dash": "solid"
         },
         "marker": {
          "symbol": "circle"
         },
         "mode": "lines",
         "name": "Puerto Rico",
         "showlegend": true,
         "type": "scattergl",
         "x": [
          1952,
          1957,
          1962,
          1967,
          1972,
          1977,
          1982,
          1987,
          1992,
          1997,
          2002,
          2007
         ],
         "xaxis": "x",
         "y": [
          3081.959785,
          3907.156189,
          5108.34463,
          6929.277714,
          9123.041742,
          9770.524921,
          10330.98915,
          12281.34191,
          14641.58711,
          16999.4333,
          18855.60618,
          19328.70901
         ],
         "yaxis": "y"
        },
        {
         "hovertemplate": "country=Reunion<br>year=%{x}<br>gdpPercap=%{y}<extra></extra>",
         "legendgroup": "Reunion",
         "line": {
          "color": "#19d3f3",
          "dash": "solid"
         },
         "marker": {
          "symbol": "circle"
         },
         "mode": "lines",
         "name": "Reunion",
         "showlegend": true,
         "type": "scattergl",
         "x": [
          1952,
          1957,
          1962,
          1967,
          1972,
          1977,
          1982,
          1987,
          1992,
          1997,
          2002,
          2007
         ],
         "xaxis": "x",
         "y": [
          2718.885295,
          2769.451844,
          3173.72334,
          4021.175739,
          5047.658563,
          4319.804067,
          5267.219353,
          5303.377488,
          6101.255823,
          6071.941411,
          6316.1652,
          7670.122558
         ],
         "yaxis": "y"
        },
        {
         "hovertemplate": "country=Romania<br>year=%{x}<br>gdpPercap=%{y}<extra></extra>",
         "legendgroup": "Romania",
         "line": {
          "color": "#FF6692",
          "dash": "solid"
         },
         "marker": {
          "symbol": "circle"
         },
         "mode": "lines",
         "name": "Romania",
         "showlegend": true,
         "type": "scattergl",
         "x": [
          1952,
          1957,
          1962,
          1967,
          1972,
          1977,
          1982,
          1987,
          1992,
          1997,
          2002,
          2007
         ],
         "xaxis": "x",
         "y": [
          3144.613186,
          3943.370225,
          4734.997586,
          6470.866545,
          8011.4144019999985,
          9356.39724,
          9605.314053,
          9696.273295,
          6598.409903,
          7346.547556999999,
          7885.360081,
          10808.47561
         ],
         "yaxis": "y"
        },
        {
         "hovertemplate": "country=Rwanda<br>year=%{x}<br>gdpPercap=%{y}<extra></extra>",
         "legendgroup": "Rwanda",
         "line": {
          "color": "#B6E880",
          "dash": "solid"
         },
         "marker": {
          "symbol": "circle"
         },
         "mode": "lines",
         "name": "Rwanda",
         "showlegend": true,
         "type": "scattergl",
         "x": [
          1952,
          1957,
          1962,
          1967,
          1972,
          1977,
          1982,
          1987,
          1992,
          1997,
          2002,
          2007
         ],
         "xaxis": "x",
         "y": [
          493.3238752,
          540.2893982999999,
          597.4730727000001,
          510.9637142,
          590.5806637999998,
          670.0806011,
          881.5706467,
          847.991217,
          737.0685949,
          589.9445051,
          785.6537647999999,
          863.0884639000002
         ],
         "yaxis": "y"
        },
        {
         "hovertemplate": "country=Sao Tome and Principe<br>year=%{x}<br>gdpPercap=%{y}<extra></extra>",
         "legendgroup": "Sao Tome and Principe",
         "line": {
          "color": "#FF97FF",
          "dash": "solid"
         },
         "marker": {
          "symbol": "circle"
         },
         "mode": "lines",
         "name": "Sao Tome and Principe",
         "showlegend": true,
         "type": "scattergl",
         "x": [
          1952,
          1957,
          1962,
          1967,
          1972,
          1977,
          1982,
          1987,
          1992,
          1997,
          2002,
          2007
         ],
         "xaxis": "x",
         "y": [
          879.5835855,
          860.7369026,
          1071.551119,
          1384.840593,
          1532.985254,
          1737.561657,
          1890.218117,
          1516.525457,
          1428.777814,
          1339.076036,
          1353.09239,
          1598.435089
         ],
         "yaxis": "y"
        },
        {
         "hovertemplate": "country=Saudi Arabia<br>year=%{x}<br>gdpPercap=%{y}<extra></extra>",
         "legendgroup": "Saudi Arabia",
         "line": {
          "color": "#FECB52",
          "dash": "solid"
         },
         "marker": {
          "symbol": "circle"
         },
         "mode": "lines",
         "name": "Saudi Arabia",
         "showlegend": true,
         "type": "scattergl",
         "x": [
          1952,
          1957,
          1962,
          1967,
          1972,
          1977,
          1982,
          1987,
          1992,
          1997,
          2002,
          2007
         ],
         "xaxis": "x",
         "y": [
          6459.554823,
          8157.5912480000015,
          11626.41975,
          16903.04886,
          24837.42865,
          34167.7626,
          33693.17525,
          21198.26136,
          24841.61777,
          20586.69019,
          19014.54118,
          21654.83194
         ],
         "yaxis": "y"
        },
        {
         "hovertemplate": "country=Senegal<br>year=%{x}<br>gdpPercap=%{y}<extra></extra>",
         "legendgroup": "Senegal",
         "line": {
          "color": "#636efa",
          "dash": "solid"
         },
         "marker": {
          "symbol": "circle"
         },
         "mode": "lines",
         "name": "Senegal",
         "showlegend": true,
         "type": "scattergl",
         "x": [
          1952,
          1957,
          1962,
          1967,
          1972,
          1977,
          1982,
          1987,
          1992,
          1997,
          2002,
          2007
         ],
         "xaxis": "x",
         "y": [
          1450.356983,
          1567.653006,
          1654.988723,
          1612.404632,
          1597.712056,
          1561.769116,
          1518.479984,
          1441.72072,
          1367.899369,
          1392.368347,
          1519.635262,
          1712.472136
         ],
         "yaxis": "y"
        },
        {
         "hovertemplate": "country=Serbia<br>year=%{x}<br>gdpPercap=%{y}<extra></extra>",
         "legendgroup": "Serbia",
         "line": {
          "color": "#EF553B",
          "dash": "solid"
         },
         "marker": {
          "symbol": "circle"
         },
         "mode": "lines",
         "name": "Serbia",
         "showlegend": true,
         "type": "scattergl",
         "x": [
          1952,
          1957,
          1962,
          1967,
          1972,
          1977,
          1982,
          1987,
          1992,
          1997,
          2002,
          2007
         ],
         "xaxis": "x",
         "y": [
          3581.459448,
          4981.090891,
          6289.629157,
          7991.707066,
          10522.06749,
          12980.66956,
          15181.0927,
          15870.87851,
          9325.068238,
          7914.320304000002,
          7236.075251,
          9786.534714
         ],
         "yaxis": "y"
        },
        {
         "hovertemplate": "country=Sierra Leone<br>year=%{x}<br>gdpPercap=%{y}<extra></extra>",
         "legendgroup": "Sierra Leone",
         "line": {
          "color": "#00cc96",
          "dash": "solid"
         },
         "marker": {
          "symbol": "circle"
         },
         "mode": "lines",
         "name": "Sierra Leone",
         "showlegend": true,
         "type": "scattergl",
         "x": [
          1952,
          1957,
          1962,
          1967,
          1972,
          1977,
          1982,
          1987,
          1992,
          1997,
          2002,
          2007
         ],
         "xaxis": "x",
         "y": [
          879.7877358,
          1004.484437,
          1116.6398769999996,
          1206.043465,
          1353.759762,
          1348.285159,
          1465.010784,
          1294.4477880000004,
          1068.696278,
          574.6481576,
          699.4897129999998,
          862.5407561000002
         ],
         "yaxis": "y"
        },
        {
         "hovertemplate": "country=Singapore<br>year=%{x}<br>gdpPercap=%{y}<extra></extra>",
         "legendgroup": "Singapore",
         "line": {
          "color": "#ab63fa",
          "dash": "solid"
         },
         "marker": {
          "symbol": "circle"
         },
         "mode": "lines",
         "name": "Singapore",
         "showlegend": true,
         "type": "scattergl",
         "x": [
          1952,
          1957,
          1962,
          1967,
          1972,
          1977,
          1982,
          1987,
          1992,
          1997,
          2002,
          2007
         ],
         "xaxis": "x",
         "y": [
          2315.138227,
          2843.104409,
          3674.735572,
          4977.41854,
          8597.756202,
          11210.08948,
          15169.16112,
          18861.53081,
          24769.8912,
          33519.4766,
          36023.1054,
          47143.17964
         ],
         "yaxis": "y"
        },
        {
         "hovertemplate": "country=Slovak Republic<br>year=%{x}<br>gdpPercap=%{y}<extra></extra>",
         "legendgroup": "Slovak Republic",
         "line": {
          "color": "#FFA15A",
          "dash": "solid"
         },
         "marker": {
          "symbol": "circle"
         },
         "mode": "lines",
         "name": "Slovak Republic",
         "showlegend": true,
         "type": "scattergl",
         "x": [
          1952,
          1957,
          1962,
          1967,
          1972,
          1977,
          1982,
          1987,
          1992,
          1997,
          2002,
          2007
         ],
         "xaxis": "x",
         "y": [
          5074.659104,
          6093.26298,
          7481.107598,
          8412.902397,
          9674.167626,
          10922.66404,
          11348.54585,
          12037.26758,
          9498.467723,
          12126.23065,
          13638.778369999998,
          18678.31435
         ],
         "yaxis": "y"
        },
        {
         "hovertemplate": "country=Slovenia<br>year=%{x}<br>gdpPercap=%{y}<extra></extra>",
         "legendgroup": "Slovenia",
         "line": {
          "color": "#19d3f3",
          "dash": "solid"
         },
         "marker": {
          "symbol": "circle"
         },
         "mode": "lines",
         "name": "Slovenia",
         "showlegend": true,
         "type": "scattergl",
         "x": [
          1952,
          1957,
          1962,
          1967,
          1972,
          1977,
          1982,
          1987,
          1992,
          1997,
          2002,
          2007
         ],
         "xaxis": "x",
         "y": [
          4215.041741,
          5862.276629,
          7402.303395,
          9405.489397,
          12383.4862,
          15277.030169999998,
          17866.72175,
          18678.53492,
          14214.71681,
          17161.10735,
          20660.01936,
          25768.25759
         ],
         "yaxis": "y"
        },
        {
         "hovertemplate": "country=Somalia<br>year=%{x}<br>gdpPercap=%{y}<extra></extra>",
         "legendgroup": "Somalia",
         "line": {
          "color": "#FF6692",
          "dash": "solid"
         },
         "marker": {
          "symbol": "circle"
         },
         "mode": "lines",
         "name": "Somalia",
         "showlegend": true,
         "type": "scattergl",
         "x": [
          1952,
          1957,
          1962,
          1967,
          1972,
          1977,
          1982,
          1987,
          1992,
          1997,
          2002,
          2007
         ],
         "xaxis": "x",
         "y": [
          1135.749842,
          1258.147413,
          1369.488336,
          1284.7331800000004,
          1254.576127,
          1450.992513,
          1176.807031,
          1093.244963,
          926.9602964,
          930.5964284,
          882.0818218000002,
          926.1410683
         ],
         "yaxis": "y"
        },
        {
         "hovertemplate": "country=South Africa<br>year=%{x}<br>gdpPercap=%{y}<extra></extra>",
         "legendgroup": "South Africa",
         "line": {
          "color": "#B6E880",
          "dash": "solid"
         },
         "marker": {
          "symbol": "circle"
         },
         "mode": "lines",
         "name": "South Africa",
         "showlegend": true,
         "type": "scattergl",
         "x": [
          1952,
          1957,
          1962,
          1967,
          1972,
          1977,
          1982,
          1987,
          1992,
          1997,
          2002,
          2007
         ],
         "xaxis": "x",
         "y": [
          4725.295531000002,
          5487.104219,
          5768.729717,
          7114.477970999998,
          7765.962636,
          8028.651439,
          8568.266228,
          7825.823398,
          7225.069257999998,
          7479.188244,
          7710.946444,
          9269.657808
         ],
         "yaxis": "y"
        },
        {
         "hovertemplate": "country=Spain<br>year=%{x}<br>gdpPercap=%{y}<extra></extra>",
         "legendgroup": "Spain",
         "line": {
          "color": "#FF97FF",
          "dash": "solid"
         },
         "marker": {
          "symbol": "circle"
         },
         "mode": "lines",
         "name": "Spain",
         "showlegend": true,
         "type": "scattergl",
         "x": [
          1952,
          1957,
          1962,
          1967,
          1972,
          1977,
          1982,
          1987,
          1992,
          1997,
          2002,
          2007
         ],
         "xaxis": "x",
         "y": [
          3834.034742,
          4564.80241,
          5693.843879,
          7993.512294,
          10638.75131,
          13236.92117,
          13926.16997,
          15764.98313,
          18603.06452,
          20445.29896,
          24835.47166,
          28821.0637
         ],
         "yaxis": "y"
        },
        {
         "hovertemplate": "country=Sri Lanka<br>year=%{x}<br>gdpPercap=%{y}<extra></extra>",
         "legendgroup": "Sri Lanka",
         "line": {
          "color": "#FECB52",
          "dash": "solid"
         },
         "marker": {
          "symbol": "circle"
         },
         "mode": "lines",
         "name": "Sri Lanka",
         "showlegend": true,
         "type": "scattergl",
         "x": [
          1952,
          1957,
          1962,
          1967,
          1972,
          1977,
          1982,
          1987,
          1992,
          1997,
          2002,
          2007
         ],
         "xaxis": "x",
         "y": [
          1083.53203,
          1072.546602,
          1074.47196,
          1135.514326,
          1213.39553,
          1348.775651,
          1648.079789,
          1876.766827,
          2153.739222,
          2664.477257,
          3015.378833,
          3970.095407
         ],
         "yaxis": "y"
        },
        {
         "hovertemplate": "country=Sudan<br>year=%{x}<br>gdpPercap=%{y}<extra></extra>",
         "legendgroup": "Sudan",
         "line": {
          "color": "#636efa",
          "dash": "solid"
         },
         "marker": {
          "symbol": "circle"
         },
         "mode": "lines",
         "name": "Sudan",
         "showlegend": true,
         "type": "scattergl",
         "x": [
          1952,
          1957,
          1962,
          1967,
          1972,
          1977,
          1982,
          1987,
          1992,
          1997,
          2002,
          2007
         ],
         "xaxis": "x",
         "y": [
          1615.991129,
          1770.3370739999998,
          1959.593767,
          1687.997641,
          1659.652775,
          2202.988423,
          1895.544073,
          1507.819159,
          1492.197043,
          1632.2107640000004,
          1993.398314,
          2602.394995
         ],
         "yaxis": "y"
        },
        {
         "hovertemplate": "country=Swaziland<br>year=%{x}<br>gdpPercap=%{y}<extra></extra>",
         "legendgroup": "Swaziland",
         "line": {
          "color": "#EF553B",
          "dash": "solid"
         },
         "marker": {
          "symbol": "circle"
         },
         "mode": "lines",
         "name": "Swaziland",
         "showlegend": true,
         "type": "scattergl",
         "x": [
          1952,
          1957,
          1962,
          1967,
          1972,
          1977,
          1982,
          1987,
          1992,
          1997,
          2002,
          2007
         ],
         "xaxis": "x",
         "y": [
          1148.376626,
          1244.708364,
          1856.182125,
          2613.101665,
          3364.836625,
          3781.410618,
          3895.384018,
          3984.839812,
          3553.0224,
          3876.76846,
          4128.116943,
          4513.480643
         ],
         "yaxis": "y"
        },
        {
         "hovertemplate": "country=Sweden<br>year=%{x}<br>gdpPercap=%{y}<extra></extra>",
         "legendgroup": "Sweden",
         "line": {
          "color": "#00cc96",
          "dash": "solid"
         },
         "marker": {
          "symbol": "circle"
         },
         "mode": "lines",
         "name": "Sweden",
         "showlegend": true,
         "type": "scattergl",
         "x": [
          1952,
          1957,
          1962,
          1967,
          1972,
          1977,
          1982,
          1987,
          1992,
          1997,
          2002,
          2007
         ],
         "xaxis": "x",
         "y": [
          8527.844662000001,
          9911.878226,
          12329.44192,
          15258.29697,
          17832.02464,
          18855.72521,
          20667.38125,
          23586.92927,
          23880.01683,
          25266.59499,
          29341.630930000007,
          33859.74835
         ],
         "yaxis": "y"
        },
        {
         "hovertemplate": "country=Switzerland<br>year=%{x}<br>gdpPercap=%{y}<extra></extra>",
         "legendgroup": "Switzerland",
         "line": {
          "color": "#ab63fa",
          "dash": "solid"
         },
         "marker": {
          "symbol": "circle"
         },
         "mode": "lines",
         "name": "Switzerland",
         "showlegend": true,
         "type": "scattergl",
         "x": [
          1952,
          1957,
          1962,
          1967,
          1972,
          1977,
          1982,
          1987,
          1992,
          1997,
          2002,
          2007
         ],
         "xaxis": "x",
         "y": [
          14734.23275,
          17909.48973,
          20431.0927,
          22966.14432,
          27195.11304,
          26982.29052,
          28397.71512,
          30281.70459,
          31871.5303,
          32135.323010000004,
          34480.95771,
          37506.41907
         ],
         "yaxis": "y"
        },
        {
         "hovertemplate": "country=Syria<br>year=%{x}<br>gdpPercap=%{y}<extra></extra>",
         "legendgroup": "Syria",
         "line": {
          "color": "#FFA15A",
          "dash": "solid"
         },
         "marker": {
          "symbol": "circle"
         },
         "mode": "lines",
         "name": "Syria",
         "showlegend": true,
         "type": "scattergl",
         "x": [
          1952,
          1957,
          1962,
          1967,
          1972,
          1977,
          1982,
          1987,
          1992,
          1997,
          2002,
          2007
         ],
         "xaxis": "x",
         "y": [
          1643.485354,
          2117.234893,
          2193.037133,
          1881.923632,
          2571.423014,
          3195.484582,
          3761.837715,
          3116.774285,
          3340.542768,
          4014.238972,
          4090.925331,
          4184.548089
         ],
         "yaxis": "y"
        },
        {
         "hovertemplate": "country=Taiwan<br>year=%{x}<br>gdpPercap=%{y}<extra></extra>",
         "legendgroup": "Taiwan",
         "line": {
          "color": "#19d3f3",
          "dash": "solid"
         },
         "marker": {
          "symbol": "circle"
         },
         "mode": "lines",
         "name": "Taiwan",
         "showlegend": true,
         "type": "scattergl",
         "x": [
          1952,
          1957,
          1962,
          1967,
          1972,
          1977,
          1982,
          1987,
          1992,
          1997,
          2002,
          2007
         ],
         "xaxis": "x",
         "y": [
          1206.947913,
          1507.86129,
          1822.879028,
          2643.858681,
          4062.523897,
          5596.519826,
          7426.3547739999985,
          11054.56175,
          15215.6579,
          20206.82098,
          23235.42329,
          28718.27684
         ],
         "yaxis": "y"
        },
        {
         "hovertemplate": "country=Tanzania<br>year=%{x}<br>gdpPercap=%{y}<extra></extra>",
         "legendgroup": "Tanzania",
         "line": {
          "color": "#FF6692",
          "dash": "solid"
         },
         "marker": {
          "symbol": "circle"
         },
         "mode": "lines",
         "name": "Tanzania",
         "showlegend": true,
         "type": "scattergl",
         "x": [
          1952,
          1957,
          1962,
          1967,
          1972,
          1977,
          1982,
          1987,
          1992,
          1997,
          2002,
          2007
         ],
         "xaxis": "x",
         "y": [
          716.6500721,
          698.5356073,
          722.0038073,
          848.2186575,
          915.9850592,
          962.4922932,
          874.2426069,
          831.8220794,
          825.682454,
          789.1862231,
          899.0742111,
          1107.482182
         ],
         "yaxis": "y"
        },
        {
         "hovertemplate": "country=Thailand<br>year=%{x}<br>gdpPercap=%{y}<extra></extra>",
         "legendgroup": "Thailand",
         "line": {
          "color": "#B6E880",
          "dash": "solid"
         },
         "marker": {
          "symbol": "circle"
         },
         "mode": "lines",
         "name": "Thailand",
         "showlegend": true,
         "type": "scattergl",
         "x": [
          1952,
          1957,
          1962,
          1967,
          1972,
          1977,
          1982,
          1987,
          1992,
          1997,
          2002,
          2007
         ],
         "xaxis": "x",
         "y": [
          757.7974177,
          793.5774147999998,
          1002.199172,
          1295.46066,
          1524.358936,
          1961.2246350000007,
          2393.219781,
          2982.653773,
          4616.896545000001,
          5852.625497,
          5913.187529,
          7458.396326999998
         ],
         "yaxis": "y"
        },
        {
         "hovertemplate": "country=Togo<br>year=%{x}<br>gdpPercap=%{y}<extra></extra>",
         "legendgroup": "Togo",
         "line": {
          "color": "#FF97FF",
          "dash": "solid"
         },
         "marker": {
          "symbol": "circle"
         },
         "mode": "lines",
         "name": "Togo",
         "showlegend": true,
         "type": "scattergl",
         "x": [
          1952,
          1957,
          1962,
          1967,
          1972,
          1977,
          1982,
          1987,
          1992,
          1997,
          2002,
          2007
         ],
         "xaxis": "x",
         "y": [
          859.8086567,
          925.9083202,
          1067.53481,
          1477.59676,
          1649.660188,
          1532.776998,
          1344.577953,
          1202.201361,
          1034.298904,
          982.2869243,
          886.2205765000001,
          882.9699437999999
         ],
         "yaxis": "y"
        },
        {
         "hovertemplate": "country=Trinidad and Tobago<br>year=%{x}<br>gdpPercap=%{y}<extra></extra>",
         "legendgroup": "Trinidad and Tobago",
         "line": {
          "color": "#FECB52",
          "dash": "solid"
         },
         "marker": {
          "symbol": "circle"
         },
         "mode": "lines",
         "name": "Trinidad and Tobago",
         "showlegend": true,
         "type": "scattergl",
         "x": [
          1952,
          1957,
          1962,
          1967,
          1972,
          1977,
          1982,
          1987,
          1992,
          1997,
          2002,
          2007
         ],
         "xaxis": "x",
         "y": [
          3023.271928,
          4100.3934,
          4997.523971000001,
          5621.368472,
          6619.551418999999,
          7899.554209000001,
          9119.528607,
          7388.597823,
          7370.990932,
          8792.573126000001,
          11460.60023,
          18008.50924
         ],
         "yaxis": "y"
        },
        {
         "hovertemplate": "country=Tunisia<br>year=%{x}<br>gdpPercap=%{y}<extra></extra>",
         "legendgroup": "Tunisia",
         "line": {
          "color": "#636efa",
          "dash": "solid"
         },
         "marker": {
          "symbol": "circle"
         },
         "mode": "lines",
         "name": "Tunisia",
         "showlegend": true,
         "type": "scattergl",
         "x": [
          1952,
          1957,
          1962,
          1967,
          1972,
          1977,
          1982,
          1987,
          1992,
          1997,
          2002,
          2007
         ],
         "xaxis": "x",
         "y": [
          1468.475631,
          1395.232468,
          1660.30321,
          1932.3601670000005,
          2753.2859940000008,
          3120.876811,
          3560.2331740000004,
          3810.419296,
          4332.720164,
          4876.798614,
          5722.895654999998,
          7092.923025
         ],
         "yaxis": "y"
        },
        {
         "hovertemplate": "country=Turkey<br>year=%{x}<br>gdpPercap=%{y}<extra></extra>",
         "legendgroup": "Turkey",
         "line": {
          "color": "#EF553B",
          "dash": "solid"
         },
         "marker": {
          "symbol": "circle"
         },
         "mode": "lines",
         "name": "Turkey",
         "showlegend": true,
         "type": "scattergl",
         "x": [
          1952,
          1957,
          1962,
          1967,
          1972,
          1977,
          1982,
          1987,
          1992,
          1997,
          2002,
          2007
         ],
         "xaxis": "x",
         "y": [
          1969.10098,
          2218.754257,
          2322.869908,
          2826.3563870000007,
          3450.69638,
          4269.122326,
          4241.356344,
          5089.043686,
          5678.348271,
          6601.429915,
          6508.085718,
          8458.276384
         ],
         "yaxis": "y"
        },
        {
         "hovertemplate": "country=Uganda<br>year=%{x}<br>gdpPercap=%{y}<extra></extra>",
         "legendgroup": "Uganda",
         "line": {
          "color": "#00cc96",
          "dash": "solid"
         },
         "marker": {
          "symbol": "circle"
         },
         "mode": "lines",
         "name": "Uganda",
         "showlegend": true,
         "type": "scattergl",
         "x": [
          1952,
          1957,
          1962,
          1967,
          1972,
          1977,
          1982,
          1987,
          1992,
          1997,
          2002,
          2007
         ],
         "xaxis": "x",
         "y": [
          734.753484,
          774.3710692000002,
          767.2717397999999,
          908.9185217,
          950.735869,
          843.7331372000001,
          682.2662267999998,
          617.7244065,
          644.1707968999998,
          816.559081,
          927.7210018,
          1056.380121
         ],
         "yaxis": "y"
        },
        {
         "hovertemplate": "country=United Kingdom<br>year=%{x}<br>gdpPercap=%{y}<extra></extra>",
         "legendgroup": "United Kingdom",
         "line": {
          "color": "#ab63fa",
          "dash": "solid"
         },
         "marker": {
          "symbol": "circle"
         },
         "mode": "lines",
         "name": "United Kingdom",
         "showlegend": true,
         "type": "scattergl",
         "x": [
          1952,
          1957,
          1962,
          1967,
          1972,
          1977,
          1982,
          1987,
          1992,
          1997,
          2002,
          2007
         ],
         "xaxis": "x",
         "y": [
          9979.508487,
          11283.17795,
          12477.17707,
          14142.85089,
          15895.11641,
          17428.74846,
          18232.42452,
          21664.78767,
          22705.09254,
          26074.53136,
          29478.99919,
          33203.26128
         ],
         "yaxis": "y"
        },
        {
         "hovertemplate": "country=United States<br>year=%{x}<br>gdpPercap=%{y}<extra></extra>",
         "legendgroup": "United States",
         "line": {
          "color": "#FFA15A",
          "dash": "solid"
         },
         "marker": {
          "symbol": "circle"
         },
         "mode": "lines",
         "name": "United States",
         "showlegend": true,
         "type": "scattergl",
         "x": [
          1952,
          1957,
          1962,
          1967,
          1972,
          1977,
          1982,
          1987,
          1992,
          1997,
          2002,
          2007
         ],
         "xaxis": "x",
         "y": [
          13990.482080000002,
          14847.12712,
          16173.14586,
          19530.36557,
          21806.03594,
          24072.63213,
          25009.55914,
          29884.350410000006,
          32003.93224,
          35767.43303,
          39097.09955,
          42951.65309
         ],
         "yaxis": "y"
        },
        {
         "hovertemplate": "country=Uruguay<br>year=%{x}<br>gdpPercap=%{y}<extra></extra>",
         "legendgroup": "Uruguay",
         "line": {
          "color": "#19d3f3",
          "dash": "solid"
         },
         "marker": {
          "symbol": "circle"
         },
         "mode": "lines",
         "name": "Uruguay",
         "showlegend": true,
         "type": "scattergl",
         "x": [
          1952,
          1957,
          1962,
          1967,
          1972,
          1977,
          1982,
          1987,
          1992,
          1997,
          2002,
          2007
         ],
         "xaxis": "x",
         "y": [
          5716.766744,
          6150.772969,
          5603.357717,
          5444.61962,
          5703.408898,
          6504.339663000002,
          6920.223051000001,
          7452.398969,
          8137.004775,
          9230.240708,
          7727.002004000001,
          10611.46299
         ],
         "yaxis": "y"
        },
        {
         "hovertemplate": "country=Venezuela<br>year=%{x}<br>gdpPercap=%{y}<extra></extra>",
         "legendgroup": "Venezuela",
         "line": {
          "color": "#FF6692",
          "dash": "solid"
         },
         "marker": {
          "symbol": "circle"
         },
         "mode": "lines",
         "name": "Venezuela",
         "showlegend": true,
         "type": "scattergl",
         "x": [
          1952,
          1957,
          1962,
          1967,
          1972,
          1977,
          1982,
          1987,
          1992,
          1997,
          2002,
          2007
         ],
         "xaxis": "x",
         "y": [
          7689.799761,
          9802.466526,
          8422.974165000001,
          9541.474188,
          10505.25966,
          13143.95095,
          11152.41011,
          9883.584648,
          10733.92631,
          10165.49518,
          8605.047831,
          11415.80569
         ],
         "yaxis": "y"
        },
        {
         "hovertemplate": "country=Vietnam<br>year=%{x}<br>gdpPercap=%{y}<extra></extra>",
         "legendgroup": "Vietnam",
         "line": {
          "color": "#B6E880",
          "dash": "solid"
         },
         "marker": {
          "symbol": "circle"
         },
         "mode": "lines",
         "name": "Vietnam",
         "showlegend": true,
         "type": "scattergl",
         "x": [
          1952,
          1957,
          1962,
          1967,
          1972,
          1977,
          1982,
          1987,
          1992,
          1997,
          2002,
          2007
         ],
         "xaxis": "x",
         "y": [
          605.0664917,
          676.2854477999998,
          772.0491602000002,
          637.1232887,
          699.5016441,
          713.5371196000001,
          707.2357863,
          820.7994449,
          989.0231487,
          1385.896769,
          1764.456677,
          2441.576404
         ],
         "yaxis": "y"
        },
        {
         "hovertemplate": "country=West Bank and Gaza<br>year=%{x}<br>gdpPercap=%{y}<extra></extra>",
         "legendgroup": "West Bank and Gaza",
         "line": {
          "color": "#FF97FF",
          "dash": "solid"
         },
         "marker": {
          "symbol": "circle"
         },
         "mode": "lines",
         "name": "West Bank and Gaza",
         "showlegend": true,
         "type": "scattergl",
         "x": [
          1952,
          1957,
          1962,
          1967,
          1972,
          1977,
          1982,
          1987,
          1992,
          1997,
          2002,
          2007
         ],
         "xaxis": "x",
         "y": [
          1515.5923289999996,
          1827.067742,
          2198.9563120000007,
          2649.715007,
          3133.409277,
          3682.831494,
          4336.032082,
          5107.197384,
          6017.654756,
          7110.667619,
          4515.487575,
          3025.349798
         ],
         "yaxis": "y"
        },
        {
         "hovertemplate": "country=Yemen, Rep.<br>year=%{x}<br>gdpPercap=%{y}<extra></extra>",
         "legendgroup": "Yemen, Rep.",
         "line": {
          "color": "#FECB52",
          "dash": "solid"
         },
         "marker": {
          "symbol": "circle"
         },
         "mode": "lines",
         "name": "Yemen, Rep.",
         "showlegend": true,
         "type": "scattergl",
         "x": [
          1952,
          1957,
          1962,
          1967,
          1972,
          1977,
          1982,
          1987,
          1992,
          1997,
          2002,
          2007
         ],
         "xaxis": "x",
         "y": [
          781.7175761,
          804.8304547,
          825.6232006,
          862.4421463,
          1265.047031,
          1829.765177,
          1977.55701,
          1971.741538,
          1879.496673,
          2117.484526,
          2234.820827,
          2280.769906
         ],
         "yaxis": "y"
        },
        {
         "hovertemplate": "country=Zambia<br>year=%{x}<br>gdpPercap=%{y}<extra></extra>",
         "legendgroup": "Zambia",
         "line": {
          "color": "#636efa",
          "dash": "solid"
         },
         "marker": {
          "symbol": "circle"
         },
         "mode": "lines",
         "name": "Zambia",
         "showlegend": true,
         "type": "scattergl",
         "x": [
          1952,
          1957,
          1962,
          1967,
          1972,
          1977,
          1982,
          1987,
          1992,
          1997,
          2002,
          2007
         ],
         "xaxis": "x",
         "y": [
          1147.388831,
          1311.956766,
          1452.725766,
          1777.077318,
          1773.498265,
          1588.688299,
          1408.678565,
          1213.315116,
          1210.884633,
          1071.353818,
          1071.6139380000004,
          1271.211593
         ],
         "yaxis": "y"
        },
        {
         "hovertemplate": "country=Zimbabwe<br>year=%{x}<br>gdpPercap=%{y}<extra></extra>",
         "legendgroup": "Zimbabwe",
         "line": {
          "color": "#EF553B",
          "dash": "solid"
         },
         "marker": {
          "symbol": "circle"
         },
         "mode": "lines",
         "name": "Zimbabwe",
         "showlegend": true,
         "type": "scattergl",
         "x": [
          1952,
          1957,
          1962,
          1967,
          1972,
          1977,
          1982,
          1987,
          1992,
          1997,
          2002,
          2007
         ],
         "xaxis": "x",
         "y": [
          406.8841148,
          518.7642681,
          527.2721818,
          569.7950712,
          799.3621757999998,
          685.5876821,
          788.8550411,
          706.1573059,
          693.4207856,
          792.4499602999998,
          672.0386227000001,
          469.70929810000007
         ],
         "yaxis": "y"
        }
       ],
       "layout": {
        "legend": {
         "title": {
          "text": "country"
         },
         "tracegroupgap": 0
        },
        "margin": {
         "t": 60
        },
        "template": {
         "data": {
          "bar": [
           {
            "error_x": {
             "color": "#2a3f5f"
            },
            "error_y": {
             "color": "#2a3f5f"
            },
            "marker": {
             "line": {
              "color": "#E5ECF6",
              "width": 0.5
             },
             "pattern": {
              "fillmode": "overlay",
              "size": 10,
              "solidity": 0.2
             }
            },
            "type": "bar"
           }
          ],
          "barpolar": [
           {
            "marker": {
             "line": {
              "color": "#E5ECF6",
              "width": 0.5
             },
             "pattern": {
              "fillmode": "overlay",
              "size": 10,
              "solidity": 0.2
             }
            },
            "type": "barpolar"
           }
          ],
          "carpet": [
           {
            "aaxis": {
             "endlinecolor": "#2a3f5f",
             "gridcolor": "white",
             "linecolor": "white",
             "minorgridcolor": "white",
             "startlinecolor": "#2a3f5f"
            },
            "baxis": {
             "endlinecolor": "#2a3f5f",
             "gridcolor": "white",
             "linecolor": "white",
             "minorgridcolor": "white",
             "startlinecolor": "#2a3f5f"
            },
            "type": "carpet"
           }
          ],
          "choropleth": [
           {
            "colorbar": {
             "outlinewidth": 0,
             "ticks": ""
            },
            "type": "choropleth"
           }
          ],
          "contour": [
           {
            "colorbar": {
             "outlinewidth": 0,
             "ticks": ""
            },
            "colorscale": [
             [
              0,
              "#0d0887"
             ],
             [
              0.1111111111111111,
              "#46039f"
             ],
             [
              0.2222222222222222,
              "#7201a8"
             ],
             [
              0.3333333333333333,
              "#9c179e"
             ],
             [
              0.4444444444444444,
              "#bd3786"
             ],
             [
              0.5555555555555556,
              "#d8576b"
             ],
             [
              0.6666666666666666,
              "#ed7953"
             ],
             [
              0.7777777777777778,
              "#fb9f3a"
             ],
             [
              0.8888888888888888,
              "#fdca26"
             ],
             [
              1,
              "#f0f921"
             ]
            ],
            "type": "contour"
           }
          ],
          "contourcarpet": [
           {
            "colorbar": {
             "outlinewidth": 0,
             "ticks": ""
            },
            "type": "contourcarpet"
           }
          ],
          "heatmap": [
           {
            "colorbar": {
             "outlinewidth": 0,
             "ticks": ""
            },
            "colorscale": [
             [
              0,
              "#0d0887"
             ],
             [
              0.1111111111111111,
              "#46039f"
             ],
             [
              0.2222222222222222,
              "#7201a8"
             ],
             [
              0.3333333333333333,
              "#9c179e"
             ],
             [
              0.4444444444444444,
              "#bd3786"
             ],
             [
              0.5555555555555556,
              "#d8576b"
             ],
             [
              0.6666666666666666,
              "#ed7953"
             ],
             [
              0.7777777777777778,
              "#fb9f3a"
             ],
             [
              0.8888888888888888,
              "#fdca26"
             ],
             [
              1,
              "#f0f921"
             ]
            ],
            "type": "heatmap"
           }
          ],
          "heatmapgl": [
           {
            "colorbar": {
             "outlinewidth": 0,
             "ticks": ""
            },
            "colorscale": [
             [
              0,
              "#0d0887"
             ],
             [
              0.1111111111111111,
              "#46039f"
             ],
             [
              0.2222222222222222,
              "#7201a8"
             ],
             [
              0.3333333333333333,
              "#9c179e"
             ],
             [
              0.4444444444444444,
              "#bd3786"
             ],
             [
              0.5555555555555556,
              "#d8576b"
             ],
             [
              0.6666666666666666,
              "#ed7953"
             ],
             [
              0.7777777777777778,
              "#fb9f3a"
             ],
             [
              0.8888888888888888,
              "#fdca26"
             ],
             [
              1,
              "#f0f921"
             ]
            ],
            "type": "heatmapgl"
           }
          ],
          "histogram": [
           {
            "marker": {
             "pattern": {
              "fillmode": "overlay",
              "size": 10,
              "solidity": 0.2
             }
            },
            "type": "histogram"
           }
          ],
          "histogram2d": [
           {
            "colorbar": {
             "outlinewidth": 0,
             "ticks": ""
            },
            "colorscale": [
             [
              0,
              "#0d0887"
             ],
             [
              0.1111111111111111,
              "#46039f"
             ],
             [
              0.2222222222222222,
              "#7201a8"
             ],
             [
              0.3333333333333333,
              "#9c179e"
             ],
             [
              0.4444444444444444,
              "#bd3786"
             ],
             [
              0.5555555555555556,
              "#d8576b"
             ],
             [
              0.6666666666666666,
              "#ed7953"
             ],
             [
              0.7777777777777778,
              "#fb9f3a"
             ],
             [
              0.8888888888888888,
              "#fdca26"
             ],
             [
              1,
              "#f0f921"
             ]
            ],
            "type": "histogram2d"
           }
          ],
          "histogram2dcontour": [
           {
            "colorbar": {
             "outlinewidth": 0,
             "ticks": ""
            },
            "colorscale": [
             [
              0,
              "#0d0887"
             ],
             [
              0.1111111111111111,
              "#46039f"
             ],
             [
              0.2222222222222222,
              "#7201a8"
             ],
             [
              0.3333333333333333,
              "#9c179e"
             ],
             [
              0.4444444444444444,
              "#bd3786"
             ],
             [
              0.5555555555555556,
              "#d8576b"
             ],
             [
              0.6666666666666666,
              "#ed7953"
             ],
             [
              0.7777777777777778,
              "#fb9f3a"
             ],
             [
              0.8888888888888888,
              "#fdca26"
             ],
             [
              1,
              "#f0f921"
             ]
            ],
            "type": "histogram2dcontour"
           }
          ],
          "mesh3d": [
           {
            "colorbar": {
             "outlinewidth": 0,
             "ticks": ""
            },
            "type": "mesh3d"
           }
          ],
          "parcoords": [
           {
            "line": {
             "colorbar": {
              "outlinewidth": 0,
              "ticks": ""
             }
            },
            "type": "parcoords"
           }
          ],
          "pie": [
           {
            "automargin": true,
            "type": "pie"
           }
          ],
          "scatter": [
           {
            "fillpattern": {
             "fillmode": "overlay",
             "size": 10,
             "solidity": 0.2
            },
            "type": "scatter"
           }
          ],
          "scatter3d": [
           {
            "line": {
             "colorbar": {
              "outlinewidth": 0,
              "ticks": ""
             }
            },
            "marker": {
             "colorbar": {
              "outlinewidth": 0,
              "ticks": ""
             }
            },
            "type": "scatter3d"
           }
          ],
          "scattercarpet": [
           {
            "marker": {
             "colorbar": {
              "outlinewidth": 0,
              "ticks": ""
             }
            },
            "type": "scattercarpet"
           }
          ],
          "scattergeo": [
           {
            "marker": {
             "colorbar": {
              "outlinewidth": 0,
              "ticks": ""
             }
            },
            "type": "scattergeo"
           }
          ],
          "scattergl": [
           {
            "marker": {
             "colorbar": {
              "outlinewidth": 0,
              "ticks": ""
             }
            },
            "type": "scattergl"
           }
          ],
          "scattermapbox": [
           {
            "marker": {
             "colorbar": {
              "outlinewidth": 0,
              "ticks": ""
             }
            },
            "type": "scattermapbox"
           }
          ],
          "scatterpolar": [
           {
            "marker": {
             "colorbar": {
              "outlinewidth": 0,
              "ticks": ""
             }
            },
            "type": "scatterpolar"
           }
          ],
          "scatterpolargl": [
           {
            "marker": {
             "colorbar": {
              "outlinewidth": 0,
              "ticks": ""
             }
            },
            "type": "scatterpolargl"
           }
          ],
          "scatterternary": [
           {
            "marker": {
             "colorbar": {
              "outlinewidth": 0,
              "ticks": ""
             }
            },
            "type": "scatterternary"
           }
          ],
          "surface": [
           {
            "colorbar": {
             "outlinewidth": 0,
             "ticks": ""
            },
            "colorscale": [
             [
              0,
              "#0d0887"
             ],
             [
              0.1111111111111111,
              "#46039f"
             ],
             [
              0.2222222222222222,
              "#7201a8"
             ],
             [
              0.3333333333333333,
              "#9c179e"
             ],
             [
              0.4444444444444444,
              "#bd3786"
             ],
             [
              0.5555555555555556,
              "#d8576b"
             ],
             [
              0.6666666666666666,
              "#ed7953"
             ],
             [
              0.7777777777777778,
              "#fb9f3a"
             ],
             [
              0.8888888888888888,
              "#fdca26"
             ],
             [
              1,
              "#f0f921"
             ]
            ],
            "type": "surface"
           }
          ],
          "table": [
           {
            "cells": {
             "fill": {
              "color": "#EBF0F8"
             },
             "line": {
              "color": "white"
             }
            },
            "header": {
             "fill": {
              "color": "#C8D4E3"
             },
             "line": {
              "color": "white"
             }
            },
            "type": "table"
           }
          ]
         },
         "layout": {
          "annotationdefaults": {
           "arrowcolor": "#2a3f5f",
           "arrowhead": 0,
           "arrowwidth": 1
          },
          "autotypenumbers": "strict",
          "coloraxis": {
           "colorbar": {
            "outlinewidth": 0,
            "ticks": ""
           }
          },
          "colorscale": {
           "diverging": [
            [
             0,
             "#8e0152"
            ],
            [
             0.1,
             "#c51b7d"
            ],
            [
             0.2,
             "#de77ae"
            ],
            [
             0.3,
             "#f1b6da"
            ],
            [
             0.4,
             "#fde0ef"
            ],
            [
             0.5,
             "#f7f7f7"
            ],
            [
             0.6,
             "#e6f5d0"
            ],
            [
             0.7,
             "#b8e186"
            ],
            [
             0.8,
             "#7fbc41"
            ],
            [
             0.9,
             "#4d9221"
            ],
            [
             1,
             "#276419"
            ]
           ],
           "sequential": [
            [
             0,
             "#0d0887"
            ],
            [
             0.1111111111111111,
             "#46039f"
            ],
            [
             0.2222222222222222,
             "#7201a8"
            ],
            [
             0.3333333333333333,
             "#9c179e"
            ],
            [
             0.4444444444444444,
             "#bd3786"
            ],
            [
             0.5555555555555556,
             "#d8576b"
            ],
            [
             0.6666666666666666,
             "#ed7953"
            ],
            [
             0.7777777777777778,
             "#fb9f3a"
            ],
            [
             0.8888888888888888,
             "#fdca26"
            ],
            [
             1,
             "#f0f921"
            ]
           ],
           "sequentialminus": [
            [
             0,
             "#0d0887"
            ],
            [
             0.1111111111111111,
             "#46039f"
            ],
            [
             0.2222222222222222,
             "#7201a8"
            ],
            [
             0.3333333333333333,
             "#9c179e"
            ],
            [
             0.4444444444444444,
             "#bd3786"
            ],
            [
             0.5555555555555556,
             "#d8576b"
            ],
            [
             0.6666666666666666,
             "#ed7953"
            ],
            [
             0.7777777777777778,
             "#fb9f3a"
            ],
            [
             0.8888888888888888,
             "#fdca26"
            ],
            [
             1,
             "#f0f921"
            ]
           ]
          },
          "colorway": [
           "#636efa",
           "#EF553B",
           "#00cc96",
           "#ab63fa",
           "#FFA15A",
           "#19d3f3",
           "#FF6692",
           "#B6E880",
           "#FF97FF",
           "#FECB52"
          ],
          "font": {
           "color": "#2a3f5f"
          },
          "geo": {
           "bgcolor": "white",
           "lakecolor": "white",
           "landcolor": "#E5ECF6",
           "showlakes": true,
           "showland": true,
           "subunitcolor": "white"
          },
          "hoverlabel": {
           "align": "left"
          },
          "hovermode": "closest",
          "mapbox": {
           "style": "light"
          },
          "paper_bgcolor": "white",
          "plot_bgcolor": "#E5ECF6",
          "polar": {
           "angularaxis": {
            "gridcolor": "white",
            "linecolor": "white",
            "ticks": ""
           },
           "bgcolor": "#E5ECF6",
           "radialaxis": {
            "gridcolor": "white",
            "linecolor": "white",
            "ticks": ""
           }
          },
          "scene": {
           "xaxis": {
            "backgroundcolor": "#E5ECF6",
            "gridcolor": "white",
            "gridwidth": 2,
            "linecolor": "white",
            "showbackground": true,
            "ticks": "",
            "zerolinecolor": "white"
           },
           "yaxis": {
            "backgroundcolor": "#E5ECF6",
            "gridcolor": "white",
            "gridwidth": 2,
            "linecolor": "white",
            "showbackground": true,
            "ticks": "",
            "zerolinecolor": "white"
           },
           "zaxis": {
            "backgroundcolor": "#E5ECF6",
            "gridcolor": "white",
            "gridwidth": 2,
            "linecolor": "white",
            "showbackground": true,
            "ticks": "",
            "zerolinecolor": "white"
           }
          },
          "shapedefaults": {
           "line": {
            "color": "#2a3f5f"
           }
          },
          "ternary": {
           "aaxis": {
            "gridcolor": "white",
            "linecolor": "white",
            "ticks": ""
           },
           "baxis": {
            "gridcolor": "white",
            "linecolor": "white",
            "ticks": ""
           },
           "bgcolor": "#E5ECF6",
           "caxis": {
            "gridcolor": "white",
            "linecolor": "white",
            "ticks": ""
           }
          },
          "title": {
           "x": 0.05
          },
          "xaxis": {
           "automargin": true,
           "gridcolor": "white",
           "linecolor": "white",
           "ticks": "",
           "title": {
            "standoff": 15
           },
           "zerolinecolor": "white",
           "zerolinewidth": 2
          },
          "yaxis": {
           "automargin": true,
           "gridcolor": "white",
           "linecolor": "white",
           "ticks": "",
           "title": {
            "standoff": 15
           },
           "zerolinecolor": "white",
           "zerolinewidth": 2
          }
         }
        },
        "xaxis": {
         "anchor": "y",
         "domain": [
          0,
          1
         ],
         "title": {
          "text": "year"
         }
        },
        "yaxis": {
         "anchor": "x",
         "domain": [
          0,
          1
         ],
         "title": {
          "text": "gdpPercap"
         }
        }
       }
      }
     },
     "metadata": {},
     "output_type": "display_data"
    }
   ],
   "source": [
    "px.line(gapminder, x=\"year\", y=\"gdpPercap\", color=\"country\")"
   ]
  },
  {
   "cell_type": "markdown",
   "id": "85b54ae1",
   "metadata": {},
   "source": [
    "#### Gdp Per Capita Ratio"
   ]
  },
  {
   "cell_type": "code",
   "execution_count": 92,
   "id": "f1c7b967",
   "metadata": {},
   "outputs": [
    {
     "data": {
      "text/html": [
       "<div>\n",
       "<style scoped>\n",
       "    .dataframe tbody tr th:only-of-type {\n",
       "        vertical-align: middle;\n",
       "    }\n",
       "\n",
       "    .dataframe tbody tr th {\n",
       "        vertical-align: top;\n",
       "    }\n",
       "\n",
       "    .dataframe thead th {\n",
       "        text-align: right;\n",
       "    }\n",
       "</style>\n",
       "<table border=\"1\" class=\"dataframe\">\n",
       "  <thead>\n",
       "    <tr style=\"text-align: right;\">\n",
       "      <th></th>\n",
       "      <th>continent</th>\n",
       "      <th>year</th>\n",
       "      <th>lifeExp</th>\n",
       "      <th>population</th>\n",
       "      <th>gdpPercap</th>\n",
       "      <th>iso_alpha</th>\n",
       "      <th>iso_num</th>\n",
       "    </tr>\n",
       "    <tr>\n",
       "      <th>country</th>\n",
       "      <th></th>\n",
       "      <th></th>\n",
       "      <th></th>\n",
       "      <th></th>\n",
       "      <th></th>\n",
       "      <th></th>\n",
       "      <th></th>\n",
       "    </tr>\n",
       "  </thead>\n",
       "  <tbody>\n",
       "    <tr>\n",
       "      <th>Afghanistan</th>\n",
       "      <td>Asia</td>\n",
       "      <td>1952</td>\n",
       "      <td>28.801</td>\n",
       "      <td>8425333</td>\n",
       "      <td>779.445314</td>\n",
       "      <td>AFG</td>\n",
       "      <td>4</td>\n",
       "    </tr>\n",
       "    <tr>\n",
       "      <th>Afghanistan</th>\n",
       "      <td>Asia</td>\n",
       "      <td>1957</td>\n",
       "      <td>30.332</td>\n",
       "      <td>9240934</td>\n",
       "      <td>820.853030</td>\n",
       "      <td>AFG</td>\n",
       "      <td>4</td>\n",
       "    </tr>\n",
       "    <tr>\n",
       "      <th>Afghanistan</th>\n",
       "      <td>Asia</td>\n",
       "      <td>1962</td>\n",
       "      <td>31.997</td>\n",
       "      <td>10267083</td>\n",
       "      <td>853.100710</td>\n",
       "      <td>AFG</td>\n",
       "      <td>4</td>\n",
       "    </tr>\n",
       "    <tr>\n",
       "      <th>Afghanistan</th>\n",
       "      <td>Asia</td>\n",
       "      <td>1967</td>\n",
       "      <td>34.020</td>\n",
       "      <td>11537966</td>\n",
       "      <td>836.197138</td>\n",
       "      <td>AFG</td>\n",
       "      <td>4</td>\n",
       "    </tr>\n",
       "    <tr>\n",
       "      <th>Afghanistan</th>\n",
       "      <td>Asia</td>\n",
       "      <td>1972</td>\n",
       "      <td>36.088</td>\n",
       "      <td>13079460</td>\n",
       "      <td>739.981106</td>\n",
       "      <td>AFG</td>\n",
       "      <td>4</td>\n",
       "    </tr>\n",
       "    <tr>\n",
       "      <th>...</th>\n",
       "      <td>...</td>\n",
       "      <td>...</td>\n",
       "      <td>...</td>\n",
       "      <td>...</td>\n",
       "      <td>...</td>\n",
       "      <td>...</td>\n",
       "      <td>...</td>\n",
       "    </tr>\n",
       "    <tr>\n",
       "      <th>Zimbabwe</th>\n",
       "      <td>Africa</td>\n",
       "      <td>1987</td>\n",
       "      <td>62.351</td>\n",
       "      <td>9216418</td>\n",
       "      <td>706.157306</td>\n",
       "      <td>ZWE</td>\n",
       "      <td>716</td>\n",
       "    </tr>\n",
       "    <tr>\n",
       "      <th>Zimbabwe</th>\n",
       "      <td>Africa</td>\n",
       "      <td>1992</td>\n",
       "      <td>60.377</td>\n",
       "      <td>10704340</td>\n",
       "      <td>693.420786</td>\n",
       "      <td>ZWE</td>\n",
       "      <td>716</td>\n",
       "    </tr>\n",
       "    <tr>\n",
       "      <th>Zimbabwe</th>\n",
       "      <td>Africa</td>\n",
       "      <td>1997</td>\n",
       "      <td>46.809</td>\n",
       "      <td>11404948</td>\n",
       "      <td>792.449960</td>\n",
       "      <td>ZWE</td>\n",
       "      <td>716</td>\n",
       "    </tr>\n",
       "    <tr>\n",
       "      <th>Zimbabwe</th>\n",
       "      <td>Africa</td>\n",
       "      <td>2002</td>\n",
       "      <td>39.989</td>\n",
       "      <td>11926563</td>\n",
       "      <td>672.038623</td>\n",
       "      <td>ZWE</td>\n",
       "      <td>716</td>\n",
       "    </tr>\n",
       "    <tr>\n",
       "      <th>Zimbabwe</th>\n",
       "      <td>Africa</td>\n",
       "      <td>2007</td>\n",
       "      <td>43.487</td>\n",
       "      <td>12311143</td>\n",
       "      <td>469.709298</td>\n",
       "      <td>ZWE</td>\n",
       "      <td>716</td>\n",
       "    </tr>\n",
       "  </tbody>\n",
       "</table>\n",
       "<p>1704 rows × 7 columns</p>\n",
       "</div>"
      ],
      "text/plain": [
       "            continent  year  lifeExp  population   gdpPercap iso_alpha  \\\n",
       "country                                                                  \n",
       "Afghanistan      Asia  1952   28.801     8425333  779.445314       AFG   \n",
       "Afghanistan      Asia  1957   30.332     9240934  820.853030       AFG   \n",
       "Afghanistan      Asia  1962   31.997    10267083  853.100710       AFG   \n",
       "Afghanistan      Asia  1967   34.020    11537966  836.197138       AFG   \n",
       "Afghanistan      Asia  1972   36.088    13079460  739.981106       AFG   \n",
       "...               ...   ...      ...         ...         ...       ...   \n",
       "Zimbabwe       Africa  1987   62.351     9216418  706.157306       ZWE   \n",
       "Zimbabwe       Africa  1992   60.377    10704340  693.420786       ZWE   \n",
       "Zimbabwe       Africa  1997   46.809    11404948  792.449960       ZWE   \n",
       "Zimbabwe       Africa  2002   39.989    11926563  672.038623       ZWE   \n",
       "Zimbabwe       Africa  2007   43.487    12311143  469.709298       ZWE   \n",
       "\n",
       "             iso_num  \n",
       "country               \n",
       "Afghanistan        4  \n",
       "Afghanistan        4  \n",
       "Afghanistan        4  \n",
       "Afghanistan        4  \n",
       "Afghanistan        4  \n",
       "...              ...  \n",
       "Zimbabwe         716  \n",
       "Zimbabwe         716  \n",
       "Zimbabwe         716  \n",
       "Zimbabwe         716  \n",
       "Zimbabwe         716  \n",
       "\n",
       "[1704 rows x 7 columns]"
      ]
     },
     "execution_count": 92,
     "metadata": {},
     "output_type": "execute_result"
    }
   ],
   "source": [
    "gdp_and_pop_by_entity = gapminder.set_index(\"country\")\n",
    "gdp_and_pop_by_entity"
   ]
  },
  {
   "cell_type": "code",
   "execution_count": 95,
   "id": "579c8457",
   "metadata": {},
   "outputs": [
    {
     "data": {
      "text/html": [
       "<div>\n",
       "<style scoped>\n",
       "    .dataframe tbody tr th:only-of-type {\n",
       "        vertical-align: middle;\n",
       "    }\n",
       "\n",
       "    .dataframe tbody tr th {\n",
       "        vertical-align: top;\n",
       "    }\n",
       "\n",
       "    .dataframe thead th {\n",
       "        text-align: right;\n",
       "    }\n",
       "</style>\n",
       "<table border=\"1\" class=\"dataframe\">\n",
       "  <thead>\n",
       "    <tr style=\"text-align: right;\">\n",
       "      <th></th>\n",
       "      <th>gdpPercap</th>\n",
       "    </tr>\n",
       "    <tr>\n",
       "      <th>country</th>\n",
       "      <th></th>\n",
       "    </tr>\n",
       "  </thead>\n",
       "  <tbody>\n",
       "    <tr>\n",
       "      <th>Afghanistan</th>\n",
       "      <td>779.445314</td>\n",
       "    </tr>\n",
       "    <tr>\n",
       "      <th>Albania</th>\n",
       "      <td>1601.056136</td>\n",
       "    </tr>\n",
       "    <tr>\n",
       "      <th>Algeria</th>\n",
       "      <td>2449.008185</td>\n",
       "    </tr>\n",
       "    <tr>\n",
       "      <th>Angola</th>\n",
       "      <td>3520.610273</td>\n",
       "    </tr>\n",
       "    <tr>\n",
       "      <th>Argentina</th>\n",
       "      <td>5911.315053</td>\n",
       "    </tr>\n",
       "    <tr>\n",
       "      <th>...</th>\n",
       "      <td>...</td>\n",
       "    </tr>\n",
       "    <tr>\n",
       "      <th>Vietnam</th>\n",
       "      <td>605.066492</td>\n",
       "    </tr>\n",
       "    <tr>\n",
       "      <th>West Bank and Gaza</th>\n",
       "      <td>1515.592329</td>\n",
       "    </tr>\n",
       "    <tr>\n",
       "      <th>Yemen, Rep.</th>\n",
       "      <td>781.717576</td>\n",
       "    </tr>\n",
       "    <tr>\n",
       "      <th>Zambia</th>\n",
       "      <td>1147.388831</td>\n",
       "    </tr>\n",
       "    <tr>\n",
       "      <th>Zimbabwe</th>\n",
       "      <td>406.884115</td>\n",
       "    </tr>\n",
       "  </tbody>\n",
       "</table>\n",
       "<p>142 rows × 1 columns</p>\n",
       "</div>"
      ],
      "text/plain": [
       "                      gdpPercap\n",
       "country                        \n",
       "Afghanistan          779.445314\n",
       "Albania             1601.056136\n",
       "Algeria             2449.008185\n",
       "Angola              3520.610273\n",
       "Argentina           5911.315053\n",
       "...                         ...\n",
       "Vietnam              605.066492\n",
       "West Bank and Gaza  1515.592329\n",
       "Yemen, Rep.          781.717576\n",
       "Zambia              1147.388831\n",
       "Zimbabwe             406.884115\n",
       "\n",
       "[142 rows x 1 columns]"
      ]
     },
     "execution_count": 95,
     "metadata": {},
     "output_type": "execute_result"
    }
   ],
   "source": [
    "gdp_per_capita_1952 = gdp_and_pop_by_entity.query(\"year == 1952\")[[\"gdpPercap\"]]\n",
    "gdp_per_capita_1952"
   ]
  },
  {
   "cell_type": "code",
   "execution_count": 96,
   "id": "8564d9b5",
   "metadata": {},
   "outputs": [
    {
     "data": {
      "text/html": [
       "<div>\n",
       "<style scoped>\n",
       "    .dataframe tbody tr th:only-of-type {\n",
       "        vertical-align: middle;\n",
       "    }\n",
       "\n",
       "    .dataframe tbody tr th {\n",
       "        vertical-align: top;\n",
       "    }\n",
       "\n",
       "    .dataframe thead th {\n",
       "        text-align: right;\n",
       "    }\n",
       "</style>\n",
       "<table border=\"1\" class=\"dataframe\">\n",
       "  <thead>\n",
       "    <tr style=\"text-align: right;\">\n",
       "      <th></th>\n",
       "      <th>continent</th>\n",
       "      <th>year</th>\n",
       "      <th>lifeExp</th>\n",
       "      <th>population</th>\n",
       "      <th>gdpPercap</th>\n",
       "      <th>iso_alpha</th>\n",
       "      <th>iso_num</th>\n",
       "      <th>gdpPercap_ratio</th>\n",
       "    </tr>\n",
       "    <tr>\n",
       "      <th>country</th>\n",
       "      <th></th>\n",
       "      <th></th>\n",
       "      <th></th>\n",
       "      <th></th>\n",
       "      <th></th>\n",
       "      <th></th>\n",
       "      <th></th>\n",
       "      <th></th>\n",
       "    </tr>\n",
       "  </thead>\n",
       "  <tbody>\n",
       "    <tr>\n",
       "      <th>Afghanistan</th>\n",
       "      <td>Asia</td>\n",
       "      <td>1952</td>\n",
       "      <td>28.801</td>\n",
       "      <td>8425333</td>\n",
       "      <td>779.445314</td>\n",
       "      <td>AFG</td>\n",
       "      <td>4</td>\n",
       "      <td>1.000000</td>\n",
       "    </tr>\n",
       "    <tr>\n",
       "      <th>Afghanistan</th>\n",
       "      <td>Asia</td>\n",
       "      <td>1957</td>\n",
       "      <td>30.332</td>\n",
       "      <td>9240934</td>\n",
       "      <td>820.853030</td>\n",
       "      <td>AFG</td>\n",
       "      <td>4</td>\n",
       "      <td>1.053125</td>\n",
       "    </tr>\n",
       "    <tr>\n",
       "      <th>Afghanistan</th>\n",
       "      <td>Asia</td>\n",
       "      <td>1962</td>\n",
       "      <td>31.997</td>\n",
       "      <td>10267083</td>\n",
       "      <td>853.100710</td>\n",
       "      <td>AFG</td>\n",
       "      <td>4</td>\n",
       "      <td>1.094497</td>\n",
       "    </tr>\n",
       "    <tr>\n",
       "      <th>Afghanistan</th>\n",
       "      <td>Asia</td>\n",
       "      <td>1967</td>\n",
       "      <td>34.020</td>\n",
       "      <td>11537966</td>\n",
       "      <td>836.197138</td>\n",
       "      <td>AFG</td>\n",
       "      <td>4</td>\n",
       "      <td>1.072811</td>\n",
       "    </tr>\n",
       "    <tr>\n",
       "      <th>Afghanistan</th>\n",
       "      <td>Asia</td>\n",
       "      <td>1972</td>\n",
       "      <td>36.088</td>\n",
       "      <td>13079460</td>\n",
       "      <td>739.981106</td>\n",
       "      <td>AFG</td>\n",
       "      <td>4</td>\n",
       "      <td>0.949369</td>\n",
       "    </tr>\n",
       "    <tr>\n",
       "      <th>...</th>\n",
       "      <td>...</td>\n",
       "      <td>...</td>\n",
       "      <td>...</td>\n",
       "      <td>...</td>\n",
       "      <td>...</td>\n",
       "      <td>...</td>\n",
       "      <td>...</td>\n",
       "      <td>...</td>\n",
       "    </tr>\n",
       "    <tr>\n",
       "      <th>Zimbabwe</th>\n",
       "      <td>Africa</td>\n",
       "      <td>1987</td>\n",
       "      <td>62.351</td>\n",
       "      <td>9216418</td>\n",
       "      <td>706.157306</td>\n",
       "      <td>ZWE</td>\n",
       "      <td>716</td>\n",
       "      <td>1.735524</td>\n",
       "    </tr>\n",
       "    <tr>\n",
       "      <th>Zimbabwe</th>\n",
       "      <td>Africa</td>\n",
       "      <td>1992</td>\n",
       "      <td>60.377</td>\n",
       "      <td>10704340</td>\n",
       "      <td>693.420786</td>\n",
       "      <td>ZWE</td>\n",
       "      <td>716</td>\n",
       "      <td>1.704222</td>\n",
       "    </tr>\n",
       "    <tr>\n",
       "      <th>Zimbabwe</th>\n",
       "      <td>Africa</td>\n",
       "      <td>1997</td>\n",
       "      <td>46.809</td>\n",
       "      <td>11404948</td>\n",
       "      <td>792.449960</td>\n",
       "      <td>ZWE</td>\n",
       "      <td>716</td>\n",
       "      <td>1.947606</td>\n",
       "    </tr>\n",
       "    <tr>\n",
       "      <th>Zimbabwe</th>\n",
       "      <td>Africa</td>\n",
       "      <td>2002</td>\n",
       "      <td>39.989</td>\n",
       "      <td>11926563</td>\n",
       "      <td>672.038623</td>\n",
       "      <td>ZWE</td>\n",
       "      <td>716</td>\n",
       "      <td>1.651671</td>\n",
       "    </tr>\n",
       "    <tr>\n",
       "      <th>Zimbabwe</th>\n",
       "      <td>Africa</td>\n",
       "      <td>2007</td>\n",
       "      <td>43.487</td>\n",
       "      <td>12311143</td>\n",
       "      <td>469.709298</td>\n",
       "      <td>ZWE</td>\n",
       "      <td>716</td>\n",
       "      <td>1.154406</td>\n",
       "    </tr>\n",
       "  </tbody>\n",
       "</table>\n",
       "<p>1704 rows × 8 columns</p>\n",
       "</div>"
      ],
      "text/plain": [
       "            continent  year  lifeExp  population   gdpPercap iso_alpha  \\\n",
       "country                                                                  \n",
       "Afghanistan      Asia  1952   28.801     8425333  779.445314       AFG   \n",
       "Afghanistan      Asia  1957   30.332     9240934  820.853030       AFG   \n",
       "Afghanistan      Asia  1962   31.997    10267083  853.100710       AFG   \n",
       "Afghanistan      Asia  1967   34.020    11537966  836.197138       AFG   \n",
       "Afghanistan      Asia  1972   36.088    13079460  739.981106       AFG   \n",
       "...               ...   ...      ...         ...         ...       ...   \n",
       "Zimbabwe       Africa  1987   62.351     9216418  706.157306       ZWE   \n",
       "Zimbabwe       Africa  1992   60.377    10704340  693.420786       ZWE   \n",
       "Zimbabwe       Africa  1997   46.809    11404948  792.449960       ZWE   \n",
       "Zimbabwe       Africa  2002   39.989    11926563  672.038623       ZWE   \n",
       "Zimbabwe       Africa  2007   43.487    12311143  469.709298       ZWE   \n",
       "\n",
       "             iso_num  gdpPercap_ratio  \n",
       "country                                \n",
       "Afghanistan        4         1.000000  \n",
       "Afghanistan        4         1.053125  \n",
       "Afghanistan        4         1.094497  \n",
       "Afghanistan        4         1.072811  \n",
       "Afghanistan        4         0.949369  \n",
       "...              ...              ...  \n",
       "Zimbabwe         716         1.735524  \n",
       "Zimbabwe         716         1.704222  \n",
       "Zimbabwe         716         1.947606  \n",
       "Zimbabwe         716         1.651671  \n",
       "Zimbabwe         716         1.154406  \n",
       "\n",
       "[1704 rows x 8 columns]"
      ]
     },
     "execution_count": 96,
     "metadata": {},
     "output_type": "execute_result"
    }
   ],
   "source": [
    "gdp_and_pop_by_entity[\"gdpPercap_ratio\"] = gdp_and_pop_by_entity[\"gdpPercap\"] / gdp_per_capita_1952[\"gdpPercap\"]\n",
    "gdp_and_pop_by_entity"
   ]
  },
  {
   "cell_type": "code",
   "execution_count": 97,
   "id": "80b21a00",
   "metadata": {},
   "outputs": [
    {
     "data": {
      "text/html": [
       "<div>\n",
       "<style scoped>\n",
       "    .dataframe tbody tr th:only-of-type {\n",
       "        vertical-align: middle;\n",
       "    }\n",
       "\n",
       "    .dataframe tbody tr th {\n",
       "        vertical-align: top;\n",
       "    }\n",
       "\n",
       "    .dataframe thead th {\n",
       "        text-align: right;\n",
       "    }\n",
       "</style>\n",
       "<table border=\"1\" class=\"dataframe\">\n",
       "  <thead>\n",
       "    <tr style=\"text-align: right;\">\n",
       "      <th></th>\n",
       "      <th>country</th>\n",
       "      <th>continent</th>\n",
       "      <th>year</th>\n",
       "      <th>lifeExp</th>\n",
       "      <th>population</th>\n",
       "      <th>gdpPercap</th>\n",
       "      <th>iso_alpha</th>\n",
       "      <th>iso_num</th>\n",
       "      <th>gdpPercap_ratio</th>\n",
       "    </tr>\n",
       "  </thead>\n",
       "  <tbody>\n",
       "    <tr>\n",
       "      <th>0</th>\n",
       "      <td>Afghanistan</td>\n",
       "      <td>Asia</td>\n",
       "      <td>1952</td>\n",
       "      <td>28.801</td>\n",
       "      <td>8425333</td>\n",
       "      <td>779.445314</td>\n",
       "      <td>AFG</td>\n",
       "      <td>4</td>\n",
       "      <td>1.000000</td>\n",
       "    </tr>\n",
       "    <tr>\n",
       "      <th>1</th>\n",
       "      <td>Afghanistan</td>\n",
       "      <td>Asia</td>\n",
       "      <td>1957</td>\n",
       "      <td>30.332</td>\n",
       "      <td>9240934</td>\n",
       "      <td>820.853030</td>\n",
       "      <td>AFG</td>\n",
       "      <td>4</td>\n",
       "      <td>1.053125</td>\n",
       "    </tr>\n",
       "    <tr>\n",
       "      <th>2</th>\n",
       "      <td>Afghanistan</td>\n",
       "      <td>Asia</td>\n",
       "      <td>1962</td>\n",
       "      <td>31.997</td>\n",
       "      <td>10267083</td>\n",
       "      <td>853.100710</td>\n",
       "      <td>AFG</td>\n",
       "      <td>4</td>\n",
       "      <td>1.094497</td>\n",
       "    </tr>\n",
       "    <tr>\n",
       "      <th>3</th>\n",
       "      <td>Afghanistan</td>\n",
       "      <td>Asia</td>\n",
       "      <td>1967</td>\n",
       "      <td>34.020</td>\n",
       "      <td>11537966</td>\n",
       "      <td>836.197138</td>\n",
       "      <td>AFG</td>\n",
       "      <td>4</td>\n",
       "      <td>1.072811</td>\n",
       "    </tr>\n",
       "    <tr>\n",
       "      <th>4</th>\n",
       "      <td>Afghanistan</td>\n",
       "      <td>Asia</td>\n",
       "      <td>1972</td>\n",
       "      <td>36.088</td>\n",
       "      <td>13079460</td>\n",
       "      <td>739.981106</td>\n",
       "      <td>AFG</td>\n",
       "      <td>4</td>\n",
       "      <td>0.949369</td>\n",
       "    </tr>\n",
       "    <tr>\n",
       "      <th>...</th>\n",
       "      <td>...</td>\n",
       "      <td>...</td>\n",
       "      <td>...</td>\n",
       "      <td>...</td>\n",
       "      <td>...</td>\n",
       "      <td>...</td>\n",
       "      <td>...</td>\n",
       "      <td>...</td>\n",
       "      <td>...</td>\n",
       "    </tr>\n",
       "    <tr>\n",
       "      <th>1699</th>\n",
       "      <td>Zimbabwe</td>\n",
       "      <td>Africa</td>\n",
       "      <td>1987</td>\n",
       "      <td>62.351</td>\n",
       "      <td>9216418</td>\n",
       "      <td>706.157306</td>\n",
       "      <td>ZWE</td>\n",
       "      <td>716</td>\n",
       "      <td>1.735524</td>\n",
       "    </tr>\n",
       "    <tr>\n",
       "      <th>1700</th>\n",
       "      <td>Zimbabwe</td>\n",
       "      <td>Africa</td>\n",
       "      <td>1992</td>\n",
       "      <td>60.377</td>\n",
       "      <td>10704340</td>\n",
       "      <td>693.420786</td>\n",
       "      <td>ZWE</td>\n",
       "      <td>716</td>\n",
       "      <td>1.704222</td>\n",
       "    </tr>\n",
       "    <tr>\n",
       "      <th>1701</th>\n",
       "      <td>Zimbabwe</td>\n",
       "      <td>Africa</td>\n",
       "      <td>1997</td>\n",
       "      <td>46.809</td>\n",
       "      <td>11404948</td>\n",
       "      <td>792.449960</td>\n",
       "      <td>ZWE</td>\n",
       "      <td>716</td>\n",
       "      <td>1.947606</td>\n",
       "    </tr>\n",
       "    <tr>\n",
       "      <th>1702</th>\n",
       "      <td>Zimbabwe</td>\n",
       "      <td>Africa</td>\n",
       "      <td>2002</td>\n",
       "      <td>39.989</td>\n",
       "      <td>11926563</td>\n",
       "      <td>672.038623</td>\n",
       "      <td>ZWE</td>\n",
       "      <td>716</td>\n",
       "      <td>1.651671</td>\n",
       "    </tr>\n",
       "    <tr>\n",
       "      <th>1703</th>\n",
       "      <td>Zimbabwe</td>\n",
       "      <td>Africa</td>\n",
       "      <td>2007</td>\n",
       "      <td>43.487</td>\n",
       "      <td>12311143</td>\n",
       "      <td>469.709298</td>\n",
       "      <td>ZWE</td>\n",
       "      <td>716</td>\n",
       "      <td>1.154406</td>\n",
       "    </tr>\n",
       "  </tbody>\n",
       "</table>\n",
       "<p>1704 rows × 9 columns</p>\n",
       "</div>"
      ],
      "text/plain": [
       "          country continent  year  lifeExp  population   gdpPercap iso_alpha  \\\n",
       "0     Afghanistan      Asia  1952   28.801     8425333  779.445314       AFG   \n",
       "1     Afghanistan      Asia  1957   30.332     9240934  820.853030       AFG   \n",
       "2     Afghanistan      Asia  1962   31.997    10267083  853.100710       AFG   \n",
       "3     Afghanistan      Asia  1967   34.020    11537966  836.197138       AFG   \n",
       "4     Afghanistan      Asia  1972   36.088    13079460  739.981106       AFG   \n",
       "...           ...       ...   ...      ...         ...         ...       ...   \n",
       "1699     Zimbabwe    Africa  1987   62.351     9216418  706.157306       ZWE   \n",
       "1700     Zimbabwe    Africa  1992   60.377    10704340  693.420786       ZWE   \n",
       "1701     Zimbabwe    Africa  1997   46.809    11404948  792.449960       ZWE   \n",
       "1702     Zimbabwe    Africa  2002   39.989    11926563  672.038623       ZWE   \n",
       "1703     Zimbabwe    Africa  2007   43.487    12311143  469.709298       ZWE   \n",
       "\n",
       "      iso_num  gdpPercap_ratio  \n",
       "0           4         1.000000  \n",
       "1           4         1.053125  \n",
       "2           4         1.094497  \n",
       "3           4         1.072811  \n",
       "4           4         0.949369  \n",
       "...       ...              ...  \n",
       "1699      716         1.735524  \n",
       "1700      716         1.704222  \n",
       "1701      716         1.947606  \n",
       "1702      716         1.651671  \n",
       "1703      716         1.154406  \n",
       "\n",
       "[1704 rows x 9 columns]"
      ]
     },
     "execution_count": 97,
     "metadata": {},
     "output_type": "execute_result"
    }
   ],
   "source": [
    "gdp_and_pop_by_entity = gdp_and_pop_by_entity.reset_index()\n",
    "gdp_and_pop_by_entity"
   ]
  },
  {
   "cell_type": "code",
   "execution_count": 98,
   "id": "750aeb74",
   "metadata": {},
   "outputs": [],
   "source": [
    "gdp_and_pop_by_entity = gdp_and_pop_by_entity.dropna()"
   ]
  },
  {
   "cell_type": "code",
   "execution_count": 99,
   "id": "9c56ed49",
   "metadata": {},
   "outputs": [
    {
     "data": {
      "application/vnd.plotly.v1+json": {
       "config": {
        "plotlyServerURL": "https://plot.ly"
       },
       "data": [
        {
         "hovertemplate": "country=Afghanistan<br>year=%{x}<br>gdpPercap_ratio=%{y}<extra></extra>",
         "legendgroup": "Afghanistan",
         "line": {
          "color": "#636efa",
          "dash": "solid"
         },
         "marker": {
          "symbol": "circle"
         },
         "mode": "lines",
         "name": "Afghanistan",
         "showlegend": true,
         "type": "scattergl",
         "x": [
          1952,
          1957,
          1962,
          1967,
          1972,
          1977,
          1982,
          1987,
          1992,
          1997,
          2002,
          2007
         ],
         "xaxis": "x",
         "y": [
          1,
          1.0531245930018354,
          1.0944971945174222,
          1.072810526465741,
          0.9493688550487781,
          1.0085548599445715,
          1.2547531181547695,
          1.0935930063891606,
          0.8330814017613807,
          0.8151198540561629,
          0.9323733702423841,
          1.250351141087012
         ],
         "yaxis": "y"
        },
        {
         "hovertemplate": "country=Albania<br>year=%{x}<br>gdpPercap_ratio=%{y}<extra></extra>",
         "legendgroup": "Albania",
         "line": {
          "color": "#EF553B",
          "dash": "solid"
         },
         "marker": {
          "symbol": "circle"
         },
         "mode": "lines",
         "name": "Albania",
         "showlegend": true,
         "type": "scattergl",
         "x": [
          1952,
          1957,
          1962,
          1967,
          1972,
          1977,
          1982,
          1987,
          1992,
          1997,
          2002,
          2007
         ],
         "xaxis": "x",
         "y": [
          1,
          1.2131268856396926,
          1.444602038613342,
          1.723985105166856,
          2.0695228065382465,
          2.206670853419721,
          2.267803508171309,
          2.335291468506011,
          1.5598690419684322,
          1.9943426918042804,
          2.8757341066771938,
          3.7081957293719765
         ],
         "yaxis": "y"
        },
        {
         "hovertemplate": "country=Algeria<br>year=%{x}<br>gdpPercap_ratio=%{y}<extra></extra>",
         "legendgroup": "Algeria",
         "line": {
          "color": "#00cc96",
          "dash": "solid"
         },
         "marker": {
          "symbol": "circle"
         },
         "mode": "lines",
         "name": "Algeria",
         "showlegend": true,
         "type": "scattergl",
         "x": [
          1952,
          1957,
          1962,
          1967,
          1972,
          1977,
          1982,
          1987,
          1992,
          1997,
          2002,
          2007
         ],
         "xaxis": "x",
         "y": [
          1,
          1.2306925070566883,
          1.0415713984230721,
          1.3258394932640862,
          1.7079010971129112,
          2.005063431831691,
          2.345913030502999,
          2.3198609844580815,
          2.0511228495547065,
          1.9588726082595758,
          2.1592579454772216,
          2.5411787119037332
         ],
         "yaxis": "y"
        },
        {
         "hovertemplate": "country=Angola<br>year=%{x}<br>gdpPercap_ratio=%{y}<extra></extra>",
         "legendgroup": "Angola",
         "line": {
          "color": "#ab63fa",
          "dash": "solid"
         },
         "marker": {
          "symbol": "circle"
         },
         "mode": "lines",
         "name": "Angola",
         "showlegend": true,
         "type": "scattergl",
         "x": [
          1952,
          1957,
          1962,
          1967,
          1972,
          1977,
          1982,
          1987,
          1992,
          1997,
          2002,
          2007
         ],
         "xaxis": "x",
         "y": [
          1,
          1.0872945791123074,
          1.2126524695850651,
          1.5686985910808882,
          1.5546418321207915,
          0.8545812008996544,
          0.7830897083790905,
          0.6902804123584968,
          0.7464176609246632,
          0.646802885699584,
          0.7877291426627613,
          1.362613551346642
         ],
         "yaxis": "y"
        },
        {
         "hovertemplate": "country=Argentina<br>year=%{x}<br>gdpPercap_ratio=%{y}<extra></extra>",
         "legendgroup": "Argentina",
         "line": {
          "color": "#FFA15A",
          "dash": "solid"
         },
         "marker": {
          "symbol": "circle"
         },
         "mode": "lines",
         "name": "Argentina",
         "showlegend": true,
         "type": "scattergl",
         "x": [
          1952,
          1957,
          1962,
          1967,
          1972,
          1977,
          1982,
          1987,
          1992,
          1997,
          2002,
          2007
         ],
         "xaxis": "x",
         "y": [
          1,
          1.1599544518474172,
          1.2066969801211849,
          1.3622946753469203,
          1.5974514031708809,
          1.705039682309756,
          1.5221481736848987,
          1.5461316656370063,
          1.57467815985818,
          1.8553032365334834,
          1.4882713300038348,
          2.1618505400950414
         ],
         "yaxis": "y"
        },
        {
         "hovertemplate": "country=Australia<br>year=%{x}<br>gdpPercap_ratio=%{y}<extra></extra>",
         "legendgroup": "Australia",
         "line": {
          "color": "#19d3f3",
          "dash": "solid"
         },
         "marker": {
          "symbol": "circle"
         },
         "mode": "lines",
         "name": "Australia",
         "showlegend": true,
         "type": "scattergl",
         "x": [
          1952,
          1957,
          1962,
          1967,
          1972,
          1977,
          1982,
          1987,
          1992,
          1997,
          2002,
          2007
         ],
         "xaxis": "x",
         "y": [
          1,
          1.0906464744829107,
          1.216904275638735,
          1.44688343742896,
          1.6722416003599125,
          1.8261888394142538,
          1.9400192974305885,
          2.1802560396745223,
          2.3332380775048827,
          2.689145812051849,
          3.0566723830721934,
          3.4299556152243595
         ],
         "yaxis": "y"
        },
        {
         "hovertemplate": "country=Austria<br>year=%{x}<br>gdpPercap_ratio=%{y}<extra></extra>",
         "legendgroup": "Austria",
         "line": {
          "color": "#FF6692",
          "dash": "solid"
         },
         "marker": {
          "symbol": "circle"
         },
         "mode": "lines",
         "name": "Austria",
         "showlegend": true,
         "type": "scattergl",
         "x": [
          1952,
          1957,
          1962,
          1967,
          1972,
          1977,
          1982,
          1987,
          1992,
          1997,
          2002,
          2007
         ],
         "xaxis": "x",
         "y": [
          1,
          1.4408485932229764,
          1.7517658650685106,
          2.091321888643652,
          2.714912486705893,
          3.218050536887458,
          3.5191159256614983,
          3.8597899343243185,
          4.4063356086975105,
          4.741006682567515,
          5.282255766611032,
          5.886596451436246
         ],
         "yaxis": "y"
        },
        {
         "hovertemplate": "country=Bahrain<br>year=%{x}<br>gdpPercap_ratio=%{y}<extra></extra>",
         "legendgroup": "Bahrain",
         "line": {
          "color": "#B6E880",
          "dash": "solid"
         },
         "marker": {
          "symbol": "circle"
         },
         "mode": "lines",
         "name": "Bahrain",
         "showlegend": true,
         "type": "scattergl",
         "x": [
          1952,
          1957,
          1962,
          1967,
          1972,
          1977,
          1982,
          1987,
          1992,
          1997,
          2002,
          2007
         ],
         "xaxis": "x",
         "y": [
          1,
          1.1792540276205887,
          1.2925068998330431,
          1.500410004838952,
          1.8514747592725278,
          1.960062411605319,
          1.946993237368829,
          1.8773553183314526,
          1.9291999231142718,
          2.0565361779376587,
          2.3718818503531933,
          3.0197418031403727
         ],
         "yaxis": "y"
        },
        {
         "hovertemplate": "country=Bangladesh<br>year=%{x}<br>gdpPercap_ratio=%{y}<extra></extra>",
         "legendgroup": "Bangladesh",
         "line": {
          "color": "#FF97FF",
          "dash": "solid"
         },
         "marker": {
          "symbol": "circle"
         },
         "mode": "lines",
         "name": "Bangladesh",
         "showlegend": true,
         "type": "scattergl",
         "x": [
          1952,
          1957,
          1962,
          1967,
          1972,
          1977,
          1982,
          1987,
          1992,
          1997,
          2002,
          2007
         ],
         "xaxis": "x",
         "y": [
          1,
          0.966961042799769,
          1.003065254023422,
          1.0539893741639292,
          0.9210653925283652,
          0.9643885320308664,
          0.9893863823742653,
          1.0989927787643576,
          1.2244315685450553,
          1.4216709116064907,
          1.6607966529590246,
          2.0332709429541307
         ],
         "yaxis": "y"
        },
        {
         "hovertemplate": "country=Belgium<br>year=%{x}<br>gdpPercap_ratio=%{y}<extra></extra>",
         "legendgroup": "Belgium",
         "line": {
          "color": "#FECB52",
          "dash": "solid"
         },
         "marker": {
          "symbol": "circle"
         },
         "mode": "lines",
         "name": "Belgium",
         "showlegend": true,
         "type": "scattergl",
         "x": [
          1952,
          1957,
          1962,
          1967,
          1972,
          1977,
          1982,
          1987,
          1992,
          1997,
          2002,
          2007
         ],
         "xaxis": "x",
         "y": [
          1,
          1.1644298465759944,
          1.3174000078735915,
          1.5760368579615527,
          1.9983139737800408,
          2.2914699250438924,
          2.514632810043939,
          2.6999016238094207,
          3.065473861432263,
          3.3034698964545366,
          3.654021288949294,
          4.038377147012546
         ],
         "yaxis": "y"
        },
        {
         "hovertemplate": "country=Benin<br>year=%{x}<br>gdpPercap_ratio=%{y}<extra></extra>",
         "legendgroup": "Benin",
         "line": {
          "color": "#636efa",
          "dash": "solid"
         },
         "marker": {
          "symbol": "circle"
         },
         "mode": "lines",
         "name": "Benin",
         "showlegend": true,
         "type": "scattergl",
         "x": [
          1952,
          1957,
          1962,
          1967,
          1972,
          1977,
          1982,
          1987,
          1992,
          1997,
          2002,
          2007
         ],
         "xaxis": "x",
         "y": [
          1,
          0.90293963211744,
          0.8934341082521402,
          0.9746687995564723,
          1.0216839626396446,
          0.9683924916833859,
          1.2024417507674885,
          1.153473039152495,
          1.1208705858242403,
          1.1601719497734282,
          1.2918137746503842,
          1.3561815002594209
         ],
         "yaxis": "y"
        },
        {
         "hovertemplate": "country=Bolivia<br>year=%{x}<br>gdpPercap_ratio=%{y}<extra></extra>",
         "legendgroup": "Bolivia",
         "line": {
          "color": "#EF553B",
          "dash": "solid"
         },
         "marker": {
          "symbol": "circle"
         },
         "mode": "lines",
         "name": "Bolivia",
         "showlegend": true,
         "type": "scattergl",
         "x": [
          1952,
          1957,
          1962,
          1967,
          1972,
          1977,
          1982,
          1987,
          1992,
          1997,
          2002,
          2007
         ],
         "xaxis": "x",
         "y": [
          1,
          0.7947056317524073,
          0.8146084053009918,
          0.9662199215641604,
          1.1131744706204842,
          1.3252392021524448,
          1.1789785939009398,
          1.0285229117046448,
          1.1062154217092908,
          1.2423376009902614,
          1.274877339411623,
          1.427594767549643
         ],
         "yaxis": "y"
        },
        {
         "hovertemplate": "country=Bosnia and Herzegovina<br>year=%{x}<br>gdpPercap_ratio=%{y}<extra></extra>",
         "legendgroup": "Bosnia and Herzegovina",
         "line": {
          "color": "#00cc96",
          "dash": "solid"
         },
         "marker": {
          "symbol": "circle"
         },
         "mode": "lines",
         "name": "Bosnia and Herzegovina",
         "showlegend": true,
         "type": "scattergl",
         "x": [
          1952,
          1957,
          1962,
          1967,
          1972,
          1977,
          1982,
          1987,
          1992,
          1997,
          2002,
          2007
         ],
         "xaxis": "x",
         "y": [
          1,
          1.3907991871588516,
          1.7561637221330009,
          2.2314107362782662,
          2.9379272995283796,
          3.6244078002136138,
          4.238800668576853,
          4.431399750972313,
          2.6160191132704047,
          4.895935679911959,
          6.182609151027996,
          7.648736419850323
         ],
         "yaxis": "y"
        },
        {
         "hovertemplate": "country=Botswana<br>year=%{x}<br>gdpPercap_ratio=%{y}<extra></extra>",
         "legendgroup": "Botswana",
         "line": {
          "color": "#ab63fa",
          "dash": "solid"
         },
         "marker": {
          "symbol": "circle"
         },
         "mode": "lines",
         "name": "Botswana",
         "showlegend": true,
         "type": "scattergl",
         "x": [
          1952,
          1957,
          1962,
          1967,
          1972,
          1977,
          1982,
          1987,
          1992,
          1997,
          2002,
          2007
         ],
         "xaxis": "x",
         "y": [
          1,
          1.0786984921157725,
          1.155552674053222,
          1.4269861217012019,
          2.6591890426472675,
          3.7766711032743676,
          5.346478139270225,
          7.2903946405794295,
          9.34413442289585,
          10.158275839310594,
          12.926542848894051,
          14.766499372508536
         ],
         "yaxis": "y"
        },
        {
         "hovertemplate": "country=Brazil<br>year=%{x}<br>gdpPercap_ratio=%{y}<extra></extra>",
         "legendgroup": "Brazil",
         "line": {
          "color": "#FFA15A",
          "dash": "solid"
         },
         "marker": {
          "symbol": "circle"
         },
         "mode": "lines",
         "name": "Brazil",
         "showlegend": true,
         "type": "scattergl",
         "x": [
          1952,
          1957,
          1962,
          1967,
          1972,
          1977,
          1982,
          1987,
          1992,
          1997,
          2002,
          2007
         ],
         "xaxis": "x",
         "y": [
          1,
          1.1794365190825529,
          1.5821118248518227,
          1.6263417993311633,
          2.364079192122639,
          3.1580343209197665,
          3.3338176331352276,
          3.701897491742973,
          3.295621814071049,
          3.7734427677680467,
          3.855584346605485,
          4.298738752165891
         ],
         "yaxis": "y"
        },
        {
         "hovertemplate": "country=Bulgaria<br>year=%{x}<br>gdpPercap_ratio=%{y}<extra></extra>",
         "legendgroup": "Bulgaria",
         "line": {
          "color": "#19d3f3",
          "dash": "solid"
         },
         "marker": {
          "symbol": "circle"
         },
         "mode": "lines",
         "name": "Bulgaria",
         "showlegend": true,
         "type": "scattergl",
         "x": [
          1952,
          1957,
          1962,
          1967,
          1972,
          1977,
          1982,
          1987,
          1992,
          1997,
          2002,
          2007
         ],
         "xaxis": "x",
         "y": [
          1,
          1.230899301218128,
          1.7405232902945516,
          2.2816484329132583,
          2.699149219424939,
          3.1142993986521996,
          3.364659236562667,
          3.371067313542025,
          2.5785124028546433,
          2.4425894421528587,
          3.1488850668548922,
          4.369697322013928
         ],
         "yaxis": "y"
        },
        {
         "hovertemplate": "country=Burkina Faso<br>year=%{x}<br>gdpPercap_ratio=%{y}<extra></extra>",
         "legendgroup": "Burkina Faso",
         "line": {
          "color": "#FF6692",
          "dash": "solid"
         },
         "marker": {
          "symbol": "circle"
         },
         "mode": "lines",
         "name": "Burkina Faso",
         "showlegend": true,
         "type": "scattergl",
         "x": [
          1952,
          1957,
          1962,
          1967,
          1972,
          1977,
          1982,
          1987,
          1992,
          1997,
          2002,
          2007
         ],
         "xaxis": "x",
         "y": [
          1,
          1.136083774034266,
          1.329967878213272,
          1.4630812540307838,
          1.5733598340526498,
          1.3683936762783702,
          1.4858551268983404,
          1.6788851213242773,
          1.7151289159591585,
          1.7418975278278646,
          1.9100510075465333,
          2.240260013115864
         ],
         "yaxis": "y"
        },
        {
         "hovertemplate": "country=Burundi<br>year=%{x}<br>gdpPercap_ratio=%{y}<extra></extra>",
         "legendgroup": "Burundi",
         "line": {
          "color": "#B6E880",
          "dash": "solid"
         },
         "marker": {
          "symbol": "circle"
         },
         "mode": "lines",
         "name": "Burundi",
         "showlegend": true,
         "type": "scattergl",
         "x": [
          1952,
          1957,
          1962,
          1967,
          1972,
          1977,
          1982,
          1987,
          1992,
          1997,
          2002,
          2007
         ],
         "xaxis": "x",
         "y": [
          1,
          1.1186813724914368,
          1.046881622817244,
          1.2171583375267336,
          1.3678289059608153,
          1.6389892993009303,
          1.6493046616050633,
          1.8326711138762612,
          1.8617933126102502,
          1.3649277377500668,
          1.3156739516538902,
          1.267536635212161
         ],
         "yaxis": "y"
        },
        {
         "hovertemplate": "country=Cambodia<br>year=%{x}<br>gdpPercap_ratio=%{y}<extra></extra>",
         "legendgroup": "Cambodia",
         "line": {
          "color": "#FF97FF",
          "dash": "solid"
         },
         "marker": {
          "symbol": "circle"
         },
         "mode": "lines",
         "name": "Cambodia",
         "showlegend": true,
         "type": "scattergl",
         "x": [
          1952,
          1957,
          1962,
          1967,
          1972,
          1977,
          1982,
          1987,
          1992,
          1997,
          2002,
          2007
         ],
         "xaxis": "x",
         "y": [
          1,
          1.1779498410382567,
          1.348589060254633,
          1.4205588760204657,
          1.1442582656881295,
          1.4247379733297367,
          1.6947829922462336,
          1.8560449945953383,
          1.851723338049645,
          1.9927988537886427,
          2.4322950387591273,
          4.651076095011161
         ],
         "yaxis": "y"
        },
        {
         "hovertemplate": "country=Cameroon<br>year=%{x}<br>gdpPercap_ratio=%{y}<extra></extra>",
         "legendgroup": "Cameroon",
         "line": {
          "color": "#FECB52",
          "dash": "solid"
         },
         "marker": {
          "symbol": "circle"
         },
         "mode": "lines",
         "name": "Cameroon",
         "showlegend": true,
         "type": "scattergl",
         "x": [
          1952,
          1957,
          1962,
          1967,
          1972,
          1977,
          1982,
          1987,
          1992,
          1997,
          2002,
          2007
         ],
         "xaxis": "x",
         "y": [
          1,
          1.119710340266868,
          1.1935243843661743,
          1.2863432717430925,
          1.436166948767765,
          1.5208340277791665,
          2.019313206008057,
          2.219438896351243,
          1.5291316941797974,
          1.4448573402495697,
          1.6492408917000445,
          1.74141005023286
         ],
         "yaxis": "y"
        },
        {
         "hovertemplate": "country=Canada<br>year=%{x}<br>gdpPercap_ratio=%{y}<extra></extra>",
         "legendgroup": "Canada",
         "line": {
          "color": "#636efa",
          "dash": "solid"
         },
         "marker": {
          "symbol": "circle"
         },
         "mode": "lines",
         "name": "Canada",
         "showlegend": true,
         "type": "scattergl",
         "x": [
          1952,
          1957,
          1962,
          1967,
          1972,
          1977,
          1982,
          1987,
          1992,
          1997,
          2002,
          2007
         ],
         "xaxis": "x",
         "y": [
          1,
          1.0987747888982151,
          1.1843313741997878,
          1.4143010607735629,
          1.668892580982436,
          1.9433949098453527,
          2.0144688632688266,
          2.3424067582847807,
          2.317454990028328,
          2.5472433780370305,
          2.9320394703792143,
          3.195101628857707
         ],
         "yaxis": "y"
        },
        {
         "hovertemplate": "country=Central African Republic<br>year=%{x}<br>gdpPercap_ratio=%{y}<extra></extra>",
         "legendgroup": "Central African Republic",
         "line": {
          "color": "#EF553B",
          "dash": "solid"
         },
         "marker": {
          "symbol": "circle"
         },
         "mode": "lines",
         "name": "Central African Republic",
         "showlegend": true,
         "type": "scattergl",
         "x": [
          1952,
          1957,
          1962,
          1967,
          1972,
          1977,
          1982,
          1987,
          1992,
          1997,
          2002,
          2007
         ],
         "xaxis": "x",
         "y": [
          1,
          1.1115769809351284,
          1.1136533393370442,
          1.0604361565830807,
          0.9987889246469245,
          1.035529958338053,
          0.8930676965049634,
          0.7886380115009642,
          0.6981219511057013,
          0.6912152774299756,
          0.6895204144196773,
          0.6590212609962017
         ],
         "yaxis": "y"
        },
        {
         "hovertemplate": "country=Chad<br>year=%{x}<br>gdpPercap_ratio=%{y}<extra></extra>",
         "legendgroup": "Chad",
         "line": {
          "color": "#00cc96",
          "dash": "solid"
         },
         "marker": {
          "symbol": "circle"
         },
         "mode": "lines",
         "name": "Chad",
         "showlegend": true,
         "type": "scattergl",
         "x": [
          1952,
          1957,
          1962,
          1967,
          1972,
          1977,
          1982,
          1987,
          1992,
          1997,
          2002,
          2007
         ],
         "xaxis": "x",
         "y": [
          1,
          1.1101496590560218,
          1.1791446466408289,
          1.015394216108531,
          0.9367403958220979,
          0.9620919074892372,
          0.6769586549692465,
          0.8080204128951629,
          0.8976795508910983,
          0.8526261173578491,
          0.9809241393299392,
          1.445756329223217
         ],
         "yaxis": "y"
        },
        {
         "hovertemplate": "country=Chile<br>year=%{x}<br>gdpPercap_ratio=%{y}<extra></extra>",
         "legendgroup": "Chile",
         "line": {
          "color": "#ab63fa",
          "dash": "solid"
         },
         "marker": {
          "symbol": "circle"
         },
         "mode": "lines",
         "name": "Chile",
         "showlegend": true,
         "type": "scattergl",
         "x": [
          1952,
          1957,
          1962,
          1967,
          1972,
          1977,
          1982,
          1987,
          1992,
          1997,
          2002,
          2007
         ],
         "xaxis": "x",
         "y": [
          1,
          1.0953416132718172,
          1.1469844313925823,
          1.2961121332067151,
          1.3944299528562767,
          1.2073069655299609,
          1.2933231397657663,
          1.4078917809118185,
          1.9279611314679086,
          2.5680476271213757,
          2.7357466695235044,
          3.3430735431301835
         ],
         "yaxis": "y"
        },
        {
         "hovertemplate": "country=China<br>year=%{x}<br>gdpPercap_ratio=%{y}<extra></extra>",
         "legendgroup": "China",
         "line": {
          "color": "#FFA15A",
          "dash": "solid"
         },
         "marker": {
          "symbol": "circle"
         },
         "mode": "lines",
         "name": "China",
         "showlegend": true,
         "type": "scattergl",
         "x": [
          1952,
          1957,
          1962,
          1967,
          1972,
          1977,
          1982,
          1987,
          1992,
          1997,
          2002,
          2007
         ],
         "xaxis": "x",
         "y": [
          1,
          1.438354348293644,
          1.2178192279957738,
          1.5300482423199113,
          1.6903544512481778,
          1.851017707488065,
          2.4033580191391897,
          3.4433981792485224,
          4.134823077211273,
          5.716673932975635,
          7.789466139514216,
          12.38389825255256
         ],
         "yaxis": "y"
        },
        {
         "hovertemplate": "country=Colombia<br>year=%{x}<br>gdpPercap_ratio=%{y}<extra></extra>",
         "legendgroup": "Colombia",
         "line": {
          "color": "#19d3f3",
          "dash": "solid"
         },
         "marker": {
          "symbol": "circle"
         },
         "mode": "lines",
         "name": "Colombia",
         "showlegend": true,
         "type": "scattergl",
         "x": [
          1952,
          1957,
          1962,
          1967,
          1972,
          1977,
          1982,
          1987,
          1992,
          1997,
          2002,
          2007
         ],
         "xaxis": "x",
         "y": [
          1,
          1.0838063615778954,
          1.162414794639364,
          1.2493405060191787,
          1.5226141763986722,
          1.7796655958995216,
          2.0509979465206842,
          2.286826443761021,
          2.5393453118059663,
          2.853093920849854,
          2.68421222943528,
          3.2678191726140433
         ],
         "yaxis": "y"
        },
        {
         "hovertemplate": "country=Comoros<br>year=%{x}<br>gdpPercap_ratio=%{y}<extra></extra>",
         "legendgroup": "Comoros",
         "line": {
          "color": "#FF6692",
          "dash": "solid"
         },
         "marker": {
          "symbol": "circle"
         },
         "mode": "lines",
         "name": "Comoros",
         "showlegend": true,
         "type": "scattergl",
         "x": [
          1952,
          1957,
          1962,
          1967,
          1972,
          1977,
          1982,
          1987,
          1992,
          1997,
          2002,
          2007
         ],
         "xaxis": "x",
         "y": [
          1,
          1.0980584776083782,
          1.2753035696750277,
          1.7008568083101638,
          1.7566578398428472,
          1.0631121333167513,
          1.148785580772896,
          1.1931021090457992,
          1.1304783469226984,
          1.0640325289128214,
          0.9753584756565943,
          0.8940670743644262
         ],
         "yaxis": "y"
        },
        {
         "hovertemplate": "country=Congo, Dem. Rep.<br>year=%{x}<br>gdpPercap_ratio=%{y}<extra></extra>",
         "legendgroup": "Congo, Dem. Rep.",
         "line": {
          "color": "#B6E880",
          "dash": "solid"
         },
         "marker": {
          "symbol": "circle"
         },
         "mode": "lines",
         "name": "Congo, Dem. Rep.",
         "showlegend": true,
         "type": "scattergl",
         "x": [
          1952,
          1957,
          1962,
          1967,
          1972,
          1977,
          1982,
          1987,
          1992,
          1997,
          2002,
          2007
         ],
         "xaxis": "x",
         "y": [
          1,
          1.1605523499159554,
          1.1483229083011919,
          1.1038392333526725,
          1.1593171038975727,
          1.0194928010935922,
          0.8631790947349007,
          0.8619325177486656,
          0.5864117365954649,
          0.39996347759876516,
          0.3089721960736972,
          0.3555884793961533
         ],
         "yaxis": "y"
        },
        {
         "hovertemplate": "country=Congo, Rep.<br>year=%{x}<br>gdpPercap_ratio=%{y}<extra></extra>",
         "legendgroup": "Congo, Rep.",
         "line": {
          "color": "#FF97FF",
          "dash": "solid"
         },
         "marker": {
          "symbol": "circle"
         },
         "mode": "lines",
         "name": "Congo, Rep.",
         "showlegend": true,
         "type": "scattergl",
         "x": [
          1952,
          1957,
          1962,
          1967,
          1972,
          1977,
          1982,
          1987,
          1992,
          1997,
          2002,
          2007
         ],
         "xaxis": "x",
         "y": [
          1,
          1.0891198933148873,
          1.1595588641175423,
          1.2598384732685266,
          1.5116298018973007,
          1.5332829027788804,
          2.295567536476526,
          1.9764549328604846,
          1.8894425390100202,
          1.6391274318633158,
          1.6390792548929802,
          1.708939215252111
         ],
         "yaxis": "y"
        },
        {
         "hovertemplate": "country=Costa Rica<br>year=%{x}<br>gdpPercap_ratio=%{y}<extra></extra>",
         "legendgroup": "Costa Rica",
         "line": {
          "color": "#FECB52",
          "dash": "solid"
         },
         "marker": {
          "symbol": "circle"
         },
         "mode": "lines",
         "name": "Costa Rica",
         "showlegend": true,
         "type": "scattergl",
         "x": [
          1952,
          1957,
          1962,
          1967,
          1972,
          1977,
          1982,
          1987,
          1992,
          1997,
          2002,
          2007
         ],
         "xaxis": "x",
         "y": [
          1,
          1.1381804424411985,
          1.3174436800498308,
          1.5842073962587548,
          1.9482788301679475,
          2.2561307952741667,
          2.003317768396427,
          2.1430890829095146,
          2.3450301131403872,
          2.5416906134937944,
          2.9400149791085393,
          3.6714985333983203
         ],
         "yaxis": "y"
        },
        {
         "hovertemplate": "country=Cote d'Ivoire<br>year=%{x}<br>gdpPercap_ratio=%{y}<extra></extra>",
         "legendgroup": "Cote d'Ivoire",
         "line": {
          "color": "#636efa",
          "dash": "solid"
         },
         "marker": {
          "symbol": "circle"
         },
         "mode": "lines",
         "name": "Cote d'Ivoire",
         "showlegend": true,
         "type": "scattergl",
         "x": [
          1952,
          1957,
          1962,
          1967,
          1972,
          1977,
          1982,
          1987,
          1992,
          1997,
          2002,
          2007
         ],
         "xaxis": "x",
         "y": [
          1,
          1.0808739875012,
          1.2450496809172686,
          1.477789325935596,
          1.7126675308458537,
          1.8131543271618864,
          1.874348295453565,
          1.553337355596421,
          1.186864499065376,
          1.2863835400176356,
          1.1873880729946482,
          1.1124556909236496
         ],
         "yaxis": "y"
        },
        {
         "hovertemplate": "country=Croatia<br>year=%{x}<br>gdpPercap_ratio=%{y}<extra></extra>",
         "legendgroup": "Croatia",
         "line": {
          "color": "#EF553B",
          "dash": "solid"
         },
         "marker": {
          "symbol": "circle"
         },
         "mode": "lines",
         "name": "Croatia",
         "showlegend": true,
         "type": "scattergl",
         "x": [
          1952,
          1957,
          1962,
          1967,
          1972,
          1977,
          1982,
          1987,
          1992,
          1997,
          2002,
          2007
         ],
         "xaxis": "x",
         "y": [
          1,
          1.390799187295999,
          1.7561637223970437,
          2.2314107366888614,
          2.9379272999150445,
          3.624407798995634,
          4.238800666516947,
          4.431399751628966,
          2.7082892941379133,
          3.166032601785517,
          3.7279599913122334,
          4.6867951905102725
         ],
         "yaxis": "y"
        },
        {
         "hovertemplate": "country=Cuba<br>year=%{x}<br>gdpPercap_ratio=%{y}<extra></extra>",
         "legendgroup": "Cuba",
         "line": {
          "color": "#00cc96",
          "dash": "solid"
         },
         "marker": {
          "symbol": "circle"
         },
         "mode": "lines",
         "name": "Cuba",
         "showlegend": true,
         "type": "scattergl",
         "x": [
          1952,
          1957,
          1962,
          1967,
          1972,
          1977,
          1982,
          1987,
          1992,
          1997,
          2002,
          2007
         ],
         "xaxis": "x",
         "y": [
          1,
          1.0905096337664735,
          0.9273641719891542,
          1.018567710542233,
          0.9496837782624324,
          1.1421195157263364,
          1.3097408601538425,
          1.3484064211579678,
          1.0011286385449563,
          0.9723355782379444,
          1.1349866048902644,
          1.601725733120213
         ],
         "yaxis": "y"
        },
        {
         "hovertemplate": "country=Czech Republic<br>year=%{x}<br>gdpPercap_ratio=%{y}<extra></extra>",
         "legendgroup": "Czech Republic",
         "line": {
          "color": "#ab63fa",
          "dash": "solid"
         },
         "marker": {
          "symbol": "circle"
         },
         "mode": "lines",
         "name": "Czech Republic",
         "showlegend": true,
         "type": "scattergl",
         "x": [
          1952,
          1957,
          1962,
          1967,
          1972,
          1977,
          1982,
          1987,
          1992,
          1997,
          2002,
          2007
         ],
         "xaxis": "x",
         "y": [
          1,
          1.2007236062411613,
          1.4742088964808417,
          1.6578261169120279,
          1.906367980205174,
          2.152393651365677,
          2.2363168857703273,
          2.3720347181691066,
          2.079221874510195,
          2.3339422490691635,
          2.5590243334550937,
          3.3206577643613358
         ],
         "yaxis": "y"
        },
        {
         "hovertemplate": "country=Denmark<br>year=%{x}<br>gdpPercap_ratio=%{y}<extra></extra>",
         "legendgroup": "Denmark",
         "line": {
          "color": "#FFA15A",
          "dash": "solid"
         },
         "marker": {
          "symbol": "circle"
         },
         "mode": "lines",
         "name": "Denmark",
         "showlegend": true,
         "type": "scattergl",
         "x": [
          1952,
          1957,
          1962,
          1967,
          1972,
          1977,
          1982,
          1987,
          1992,
          1997,
          2002,
          2007
         ],
         "xaxis": "x",
         "y": [
          1,
          1.1451937855778038,
          1.401441767598663,
          1.644302287532526,
          1.9464978674606945,
          2.107107897979555,
          2.2376370657767843,
          2.591330738009682,
          2.724483105293655,
          3.075026932650571,
          3.3187393244190018,
          3.63980773032098
         ],
         "yaxis": "y"
        },
        {
         "hovertemplate": "country=Djibouti<br>year=%{x}<br>gdpPercap_ratio=%{y}<extra></extra>",
         "legendgroup": "Djibouti",
         "line": {
          "color": "#19d3f3",
          "dash": "solid"
         },
         "marker": {
          "symbol": "circle"
         },
         "mode": "lines",
         "name": "Djibouti",
         "showlegend": true,
         "type": "scattergl",
         "x": [
          1952,
          1957,
          1962,
          1967,
          1972,
          1977,
          1982,
          1987,
          1992,
          1997,
          2002,
          2007
         ],
         "xaxis": "x",
         "y": [
          1,
          1.0732112542042642,
          1.131656080703136,
          1.131304426972098,
          1.3838440019471976,
          1.1544210509232158,
          1.0786425450500037,
          1.0788802277599876,
          0.890477596993006,
          0.7098692866090195,
          0.7148304166973096,
          0.7800931162222889
         ],
         "yaxis": "y"
        },
        {
         "hovertemplate": "country=Dominican Republic<br>year=%{x}<br>gdpPercap_ratio=%{y}<extra></extra>",
         "legendgroup": "Dominican Republic",
         "line": {
          "color": "#FF6692",
          "dash": "solid"
         },
         "marker": {
          "symbol": "circle"
         },
         "mode": "lines",
         "name": "Dominican Republic",
         "showlegend": true,
         "type": "scattergl",
         "x": [
          1952,
          1957,
          1962,
          1967,
          1972,
          1977,
          1982,
          1987,
          1992,
          1997,
          2002,
          2007
         ],
         "xaxis": "x",
         "y": [
          1,
          1.104946740736713,
          1.1891800672685033,
          1.1831599965565847,
          1.5667508403740777,
          1.918835241411224,
          2.0469752500430274,
          2.0746988773594754,
          2.177990190872218,
          2.5857172308534127,
          3.265187235090758,
          4.310868481538837
         ],
         "yaxis": "y"
        },
        {
         "hovertemplate": "country=Ecuador<br>year=%{x}<br>gdpPercap_ratio=%{y}<extra></extra>",
         "legendgroup": "Ecuador",
         "line": {
          "color": "#B6E880",
          "dash": "solid"
         },
         "marker": {
          "symbol": "circle"
         },
         "mode": "lines",
         "name": "Ecuador",
         "showlegend": true,
         "type": "scattergl",
         "x": [
          1952,
          1957,
          1962,
          1967,
          1972,
          1977,
          1982,
          1987,
          1992,
          1997,
          2002,
          2007
         ],
         "xaxis": "x",
         "y": [
          1,
          1.0733753009956841,
          1.1601322065992283,
          1.3000937741390142,
          1.4993835044737465,
          1.8964830457372588,
          2.0481443789320832,
          1.8403104029963406,
          2.0168879304994323,
          2.1093760173808866,
          1.6390866090993472,
          1.9514611771927444
         ],
         "yaxis": "y"
        },
        {
         "hovertemplate": "country=Egypt<br>year=%{x}<br>gdpPercap_ratio=%{y}<extra></extra>",
         "legendgroup": "Egypt",
         "line": {
          "color": "#FF97FF",
          "dash": "solid"
         },
         "marker": {
          "symbol": "circle"
         },
         "mode": "lines",
         "name": "Egypt",
         "showlegend": true,
         "type": "scattergl",
         "x": [
          1952,
          1957,
          1962,
          1967,
          1972,
          1977,
          1982,
          1987,
          1992,
          1997,
          2002,
          2007
         ],
         "xaxis": "x",
         "y": [
          1,
          1.0282578184051776,
          1.1934797472138947,
          1.2791457693636923,
          1.4265408290746344,
          1.963243245704363,
          2.4694630736547167,
          2.738510885341964,
          2.674580747134995,
          2.9412995344882638,
          3.3510919077686285,
          3.9336712057723333
         ],
         "yaxis": "y"
        },
        {
         "hovertemplate": "country=El Salvador<br>year=%{x}<br>gdpPercap_ratio=%{y}<extra></extra>",
         "legendgroup": "El Salvador",
         "line": {
          "color": "#FECB52",
          "dash": "solid"
         },
         "marker": {
          "symbol": "circle"
         },
         "mode": "lines",
         "name": "El Salvador",
         "showlegend": true,
         "type": "scattergl",
         "x": [
          1952,
          1957,
          1962,
          1967,
          1972,
          1977,
          1982,
          1987,
          1992,
          1997,
          2002,
          2007
         ],
         "xaxis": "x",
         "y": [
          1,
          1.1224354436693282,
          1.2389856752752488,
          1.4298432721367682,
          1.4828729808970098,
          1.6858306220159418,
          1.3444674986202978,
          1.3582777804003663,
          1.4579363815846516,
          1.691047663275195,
          1.7555895334417058,
          1.8791943261281547
         ],
         "yaxis": "y"
        },
        {
         "hovertemplate": "country=Equatorial Guinea<br>year=%{x}<br>gdpPercap_ratio=%{y}<extra></extra>",
         "legendgroup": "Equatorial Guinea",
         "line": {
          "color": "#636efa",
          "dash": "solid"
         },
         "marker": {
          "symbol": "circle"
         },
         "mode": "lines",
         "name": "Equatorial Guinea",
         "showlegend": true,
         "type": "scattergl",
         "x": [
          1952,
          1957,
          1962,
          1967,
          1972,
          1977,
          1982,
          1987,
          1992,
          1997,
          2002,
          2007
         ],
         "xaxis": "x",
         "y": [
          1,
          1.1343117493636874,
          1.5515842978572014,
          2.4374091955791215,
          1.7900294608108587,
          2.551801839174944,
          2.4699649365150322,
          2.573977148631581,
          3.013645038028915,
          7.492432529506887,
          20.5074854996061,
          32.35541662442322
         ],
         "yaxis": "y"
        },
        {
         "hovertemplate": "country=Eritrea<br>year=%{x}<br>gdpPercap_ratio=%{y}<extra></extra>",
         "legendgroup": "Eritrea",
         "line": {
          "color": "#EF553B",
          "dash": "solid"
         },
         "marker": {
          "symbol": "circle"
         },
         "mode": "lines",
         "name": "Eritrea",
         "showlegend": true,
         "type": "scattergl",
         "x": [
          1952,
          1957,
          1962,
          1967,
          1972,
          1977,
          1982,
          1987,
          1992,
          1997,
          2002,
          2007
         ],
         "xaxis": "x",
         "y": [
          1,
          1.046273797716505,
          1.1582513468662208,
          1.4251662185805907,
          1.563577969023874,
          1.5375234120073782,
          1.5956556221811053,
          1.5842805700045428,
          1.771926561256499,
          2.7770087034974495,
          2.3267121824303607,
          1.9498037251910523
         ],
         "yaxis": "y"
        },
        {
         "hovertemplate": "country=Ethiopia<br>year=%{x}<br>gdpPercap_ratio=%{y}<extra></extra>",
         "legendgroup": "Ethiopia",
         "line": {
          "color": "#00cc96",
          "dash": "solid"
         },
         "marker": {
          "symbol": "circle"
         },
         "mode": "lines",
         "name": "Ethiopia",
         "showlegend": true,
         "type": "scattergl",
         "x": [
          1952,
          1957,
          1962,
          1967,
          1972,
          1977,
          1982,
          1987,
          1992,
          1997,
          2002,
          2007
         ],
         "xaxis": "x",
         "y": [
          1,
          1.046273797479045,
          1.1582513468405655,
          1.4251662183857485,
          1.5635779686192863,
          1.537523411851723,
          1.5956556221929499,
          1.5842805698120448,
          1.1634896974929463,
          1.4245332076027768,
          1.4636448356875513,
          1.9075318864603903
         ],
         "yaxis": "y"
        },
        {
         "hovertemplate": "country=Finland<br>year=%{x}<br>gdpPercap_ratio=%{y}<extra></extra>",
         "legendgroup": "Finland",
         "line": {
          "color": "#ab63fa",
          "dash": "solid"
         },
         "marker": {
          "symbol": "circle"
         },
         "mode": "lines",
         "name": "Finland",
         "showlegend": true,
         "type": "scattergl",
         "x": [
          1952,
          1957,
          1962,
          1967,
          1972,
          1977,
          1982,
          1987,
          1992,
          1997,
          2002,
          2007
         ],
         "xaxis": "x",
         "y": [
          1,
          1.1744716301115328,
          1.458761731022652,
          1.6999928149174297,
          2.235011794861866,
          2.4290414048955355,
          2.8847540812288766,
          3.2906762352733314,
          3.2138070977484383,
          3.6927200211902056,
          4.390148158686975,
          5.168804704759199
         ],
         "yaxis": "y"
        },
        {
         "hovertemplate": "country=France<br>year=%{x}<br>gdpPercap_ratio=%{y}<extra></extra>",
         "legendgroup": "France",
         "line": {
          "color": "#FFA15A",
          "dash": "solid"
         },
         "marker": {
          "symbol": "circle"
         },
         "mode": "lines",
         "name": "France",
         "showlegend": true,
         "type": "scattergl",
         "x": [
          1952,
          1957,
          1962,
          1967,
          1972,
          1977,
          1982,
          1987,
          1992,
          1997,
          2002,
          2007
         ],
         "xaxis": "x",
         "y": [
          1,
          1.2323001229532495,
          1.5022435230838231,
          1.8492560829594744,
          2.291270070176115,
          2.602152389787001,
          2.886834694371505,
          3.1389816015702583,
          3.5141488198147823,
          3.68285733875638,
          4.11476769773844,
          4.334401586536801
         ],
         "yaxis": "y"
        },
        {
         "hovertemplate": "country=Gabon<br>year=%{x}<br>gdpPercap_ratio=%{y}<extra></extra>",
         "legendgroup": "Gabon",
         "line": {
          "color": "#19d3f3",
          "dash": "solid"
         },
         "marker": {
          "symbol": "circle"
         },
         "mode": "lines",
         "name": "Gabon",
         "showlegend": true,
         "type": "scattergl",
         "x": [
          1952,
          1957,
          1962,
          1967,
          1972,
          1977,
          1982,
          1987,
          1992,
          1997,
          2002,
          2007
         ],
         "xaxis": "x",
         "y": [
          1,
          1.1590137102125382,
          1.544543043525119,
          1.946851702966417,
          2.655644784917565,
          5.064793857988938,
          3.520075637540322,
          2.763357039239396,
          3.149465846322123,
          3.4291190287702698,
          2.916451037501026,
          3.0759419777652326
         ],
         "yaxis": "y"
        },
        {
         "hovertemplate": "country=Gambia<br>year=%{x}<br>gdpPercap_ratio=%{y}<extra></extra>",
         "legendgroup": "Gambia",
         "line": {
          "color": "#FF6692",
          "dash": "solid"
         },
         "marker": {
          "symbol": "circle"
         },
         "mode": "lines",
         "name": "Gambia",
         "showlegend": true,
         "type": "scattergl",
         "x": [
          1952,
          1957,
          1962,
          1967,
          1972,
          1977,
          1982,
          1987,
          1992,
          1997,
          2002,
          2007
         ],
         "xaxis": "x",
         "y": [
          1,
          1.0735651206916905,
          1.2358045905677602,
          1.514296136527866,
          1.5582008723487932,
          1.8233704612586383,
          1.7224995888558432,
          1.2605527899545705,
          1.3717690754219698,
          1.3472565225217443,
          1.361384709130388,
          1.551323504364277
         ],
         "yaxis": "y"
        },
        {
         "hovertemplate": "country=Germany<br>year=%{x}<br>gdpPercap_ratio=%{y}<extra></extra>",
         "legendgroup": "Germany",
         "line": {
          "color": "#B6E880",
          "dash": "solid"
         },
         "marker": {
          "symbol": "circle"
         },
         "mode": "lines",
         "name": "Germany",
         "showlegend": true,
         "type": "scattergl",
         "x": [
          1952,
          1957,
          1962,
          1967,
          1972,
          1977,
          1982,
          1987,
          1992,
          1997,
          2002,
          2007
         ],
         "xaxis": "x",
         "y": [
          1,
          1.4260447257090831,
          1.806026919535637,
          2.064024286123997,
          2.521821359362995,
          2.871303579643002,
          3.0838717758476957,
          3.4488789379047664,
          3.7100894123378847,
          3.8897591263695763,
          4.204272262133694,
          4.503059812637017
         ],
         "yaxis": "y"
        },
        {
         "hovertemplate": "country=Ghana<br>year=%{x}<br>gdpPercap_ratio=%{y}<extra></extra>",
         "legendgroup": "Ghana",
         "line": {
          "color": "#FF97FF",
          "dash": "solid"
         },
         "marker": {
          "symbol": "circle"
         },
         "mode": "lines",
         "name": "Ghana",
         "showlegend": true,
         "type": "scattergl",
         "x": [
          1952,
          1957,
          1962,
          1967,
          1972,
          1977,
          1982,
          1987,
          1992,
          1997,
          2002,
          2007
         ],
         "xaxis": "x",
         "y": [
          1,
          1.1451363482557053,
          1.3058734840479824,
          1.2352666223690254,
          1.2929058292873983,
          1.0898991721209592,
          0.9613009884415896,
          0.9294492498755708,
          1.015100661637763,
          1.1030911713767213,
          1.2202193294975583,
          1.4568314040009869
         ],
         "yaxis": "y"
        },
        {
         "hovertemplate": "country=Greece<br>year=%{x}<br>gdpPercap_ratio=%{y}<extra></extra>",
         "legendgroup": "Greece",
         "line": {
          "color": "#FECB52",
          "dash": "solid"
         },
         "marker": {
          "symbol": "circle"
         },
         "mode": "lines",
         "name": "Greece",
         "showlegend": true,
         "type": "scattergl",
         "x": [
          1952,
          1957,
          1962,
          1967,
          1972,
          1977,
          1982,
          1987,
          1992,
          1997,
          2002,
          2007
         ],
         "xaxis": "x",
         "y": [
          1,
          1.39244731078232,
          1.7042534515392227,
          2.4111708630470394,
          3.6040630382525163,
          4.020609005780512,
          4.324486318611777,
          4.565829365956635,
          4.968291185894115,
          5.309924627830552,
          6.376729300153549,
          7.799725084167236
         ],
         "yaxis": "y"
        },
        {
         "hovertemplate": "country=Guatemala<br>year=%{x}<br>gdpPercap_ratio=%{y}<extra></extra>",
         "legendgroup": "Guatemala",
         "line": {
          "color": "#636efa",
          "dash": "solid"
         },
         "marker": {
          "symbol": "circle"
         },
         "mode": "lines",
         "name": "Guatemala",
         "showlegend": true,
         "type": "scattergl",
         "x": [
          1952,
          1957,
          1962,
          1967,
          1972,
          1977,
          1982,
          1987,
          1992,
          1997,
          2002,
          2007
         ],
         "xaxis": "x",
         "y": [
          1,
          1.0778005351913293,
          1.1326586222784343,
          1.335343345859966,
          1.66021973732013,
          2.009684887658132,
          1.9851823620984121,
          1.7487933134936748,
          1.8282603527035408,
          1.929100134592297,
          2.000770911738503,
          2.1357257799081695
         ],
         "yaxis": "y"
        },
        {
         "hovertemplate": "country=Guinea<br>year=%{x}<br>gdpPercap_ratio=%{y}<extra></extra>",
         "legendgroup": "Guinea",
         "line": {
          "color": "#EF553B",
          "dash": "solid"
         },
         "marker": {
          "symbol": "circle"
         },
         "mode": "lines",
         "name": "Guinea",
         "showlegend": true,
         "type": "scattergl",
         "x": [
          1952,
          1957,
          1962,
          1967,
          1972,
          1977,
          1982,
          1987,
          1992,
          1997,
          2002,
          2007
         ],
         "xaxis": "x",
         "y": [
          1,
          1.1295001694389344,
          1.3453124124899043,
          1.389189364483602,
          1.453687435906348,
          1.714409796031441,
          1.6802356947525408,
          1.5789455316880463,
          1.556946098980461,
          1.7041468922698033,
          1.8533713931219824,
          1.8476297374183257
         ],
         "yaxis": "y"
        },
        {
         "hovertemplate": "country=Guinea-Bissau<br>year=%{x}<br>gdpPercap_ratio=%{y}<extra></extra>",
         "legendgroup": "Guinea-Bissau",
         "line": {
          "color": "#00cc96",
          "dash": "solid"
         },
         "marker": {
          "symbol": "circle"
         },
         "mode": "lines",
         "name": "Guinea-Bissau",
         "showlegend": true,
         "type": "scattergl",
         "x": [
          1952,
          1957,
          1962,
          1967,
          1972,
          1977,
          1982,
          1987,
          1992,
          1997,
          2002,
          2007
         ],
         "xaxis": "x",
         "y": [
          1,
          1.4400200007791224,
          1.7409832153621954,
          2.3864594928111456,
          2.735446773361612,
          2.5503590102900633,
          2.7951411554109433,
          2.4559433338471783,
          2.486373444878676,
          2.6568738387768733,
          1.9199736705966284,
          1.9317362907324431
         ],
         "yaxis": "y"
        },
        {
         "hovertemplate": "country=Haiti<br>year=%{x}<br>gdpPercap_ratio=%{y}<extra></extra>",
         "legendgroup": "Haiti",
         "line": {
          "color": "#ab63fa",
          "dash": "solid"
         },
         "marker": {
          "symbol": "circle"
         },
         "mode": "lines",
         "name": "Haiti",
         "showlegend": true,
         "type": "scattergl",
         "x": [
          1952,
          1957,
          1962,
          1967,
          1972,
          1977,
          1982,
          1987,
          1992,
          1997,
          2002,
          2007
         ],
         "xaxis": "x",
         "y": [
          1,
          0.9383388961216282,
          0.9762124030418697,
          0.7890044290781513,
          0.8989821056549636,
          1.0184376231070733,
          1.0928035634528426,
          0.9905720192901162,
          0.7913147569317425,
          0.7290540286107584,
          0.6902780663351179,
          0.6529334604613868
         ],
         "yaxis": "y"
        },
        {
         "hovertemplate": "country=Honduras<br>year=%{x}<br>gdpPercap_ratio=%{y}<extra></extra>",
         "legendgroup": "Honduras",
         "line": {
          "color": "#FFA15A",
          "dash": "solid"
         },
         "marker": {
          "symbol": "circle"
         },
         "mode": "lines",
         "name": "Honduras",
         "showlegend": true,
         "type": "scattergl",
         "x": [
          1952,
          1957,
          1962,
          1967,
          1972,
          1977,
          1982,
          1987,
          1992,
          1997,
          2002,
          2007
         ],
         "xaxis": "x",
         "y": [
          1,
          1.01164571180271,
          1.0438423081489623,
          1.1564258303419481,
          1.1525865153870112,
          1.4593693674814774,
          1.4222623012614053,
          1.3773113162031394,
          1.4040082975837487,
          1.439891190984205,
          1.4122245451127706,
          1.6166059886357806
         ],
         "yaxis": "y"
        },
        {
         "hovertemplate": "country=Hong Kong, China<br>year=%{x}<br>gdpPercap_ratio=%{y}<extra></extra>",
         "legendgroup": "Hong Kong, China",
         "line": {
          "color": "#19d3f3",
          "dash": "solid"
         },
         "marker": {
          "symbol": "circle"
         },
         "mode": "lines",
         "name": "Hong Kong, China",
         "showlegend": true,
         "type": "scattergl",
         "x": [
          1952,
          1957,
          1962,
          1967,
          1972,
          1977,
          1982,
          1987,
          1992,
          1997,
          2002,
          2007
         ],
         "xaxis": "x",
         "y": [
          1,
          1.1881388350456545,
          1.5363461523161521,
          2.029177506932378,
          2.7225872189784157,
          3.6622785413614514,
          4.767034247633133,
          6.560481125181972,
          8.105497348253909,
          9.290674156656564,
          9.890258446015133,
          13.005730366508857
         ],
         "yaxis": "y"
        },
        {
         "hovertemplate": "country=Hungary<br>year=%{x}<br>gdpPercap_ratio=%{y}<extra></extra>",
         "legendgroup": "Hungary",
         "line": {
          "color": "#FF6692",
          "dash": "solid"
         },
         "marker": {
          "symbol": "circle"
         },
         "mode": "lines",
         "name": "Hungary",
         "showlegend": true,
         "type": "scattergl",
         "x": [
          1952,
          1957,
          1962,
          1967,
          1972,
          1977,
          1982,
          1987,
          1992,
          1997,
          2002,
          2007
         ],
         "xaxis": "x",
         "y": [
          1,
          1.147521716227866,
          1.434427766790783,
          1.771888797829717,
          1.931855290707854,
          2.2180016805965392,
          2.3835045822679826,
          2.4671893498652917,
          2.0015732202050263,
          2.2252094657531107,
          2.8200713187961717,
          3.421364064250747
         ],
         "yaxis": "y"
        },
        {
         "hovertemplate": "country=Iceland<br>year=%{x}<br>gdpPercap_ratio=%{y}<extra></extra>",
         "legendgroup": "Iceland",
         "line": {
          "color": "#B6E880",
          "dash": "solid"
         },
         "marker": {
          "symbol": "circle"
         },
         "mode": "lines",
         "name": "Iceland",
         "showlegend": true,
         "type": "scattergl",
         "x": [
          1952,
          1957,
          1962,
          1967,
          1972,
          1977,
          1982,
          1987,
          1992,
          1997,
          2002,
          2007
         ],
         "xaxis": "x",
         "y": [
          1,
          1.2719314405920208,
          1.4241335690897616,
          1.8327554644036261,
          2.1737398041356983,
          2.704431080765093,
          3.2017893626740923,
          3.704507498735607,
          3.459750959208291,
          3.86107631580488,
          4.28791111076508,
          4.978307690050029
         ],
         "yaxis": "y"
        },
        {
         "hovertemplate": "country=India<br>year=%{x}<br>gdpPercap_ratio=%{y}<extra></extra>",
         "legendgroup": "India",
         "line": {
          "color": "#FF97FF",
          "dash": "solid"
         },
         "marker": {
          "symbol": "circle"
         },
         "mode": "lines",
         "name": "India",
         "showlegend": true,
         "type": "scattergl",
         "x": [
          1952,
          1957,
          1962,
          1967,
          1972,
          1977,
          1982,
          1987,
          1992,
          1997,
          2002,
          2007
         ],
         "xaxis": "x",
         "y": [
          1,
          1.0795809959839355,
          1.2045159283090117,
          1.2821341468935696,
          1.3246942896207565,
          1.4880868844080717,
          1.5656369591324486,
          1.786633496245682,
          2.1304057389093334,
          2.669061213345957,
          3.195899955745727,
          4.486578989152916
         ],
         "yaxis": "y"
        },
        {
         "hovertemplate": "country=Indonesia<br>year=%{x}<br>gdpPercap_ratio=%{y}<extra></extra>",
         "legendgroup": "Indonesia",
         "line": {
          "color": "#FECB52",
          "dash": "solid"
         },
         "marker": {
          "symbol": "circle"
         },
         "mode": "lines",
         "name": "Indonesia",
         "showlegend": true,
         "type": "scattergl",
         "x": [
          1952,
          1957,
          1962,
          1967,
          1972,
          1977,
          1982,
          1987,
          1992,
          1997,
          2002,
          2007
         ],
         "xaxis": "x",
         "y": [
          1,
          1.1456866597039443,
          1.1328672175566932,
          1.0170073756263955,
          1.482106304965996,
          1.8443856102331253,
          2.0233561521648045,
          2.3321325128768864,
          3.1788705024021806,
          4.160880266790511,
          3.8335110007906015,
          4.722873425372999
         ],
         "yaxis": "y"
        },
        {
         "hovertemplate": "country=Iran<br>year=%{x}<br>gdpPercap_ratio=%{y}<extra></extra>",
         "legendgroup": "Iran",
         "line": {
          "color": "#636efa",
          "dash": "solid"
         },
         "marker": {
          "symbol": "circle"
         },
         "mode": "lines",
         "name": "Iran",
         "showlegend": true,
         "type": "scattergl",
         "x": [
          1952,
          1957,
          1962,
          1967,
          1972,
          1977,
          1982,
          1987,
          1992,
          1997,
          2002,
          2007
         ],
         "xaxis": "x",
         "y": [
          1,
          1.0839882242737762,
          1.379532148850218,
          1.9459958505636654,
          3.167310068396403,
          3.9167440572006145,
          2.5065955343797697,
          2.1885231987018705,
          2.3838141877453594,
          2.7224720822590576,
          3.044405104727199,
          3.8235479425778007
         ],
         "yaxis": "y"
        },
        {
         "hovertemplate": "country=Iraq<br>year=%{x}<br>gdpPercap_ratio=%{y}<extra></extra>",
         "legendgroup": "Iraq",
         "line": {
          "color": "#EF553B",
          "dash": "solid"
         },
         "marker": {
          "symbol": "circle"
         },
         "mode": "lines",
         "name": "Iraq",
         "showlegend": true,
         "type": "scattergl",
         "x": [
          1952,
          1957,
          1962,
          1967,
          1972,
          1977,
          1982,
          1987,
          1992,
          1997,
          2002,
          2007
         ],
         "xaxis": "x",
         "y": [
          1,
          1.5083986544345793,
          2.0199056561280426,
          2.162703574461265,
          2.3187845185775817,
          3.556674850542672,
          3.515430877472445,
          2.8194266992638575,
          0.9069861673055506,
          0.7448944451782282,
          1.0631879027677298,
          1.0826429016491483
         ],
         "yaxis": "y"
        },
        {
         "hovertemplate": "country=Ireland<br>year=%{x}<br>gdpPercap_ratio=%{y}<extra></extra>",
         "legendgroup": "Ireland",
         "line": {
          "color": "#00cc96",
          "dash": "solid"
         },
         "marker": {
          "symbol": "circle"
         },
         "mode": "lines",
         "name": "Ireland",
         "showlegend": true,
         "type": "scattergl",
         "x": [
          1952,
          1957,
          1962,
          1967,
          1972,
          1977,
          1982,
          1987,
          1992,
          1997,
          2002,
          2007
         ],
         "xaxis": "x",
         "y": [
          1,
          1.0746212333164888,
          1.2727908858112404,
          1.4693199753301258,
          1.8292245898520492,
          2.140188325391002,
          2.4218123816081936,
          2.6625950326410153,
          3.370032789913257,
          4.70645446814431,
          6.540348550320842,
          7.8068729107352555
         ],
         "yaxis": "y"
        },
        {
         "hovertemplate": "country=Israel<br>year=%{x}<br>gdpPercap_ratio=%{y}<extra></extra>",
         "legendgroup": "Israel",
         "line": {
          "color": "#ab63fa",
          "dash": "solid"
         },
         "marker": {
          "symbol": "circle"
         },
         "mode": "lines",
         "name": "Israel",
         "showlegend": true,
         "type": "scattergl",
         "x": [
          1952,
          1957,
          1962,
          1967,
          1972,
          1977,
          1982,
          1987,
          1992,
          1997,
          2002,
          2007
         ],
         "xaxis": "x",
         "y": [
          1,
          1.317814582258393,
          1.7387965814044406,
          2.0540061061918222,
          3.129050040470012,
          3.2562210097495403,
          3.7604174695906605,
          4.189988289230181,
          4.417331406653771,
          5.113543640647577,
          5.360449412449627,
          6.245721006897237
         ],
         "yaxis": "y"
        },
        {
         "hovertemplate": "country=Italy<br>year=%{x}<br>gdpPercap_ratio=%{y}<extra></extra>",
         "legendgroup": "Italy",
         "line": {
          "color": "#FFA15A",
          "dash": "solid"
         },
         "marker": {
          "symbol": "circle"
         },
         "mode": "lines",
         "name": "Italy",
         "showlegend": true,
         "type": "scattergl",
         "x": [
          1952,
          1957,
          1962,
          1967,
          1972,
          1977,
          1982,
          1987,
          1992,
          1997,
          2002,
          2007
         ],
         "xaxis": "x",
         "y": [
          1,
          1.2671150113836092,
          1.6716501184843577,
          2.0323625878114635,
          2.4879878822262143,
          2.8908571072086473,
          3.3535039879529007,
          3.8948815015548055,
          4.463970943788931,
          5.003650823261313,
          5.67142689808599,
          5.7934249155046205
         ],
         "yaxis": "y"
        },
        {
         "hovertemplate": "country=Jamaica<br>year=%{x}<br>gdpPercap_ratio=%{y}<extra></extra>",
         "legendgroup": "Jamaica",
         "line": {
          "color": "#19d3f3",
          "dash": "solid"
         },
         "marker": {
          "symbol": "circle"
         },
         "mode": "lines",
         "name": "Jamaica",
         "showlegend": true,
         "type": "scattergl",
         "x": [
          1952,
          1957,
          1962,
          1967,
          1972,
          1977,
          1982,
          1987,
          1992,
          1997,
          2002,
          2007
         ],
         "xaxis": "x",
         "y": [
          1,
          1.6410126289077132,
          1.8099194865883508,
          2.1130371565635904,
          2.564709364226367,
          2.294333179816137,
          2.093492047911702,
          2.191191936795515,
          2.554716161052348,
          2.457080844190599,
          2.4132138480397303,
          2.525720981614755
         ],
         "yaxis": "y"
        },
        {
         "hovertemplate": "country=Japan<br>year=%{x}<br>gdpPercap_ratio=%{y}<extra></extra>",
         "legendgroup": "Japan",
         "line": {
          "color": "#FF6692",
          "dash": "solid"
         },
         "marker": {
          "symbol": "circle"
         },
         "mode": "lines",
         "name": "Japan",
         "showlegend": true,
         "type": "scattergl",
         "x": [
          1952,
          1957,
          1962,
          1967,
          1972,
          1977,
          1982,
          1987,
          1992,
          1997,
          2002,
          2007
         ],
         "xaxis": "x",
         "y": [
          1,
          1.3421675333041132,
          2.0443701286568934,
          3.0612130053252478,
          4.594027635402042,
          5.1633827812087505,
          6.025604210662297,
          6.955624968572195,
          8.338594689050035,
          8.957717134356875,
          8.891818481365299,
          9.840378496127602
         ],
         "yaxis": "y"
        },
        {
         "hovertemplate": "country=Jordan<br>year=%{x}<br>gdpPercap_ratio=%{y}<extra></extra>",
         "legendgroup": "Jordan",
         "line": {
          "color": "#B6E880",
          "dash": "solid"
         },
         "marker": {
          "symbol": "circle"
         },
         "mode": "lines",
         "name": "Jordan",
         "showlegend": true,
         "type": "scattergl",
         "x": [
          1952,
          1957,
          1962,
          1967,
          1972,
          1977,
          1982,
          1987,
          1992,
          1997,
          2002,
          2007
         ],
         "xaxis": "x",
         "y": [
          1,
          1.219258563739345,
          1.5178727183190173,
          1.7724367538860057,
          1.3645650370681721,
          1.8439053414125022,
          2.6901512424780205,
          2.8758532938220536,
          2.2183569256496747,
          2.356559037005364,
          2.485550319547906,
          2.92160990496572
         ],
         "yaxis": "y"
        },
        {
         "hovertemplate": "country=Kenya<br>year=%{x}<br>gdpPercap_ratio=%{y}<extra></extra>",
         "legendgroup": "Kenya",
         "line": {
          "color": "#FF97FF",
          "dash": "solid"
         },
         "marker": {
          "symbol": "circle"
         },
         "mode": "lines",
         "name": "Kenya",
         "showlegend": true,
         "type": "scattergl",
         "x": [
          1952,
          1957,
          1962,
          1967,
          1972,
          1977,
          1982,
          1987,
          1992,
          1997,
          2002,
          2007
         ],
         "xaxis": "x",
         "y": [
          1,
          1.1064944798504737,
          1.0508768276169782,
          1.238061859105785,
          1.4321047073315536,
          1.485122945816263,
          1.5795678461198652,
          1.5956315926782185,
          1.5721820607876453,
          1.5939306373195692,
          1.508439376882411,
          1.7143282172275098
         ],
         "yaxis": "y"
        },
        {
         "hovertemplate": "country=Korea, Dem. Rep.<br>year=%{x}<br>gdpPercap_ratio=%{y}<extra></extra>",
         "legendgroup": "Korea, Dem. Rep.",
         "line": {
          "color": "#FECB52",
          "dash": "solid"
         },
         "marker": {
          "symbol": "circle"
         },
         "mode": "lines",
         "name": "Korea, Dem. Rep.",
         "showlegend": true,
         "type": "scattergl",
         "x": [
          1952,
          1957,
          1962,
          1967,
          1972,
          1977,
          1982,
          1987,
          1992,
          1997,
          2002,
          2007
         ],
         "xaxis": "x",
         "y": [
          1,
          1.4436890246543108,
          1.490146781075719,
          1.9696631611210418,
          3.4013573058799937,
          3.773210670542805,
          3.77341654077984,
          3.773386237854179,
          3.4238166493888778,
          1.5536078005556373,
          1.5131781743167814,
          1.4638408883111622
         ],
         "yaxis": "y"
        },
        {
         "hovertemplate": "country=Korea, Rep.<br>year=%{x}<br>gdpPercap_ratio=%{y}<extra></extra>",
         "legendgroup": "Korea, Rep.",
         "line": {
          "color": "#636efa",
          "dash": "solid"
         },
         "marker": {
          "symbol": "circle"
         },
         "mode": "lines",
         "name": "Korea, Rep.",
         "showlegend": true,
         "type": "scattergl",
         "x": [
          1952,
          1957,
          1962,
          1967,
          1972,
          1977,
          1982,
          1987,
          1992,
          1997,
          2002,
          2007
         ],
         "xaxis": "x",
         "y": [
          1,
          1.4434356280502352,
          1.4907393518413752,
          1.9689922850242807,
          2.9409077358982527,
          4.518975500209139,
          5.456030350455991,
          8.279791550649636,
          11.744973826340507,
          15.51877411503005,
          18.663044116538874,
          22.655070687482564
         ],
         "yaxis": "y"
        },
        {
         "hovertemplate": "country=Kuwait<br>year=%{x}<br>gdpPercap_ratio=%{y}<extra></extra>",
         "legendgroup": "Kuwait",
         "line": {
          "color": "#EF553B",
          "dash": "solid"
         },
         "marker": {
          "symbol": "circle"
         },
         "mode": "lines",
         "name": "Kuwait",
         "showlegend": true,
         "type": "scattergl",
         "x": [
          1952,
          1957,
          1962,
          1967,
          1972,
          1977,
          1982,
          1987,
          1992,
          1997,
          2002,
          2007
         ],
         "xaxis": "x",
         "y": [
          1,
          1.047431891469852,
          0.8807532703047638,
          0.7463842691682329,
          1.008908406896193,
          0.5468185138468239,
          0.2892909674966099,
          0.2594373459113195,
          0.32231187693656355,
          0.37183747059988403,
          0.32394670092090244,
          0.4364824024779038
         ],
         "yaxis": "y"
        },
        {
         "hovertemplate": "country=Lebanon<br>year=%{x}<br>gdpPercap_ratio=%{y}<extra></extra>",
         "legendgroup": "Lebanon",
         "line": {
          "color": "#00cc96",
          "dash": "solid"
         },
         "marker": {
          "symbol": "circle"
         },
         "mode": "lines",
         "name": "Lebanon",
         "showlegend": true,
         "type": "scattergl",
         "x": [
          1952,
          1957,
          1962,
          1967,
          1972,
          1977,
          1982,
          1987,
          1992,
          1997,
          2002,
          2007
         ],
         "xaxis": "x",
         "y": [
          1,
          1.259572642367433,
          1.181963225770572,
          1.2424460141002855,
          1.548435931891922,
          1.7911163960307803,
          1.5803162682745377,
          1.1121632344320604,
          1.4252504876119523,
          1.810820816867655,
          1.9264356323294205,
          2.163698577032739
         ],
         "yaxis": "y"
        },
        {
         "hovertemplate": "country=Lesotho<br>year=%{x}<br>gdpPercap_ratio=%{y}<extra></extra>",
         "legendgroup": "Lesotho",
         "line": {
          "color": "#ab63fa",
          "dash": "solid"
         },
         "marker": {
          "symbol": "circle"
         },
         "mode": "lines",
         "name": "Lesotho",
         "showlegend": true,
         "type": "scattergl",
         "x": [
          1952,
          1957,
          1962,
          1967,
          1972,
          1977,
          1982,
          1987,
          1992,
          1997,
          2002,
          2007
         ],
         "xaxis": "x",
         "y": [
          1,
          1.1243144517005577,
          1.377968366091263,
          1.6685472537732728,
          1.6616626615760277,
          2.4941575653988353,
          2.6678039577534265,
          2.5899381781054864,
          3.270867198319761,
          3.969091612923274,
          4.267026060123852,
          5.251301098890521
         ],
         "yaxis": "y"
        },
        {
         "hovertemplate": "country=Liberia<br>year=%{x}<br>gdpPercap_ratio=%{y}<extra></extra>",
         "legendgroup": "Liberia",
         "line": {
          "color": "#FFA15A",
          "dash": "solid"
         },
         "marker": {
          "symbol": "circle"
         },
         "mode": "lines",
         "name": "Liberia",
         "showlegend": true,
         "type": "scattergl",
         "x": [
          1952,
          1957,
          1962,
          1967,
          1972,
          1977,
          1982,
          1987,
          1992,
          1997,
          2002,
          2007
         ],
         "xaxis": "x",
         "y": [
          1,
          1.0788726960917265,
          1.1018500985925594,
          1.23981432960767,
          1.3951409446604506,
          1.1124956219953552,
          0.9941390115192025,
          0.8793217554147861,
          1.106068080701606,
          1.0583782681391847,
          0.9233969826611882,
          0.7201646781705224
         ],
         "yaxis": "y"
        },
        {
         "hovertemplate": "country=Libya<br>year=%{x}<br>gdpPercap_ratio=%{y}<extra></extra>",
         "legendgroup": "Libya",
         "line": {
          "color": "#19d3f3",
          "dash": "solid"
         },
         "marker": {
          "symbol": "circle"
         },
         "mode": "lines",
         "name": "Libya",
         "showlegend": true,
         "type": "scattergl",
         "x": [
          1952,
          1957,
          1962,
          1967,
          1972,
          1977,
          1982,
          1987,
          1992,
          1997,
          2002,
          2007
         ],
         "xaxis": "x",
         "y": [
          1,
          1.4442785269001035,
          2.830113005557677,
          7.862774368613128,
          8.800449951989657,
          9.194039746366403,
          7.272848522261791,
          4.929990728647364,
          4.037673068243912,
          3.9653426101085483,
          3.9935017965669766,
          5.050159819610081
         ],
         "yaxis": "y"
        },
        {
         "hovertemplate": "country=Madagascar<br>year=%{x}<br>gdpPercap_ratio=%{y}<extra></extra>",
         "legendgroup": "Madagascar",
         "line": {
          "color": "#FF6692",
          "dash": "solid"
         },
         "marker": {
          "symbol": "circle"
         },
         "mode": "lines",
         "name": "Madagascar",
         "showlegend": true,
         "type": "scattergl",
         "x": [
          1952,
          1957,
          1962,
          1967,
          1972,
          1977,
          1982,
          1987,
          1992,
          1997,
          2002,
          2007
         ],
         "xaxis": "x",
         "y": [
          1,
          1.1013096660826485,
          1.1388591602667617,
          1.1323867055368986,
          1.2117455207215693,
          1.0701427922918836,
          0.9028884827868497,
          0.8007155700742179,
          0.7211834659291035,
          0.6834981901723507,
          0.6199790846465858,
          0.7240205433813819
         ],
         "yaxis": "y"
        },
        {
         "hovertemplate": "country=Malawi<br>year=%{x}<br>gdpPercap_ratio=%{y}<extra></extra>",
         "legendgroup": "Malawi",
         "line": {
          "color": "#B6E880",
          "dash": "solid"
         },
         "marker": {
          "symbol": "circle"
         },
         "mode": "lines",
         "name": "Malawi",
         "showlegend": true,
         "type": "scattergl",
         "x": [
          1952,
          1957,
          1962,
          1967,
          1972,
          1977,
          1982,
          1987,
          1992,
          1997,
          2002,
          2007
         ],
         "xaxis": "x",
         "y": [
          1,
          1.1278688823288114,
          1.159104987308602,
          1.34225799561418,
          1.5836329118216528,
          1.7965504111079247,
          1.7141489128851792,
          1.7214991273164297,
          1.5256047895832374,
          1.8752472739971788,
          1.8025082931448948,
          2.056938618594728
         ],
         "yaxis": "y"
        },
        {
         "hovertemplate": "country=Malaysia<br>year=%{x}<br>gdpPercap_ratio=%{y}<extra></extra>",
         "legendgroup": "Malaysia",
         "line": {
          "color": "#FF97FF",
          "dash": "solid"
         },
         "marker": {
          "symbol": "circle"
         },
         "mode": "lines",
         "name": "Malaysia",
         "showlegend": true,
         "type": "scattergl",
         "x": [
          1952,
          1957,
          1962,
          1967,
          1972,
          1977,
          1982,
          1987,
          1992,
          1997,
          2002,
          2007
         ],
         "xaxis": "x",
         "y": [
          1,
          0.9884957000832516,
          1.1123632537399002,
          1.2438979188585315,
          1.5559191740454856,
          2.0904662810344337,
          2.687055629398791,
          2.8669697705730797,
          3.9745410209424152,
          5.533683367931459,
          5.5741328078616235,
          6.799973852689689
         ],
         "yaxis": "y"
        },
        {
         "hovertemplate": "country=Mali<br>year=%{x}<br>gdpPercap_ratio=%{y}<extra></extra>",
         "legendgroup": "Mali",
         "line": {
          "color": "#FECB52",
          "dash": "solid"
         },
         "marker": {
          "symbol": "circle"
         },
         "mode": "lines",
         "name": "Mali",
         "showlegend": true,
         "type": "scattergl",
         "x": [
          1952,
          1957,
          1962,
          1967,
          1972,
          1977,
          1982,
          1987,
          1992,
          1997,
          2002,
          2007
         ],
         "xaxis": "x",
         "y": [
          1,
          1.0841081044073033,
          1.0969130625405883,
          1.2048758128433072,
          1.285256127412622,
          1.5174423020593857,
          1.3662691543450889,
          1.5125262509848998,
          1.6337695269937056,
          1.7470558860278478,
          2.1033207374017384,
          2.304878003533086
         ],
         "yaxis": "y"
        },
        {
         "hovertemplate": "country=Mauritania<br>year=%{x}<br>gdpPercap_ratio=%{y}<extra></extra>",
         "legendgroup": "Mauritania",
         "line": {
          "color": "#636efa",
          "dash": "solid"
         },
         "marker": {
          "symbol": "circle"
         },
         "mode": "lines",
         "name": "Mauritania",
         "showlegend": true,
         "type": "scattergl",
         "x": [
          1952,
          1957,
          1962,
          1967,
          1972,
          1977,
          1982,
          1987,
          1992,
          1997,
          2002,
          2007
         ],
         "xaxis": "x",
         "y": [
          1,
          1.1386114201774842,
          1.420903552483853,
          1.9124138972797988,
          2.135402782105178,
          2.015152957234553,
          1.9931617257366332,
          1.9130307364485162,
          1.8319750206257763,
          1.995834185004531,
          2.124863056205403,
          2.4264740836028422
         ],
         "yaxis": "y"
        },
        {
         "hovertemplate": "country=Mauritius<br>year=%{x}<br>gdpPercap_ratio=%{y}<extra></extra>",
         "legendgroup": "Mauritius",
         "line": {
          "color": "#EF553B",
          "dash": "solid"
         },
         "marker": {
          "symbol": "circle"
         },
         "mode": "lines",
         "name": "Mauritius",
         "showlegend": true,
         "type": "scattergl",
         "x": [
          1952,
          1957,
          1962,
          1967,
          1972,
          1977,
          1982,
          1987,
          1992,
          1997,
          2002,
          2007
         ],
         "xaxis": "x",
         "y": [
          1,
          1.0335791470127837,
          1.2851241915679967,
          1.2578471930008737,
          1.3087104292230902,
          1.885704515503102,
          1.8740450945525269,
          2.4307391096175723,
          3.078450304776093,
          3.7733091596456347,
          4.584359222064544,
          5.567702098693627
         ],
         "yaxis": "y"
        },
        {
         "hovertemplate": "country=Mexico<br>year=%{x}<br>gdpPercap_ratio=%{y}<extra></extra>",
         "legendgroup": "Mexico",
         "line": {
          "color": "#00cc96",
          "dash": "solid"
         },
         "marker": {
          "symbol": "circle"
         },
         "mode": "lines",
         "name": "Mexico",
         "showlegend": true,
         "type": "scattergl",
         "x": [
          1952,
          1957,
          1962,
          1967,
          1972,
          1977,
          1982,
          1987,
          1992,
          1997,
          2002,
          2007
         ],
         "xaxis": "x",
         "y": [
          1,
          1.1878658796388715,
          1.3172639534713009,
          1.654550370599922,
          1.9577806014257866,
          2.206627979354911,
          2.7633124396643938,
          2.497942046817943,
          2.7234164540701373,
          2.8082073083797545,
          3.08857182997894,
          3.443686796273764
         ],
         "yaxis": "y"
        },
        {
         "hovertemplate": "country=Mongolia<br>year=%{x}<br>gdpPercap_ratio=%{y}<extra></extra>",
         "legendgroup": "Mongolia",
         "line": {
          "color": "#ab63fa",
          "dash": "solid"
         },
         "marker": {
          "symbol": "circle"
         },
         "mode": "lines",
         "name": "Mongolia",
         "showlegend": true,
         "type": "scattergl",
         "x": [
          1952,
          1957,
          1962,
          1967,
          1972,
          1977,
          1982,
          1987,
          1992,
          1997,
          2002,
          2007
         ],
         "xaxis": "x",
         "y": [
          1,
          1.1603115485958548,
          1.3429932216537612,
          1.5587246250074809,
          1.8075284528499218,
          2.094560238955911,
          2.5434622879467055,
          2.9724215833744303,
          2.2698668256563304,
          2.4184239163674652,
          2.7216241093656808,
          3.935803093508807
         ],
         "yaxis": "y"
        },
        {
         "hovertemplate": "country=Montenegro<br>year=%{x}<br>gdpPercap_ratio=%{y}<extra></extra>",
         "legendgroup": "Montenegro",
         "line": {
          "color": "#FFA15A",
          "dash": "solid"
         },
         "marker": {
          "symbol": "circle"
         },
         "mode": "lines",
         "name": "Montenegro",
         "showlegend": true,
         "type": "scattergl",
         "x": [
          1952,
          1957,
          1962,
          1967,
          1972,
          1977,
          1982,
          1987,
          1992,
          1997,
          2002,
          2007
         ],
         "xaxis": "x",
         "y": [
          1,
          1.3907991876104782,
          1.756163722617254,
          2.2314107369252154,
          2.937927300277684,
          3.6244078005922047,
          4.238800670226186,
          4.431399749858361,
          2.6451794549550436,
          2.442079057446876,
          2.476669415154445,
          3.4952207428174478
         ],
         "yaxis": "y"
        },
        {
         "hovertemplate": "country=Morocco<br>year=%{x}<br>gdpPercap_ratio=%{y}<extra></extra>",
         "legendgroup": "Morocco",
         "line": {
          "color": "#19d3f3",
          "dash": "solid"
         },
         "marker": {
          "symbol": "circle"
         },
         "mode": "lines",
         "name": "Morocco",
         "showlegend": true,
         "type": "scattergl",
         "x": [
          1952,
          1957,
          1962,
          1967,
          1972,
          1977,
          1982,
          1987,
          1992,
          1997,
          2002,
          2007
         ],
         "xaxis": "x",
         "y": [
          1,
          0.972632888106024,
          0.9278226398964434,
          1.013529884906001,
          1.1433425502115246,
          1.4042263730078477,
          1.600885345835396,
          1.6319400337484185,
          1.7462628941129417,
          1.7664349910123696,
          1.9301556055825662,
          2.2628640869418373
         ],
         "yaxis": "y"
        },
        {
         "hovertemplate": "country=Mozambique<br>year=%{x}<br>gdpPercap_ratio=%{y}<extra></extra>",
         "legendgroup": "Mozambique",
         "line": {
          "color": "#FF6692",
          "dash": "solid"
         },
         "marker": {
          "symbol": "circle"
         },
         "mode": "lines",
         "name": "Mozambique",
         "showlegend": true,
         "type": "scattergl",
         "x": [
          1952,
          1957,
          1962,
          1967,
          1972,
          1977,
          1982,
          1987,
          1992,
          1997,
          2002,
          2007
         ],
         "xaxis": "x",
         "y": [
          1,
          1.057757292016766,
          1.1881652429767062,
          1.2094720630639801,
          1.5472305587107562,
          1.0721276781906137,
          0.9865223644226744,
          0.8321334416781905,
          0.8769989082491507,
          1.008153312066692,
          1.35236442604021,
          1.7580359542881936
         ],
         "yaxis": "y"
        },
        {
         "hovertemplate": "country=Myanmar<br>year=%{x}<br>gdpPercap_ratio=%{y}<extra></extra>",
         "legendgroup": "Myanmar",
         "line": {
          "color": "#B6E880",
          "dash": "solid"
         },
         "marker": {
          "symbol": "circle"
         },
         "mode": "lines",
         "name": "Myanmar",
         "showlegend": true,
         "type": "scattergl",
         "x": [
          1952,
          1957,
          1962,
          1967,
          1972,
          1977,
          1982,
          1987,
          1992,
          1997,
          2002,
          2007
         ],
         "xaxis": "x",
         "y": [
          1,
          1.0574018126888218,
          1.1722054380664653,
          1.054380664652568,
          1.0785498489425982,
          1.1208459214501512,
          1.2809667673716012,
          1.163141993957704,
          1.0483383685800605,
          1.2537764350453173,
          1.8459214501510575,
          2.8519637462235647
         ],
         "yaxis": "y"
        },
        {
         "hovertemplate": "country=Namibia<br>year=%{x}<br>gdpPercap_ratio=%{y}<extra></extra>",
         "legendgroup": "Namibia",
         "line": {
          "color": "#FF97FF",
          "dash": "solid"
         },
         "marker": {
          "symbol": "circle"
         },
         "mode": "lines",
         "name": "Namibia",
         "showlegend": true,
         "type": "scattergl",
         "x": [
          1952,
          1957,
          1962,
          1967,
          1972,
          1977,
          1982,
          1987,
          1992,
          1997,
          2002,
          2007
         ],
         "xaxis": "x",
         "y": [
          1,
          1.0815534326018983,
          1.309200923773606,
          1.5651973609888559,
          1.5455529228395544,
          1.5993552424253141,
          1.7291584817858023,
          1.5239545923673417,
          1.5696710525030009,
          1.6088603533632853,
          1.68015414216295,
          1.9849406916763377
         ],
         "yaxis": "y"
        },
        {
         "hovertemplate": "country=Nepal<br>year=%{x}<br>gdpPercap_ratio=%{y}<extra></extra>",
         "legendgroup": "Nepal",
         "line": {
          "color": "#FECB52",
          "dash": "solid"
         },
         "marker": {
          "symbol": "circle"
         },
         "mode": "lines",
         "name": "Nepal",
         "showlegend": true,
         "type": "scattergl",
         "x": [
          1952,
          1957,
          1962,
          1967,
          1972,
          1977,
          1982,
          1987,
          1992,
          1997,
          2002,
          2007
         ],
         "xaxis": "x",
         "y": [
          1,
          1.0953909188936914,
          1.1951599668761692,
          1.2392099320805334,
          1.2361797073739658,
          1.2715809230746629,
          1.3160252871045408,
          1.4209216984340534,
          1.6446175730372101,
          1.8519062391928043,
          1.936751597780166,
          1.9993191222961848
         ],
         "yaxis": "y"
        },
        {
         "hovertemplate": "country=Netherlands<br>year=%{x}<br>gdpPercap_ratio=%{y}<extra></extra>",
         "legendgroup": "Netherlands",
         "line": {
          "color": "#636efa",
          "dash": "solid"
         },
         "marker": {
          "symbol": "circle"
         },
         "mode": "lines",
         "name": "Netherlands",
         "showlegend": true,
         "type": "scattergl",
         "x": [
          1952,
          1957,
          1962,
          1967,
          1972,
          1977,
          1982,
          1987,
          1992,
          1997,
          2002,
          2007
         ],
         "xaxis": "x",
         "y": [
          1,
          1.2610974467437983,
          1.4304922851518622,
          1.7181823961135583,
          2.1019509733274013,
          2.371960941187797,
          2.3932548773126463,
          2.645096856078971,
          2.9962237104911495,
          3.3826413420744217,
          3.7716811222432387,
          4.11537634594716
         ],
         "yaxis": "y"
        },
        {
         "hovertemplate": "country=New Zealand<br>year=%{x}<br>gdpPercap_ratio=%{y}<extra></extra>",
         "legendgroup": "New Zealand",
         "line": {
          "color": "#EF553B",
          "dash": "solid"
         },
         "marker": {
          "symbol": "circle"
         },
         "mode": "lines",
         "name": "New Zealand",
         "showlegend": true,
         "type": "scattergl",
         "x": [
          1952,
          1957,
          1962,
          1967,
          1972,
          1977,
          1982,
          1987,
          1992,
          1997,
          2002,
          2007
         ],
         "xaxis": "x",
         "y": [
          1,
          1.1601674363408105,
          1.248101507946754,
          1.3701335921652458,
          1.5200040047834982,
          1.5377825369557383,
          1.6702774619246181,
          1.8005072764286898,
          1.7395153060457484,
          1.994057016970217,
          2.1967162550512143,
          2.385717672202048
         ],
         "yaxis": "y"
        },
        {
         "hovertemplate": "country=Nicaragua<br>year=%{x}<br>gdpPercap_ratio=%{y}<extra></extra>",
         "legendgroup": "Nicaragua",
         "line": {
          "color": "#00cc96",
          "dash": "solid"
         },
         "marker": {
          "symbol": "circle"
         },
         "mode": "lines",
         "name": "Nicaragua",
         "showlegend": true,
         "type": "scattergl",
         "x": [
          1952,
          1957,
          1962,
          1967,
          1972,
          1977,
          1982,
          1987,
          1992,
          1997,
          2002,
          2007
         ],
         "xaxis": "x",
         "y": [
          1,
          1.1108649260706576,
          1.1677183217391516,
          1.4919185582341161,
          1.5064411956104562,
          1.7627665596517184,
          1.1150168212911071,
          0.9497553706402204,
          0.6972679803062671,
          0.7238944550324165,
          0.7950705188543714,
          0.8833545854323075
         ],
         "yaxis": "y"
        },
        {
         "hovertemplate": "country=Niger<br>year=%{x}<br>gdpPercap_ratio=%{y}<extra></extra>",
         "legendgroup": "Niger",
         "line": {
          "color": "#ab63fa",
          "dash": "solid"
         },
         "marker": {
          "symbol": "circle"
         },
         "mode": "lines",
         "name": "Niger",
         "showlegend": true,
         "type": "scattergl",
         "x": [
          1952,
          1957,
          1962,
          1967,
          1972,
          1977,
          1982,
          1987,
          1992,
          1997,
          2002,
          2007
         ],
         "xaxis": "x",
         "y": [
          1,
          1.0966610054292902,
          1.3096116578695787,
          1.3839262804772392,
          1.252441352737182,
          1.0617127832582252,
          1.1940500872673576,
          0.8771730064524019,
          0.7628277432200764,
          0.7616759653564897,
          0.788936569402556,
          0.8133530213843193
         ],
         "yaxis": "y"
        },
        {
         "hovertemplate": "country=Nigeria<br>year=%{x}<br>gdpPercap_ratio=%{y}<extra></extra>",
         "legendgroup": "Nigeria",
         "line": {
          "color": "#FFA15A",
          "dash": "solid"
         },
         "marker": {
          "symbol": "circle"
         },
         "mode": "lines",
         "name": "Nigeria",
         "showlegend": true,
         "type": "scattergl",
         "x": [
          1952,
          1957,
          1962,
          1967,
          1972,
          1977,
          1982,
          1987,
          1992,
          1997,
          2002,
          2007
         ],
         "xaxis": "x",
         "y": [
          1,
          1.0216384476079028,
          1.0683624453431801,
          0.9417350699351238,
          1.576550118746268,
          1.839770896503431,
          1.4638450849394051,
          1.2856705562114286,
          1.503643830978993,
          1.5083715240814377,
          1.4994092641619687,
          1.86949895589813
         ],
         "yaxis": "y"
        },
        {
         "hovertemplate": "country=Norway<br>year=%{x}<br>gdpPercap_ratio=%{y}<extra></extra>",
         "legendgroup": "Norway",
         "line": {
          "color": "#19d3f3",
          "dash": "solid"
         },
         "marker": {
          "symbol": "circle"
         },
         "mode": "lines",
         "name": "Norway",
         "showlegend": true,
         "type": "scattergl",
         "x": [
          1952,
          1957,
          1962,
          1967,
          1972,
          1977,
          1982,
          1987,
          1992,
          1997,
          2002,
          2007
         ],
         "xaxis": "x",
         "y": [
          1,
          1.1543819924741094,
          1.3323268589516635,
          1.6207224347632303,
          1.8785798192489969,
          2.3091010991465546,
          2.6050061145934973,
          3.1242850150097543,
          3.364461841421717,
          4.089295670354621,
          4.426162322815773,
          4.8890667016137295
         ],
         "yaxis": "y"
        },
        {
         "hovertemplate": "country=Oman<br>year=%{x}<br>gdpPercap_ratio=%{y}<extra></extra>",
         "legendgroup": "Oman",
         "line": {
          "color": "#FF6692",
          "dash": "solid"
         },
         "marker": {
          "symbol": "circle"
         },
         "mode": "lines",
         "name": "Oman",
         "showlegend": true,
         "type": "scattergl",
         "x": [
          1952,
          1957,
          1962,
          1967,
          1972,
          1977,
          1982,
          1987,
          1992,
          1997,
          2002,
          2007
         ],
         "xaxis": "x",
         "y": [
          1,
          1.2267308677757305,
          1.5997098953025943,
          2.5822472523971784,
          5.807823286456436,
          6.480772074849976,
          7.08597322798894,
          9.908611109136372,
          10.1829112222457,
          10.776572149889429,
          10.816381718586179,
          12.206445098604307
         ],
         "yaxis": "y"
        },
        {
         "hovertemplate": "country=Pakistan<br>year=%{x}<br>gdpPercap_ratio=%{y}<extra></extra>",
         "legendgroup": "Pakistan",
         "line": {
          "color": "#B6E880",
          "dash": "solid"
         },
         "marker": {
          "symbol": "circle"
         },
         "mode": "lines",
         "name": "Pakistan",
         "showlegend": true,
         "type": "scattergl",
         "x": [
          1952,
          1957,
          1962,
          1967,
          1972,
          1977,
          1982,
          1987,
          1992,
          1997,
          2002,
          2007
         ],
         "xaxis": "x",
         "y": [
          1,
          1.091274680249404,
          1.1734532477609794,
          1.3765880669162094,
          1.5336595989461683,
          1.7176834634056506,
          2.108436830437154,
          2.4900579829150034,
          2.8802770824531163,
          2.9935131041076968,
          3.0568524276685722,
          3.8065417064627853
         ],
         "yaxis": "y"
        },
        {
         "hovertemplate": "country=Panama<br>year=%{x}<br>gdpPercap_ratio=%{y}<extra></extra>",
         "legendgroup": "Panama",
         "line": {
          "color": "#FF97FF",
          "dash": "solid"
         },
         "marker": {
          "symbol": "circle"
         },
         "mode": "lines",
         "name": "Panama",
         "showlegend": true,
         "type": "scattergl",
         "x": [
          1952,
          1957,
          1962,
          1967,
          1972,
          1977,
          1982,
          1987,
          1992,
          1997,
          2002,
          2007
         ],
         "xaxis": "x",
         "y": [
          1,
          1.19409143202794,
          1.4258056526745548,
          1.7823916047868489,
          2.1626722279116417,
          2.15769818468493,
          2.826018857638629,
          2.8361695440696075,
          2.668438770971162,
          2.86798445967682,
          2.965687089663888,
          3.954710292425662
         ],
         "yaxis": "y"
        },
        {
         "hovertemplate": "country=Paraguay<br>year=%{x}<br>gdpPercap_ratio=%{y}<extra></extra>",
         "legendgroup": "Paraguay",
         "line": {
          "color": "#FECB52",
          "dash": "solid"
         },
         "marker": {
          "symbol": "circle"
         },
         "mode": "lines",
         "name": "Paraguay",
         "showlegend": true,
         "type": "scattergl",
         "x": [
          1952,
          1957,
          1962,
          1967,
          1972,
          1977,
          1982,
          1987,
          1992,
          1997,
          2002,
          2007
         ],
         "xaxis": "x",
         "y": [
          1,
          1.0480692448647753,
          1.1002497427275462,
          1.17777291563687,
          1.2924892337505391,
          1.6638625384070345,
          2.1812654944470284,
          2.048280424582301,
          2.149460828531133,
          2.1755782058566977,
          1.9380512114000972,
          2.1373866038002154
         ],
         "yaxis": "y"
        },
        {
         "hovertemplate": "country=Peru<br>year=%{x}<br>gdpPercap_ratio=%{y}<extra></extra>",
         "legendgroup": "Peru",
         "line": {
          "color": "#636efa",
          "dash": "solid"
         },
         "marker": {
          "symbol": "circle"
         },
         "mode": "lines",
         "name": "Peru",
         "showlegend": true,
         "type": "scattergl",
         "x": [
          1952,
          1957,
          1962,
          1967,
          1972,
          1977,
          1982,
          1987,
          1992,
          1997,
          2002,
          2007
         ],
         "xaxis": "x",
         "y": [
          1,
          1.1295011908688544,
          1.3188790931038166,
          1.5399912830183051,
          1.5798297875560114,
          1.6712123684437195,
          1.7119759673857264,
          1.6924048900110664,
          1.183012690629658,
          1.5533620462561455,
          1.5721652856624184,
          1.9712277135389324
         ],
         "yaxis": "y"
        },
        {
         "hovertemplate": "country=Philippines<br>year=%{x}<br>gdpPercap_ratio=%{y}<extra></extra>",
         "legendgroup": "Philippines",
         "line": {
          "color": "#EF553B",
          "dash": "solid"
         },
         "marker": {
          "symbol": "circle"
         },
         "mode": "lines",
         "name": "Philippines",
         "showlegend": true,
         "type": "scattergl",
         "x": [
          1952,
          1957,
          1962,
          1967,
          1972,
          1977,
          1982,
          1987,
          1992,
          1997,
          2002,
          2007
         ],
         "xaxis": "x",
         "y": [
          1,
          1.216095495243057,
          1.2959201680908121,
          1.4252136980016739,
          1.5628908576799043,
          1.8644353213868199,
          2.0451823660074364,
          1.7202197248612388,
          1.790681160260391,
          1.9927510387567693,
          2.082615011468531,
          2.506503772569878
         ],
         "yaxis": "y"
        },
        {
         "hovertemplate": "country=Poland<br>year=%{x}<br>gdpPercap_ratio=%{y}<extra></extra>",
         "legendgroup": "Poland",
         "line": {
          "color": "#00cc96",
          "dash": "solid"
         },
         "marker": {
          "symbol": "circle"
         },
         "mode": "lines",
         "name": "Poland",
         "showlegend": true,
         "type": "scattergl",
         "x": [
          1952,
          1957,
          1962,
          1967,
          1972,
          1977,
          1982,
          1987,
          1992,
          1997,
          2002,
          2007
         ],
         "xaxis": "x",
         "y": [
          1,
          1.174948036685841,
          1.324972772599118,
          1.627355730564157,
          1.9870568037624368,
          2.3597328003116087,
          2.097502968321878,
          2.2540600671754563,
          1.9206373826695389,
          2.5214078864088507,
          2.978718540450715,
          3.8194751558353435
         ],
         "yaxis": "y"
        },
        {
         "hovertemplate": "country=Portugal<br>year=%{x}<br>gdpPercap_ratio=%{y}<extra></extra>",
         "legendgroup": "Portugal",
         "line": {
          "color": "#ab63fa",
          "dash": "solid"
         },
         "marker": {
          "symbol": "circle"
         },
         "mode": "lines",
         "name": "Portugal",
         "showlegend": true,
         "type": "scattergl",
         "x": [
          1952,
          1957,
          1962,
          1967,
          1972,
          1977,
          1982,
          1987,
          1992,
          1997,
          2002,
          2007
         ],
         "xaxis": "x",
         "y": [
          1,
          1.2301754401800769,
          1.540893744439585,
          2.0732903571816554,
          2.940452041534169,
          3.3153276584380307,
          3.8307097758657505,
          4.249657573266301,
          5.2821307205648,
          5.749410858278029,
          6.508743786718114,
          6.684325187403937
         ],
         "yaxis": "y"
        },
        {
         "hovertemplate": "country=Puerto Rico<br>year=%{x}<br>gdpPercap_ratio=%{y}<extra></extra>",
         "legendgroup": "Puerto Rico",
         "line": {
          "color": "#FFA15A",
          "dash": "solid"
         },
         "marker": {
          "symbol": "circle"
         },
         "mode": "lines",
         "name": "Puerto Rico",
         "showlegend": true,
         "type": "scattergl",
         "x": [
          1952,
          1957,
          1962,
          1967,
          1972,
          1977,
          1982,
          1987,
          1992,
          1997,
          2002,
          2007
         ],
         "xaxis": "x",
         "y": [
          1,
          1.2677505423712074,
          1.6574987950402473,
          2.2483348899375724,
          2.960143018868106,
          3.170231152448344,
          3.352084345902651,
          3.984913096456902,
          4.7507391826658765,
          5.5157868648179,
          6.118057176401476,
          6.27156431569077
         ],
         "yaxis": "y"
        },
        {
         "hovertemplate": "country=Reunion<br>year=%{x}<br>gdpPercap_ratio=%{y}<extra></extra>",
         "legendgroup": "Reunion",
         "line": {
          "color": "#19d3f3",
          "dash": "solid"
         },
         "marker": {
          "symbol": "circle"
         },
         "mode": "lines",
         "name": "Reunion",
         "showlegend": true,
         "type": "scattergl",
         "x": [
          1952,
          1957,
          1962,
          1967,
          1972,
          1977,
          1982,
          1987,
          1992,
          1997,
          2002,
          2007
         ],
         "xaxis": "x",
         "y": [
          1,
          1.018598264918712,
          1.167288427296452,
          1.4789795459171806,
          1.8565176590136363,
          1.5888143846833376,
          1.9372716321230463,
          1.950570514229803,
          2.2440284017204193,
          2.233246625801476,
          2.3230715954127814,
          2.821054118062748
         ],
         "yaxis": "y"
        },
        {
         "hovertemplate": "country=Romania<br>year=%{x}<br>gdpPercap_ratio=%{y}<extra></extra>",
         "legendgroup": "Romania",
         "line": {
          "color": "#FF6692",
          "dash": "solid"
         },
         "marker": {
          "symbol": "circle"
         },
         "mode": "lines",
         "name": "Romania",
         "showlegend": true,
         "type": "scattergl",
         "x": [
          1952,
          1957,
          1962,
          1967,
          1972,
          1977,
          1982,
          1987,
          1992,
          1997,
          2002,
          2007
         ],
         "xaxis": "x",
         "y": [
          1,
          1.2540080422470123,
          1.5057488174000173,
          2.0577623263200295,
          2.5476629169105056,
          2.9753730225565493,
          3.0545295986684193,
          3.083455013853014,
          2.098321641713042,
          2.336232510156497,
          2.507577121442497,
          3.4371399503506375
         ],
         "yaxis": "y"
        },
        {
         "hovertemplate": "country=Rwanda<br>year=%{x}<br>gdpPercap_ratio=%{y}<extra></extra>",
         "legendgroup": "Rwanda",
         "line": {
          "color": "#B6E880",
          "dash": "solid"
         },
         "marker": {
          "symbol": "circle"
         },
         "mode": "lines",
         "name": "Rwanda",
         "showlegend": true,
         "type": "scattergl",
         "x": [
          1952,
          1957,
          1962,
          1967,
          1972,
          1977,
          1982,
          1987,
          1992,
          1997,
          2002,
          2007
         ],
         "xaxis": "x",
         "y": [
          1,
          1.0952022098686376,
          1.2111172856934538,
          1.0357571159369667,
          1.1971459187142943,
          1.3582975298496156,
          1.7870017872996715,
          1.7189340707587144,
          1.4940866071020438,
          1.195856383113079,
          1.5925719477523472,
          1.7495371849783123
         ],
         "yaxis": "y"
        },
        {
         "hovertemplate": "country=Sao Tome and Principe<br>year=%{x}<br>gdpPercap_ratio=%{y}<extra></extra>",
         "legendgroup": "Sao Tome and Principe",
         "line": {
          "color": "#FF97FF",
          "dash": "solid"
         },
         "marker": {
          "symbol": "circle"
         },
         "mode": "lines",
         "name": "Sao Tome and Principe",
         "showlegend": true,
         "type": "scattergl",
         "x": [
          1952,
          1957,
          1962,
          1967,
          1972,
          1977,
          1982,
          1987,
          1992,
          1997,
          2002,
          2007
         ],
         "xaxis": "x",
         "y": [
          1,
          0.9785731757496513,
          1.218248199107622,
          1.5744275084587738,
          1.7428534129915274,
          1.9754366562130439,
          2.148992032321185,
          1.724140243178742,
          1.6243798060281105,
          1.5223977096375678,
          1.5383329251543882,
          1.8172634361876687
         ],
         "yaxis": "y"
        },
        {
         "hovertemplate": "country=Saudi Arabia<br>year=%{x}<br>gdpPercap_ratio=%{y}<extra></extra>",
         "legendgroup": "Saudi Arabia",
         "line": {
          "color": "#FECB52",
          "dash": "solid"
         },
         "marker": {
          "symbol": "circle"
         },
         "mode": "lines",
         "name": "Saudi Arabia",
         "showlegend": true,
         "type": "scattergl",
         "x": [
          1952,
          1957,
          1962,
          1967,
          1972,
          1977,
          1982,
          1987,
          1992,
          1997,
          2002,
          2007
         ],
         "xaxis": "x",
         "y": [
          1,
          1.2628720510202875,
          1.799879414073981,
          2.616751358749169,
          3.845068171194001,
          5.289491851410826,
          5.216021254286984,
          3.281690757468473,
          3.8457166864732715,
          3.187013773255501,
          2.943630281191593,
          3.352372188698738
         ],
         "yaxis": "y"
        },
        {
         "hovertemplate": "country=Senegal<br>year=%{x}<br>gdpPercap_ratio=%{y}<extra></extra>",
         "legendgroup": "Senegal",
         "line": {
          "color": "#636efa",
          "dash": "solid"
         },
         "marker": {
          "symbol": "circle"
         },
         "mode": "lines",
         "name": "Senegal",
         "showlegend": true,
         "type": "scattergl",
         "x": [
          1952,
          1957,
          1962,
          1967,
          1972,
          1977,
          1982,
          1987,
          1992,
          1997,
          2002,
          2007
         ],
         "xaxis": "x",
         "y": [
          1,
          1.0808738982022057,
          1.141090602105923,
          1.1117294920487863,
          1.1015991750494438,
          1.0768170418082512,
          1.0469698162579881,
          0.9940454225399487,
          0.943146677013655,
          0.9600176806953742,
          1.0477663636001537,
          1.180724577515962
         ],
         "yaxis": "y"
        },
        {
         "hovertemplate": "country=Serbia<br>year=%{x}<br>gdpPercap_ratio=%{y}<extra></extra>",
         "legendgroup": "Serbia",
         "line": {
          "color": "#EF553B",
          "dash": "solid"
         },
         "marker": {
          "symbol": "circle"
         },
         "mode": "lines",
         "name": "Serbia",
         "showlegend": true,
         "type": "scattergl",
         "x": [
          1952,
          1957,
          1962,
          1967,
          1972,
          1977,
          1982,
          1987,
          1992,
          1997,
          2002,
          2007
         ],
         "xaxis": "x",
         "y": [
          1,
          1.3907991876835568,
          1.7561637227282658,
          2.231410736889069,
          2.937927301082762,
          3.6244078003588216,
          4.238800667833221,
          4.431399752093466,
          2.603706219040791,
          2.2098031316310474,
          2.0204264088599,
          2.732554941942763
         ],
         "yaxis": "y"
        },
        {
         "hovertemplate": "country=Sierra Leone<br>year=%{x}<br>gdpPercap_ratio=%{y}<extra></extra>",
         "legendgroup": "Sierra Leone",
         "line": {
          "color": "#00cc96",
          "dash": "solid"
         },
         "marker": {
          "symbol": "circle"
         },
         "mode": "lines",
         "name": "Sierra Leone",
         "showlegend": true,
         "type": "scattergl",
         "x": [
          1952,
          1957,
          1962,
          1967,
          1972,
          1977,
          1982,
          1987,
          1992,
          1997,
          2002,
          2007
         ],
         "xaxis": "x",
         "y": [
          1,
          1.1417349846171838,
          1.2692150976446923,
          1.3708345955781396,
          1.53873452301425,
          1.5325118822825947,
          1.6651866403523468,
          1.4713182911363794,
          1.2147205905617944,
          0.6531668199232927,
          0.7950664513002635,
          0.9803964308682742
         ],
         "yaxis": "y"
        },
        {
         "hovertemplate": "country=Singapore<br>year=%{x}<br>gdpPercap_ratio=%{y}<extra></extra>",
         "legendgroup": "Singapore",
         "line": {
          "color": "#ab63fa",
          "dash": "solid"
         },
         "marker": {
          "symbol": "circle"
         },
         "mode": "lines",
         "name": "Singapore",
         "showlegend": true,
         "type": "scattergl",
         "x": [
          1952,
          1957,
          1962,
          1967,
          1972,
          1977,
          1982,
          1987,
          1992,
          1997,
          2002,
          2007
         ],
         "xaxis": "x",
         "y": [
          1,
          1.2280495288975244,
          1.5872640039993604,
          2.149944431806058,
          3.7137118214928946,
          4.8420821483848275,
          6.552162174634595,
          8.147043053425424,
          10.699098183911591,
          14.478391056345338,
          15.559807608843911,
          20.36300860579242
         ],
         "yaxis": "y"
        },
        {
         "hovertemplate": "country=Slovak Republic<br>year=%{x}<br>gdpPercap_ratio=%{y}<extra></extra>",
         "legendgroup": "Slovak Republic",
         "line": {
          "color": "#FFA15A",
          "dash": "solid"
         },
         "marker": {
          "symbol": "circle"
         },
         "mode": "lines",
         "name": "Slovak Republic",
         "showlegend": true,
         "type": "scattergl",
         "x": [
          1952,
          1957,
          1962,
          1967,
          1972,
          1977,
          1982,
          1987,
          1992,
          1997,
          2002,
          2007
         ],
         "xaxis": "x",
         "y": [
          1,
          1.200723606280687,
          1.474208896535171,
          1.6578261169048172,
          1.9063679801416666,
          2.152393651701732,
          2.23631688699143,
          2.3720347186497435,
          1.8717449839168545,
          2.389565565190721,
          2.6876245459028962,
          3.6807032683785965
         ],
         "yaxis": "y"
        },
        {
         "hovertemplate": "country=Slovenia<br>year=%{x}<br>gdpPercap_ratio=%{y}<extra></extra>",
         "legendgroup": "Slovenia",
         "line": {
          "color": "#19d3f3",
          "dash": "solid"
         },
         "marker": {
          "symbol": "circle"
         },
         "mode": "lines",
         "name": "Slovenia",
         "showlegend": true,
         "type": "scattergl",
         "x": [
          1952,
          1957,
          1962,
          1967,
          1972,
          1977,
          1982,
          1987,
          1992,
          1997,
          2002,
          2007
         ],
         "xaxis": "x",
         "y": [
          1,
          1.3907991875803347,
          1.756163722650072,
          2.231410736817185,
          2.937927299638573,
          3.6244078015644017,
          4.238800668617151,
          4.43139975063891,
          3.372378658017185,
          4.0713967748107285,
          4.901498165258619,
          6.113405079563126
         ],
         "yaxis": "y"
        },
        {
         "hovertemplate": "country=Somalia<br>year=%{x}<br>gdpPercap_ratio=%{y}<extra></extra>",
         "legendgroup": "Somalia",
         "line": {
          "color": "#FF6692",
          "dash": "solid"
         },
         "marker": {
          "symbol": "circle"
         },
         "mode": "lines",
         "name": "Somalia",
         "showlegend": true,
         "type": "scattergl",
         "x": [
          1952,
          1957,
          1962,
          1967,
          1972,
          1977,
          1982,
          1987,
          1992,
          1997,
          2002,
          2007
         ],
         "xaxis": "x",
         "y": [
          1,
          1.1077680722230732,
          1.2058010358939588,
          1.1311761908217817,
          1.1046236421136126,
          1.2775634733480332,
          1.0361498522664994,
          0.9625754920421994,
          0.8161659038998131,
          0.8193674293286849,
          0.776651502981235,
          0.8154445935639408
         ],
         "yaxis": "y"
        },
        {
         "hovertemplate": "country=South Africa<br>year=%{x}<br>gdpPercap_ratio=%{y}<extra></extra>",
         "legendgroup": "South Africa",
         "line": {
          "color": "#B6E880",
          "dash": "solid"
         },
         "marker": {
          "symbol": "circle"
         },
         "mode": "lines",
         "name": "South Africa",
         "showlegend": true,
         "type": "scattergl",
         "x": [
          1952,
          1957,
          1962,
          1967,
          1972,
          1977,
          1982,
          1987,
          1992,
          1997,
          2002,
          2007
         ],
         "xaxis": "x",
         "y": [
          1,
          1.161219268298078,
          1.220818820569976,
          1.5056154529014993,
          1.6434871819237327,
          1.699079218713103,
          1.8132762642650462,
          1.6561553339170392,
          1.529019552449236,
          1.5827979847891545,
          1.6318442716255153,
          1.961709642748691
         ],
         "yaxis": "y"
        },
        {
         "hovertemplate": "country=Spain<br>year=%{x}<br>gdpPercap_ratio=%{y}<extra></extra>",
         "legendgroup": "Spain",
         "line": {
          "color": "#FF97FF",
          "dash": "solid"
         },
         "marker": {
          "symbol": "circle"
         },
         "mode": "lines",
         "name": "Spain",
         "showlegend": true,
         "type": "scattergl",
         "x": [
          1952,
          1957,
          1962,
          1967,
          1972,
          1977,
          1982,
          1987,
          1992,
          1997,
          2002,
          2007
         ],
         "xaxis": "x",
         "y": [
          1,
          1.190600168536501,
          1.4850788430857678,
          2.0848825928557537,
          2.7748187029860776,
          3.452478149192525,
          3.6322492901395838,
          4.111851923849886,
          4.85208553699642,
          5.332580515255018,
          6.477633441329938,
          7.517162894816565
         ],
         "yaxis": "y"
        },
        {
         "hovertemplate": "country=Sri Lanka<br>year=%{x}<br>gdpPercap_ratio=%{y}<extra></extra>",
         "legendgroup": "Sri Lanka",
         "line": {
          "color": "#FECB52",
          "dash": "solid"
         },
         "marker": {
          "symbol": "circle"
         },
         "mode": "lines",
         "name": "Sri Lanka",
         "showlegend": true,
         "type": "scattergl",
         "x": [
          1952,
          1957,
          1962,
          1967,
          1972,
          1977,
          1982,
          1987,
          1992,
          1997,
          2002,
          2007
         ],
         "xaxis": "x",
         "y": [
          1,
          0.9898614644552777,
          0.9916383920833425,
          1.0479748586666144,
          1.1198520176648585,
          1.2447953670552774,
          1.5210254458283063,
          1.732082462758392,
          1.9877024050687269,
          2.4590664449485633,
          2.782916193995668,
          3.6640314241564225
         ],
         "yaxis": "y"
        },
        {
         "hovertemplate": "country=Sudan<br>year=%{x}<br>gdpPercap_ratio=%{y}<extra></extra>",
         "legendgroup": "Sudan",
         "line": {
          "color": "#636efa",
          "dash": "solid"
         },
         "marker": {
          "symbol": "circle"
         },
         "mode": "lines",
         "name": "Sudan",
         "showlegend": true,
         "type": "scattergl",
         "x": [
          1952,
          1957,
          1962,
          1967,
          1972,
          1977,
          1982,
          1987,
          1992,
          1997,
          2002,
          2007
         ],
         "xaxis": "x",
         "y": [
          1,
          1.0955116288884033,
          1.212626562011282,
          1.0445587297527794,
          1.0270184936145155,
          1.3632428937671475,
          1.1729916328024594,
          0.9330615322950823,
          0.923394328237058,
          1.0100369579442168,
          1.2335453321662386,
          1.610401782719192
         ],
         "yaxis": "y"
        },
        {
         "hovertemplate": "country=Swaziland<br>year=%{x}<br>gdpPercap_ratio=%{y}<extra></extra>",
         "legendgroup": "Swaziland",
         "line": {
          "color": "#EF553B",
          "dash": "solid"
         },
         "marker": {
          "symbol": "circle"
         },
         "mode": "lines",
         "name": "Swaziland",
         "showlegend": true,
         "type": "scattergl",
         "x": [
          1952,
          1957,
          1962,
          1967,
          1972,
          1977,
          1982,
          1987,
          1992,
          1997,
          2002,
          2007
         ],
         "xaxis": "x",
         "y": [
          1,
          1.0838851434442207,
          1.6163531048741495,
          2.2754744443919046,
          2.9300810803859045,
          3.2928314042504727,
          3.392078809169354,
          3.4699764186945408,
          3.0939522100652717,
          3.3758684844565967,
          3.594741350125669,
          3.9303139238572413
         ],
         "yaxis": "y"
        },
        {
         "hovertemplate": "country=Sweden<br>year=%{x}<br>gdpPercap_ratio=%{y}<extra></extra>",
         "legendgroup": "Sweden",
         "line": {
          "color": "#00cc96",
          "dash": "solid"
         },
         "marker": {
          "symbol": "circle"
         },
         "mode": "lines",
         "name": "Sweden",
         "showlegend": true,
         "type": "scattergl",
         "x": [
          1952,
          1957,
          1962,
          1967,
          1972,
          1977,
          1982,
          1987,
          1992,
          1997,
          2002,
          2007
         ],
         "xaxis": "x",
         "y": [
          1,
          1.1622958225502442,
          1.445786410127741,
          1.7892325170967094,
          2.0910353491145703,
          2.2110774711951473,
          2.423517555625006,
          2.765872293042947,
          2.8002405972999416,
          2.9628348066174,
          3.440685436115652,
          3.970493095503807
         ],
         "yaxis": "y"
        },
        {
         "hovertemplate": "country=Switzerland<br>year=%{x}<br>gdpPercap_ratio=%{y}<extra></extra>",
         "legendgroup": "Switzerland",
         "line": {
          "color": "#ab63fa",
          "dash": "solid"
         },
         "marker": {
          "symbol": "circle"
         },
         "mode": "lines",
         "name": "Switzerland",
         "showlegend": true,
         "type": "scattergl",
         "x": [
          1952,
          1957,
          1962,
          1967,
          1972,
          1977,
          1982,
          1987,
          1992,
          1997,
          2002,
          2007
         ],
         "xaxis": "x",
         "y": [
          1,
          1.2155020240195407,
          1.3866410994491722,
          1.5586929234574498,
          1.8457094781538592,
          1.831265392492188,
          1.9273290711387738,
          2.055193853918183,
          2.16309398940369,
          2.180997379045747,
          2.34019363580367,
          2.545529156921999
         ],
         "yaxis": "y"
        },
        {
         "hovertemplate": "country=Syria<br>year=%{x}<br>gdpPercap_ratio=%{y}<extra></extra>",
         "legendgroup": "Syria",
         "line": {
          "color": "#FFA15A",
          "dash": "solid"
         },
         "marker": {
          "symbol": "circle"
         },
         "mode": "lines",
         "name": "Syria",
         "showlegend": true,
         "type": "scattergl",
         "x": [
          1952,
          1957,
          1962,
          1967,
          1972,
          1977,
          1982,
          1987,
          1992,
          1997,
          2002,
          2007
         ],
         "xaxis": "x",
         "y": [
          1,
          1.2882590574031973,
          1.3343819144250189,
          1.1450808657464921,
          1.5646157160704457,
          1.9443340789272407,
          2.288938995315197,
          1.896441776870255,
          2.0325966154000787,
          2.442515816907,
          2.4891766276123444,
          2.546142610164082
         ],
         "yaxis": "y"
        },
        {
         "hovertemplate": "country=Taiwan<br>year=%{x}<br>gdpPercap_ratio=%{y}<extra></extra>",
         "legendgroup": "Taiwan",
         "line": {
          "color": "#19d3f3",
          "dash": "solid"
         },
         "marker": {
          "symbol": "circle"
         },
         "mode": "lines",
         "name": "Taiwan",
         "showlegend": true,
         "type": "scattergl",
         "x": [
          1952,
          1957,
          1962,
          1967,
          1972,
          1977,
          1982,
          1987,
          1992,
          1997,
          2002,
          2007
         ],
         "xaxis": "x",
         "y": [
          1,
          1.2493176165755548,
          1.510321206380014,
          2.1905325428902747,
          3.365947986025475,
          4.6369190962758635,
          6.1530035339644344,
          9.159104242139737,
          12.606722905033932,
          16.74208204211046,
          19.251388597413317,
          23.794131072829487
         ],
         "yaxis": "y"
        },
        {
         "hovertemplate": "country=Tanzania<br>year=%{x}<br>gdpPercap_ratio=%{y}<extra></extra>",
         "legendgroup": "Tanzania",
         "line": {
          "color": "#FF6692",
          "dash": "solid"
         },
         "marker": {
          "symbol": "circle"
         },
         "mode": "lines",
         "name": "Tanzania",
         "showlegend": true,
         "type": "scattergl",
         "x": [
          1952,
          1957,
          1962,
          1967,
          1972,
          1977,
          1982,
          1987,
          1992,
          1997,
          2002,
          2007
         ],
         "xaxis": "x",
         "y": [
          1,
          0.9747234173200888,
          1.0074705011670646,
          1.1835883236772229,
          1.2781482830468274,
          1.3430436005952087,
          1.2199016520548258,
          1.160708847712122,
          1.1521417301759314,
          1.1012155776213728,
          1.2545512044189746,
          1.545359758012365
         ],
         "yaxis": "y"
        },
        {
         "hovertemplate": "country=Thailand<br>year=%{x}<br>gdpPercap_ratio=%{y}<extra></extra>",
         "legendgroup": "Thailand",
         "line": {
          "color": "#B6E880",
          "dash": "solid"
         },
         "marker": {
          "symbol": "circle"
         },
         "mode": "lines",
         "name": "Thailand",
         "showlegend": true,
         "type": "scattergl",
         "x": [
          1952,
          1957,
          1962,
          1967,
          1972,
          1977,
          1982,
          1987,
          1992,
          1997,
          2002,
          2007
         ],
         "xaxis": "x",
         "y": [
          1,
          1.0472157812421639,
          1.3225159502941917,
          1.7095078839564644,
          2.0115652289058996,
          2.5880592744067896,
          3.1581260705053467,
          3.9359513549844074,
          6.092520820422956,
          7.723205912687554,
          7.803124411464988,
          9.842203407920108
         ],
         "yaxis": "y"
        },
        {
         "hovertemplate": "country=Togo<br>year=%{x}<br>gdpPercap_ratio=%{y}<extra></extra>",
         "legendgroup": "Togo",
         "line": {
          "color": "#FF97FF",
          "dash": "solid"
         },
         "marker": {
          "symbol": "circle"
         },
         "mode": "lines",
         "name": "Togo",
         "showlegend": true,
         "type": "scattergl",
         "x": [
          1952,
          1957,
          1962,
          1967,
          1972,
          1977,
          1982,
          1987,
          1992,
          1997,
          2002,
          2007
         ],
         "xaxis": "x",
         "y": [
          1,
          1.0768771784104787,
          1.2415957919024287,
          1.7185181243360699,
          1.918636402582291,
          1.7826954707375187,
          1.563810671737797,
          1.3982196522818515,
          1.202940789139882,
          1.1424482838659469,
          1.0307183692490032,
          1.0269377226194656
         ],
         "yaxis": "y"
        },
        {
         "hovertemplate": "country=Trinidad and Tobago<br>year=%{x}<br>gdpPercap_ratio=%{y}<extra></extra>",
         "legendgroup": "Trinidad and Tobago",
         "line": {
          "color": "#FECB52",
          "dash": "solid"
         },
         "marker": {
          "symbol": "circle"
         },
         "mode": "lines",
         "name": "Trinidad and Tobago",
         "showlegend": true,
         "type": "scattergl",
         "x": [
          1952,
          1957,
          1962,
          1967,
          1972,
          1977,
          1982,
          1987,
          1992,
          1997,
          2002,
          2007
         ],
         "xaxis": "x",
         "y": [
          1,
          1.3562767417724655,
          1.6530183489997996,
          1.8593658148768415,
          2.1895322606256804,
          2.612915542210532,
          3.0164433845793313,
          2.443907792273193,
          2.438084005521848,
          2.908297148055946,
          3.790793717183617,
          5.956628999599536
         ],
         "yaxis": "y"
        },
        {
         "hovertemplate": "country=Tunisia<br>year=%{x}<br>gdpPercap_ratio=%{y}<extra></extra>",
         "legendgroup": "Tunisia",
         "line": {
          "color": "#636efa",
          "dash": "solid"
         },
         "marker": {
          "symbol": "circle"
         },
         "mode": "lines",
         "name": "Tunisia",
         "showlegend": true,
         "type": "scattergl",
         "x": [
          1952,
          1957,
          1962,
          1967,
          1972,
          1977,
          1982,
          1987,
          1992,
          1997,
          2002,
          2007
         ],
         "xaxis": "x",
         "y": [
          1,
          0.9501229973083564,
          1.130630413573407,
          1.3158952904680516,
          1.874927942879837,
          2.1252493028261905,
          2.4244414403905084,
          2.59481275382499,
          2.9504882972075688,
          3.320993900783363,
          3.897167603048905,
          4.830126476235682
         ],
         "yaxis": "y"
        },
        {
         "hovertemplate": "country=Turkey<br>year=%{x}<br>gdpPercap_ratio=%{y}<extra></extra>",
         "legendgroup": "Turkey",
         "line": {
          "color": "#EF553B",
          "dash": "solid"
         },
         "marker": {
          "symbol": "circle"
         },
         "mode": "lines",
         "name": "Turkey",
         "showlegend": true,
         "type": "scattergl",
         "x": [
          1952,
          1957,
          1962,
          1967,
          1972,
          1977,
          1982,
          1987,
          1992,
          1997,
          2002,
          2007
         ],
         "xaxis": "x",
         "y": [
          1,
          1.126785410974708,
          1.1796601248961849,
          1.4353537049176628,
          1.7524222551552435,
          2.168056574731886,
          2.1539557326308376,
          2.5844503342840244,
          2.883726293711966,
          3.3525095879034095,
          3.305105113502102,
          4.295501586719032
         ],
         "yaxis": "y"
        },
        {
         "hovertemplate": "country=Uganda<br>year=%{x}<br>gdpPercap_ratio=%{y}<extra></extra>",
         "legendgroup": "Uganda",
         "line": {
          "color": "#00cc96",
          "dash": "solid"
         },
         "marker": {
          "symbol": "circle"
         },
         "mode": "lines",
         "name": "Uganda",
         "showlegend": true,
         "type": "scattergl",
         "x": [
          1952,
          1957,
          1962,
          1967,
          1972,
          1977,
          1982,
          1987,
          1992,
          1997,
          2002,
          2007
         ],
         "xaxis": "x",
         "y": [
          1,
          1.053919560863219,
          1.0442573686387582,
          1.2370387367908011,
          1.293952175393836,
          1.1483213833933996,
          0.9285648066420055,
          0.8407233445659987,
          0.876716900195059,
          1.111337474107166,
          1.2626289252137797,
          1.437734075446725
         ],
         "yaxis": "y"
        },
        {
         "hovertemplate": "country=United Kingdom<br>year=%{x}<br>gdpPercap_ratio=%{y}<extra></extra>",
         "legendgroup": "United Kingdom",
         "line": {
          "color": "#ab63fa",
          "dash": "solid"
         },
         "marker": {
          "symbol": "circle"
         },
         "mode": "lines",
         "name": "United Kingdom",
         "showlegend": true,
         "type": "scattergl",
         "x": [
          1952,
          1957,
          1962,
          1967,
          1972,
          1977,
          1982,
          1987,
          1992,
          1997,
          2002,
          2007
         ],
         "xaxis": "x",
         "y": [
          1,
          1.130634636435076,
          1.2502797193121924,
          1.4171891239356587,
          1.5927754789432849,
          1.7464535936518213,
          1.826986223194341,
          2.1709273255513595,
          2.2751714244822008,
          2.6128071732156446,
          2.9539530156621834,
          3.327143949349096
         ],
         "yaxis": "y"
        },
        {
         "hovertemplate": "country=United States<br>year=%{x}<br>gdpPercap_ratio=%{y}<extra></extra>",
         "legendgroup": "United States",
         "line": {
          "color": "#FFA15A",
          "dash": "solid"
         },
         "marker": {
          "symbol": "circle"
         },
         "mode": "lines",
         "name": "United States",
         "showlegend": true,
         "type": "scattergl",
         "x": [
          1952,
          1957,
          1962,
          1967,
          1972,
          1977,
          1982,
          1987,
          1992,
          1997,
          2002,
          2007
         ],
         "xaxis": "x",
         "y": [
          1,
          1.0612305591116555,
          1.1560106197569997,
          1.3959751678549737,
          1.558633635017672,
          1.7206435055167162,
          1.787612392267186,
          2.136048653585781,
          2.2875503543763513,
          2.556554722380231,
          2.7945498465625422,
          3.0700624070275064
         ],
         "yaxis": "y"
        },
        {
         "hovertemplate": "country=Uruguay<br>year=%{x}<br>gdpPercap_ratio=%{y}<extra></extra>",
         "legendgroup": "Uruguay",
         "line": {
          "color": "#19d3f3",
          "dash": "solid"
         },
         "marker": {
          "symbol": "circle"
         },
         "mode": "lines",
         "name": "Uruguay",
         "showlegend": true,
         "type": "scattergl",
         "x": [
          1952,
          1957,
          1962,
          1967,
          1972,
          1977,
          1982,
          1987,
          1992,
          1997,
          2002,
          2007
         ],
         "xaxis": "x",
         "y": [
          1,
          1.0759181272273368,
          0.9801620335272507,
          0.9523949224820779,
          0.9976633914591636,
          1.1377654457961914,
          1.2105134529518948,
          1.303603820607448,
          1.4233578418325616,
          1.6145911004131044,
          1.3516384960274674,
          1.856200097920245
         ],
         "yaxis": "y"
        },
        {
         "hovertemplate": "country=Venezuela<br>year=%{x}<br>gdpPercap_ratio=%{y}<extra></extra>",
         "legendgroup": "Venezuela",
         "line": {
          "color": "#FF6692",
          "dash": "solid"
         },
         "marker": {
          "symbol": "circle"
         },
         "mode": "lines",
         "name": "Venezuela",
         "showlegend": true,
         "type": "scattergl",
         "x": [
          1952,
          1957,
          1962,
          1967,
          1972,
          1977,
          1982,
          1987,
          1992,
          1997,
          2002,
          2007
         ],
         "xaxis": "x",
         "y": [
          1,
          1.2747362520042087,
          1.095343757547291,
          1.2407961825470477,
          1.366129156350603,
          1.7092708989200949,
          1.4502861526461535,
          1.2852850470991608,
          1.3958655158277016,
          1.3219453686630267,
          1.1190210536614777,
          1.4845387454556371
         ],
         "yaxis": "y"
        },
        {
         "hovertemplate": "country=Vietnam<br>year=%{x}<br>gdpPercap_ratio=%{y}<extra></extra>",
         "legendgroup": "Vietnam",
         "line": {
          "color": "#B6E880",
          "dash": "solid"
         },
         "marker": {
          "symbol": "circle"
         },
         "mode": "lines",
         "name": "Vietnam",
         "showlegend": true,
         "type": "scattergl",
         "x": [
          1952,
          1957,
          1962,
          1967,
          1972,
          1977,
          1982,
          1987,
          1992,
          1997,
          2002,
          2007
         ],
         "xaxis": "x",
         "y": [
          1,
          1.1177043466742016,
          1.275974080188847,
          1.0529806185596775,
          1.1560740078907266,
          1.1792705915596815,
          1.1688563091850355,
          1.3565442082140011,
          1.63456936099904,
          2.2904867283365378,
          2.9161368233143556,
          4.035219992335265
         ],
         "yaxis": "y"
        },
        {
         "hovertemplate": "country=West Bank and Gaza<br>year=%{x}<br>gdpPercap_ratio=%{y}<extra></extra>",
         "legendgroup": "West Bank and Gaza",
         "line": {
          "color": "#FF97FF",
          "dash": "solid"
         },
         "marker": {
          "symbol": "circle"
         },
         "mode": "lines",
         "name": "West Bank and Gaza",
         "showlegend": true,
         "type": "scattergl",
         "x": [
          1952,
          1957,
          1962,
          1967,
          1972,
          1977,
          1982,
          1987,
          1992,
          1997,
          2002,
          2007
         ],
         "xaxis": "x",
         "y": [
          1,
          1.2055139809301585,
          1.4508890484097992,
          1.7483032582701865,
          2.067448625229879,
          2.4299618198978106,
          2.860948817853248,
          3.3697698822280073,
          3.970496973926028,
          4.691675645845791,
          2.9793549944788627,
          1.9961501124752663
         ],
         "yaxis": "y"
        },
        {
         "hovertemplate": "country=Yemen, Rep.<br>year=%{x}<br>gdpPercap_ratio=%{y}<extra></extra>",
         "legendgroup": "Yemen, Rep.",
         "line": {
          "color": "#FECB52",
          "dash": "solid"
         },
         "marker": {
          "symbol": "circle"
         },
         "mode": "lines",
         "name": "Yemen, Rep.",
         "showlegend": true,
         "type": "scattergl",
         "x": [
          1952,
          1957,
          1962,
          1967,
          1972,
          1977,
          1982,
          1987,
          1992,
          1997,
          2002,
          2007
         ],
         "xaxis": "x",
         "y": [
          1,
          1.0295667889614437,
          1.0561655844033158,
          1.1032656456347523,
          1.6182916563183056,
          2.3406985245601413,
          2.5297589186443266,
          2.5223195669170524,
          2.4043167640886822,
          2.7087590080347947,
          2.858859638476536,
          2.9176392801333613
         ],
         "yaxis": "y"
        },
        {
         "hovertemplate": "country=Zambia<br>year=%{x}<br>gdpPercap_ratio=%{y}<extra></extra>",
         "legendgroup": "Zambia",
         "line": {
          "color": "#636efa",
          "dash": "solid"
         },
         "marker": {
          "symbol": "circle"
         },
         "mode": "lines",
         "name": "Zambia",
         "showlegend": true,
         "type": "scattergl",
         "x": [
          1952,
          1957,
          1962,
          1967,
          1972,
          1977,
          1982,
          1987,
          1992,
          1997,
          2002,
          2007
         ],
         "xaxis": "x",
         "y": [
          1,
          1.143428217665821,
          1.2661146132422132,
          1.5488013043069269,
          1.5456820016753328,
          1.3846119607207505,
          1.227725533786375,
          1.057457666676555,
          1.0553393934858688,
          0.9337321307775568,
          0.9339588368365427,
          1.1079170013290813
         ],
         "yaxis": "y"
        },
        {
         "hovertemplate": "country=Zimbabwe<br>year=%{x}<br>gdpPercap_ratio=%{y}<extra></extra>",
         "legendgroup": "Zimbabwe",
         "line": {
          "color": "#EF553B",
          "dash": "solid"
         },
         "marker": {
          "symbol": "circle"
         },
         "mode": "lines",
         "name": "Zimbabwe",
         "showlegend": true,
         "type": "scattergl",
         "x": [
          1952,
          1957,
          1962,
          1967,
          1972,
          1977,
          1982,
          1987,
          1992,
          1997,
          2002,
          2007
         ],
         "xaxis": "x",
         "y": [
          1,
          1.2749681032767612,
          1.295878021827359,
          1.4003866223189307,
          1.96459420931908,
          1.6849703813996133,
          1.9387708008403182,
          1.7355243918704097,
          1.7042218174107002,
          1.9476060418075574,
          1.651670827774474,
          1.1544055936685589
         ],
         "yaxis": "y"
        }
       ],
       "layout": {
        "legend": {
         "title": {
          "text": "country"
         },
         "tracegroupgap": 0
        },
        "margin": {
         "t": 60
        },
        "template": {
         "data": {
          "bar": [
           {
            "error_x": {
             "color": "#2a3f5f"
            },
            "error_y": {
             "color": "#2a3f5f"
            },
            "marker": {
             "line": {
              "color": "#E5ECF6",
              "width": 0.5
             },
             "pattern": {
              "fillmode": "overlay",
              "size": 10,
              "solidity": 0.2
             }
            },
            "type": "bar"
           }
          ],
          "barpolar": [
           {
            "marker": {
             "line": {
              "color": "#E5ECF6",
              "width": 0.5
             },
             "pattern": {
              "fillmode": "overlay",
              "size": 10,
              "solidity": 0.2
             }
            },
            "type": "barpolar"
           }
          ],
          "carpet": [
           {
            "aaxis": {
             "endlinecolor": "#2a3f5f",
             "gridcolor": "white",
             "linecolor": "white",
             "minorgridcolor": "white",
             "startlinecolor": "#2a3f5f"
            },
            "baxis": {
             "endlinecolor": "#2a3f5f",
             "gridcolor": "white",
             "linecolor": "white",
             "minorgridcolor": "white",
             "startlinecolor": "#2a3f5f"
            },
            "type": "carpet"
           }
          ],
          "choropleth": [
           {
            "colorbar": {
             "outlinewidth": 0,
             "ticks": ""
            },
            "type": "choropleth"
           }
          ],
          "contour": [
           {
            "colorbar": {
             "outlinewidth": 0,
             "ticks": ""
            },
            "colorscale": [
             [
              0,
              "#0d0887"
             ],
             [
              0.1111111111111111,
              "#46039f"
             ],
             [
              0.2222222222222222,
              "#7201a8"
             ],
             [
              0.3333333333333333,
              "#9c179e"
             ],
             [
              0.4444444444444444,
              "#bd3786"
             ],
             [
              0.5555555555555556,
              "#d8576b"
             ],
             [
              0.6666666666666666,
              "#ed7953"
             ],
             [
              0.7777777777777778,
              "#fb9f3a"
             ],
             [
              0.8888888888888888,
              "#fdca26"
             ],
             [
              1,
              "#f0f921"
             ]
            ],
            "type": "contour"
           }
          ],
          "contourcarpet": [
           {
            "colorbar": {
             "outlinewidth": 0,
             "ticks": ""
            },
            "type": "contourcarpet"
           }
          ],
          "heatmap": [
           {
            "colorbar": {
             "outlinewidth": 0,
             "ticks": ""
            },
            "colorscale": [
             [
              0,
              "#0d0887"
             ],
             [
              0.1111111111111111,
              "#46039f"
             ],
             [
              0.2222222222222222,
              "#7201a8"
             ],
             [
              0.3333333333333333,
              "#9c179e"
             ],
             [
              0.4444444444444444,
              "#bd3786"
             ],
             [
              0.5555555555555556,
              "#d8576b"
             ],
             [
              0.6666666666666666,
              "#ed7953"
             ],
             [
              0.7777777777777778,
              "#fb9f3a"
             ],
             [
              0.8888888888888888,
              "#fdca26"
             ],
             [
              1,
              "#f0f921"
             ]
            ],
            "type": "heatmap"
           }
          ],
          "heatmapgl": [
           {
            "colorbar": {
             "outlinewidth": 0,
             "ticks": ""
            },
            "colorscale": [
             [
              0,
              "#0d0887"
             ],
             [
              0.1111111111111111,
              "#46039f"
             ],
             [
              0.2222222222222222,
              "#7201a8"
             ],
             [
              0.3333333333333333,
              "#9c179e"
             ],
             [
              0.4444444444444444,
              "#bd3786"
             ],
             [
              0.5555555555555556,
              "#d8576b"
             ],
             [
              0.6666666666666666,
              "#ed7953"
             ],
             [
              0.7777777777777778,
              "#fb9f3a"
             ],
             [
              0.8888888888888888,
              "#fdca26"
             ],
             [
              1,
              "#f0f921"
             ]
            ],
            "type": "heatmapgl"
           }
          ],
          "histogram": [
           {
            "marker": {
             "pattern": {
              "fillmode": "overlay",
              "size": 10,
              "solidity": 0.2
             }
            },
            "type": "histogram"
           }
          ],
          "histogram2d": [
           {
            "colorbar": {
             "outlinewidth": 0,
             "ticks": ""
            },
            "colorscale": [
             [
              0,
              "#0d0887"
             ],
             [
              0.1111111111111111,
              "#46039f"
             ],
             [
              0.2222222222222222,
              "#7201a8"
             ],
             [
              0.3333333333333333,
              "#9c179e"
             ],
             [
              0.4444444444444444,
              "#bd3786"
             ],
             [
              0.5555555555555556,
              "#d8576b"
             ],
             [
              0.6666666666666666,
              "#ed7953"
             ],
             [
              0.7777777777777778,
              "#fb9f3a"
             ],
             [
              0.8888888888888888,
              "#fdca26"
             ],
             [
              1,
              "#f0f921"
             ]
            ],
            "type": "histogram2d"
           }
          ],
          "histogram2dcontour": [
           {
            "colorbar": {
             "outlinewidth": 0,
             "ticks": ""
            },
            "colorscale": [
             [
              0,
              "#0d0887"
             ],
             [
              0.1111111111111111,
              "#46039f"
             ],
             [
              0.2222222222222222,
              "#7201a8"
             ],
             [
              0.3333333333333333,
              "#9c179e"
             ],
             [
              0.4444444444444444,
              "#bd3786"
             ],
             [
              0.5555555555555556,
              "#d8576b"
             ],
             [
              0.6666666666666666,
              "#ed7953"
             ],
             [
              0.7777777777777778,
              "#fb9f3a"
             ],
             [
              0.8888888888888888,
              "#fdca26"
             ],
             [
              1,
              "#f0f921"
             ]
            ],
            "type": "histogram2dcontour"
           }
          ],
          "mesh3d": [
           {
            "colorbar": {
             "outlinewidth": 0,
             "ticks": ""
            },
            "type": "mesh3d"
           }
          ],
          "parcoords": [
           {
            "line": {
             "colorbar": {
              "outlinewidth": 0,
              "ticks": ""
             }
            },
            "type": "parcoords"
           }
          ],
          "pie": [
           {
            "automargin": true,
            "type": "pie"
           }
          ],
          "scatter": [
           {
            "fillpattern": {
             "fillmode": "overlay",
             "size": 10,
             "solidity": 0.2
            },
            "type": "scatter"
           }
          ],
          "scatter3d": [
           {
            "line": {
             "colorbar": {
              "outlinewidth": 0,
              "ticks": ""
             }
            },
            "marker": {
             "colorbar": {
              "outlinewidth": 0,
              "ticks": ""
             }
            },
            "type": "scatter3d"
           }
          ],
          "scattercarpet": [
           {
            "marker": {
             "colorbar": {
              "outlinewidth": 0,
              "ticks": ""
             }
            },
            "type": "scattercarpet"
           }
          ],
          "scattergeo": [
           {
            "marker": {
             "colorbar": {
              "outlinewidth": 0,
              "ticks": ""
             }
            },
            "type": "scattergeo"
           }
          ],
          "scattergl": [
           {
            "marker": {
             "colorbar": {
              "outlinewidth": 0,
              "ticks": ""
             }
            },
            "type": "scattergl"
           }
          ],
          "scattermapbox": [
           {
            "marker": {
             "colorbar": {
              "outlinewidth": 0,
              "ticks": ""
             }
            },
            "type": "scattermapbox"
           }
          ],
          "scatterpolar": [
           {
            "marker": {
             "colorbar": {
              "outlinewidth": 0,
              "ticks": ""
             }
            },
            "type": "scatterpolar"
           }
          ],
          "scatterpolargl": [
           {
            "marker": {
             "colorbar": {
              "outlinewidth": 0,
              "ticks": ""
             }
            },
            "type": "scatterpolargl"
           }
          ],
          "scatterternary": [
           {
            "marker": {
             "colorbar": {
              "outlinewidth": 0,
              "ticks": ""
             }
            },
            "type": "scatterternary"
           }
          ],
          "surface": [
           {
            "colorbar": {
             "outlinewidth": 0,
             "ticks": ""
            },
            "colorscale": [
             [
              0,
              "#0d0887"
             ],
             [
              0.1111111111111111,
              "#46039f"
             ],
             [
              0.2222222222222222,
              "#7201a8"
             ],
             [
              0.3333333333333333,
              "#9c179e"
             ],
             [
              0.4444444444444444,
              "#bd3786"
             ],
             [
              0.5555555555555556,
              "#d8576b"
             ],
             [
              0.6666666666666666,
              "#ed7953"
             ],
             [
              0.7777777777777778,
              "#fb9f3a"
             ],
             [
              0.8888888888888888,
              "#fdca26"
             ],
             [
              1,
              "#f0f921"
             ]
            ],
            "type": "surface"
           }
          ],
          "table": [
           {
            "cells": {
             "fill": {
              "color": "#EBF0F8"
             },
             "line": {
              "color": "white"
             }
            },
            "header": {
             "fill": {
              "color": "#C8D4E3"
             },
             "line": {
              "color": "white"
             }
            },
            "type": "table"
           }
          ]
         },
         "layout": {
          "annotationdefaults": {
           "arrowcolor": "#2a3f5f",
           "arrowhead": 0,
           "arrowwidth": 1
          },
          "autotypenumbers": "strict",
          "coloraxis": {
           "colorbar": {
            "outlinewidth": 0,
            "ticks": ""
           }
          },
          "colorscale": {
           "diverging": [
            [
             0,
             "#8e0152"
            ],
            [
             0.1,
             "#c51b7d"
            ],
            [
             0.2,
             "#de77ae"
            ],
            [
             0.3,
             "#f1b6da"
            ],
            [
             0.4,
             "#fde0ef"
            ],
            [
             0.5,
             "#f7f7f7"
            ],
            [
             0.6,
             "#e6f5d0"
            ],
            [
             0.7,
             "#b8e186"
            ],
            [
             0.8,
             "#7fbc41"
            ],
            [
             0.9,
             "#4d9221"
            ],
            [
             1,
             "#276419"
            ]
           ],
           "sequential": [
            [
             0,
             "#0d0887"
            ],
            [
             0.1111111111111111,
             "#46039f"
            ],
            [
             0.2222222222222222,
             "#7201a8"
            ],
            [
             0.3333333333333333,
             "#9c179e"
            ],
            [
             0.4444444444444444,
             "#bd3786"
            ],
            [
             0.5555555555555556,
             "#d8576b"
            ],
            [
             0.6666666666666666,
             "#ed7953"
            ],
            [
             0.7777777777777778,
             "#fb9f3a"
            ],
            [
             0.8888888888888888,
             "#fdca26"
            ],
            [
             1,
             "#f0f921"
            ]
           ],
           "sequentialminus": [
            [
             0,
             "#0d0887"
            ],
            [
             0.1111111111111111,
             "#46039f"
            ],
            [
             0.2222222222222222,
             "#7201a8"
            ],
            [
             0.3333333333333333,
             "#9c179e"
            ],
            [
             0.4444444444444444,
             "#bd3786"
            ],
            [
             0.5555555555555556,
             "#d8576b"
            ],
            [
             0.6666666666666666,
             "#ed7953"
            ],
            [
             0.7777777777777778,
             "#fb9f3a"
            ],
            [
             0.8888888888888888,
             "#fdca26"
            ],
            [
             1,
             "#f0f921"
            ]
           ]
          },
          "colorway": [
           "#636efa",
           "#EF553B",
           "#00cc96",
           "#ab63fa",
           "#FFA15A",
           "#19d3f3",
           "#FF6692",
           "#B6E880",
           "#FF97FF",
           "#FECB52"
          ],
          "font": {
           "color": "#2a3f5f"
          },
          "geo": {
           "bgcolor": "white",
           "lakecolor": "white",
           "landcolor": "#E5ECF6",
           "showlakes": true,
           "showland": true,
           "subunitcolor": "white"
          },
          "hoverlabel": {
           "align": "left"
          },
          "hovermode": "closest",
          "mapbox": {
           "style": "light"
          },
          "paper_bgcolor": "white",
          "plot_bgcolor": "#E5ECF6",
          "polar": {
           "angularaxis": {
            "gridcolor": "white",
            "linecolor": "white",
            "ticks": ""
           },
           "bgcolor": "#E5ECF6",
           "radialaxis": {
            "gridcolor": "white",
            "linecolor": "white",
            "ticks": ""
           }
          },
          "scene": {
           "xaxis": {
            "backgroundcolor": "#E5ECF6",
            "gridcolor": "white",
            "gridwidth": 2,
            "linecolor": "white",
            "showbackground": true,
            "ticks": "",
            "zerolinecolor": "white"
           },
           "yaxis": {
            "backgroundcolor": "#E5ECF6",
            "gridcolor": "white",
            "gridwidth": 2,
            "linecolor": "white",
            "showbackground": true,
            "ticks": "",
            "zerolinecolor": "white"
           },
           "zaxis": {
            "backgroundcolor": "#E5ECF6",
            "gridcolor": "white",
            "gridwidth": 2,
            "linecolor": "white",
            "showbackground": true,
            "ticks": "",
            "zerolinecolor": "white"
           }
          },
          "shapedefaults": {
           "line": {
            "color": "#2a3f5f"
           }
          },
          "ternary": {
           "aaxis": {
            "gridcolor": "white",
            "linecolor": "white",
            "ticks": ""
           },
           "baxis": {
            "gridcolor": "white",
            "linecolor": "white",
            "ticks": ""
           },
           "bgcolor": "#E5ECF6",
           "caxis": {
            "gridcolor": "white",
            "linecolor": "white",
            "ticks": ""
           }
          },
          "title": {
           "x": 0.05
          },
          "xaxis": {
           "automargin": true,
           "gridcolor": "white",
           "linecolor": "white",
           "ticks": "",
           "title": {
            "standoff": 15
           },
           "zerolinecolor": "white",
           "zerolinewidth": 2
          },
          "yaxis": {
           "automargin": true,
           "gridcolor": "white",
           "linecolor": "white",
           "ticks": "",
           "title": {
            "standoff": 15
           },
           "zerolinecolor": "white",
           "zerolinewidth": 2
          }
         }
        },
        "xaxis": {
         "anchor": "y",
         "domain": [
          0,
          1
         ],
         "title": {
          "text": "year"
         }
        },
        "yaxis": {
         "anchor": "x",
         "domain": [
          0,
          1
         ],
         "title": {
          "text": "gdpPercap_ratio"
         }
        }
       }
      }
     },
     "metadata": {},
     "output_type": "display_data"
    }
   ],
   "source": [
    "px.line(gdp_and_pop_by_entity, x=\"year\", y=\"gdpPercap_ratio\", color=\"country\")"
   ]
  },
  {
   "cell_type": "code",
   "execution_count": 82,
   "id": "9042873c",
   "metadata": {},
   "outputs": [],
   "source": [
    "# Sources:\n",
    "\n",
    "# [1](https://sparkbyexamples.com/pandas/pandas-outer-join-explained-by-examples/)\n",
    "# [2](https://pandas.pydata.org/docs/reference/api/pandas.DataFrame.merge.html)\n",
    "# [3](https://www.geeksforgeeks.org/python/different-types-of-joins-in-pandas/)\n",
    "# [4](https://pandas.pydata.org/docs/user_guide/merging.html)\n",
    "# [5](https://realpython.com/pandas-merge-join-and-concat/)\n",
    "# [6](https://www.youtube.com/watch?v=uoC48wrJ-yM)\n",
    "# [7](https://www.influxdata.com/blog/pandas-merge-tutorial/)\n",
    "# [8](https://www.youtube.com/watch?v=H2EJuAcrZYU)\n",
    "# [9](https://stackoverflow.com/questions/53645882/pandas-merging-101)\n",
    "# [10](https://realpython.com/python-first-steps/)\n",
    "# [11](https://www.stratascratch.com/blog/types-of-pandas-joins-and-how-to-use-them-in-python/)\n",
    "# [12](https://bugs.python.org/file47781/Tutorial_EDIT.pdf)\n",
    "# [13](https://www.youtube.com/watch?v=kqtD5dpn9C8)\n",
    "# [14](https://realpython.com/python-classes/)\n",
    "# [15](https://www.reddit.com/r/ChatGPTPro/comments/1e7a4le/those_who_have_used_chatgpt_to_build_an/)\n",
    "# [16](https://www.reddit.com/r/Frontend/comments/12h51z1/how_you_would_learn_web_development_if_you_could/)"
   ]
  }
 ],
 "metadata": {
  "kernelspec": {
   "display_name": "base",
   "language": "python",
   "name": "python3"
  },
  "language_info": {
   "codemirror_mode": {
    "name": "ipython",
    "version": 3
   },
   "file_extension": ".py",
   "mimetype": "text/x-python",
   "name": "python",
   "nbconvert_exporter": "python",
   "pygments_lexer": "ipython3",
   "version": "3.13.5"
  }
 },
 "nbformat": 4,
 "nbformat_minor": 5
}
